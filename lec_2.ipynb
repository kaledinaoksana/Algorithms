{
 "cells": [
  {
   "cell_type": "markdown",
   "metadata": {},
   "source": [
    "# Линейный поиск"
   ]
  },
  {
   "cell_type": "markdown",
   "metadata": {},
   "source": [
    "## Задача 1\n",
    "\n",
    "**Дано:** последовательность чисел длиной N\n",
    "\n",
    "**Задача:** Найти первое (левое) вхождение положительного числа X в нее или вывести -1, если число X не встречалось."
   ]
  },
  {
   "cell_type": "code",
   "execution_count": 1,
   "metadata": {},
   "outputs": [
    {
     "data": {
      "text/plain": [
       "2"
      ]
     },
     "execution_count": 1,
     "metadata": {},
     "output_type": "execute_result"
    }
   ],
   "source": [
    "def find_left_x(seq,x):\n",
    "    ans = -1\n",
    "    for i in range(len(seq)):\n",
    "        if ans == -1 and seq[i] == x:\n",
    "            ans = i\n",
    "    return ans\n",
    "\n",
    "find_left_x([1,23,3,5,2,32,4,3,2],3)\n"
   ]
  },
  {
   "cell_type": "markdown",
   "metadata": {},
   "source": [
    "## Задача 2\n",
    "\n",
    "**Дано:** последовательность чисел длиной N\n",
    "\n",
    "**Задача:** Найти последнее (правое) вхождение положительного числа X в нее или вывести -1, если число X не встречалось."
   ]
  },
  {
   "cell_type": "code",
   "execution_count": 2,
   "metadata": {},
   "outputs": [
    {
     "data": {
      "text/plain": [
       "7"
      ]
     },
     "execution_count": 2,
     "metadata": {},
     "output_type": "execute_result"
    }
   ],
   "source": [
    "def find_right_x(seq,x):\n",
    "    ans = -1\n",
    "    for i in range(len(seq)):\n",
    "        if seq[i] == x:\n",
    "            ans = i\n",
    "    return ans\n",
    "\n",
    "find_right_x([1,23,3,5,2,32,4,3,2],3)"
   ]
  },
  {
   "cell_type": "markdown",
   "metadata": {},
   "source": []
  },
  {
   "cell_type": "markdown",
   "metadata": {},
   "source": [
    "## Задача 3\n",
    "\n",
    "**Дано:** последовательность чисел длиной N\n",
    "\n",
    "**Задача:** Найти максимальное число в последовательности."
   ]
  },
  {
   "cell_type": "code",
   "execution_count": 3,
   "metadata": {},
   "outputs": [
    {
     "data": {
      "text/plain": [
       "32"
      ]
     },
     "execution_count": 3,
     "metadata": {},
     "output_type": "execute_result"
    }
   ],
   "source": [
    "# плох для строк из-за копирования переменных \n",
    "# (в питоне там ссылки, то еще нормально)\n",
    "\n",
    "def find_max_x(seq):\n",
    "    ans = seq[0]\n",
    "    for i in range(1,len(seq)):\n",
    "        if seq[i] > ans:\n",
    "            ans = seq[i]\n",
    "    return ans\n",
    "\n",
    "# как решить? запоминать не значение, а индекс\n",
    "# но образение по индексу может тоже занимать время\n",
    "# то есть зависит от языка на котором пишете\n",
    "\n",
    "def find_max_x_wo_copy(seq):\n",
    "    ans = 0\n",
    "    for i in range(1,len(seq)):\n",
    "        if seq[i] > seq[ans]:\n",
    "            ans = i\n",
    "    return seq[ans]\n",
    "\n",
    "\n",
    "find_max_x([1,23,3,5,2,32,4,3,2])\n",
    "find_max_x_wo_copy([1,23,3,5,2,32,4,3,2])"
   ]
  },
  {
   "cell_type": "markdown",
   "metadata": {},
   "source": [
    "## Задача 4\n",
    "\n",
    "**Дано:** последовательность чисел длиной N\n",
    "\n",
    "**Задача:** Найти максимальное число в последовательности и второе по величине число (в этой задаче если уберем одно макс - второе может быть таким же)\n",
    "\n"
   ]
  },
  {
   "cell_type": "code",
   "execution_count": 4,
   "metadata": {},
   "outputs": [
    {
     "data": {
      "text/plain": [
       "(32, 23)"
      ]
     },
     "execution_count": 4,
     "metadata": {},
     "output_type": "execute_result"
    }
   ],
   "source": [
    "def find_max_2(seq):\n",
    "    max1 = max(seq[0],seq[1])\n",
    "    max2 = min(seq[0],seq[1])\n",
    "    for i in range(2,len(seq)):\n",
    "        if seq[i] > max1:\n",
    "            max2 = max1\n",
    "            max1 = seq[i]\n",
    "        elif seq[i] > max2:\n",
    "            max2 = seq[i]\n",
    "    return (max1, max2)\n",
    "\n",
    "find_max_2([1,23,3,5,2,32,4,3,2])"
   ]
  },
  {
   "cell_type": "code",
   "execution_count": 5,
   "metadata": {},
   "outputs": [],
   "source": [
    "seq = [1,23,3,5,2,32,4,3,2]"
   ]
  },
  {
   "cell_type": "markdown",
   "metadata": {},
   "source": [
    "## Задача 5\n",
    "\n",
    "**Дано:** последовательность чисел длиной N\n",
    "\n",
    "**Задача:** Минимальное четное число послежовательности или, если его нет, вывести -1.\n",
    "\n"
   ]
  },
  {
   "cell_type": "code",
   "execution_count": 6,
   "metadata": {},
   "outputs": [
    {
     "data": {
      "text/plain": [
       "2"
      ]
     },
     "execution_count": 6,
     "metadata": {},
     "output_type": "execute_result"
    }
   ],
   "source": [
    "# \n",
    "\n",
    "def find_min_even(seq):\n",
    "    ans = -1\n",
    "    for i in range(len(seq)):\n",
    "        if seq[i]%2==0 and (ans == -1 or seq[i]<ans):\n",
    "            ans = seq[i]\n",
    "    return ans\n",
    "\n",
    "def find_min_even_with_flag(seq):\n",
    "    ans = -1\n",
    "    flag = False\n",
    "    for i in range(len(seq)):\n",
    "        if seq[i]%2==0 and (not flag or seq[i]<ans):\n",
    "            ans = seq[i]\n",
    "            flag = True\n",
    "    return ans\n",
    "\n",
    "find_min_even(seq)\n",
    "find_min_even_with_flag(seq)"
   ]
  },
  {
   "cell_type": "markdown",
   "metadata": {},
   "source": [
    "## Задача 6\n",
    "\n",
    "**Дано:** последовательность чисел длиной N\n",
    "\n",
    "**Задача:** Минимальное четное число послежовательности или, если его нет, вывести -1.\n"
   ]
  },
  {
   "cell_type": "code",
   "execution_count": 7,
   "metadata": {},
   "outputs": [
    {
     "data": {
      "text/plain": [
       "'d'"
      ]
     },
     "execution_count": 7,
     "metadata": {},
     "output_type": "execute_result"
    }
   ],
   "source": [
    "# двупроходный алгоритм\n",
    "# дана последовательность слов\n",
    "# вывести все самые короткие слова через пробел\n",
    "\n",
    "words=[\"aaa\", 'cc', 'd','sddas','ad']\n",
    "\n",
    "def short_words(words):\n",
    "    minlen = len(words[0])\n",
    "    for word in words:\n",
    "        if len(word) < minlen:\n",
    "            minlen = len(word)\n",
    "    # ans = '' # плохо - потом копируются\n",
    "    ans = []\n",
    "    for word in words:\n",
    "        if len(word) == minlen:\n",
    "            # ans += word + \" \"\n",
    "            ans.append(word)\n",
    "    # return ans\n",
    "    return ' '.join(ans)\n",
    "\n",
    "short_words(words)"
   ]
  },
  {
   "cell_type": "markdown",
   "metadata": {},
   "source": [
    "## Задача: 7\n",
    "\n",
    "**Дано:** последовательность чисел длиной N\n",
    "\n",
    "**Задача:** Игра PitCraft происходть в двумерном мире, который состоит из блоков размером 1 на 1 метр. Остров игрока представляет собой набор столбцов различной высоты, состоящих из блоков камня и окруженный морем. Над островом прошел сильный дождь, который заполнил водой все низины, а не поместившаяся в них вода стекла в море, не увеличив его уровень. \n",
    "\n",
    "По ландшафту острова определите, сколько блоков воды осталось после дождя в низинах на острове."
   ]
  },
  {
   "cell_type": "code",
   "execution_count": 8,
   "metadata": {},
   "outputs": [
    {
     "data": {
      "text/plain": [
       "9"
      ]
     },
     "execution_count": 8,
     "metadata": {},
     "output_type": "execute_result"
    }
   ],
   "source": [
    "# задача олимпиада школьников\n",
    "\n",
    "def isleflood(h):\n",
    "    maxpos = 0\n",
    "    # находим вершину острова\n",
    "    for i in range(len(h)):\n",
    "        if h[i] > h[maxpos]:\n",
    "            maxpos = i \n",
    "    ans = 0\n",
    "    nowm = 0\n",
    "    # двигаемся слева до вершины\n",
    "    for i in range(maxpos):\n",
    "        if h[i] > nowm:\n",
    "            nowm = h[i]\n",
    "        ans += nowm - h[i]\n",
    "    nowm = 0\n",
    "    # двигаемся справа до вершины\n",
    "    for i in range(len(h)-1, maxpos, -1):\n",
    "        if h[i] > nowm:\n",
    "            nowm = h[i]\n",
    "        ans += nowm - h[i]\n",
    "    return ans\n",
    "\n",
    "\n",
    "h=[4,1,6,4,8,2,2,4,1]\n",
    "isleflood(h)"
   ]
  },
  {
   "cell_type": "markdown",
   "metadata": {},
   "source": [
    "## Задача: 8 - RLE\n",
    "\n",
    "**Дано:** строка (возможно, пустая), состоящая из букв A-Z.\n",
    "\n",
    "**Задача:** Написать функцию RLE, которая на выходе выдаст строку вида *A4B4C2XYZD5E4F4A6B12*. Cгенерирует ошибку, если на вход пришла невалидная строка\n"
   ]
  },
  {
   "cell_type": "code",
   "execution_count": 14,
   "metadata": {},
   "outputs": [],
   "source": [
    "string = \"AAAABBBBCCXYZDDDDDEEEEFFFFAAAAAABBBBBBBBBBBBB\""
   ]
  },
  {
   "cell_type": "code",
   "execution_count": 15,
   "metadata": {},
   "outputs": [
    {
     "data": {
      "text/plain": [
       "'ABCXYZDEFAB'"
      ]
     },
     "execution_count": 15,
     "metadata": {},
     "output_type": "execute_result"
    }
   ],
   "source": [
    "# решение сначала простой задачи\n",
    "def string_wo_repeat(s):\n",
    "    lastsym = s[0]\n",
    "    ans = []\n",
    "    for i in range(len(s)):\n",
    "        if s[i] != lastsym:\n",
    "            ans.append(lastsym)\n",
    "            lastsym = s[i]\n",
    "    ans.append(lastsym)\n",
    "    return ''.join(ans)\n",
    "\n",
    "string_wo_repeat(string)\n"
   ]
  },
  {
   "cell_type": "code",
   "execution_count": 16,
   "metadata": {},
   "outputs": [
    {
     "data": {
      "text/plain": [
       "'A4B4C2XYZD5E4F4A6B13'"
      ]
     },
     "execution_count": 16,
     "metadata": {},
     "output_type": "execute_result"
    }
   ],
   "source": [
    "# решение задачи на основе простой\n",
    "def rle(s):\n",
    "    # буква+число на выходе \n",
    "    def pack(letter,cnt):\n",
    "        if cnt>1:\n",
    "            return letter + str(cnt)\n",
    "        return letter\n",
    "    \n",
    "    lastsym = s[0]\n",
    "    lastpos = 0\n",
    "    ans = []\n",
    "\n",
    "    # делаем аналогично - если новый элемент, \n",
    "    # записываем сколько прошло индексов с прошлого\n",
    "    for i in range(len(s)):\n",
    "        if s[i] != lastsym:\n",
    "            ans.append(pack(lastsym, i-lastpos))\n",
    "            lastpos = i\n",
    "            lastsym = s[i]\n",
    "\n",
    "    ans.append(pack(s[lastpos],len(s)-lastpos))\n",
    "\n",
    "    return ''.join(ans)\n",
    "\n",
    "rle(string)"
   ]
  }
 ],
 "metadata": {
  "kernelspec": {
   "display_name": "Python 3",
   "language": "python",
   "name": "python3"
  },
  "language_info": {
   "codemirror_mode": {
    "name": "ipython",
    "version": 3
   },
   "file_extension": ".py",
   "mimetype": "text/x-python",
   "name": "python",
   "nbconvert_exporter": "python",
   "pygments_lexer": "ipython3",
   "version": "3.11.4"
  }
 },
 "nbformat": 4,
 "nbformat_minor": 2
}
