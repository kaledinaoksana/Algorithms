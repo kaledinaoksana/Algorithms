{
 "cells": [
  {
   "cell_type": "markdown",
   "metadata": {},
   "source": [
    "# A. Покраска деревьев\n",
    "\n",
    "Вася и Маша участвуют в субботнике и красят стволы деревьев в белый цвет. Деревья растут вдоль улицы через равные промежутки в 1 метр. Одно из деревьев обозначено числом ноль, деревья по одну сторону занумерованы положительными числами 1,2 и т.д., а в другую — отрицательными -1, -2 и т.д.\n",
    "\n",
    "Ведро с краской для Васи установили возле дерева P, а для Маши — возле дерева Q. Ведра с краской очень тяжелые и Вася с Машей не могут их переставить, поэтому они окунают кисть в ведро и уже с этой кистью идут красить дерево. Краска на кисти из ведра Васи засыхает, когда он удаляется от ведра более чем на V метров, а из ведра Маши — на M метров. \n",
    "\n",
    "Определите, сколько деревьев может быть покрашено."
   ]
  },
  {
   "cell_type": "code",
   "execution_count": 3,
   "metadata": {},
   "outputs": [
    {
     "name": "stdout",
     "output_type": "stream",
     "text": [
      "3\n"
     ]
    }
   ],
   "source": [
    "# хороший код\n",
    "p, v = map(int, input().split())\n",
    "q, m = map(int, input().split())\n",
    "\n",
    "minv, maxv = p - v, p + v\n",
    "minm, maxm = q - m, q + m\n",
    "\n",
    "if max(minv, minm) <= min(maxv, maxm):\n",
    "    print(max(maxv, maxm) - min(minv, minm) + 1)\n",
    "else:\n",
    "    print((maxv - minv + 1) + (maxm - minm + 1))"
   ]
  },
  {
   "cell_type": "markdown",
   "metadata": {},
   "source": [
    "## B. Футбольный комментатор\n",
    "\n",
    "Раунд плей-офф между двумя командами состоит из двух матчей. Каждая команда проводит по одному матчу «дома» и «в гостях». Выигрывает команда, забившая большее число мячей. Если же число забитых мячей совпадает, выигрывает команда, забившая больше мячей «в гостях». Если и это число мячей совпадает, матч переходит в дополнительный тайм или серию пенальти.\n",
    "Вам дан счёт первого матча, а также счёт текущей игры (которая ещё не завершилась). Помогите комментатору сообщить, сколько голов необходимо забить первой команде, чтобы победить, не переводя игру в дополнительное время.\n",
    "\n",
    "#### Формат ввода\n",
    "\n",
    "В первой строке записан счёт первого мачта в формате G1:G2, где G1 — число мячей, забитых первой командой, а G2 — число мячей, забитых второй командой.\n",
    "Во второй строке записан счёт второго (текущего) матча в аналогичном формате. Все числа в записи счёта не превышают 5.\n",
    "В третьей строке записано число 1, если первую игру первая команда провела «дома», или 2, если «в гостях».\n",
    "\n",
    "#### Формат вывода\n",
    "\n",
    "Выведите единственное целое число \"— необходимое количество мячей."
   ]
  },
  {
   "cell_type": "code",
   "execution_count": null,
   "metadata": {},
   "outputs": [],
   "source": [
    "g11, g21 = map(int, input().split(\":\"))\n",
    "g12, g22 = map(int, input().split(\":\"))\n",
    "where = int(input())\n",
    "if where == 1:\n",
    "    score1 = g11 * 100 + g12 * 101\n",
    "    score2 = g21 * 101 + g22 * 100\n",
    "    print(max(0, ((score2 - score1 + 101) // 101)))\n",
    "else:\n",
    "    score1 = g11 * 101 + g12 * 100\n",
    "    score2 = g21 * 100 + g22 * 101\n",
    "    print(max(0, ((score2 - score1 + 100) // 100)))"
   ]
  },
  {
   "cell_type": "markdown",
   "metadata": {},
   "source": [
    "# C. Форматирование файла\n",
    "\n",
    "Петя - начинающий программист. Сегодня он написал код из n строк.\n",
    "К сожалению оказалось, что этот код трудно читать. Петя решил исправить это, добавив в различные места пробелы. А точнее, для i-й строки ему нужно добавить ровно a i пробелов.\n",
    "\n",
    "Для добавления пробелов Петя выделяет строку и нажимает на одну из трёх клавиш: Space, Tab, и Backspace. При нажатии на Space в строку добавляется один пробел. При нажатии на Tab в строку добавляются четыре пробела. При нажатии на Backspace в строке удаляется один пробел.\n",
    "Ему хочется узнать, какое наименьшее количество клавиш придётся нажать, чтобы добавить необходимое количество пробелов в каждую строку. Помогите ему!\n",
    "\n",
    "### Формат ввода\n",
    "\n",
    "Первая строка входных данных содержит одно целое положительное число – количество строк в файле.\n",
    "Каждая из следующих n строк содержит одно целое неотрицательное число a – количество пробелов, которые нужно добавить в i-ю строку файла.\n",
    "\n",
    "### Формат вывода\n",
    "\n",
    "Выведите одно число – минимальное количество нажатий, чтобы добавить в каждой строке необходимое количество пробелов."
   ]
  },
  {
   "cell_type": "code",
   "execution_count": 1,
   "metadata": {},
   "outputs": [
    {
     "name": "stdout",
     "output_type": "stream",
     "text": [
      "4\n"
     ]
    }
   ],
   "source": [
    "n = int(input())\n",
    "ans = 0\n",
    "\n",
    "for i in range(n):\n",
    "    a = int(input())\n",
    "    ans += a // 4\n",
    "    if a % 4 == 1 or a % 4 == 2:\n",
    "        ans += a % 4\n",
    "    if a % 4 == 3:\n",
    "        ans += 2\n",
    "\n",
    "print(ans)"
   ]
  },
  {
   "cell_type": "markdown",
   "metadata": {},
   "source": [
    "# D. Слоны и ладьи\n",
    "\n",
    "На шахматной доске стоят слоны и ладьи, необходимо посчитать, сколько клеток не бьется ни одной из фигур.\n",
    "Шахматная доска имеет размеры 8 на 8. Ладья бьет все клетки горизонтали и вертикали, проходящих через клетку, где она стоит, до первой встретившейся фигуры. Слон бьет все клетки обеих диагоналей, проходящих через клетку, где он стоит, до первой встретившейся фигуры.\n",
    "\n",
    "### Формат ввода\n",
    "\n",
    "В первых восьми строках ввода описывается шахматная доска. Первые восемь символов каждой из этих строк описывают состояние соответствующей горизонтали: символ B (заглавная латинская буква) означает, что в клетке стоит слон, символ R — ладья, символ * — что клетка пуста. После описания горизонтали в строке могут идти пробелы, однако длина каждой строки не превышает 250 символов. После описания доски в файле могут быть пустые строки.\n",
    "\n",
    "### Формат вывода\n",
    "\n",
    "Выведите количество пустых клеток, которые не бьются ни одной из фигур."
   ]
  },
  {
   "cell_type": "code",
   "execution_count": null,
   "metadata": {},
   "outputs": [],
   "source": [
    "field = [list(\"-\") * 10]\n",
    "\n",
    "for i in range(8):\n",
    "    field.append([\"-\"] + list(input()) + [\"-\"])\n",
    "    field.append(list(\"-\" * 10))\n",
    "\n",
    "for i in range(1, 10):\n",
    "    for j in range(1, 10):\n",
    "        if field[i][i] or field[i][i] == \"B\":\n",
    "            if field[i][j] == \"R\":\n",
    "                di = [0, 0, 1, -1]\n",
    "                dj = [1, -1, 0, 0]\n",
    "            else:\n",
    "                di = [1, 1, -1, -1]\n",
    "                dj = [1, -1, 1, -1]\n",
    "            for dest in range(4):\n",
    "                ni, nj = i + di[dest], j + dj[dest]\n",
    "                while field[ni][nj] == \"*\" or field[ni][nj] == \".\":\n",
    "                    field[ni][nj] = \".\"\n",
    "                    ni += di[dest]\n",
    "                    nj += dj[dest]\n",
    "\n",
    "ans = 0\n",
    "\n",
    "for row in field:\n",
    "    for cell in row:\n",
    "        if cell == \"*\":\n",
    "            ans += 1\n",
    "\n",
    "print(ans)"
   ]
  },
  {
   "cell_type": "markdown",
   "metadata": {},
   "source": [
    "# E. Прибыльный стартап\n",
    "\n",
    "k друзей организовали стартап по производству укулеле для кошек. На сегодняшний день прибыль составила n рублей. Вы, как главный бухгалтер компании, хотите в каждый из ближайших d дней приписывать по одной цифре в конец числа, выражающего прибыль. При этом в каждый из дней прибыль должна делиться на k.\n",
    "\n",
    "### Формат ввода\n",
    "\n",
    "В единственной строке входных данных через пробел записаны три числа: n, k, d — изначальная прибыль, количество учредителей компании и количество дней, которое вы собираетесь следить за прибылью. НЕ гарантируется, что n делится на k.\n",
    "\n",
    "### Формат вывода\n",
    "\n",
    "Выведите одно целое число x — прибыль компании через d дней. Первые цифры числа x должны совпадать с числом \n",
    "n. Все префиксы числа x, которые длиннее числа n на 1,2,…,d цифр, должны делиться на k. Если возможных ответов несколько, выведите любой из них. Если ответа не существует, выведите −1."
   ]
  },
  {
   "cell_type": "code",
   "execution_count": null,
   "metadata": {},
   "outputs": [],
   "source": [
    "n, k, d = map(int, input().split())\n",
    "\n",
    "nowmod = n % k\n",
    "ans = [n]\n",
    "flag = True\n",
    "\n",
    "for i in range(d):\n",
    "    for newdigit in range(10):\n",
    "        newmod = (nowmod * 10 + newdigit) % k\n",
    "        if newmod == 0:\n",
    "            ans.append(newdigit)\n",
    "            nowmod = newmod\n",
    "            break\n",
    "    else:\n",
    "        flag = False\n",
    "if flag:\n",
    "    print(\"\".join(map(str, ans)))\n",
    "else:\n",
    "    print(-1)"
   ]
  },
  {
   "cell_type": "markdown",
   "metadata": {},
   "source": [
    "# F. Миша и математика\n",
    "\n",
    "\n",
    "Миша сидел на занятиях математики в Высшей школе экономики и решал следующую задачу: дано n целых чисел и нужно расставить между ними знаки + и × так, чтобы результат полученного арифметического выражения был нечётным (например, между числами можно расставить арифметические знаки следующим образом:  Так как примеры становились все больше и больше, а Миша срочно убегает в гости, от вас требуется написать программу решающую данную задачу.\n",
    "\n",
    "#### Формат ввода\n",
    "\n",
    "В первой строке содержится единственное число . Во второй строке содержится  n целых чисел a , разделённых пробелами (. Гарантируется, что решение существует.\n",
    "\n",
    "### Формат вывода\n",
    "\n",
    "В одной строке выведите \n",
    "n− 1 символ + или ×\n",
    ", в результате применения которых получается нечётный результат. (Для вывода используйте соответственно знаки «+» (ASCII код—43) и «x» (ASCII код—120), без кавычек)."
   ]
  },
  {
   "cell_type": "code",
   "execution_count": null,
   "metadata": {},
   "outputs": [],
   "source": [
    "# идея состояния\n",
    "\n",
    "n = int(input())\n",
    "nums = list(map(int, input.split()))\n",
    "state = \"no_odd_summand\"\n",
    "ans = []\n",
    "for num in nums:\n",
    "    if state == \"no_odd_summand\":\n",
    "        if num % 2 == 0:\n",
    "            ans.append(\"+\")\n",
    "        else:\n",
    "            state = \"last_odd\"\n",
    "\n",
    "    elif state == \"last_odd\":\n",
    "        if num % 2 == 0:\n",
    "            ans.append(\"+\")\n",
    "            state = \"multiply_even\"\n",
    "        else:\n",
    "            ans.append(\"x\")\n",
    "    elif state == \"multiply_even\":\n",
    "        ans.append(\"x\")\n",
    "\n",
    "print(\"\".join(ans))"
   ]
  },
  {
   "cell_type": "markdown",
   "metadata": {},
   "source": [
    "# G. Разрушить казарму"
   ]
  },
  {
   "cell_type": "code",
   "execution_count": null,
   "metadata": {},
   "outputs": [],
   "source": [
    "# заходит на pypy\n",
    "def calc(t, myunits, barhp, enemyprod):\n",
    "    rounds = 0\n",
    "    enemyunits = 0\n",
    "\n",
    "    while barhp >= t:\n",
    "        if enemyunits >= myunits:\n",
    "            return 10**9\n",
    "        barhp -= myunits - enemyunits\n",
    "        enemyunits = 0\n",
    "        if barhp >= 0:\n",
    "            enemyunits += enemyprod\n",
    "        rounds += 1\n",
    "\n",
    "    while barhp > 0:\n",
    "        if myunits <= 0:\n",
    "            return 10**9\n",
    "        if barhp >= myunits:\n",
    "            barhp -= myunits\n",
    "        else:\n",
    "            enemyunits -= myunits - barhp\n",
    "            barhp = 0\n",
    "        myunits -= enemyunits\n",
    "        if barhp > 0:\n",
    "            enemyunits += enemyprod\n",
    "        rounds += 1\n",
    "\n",
    "    while enemyunits > 0:\n",
    "        if myunits <= 0:\n",
    "            return 10**9\n",
    "        enemyunits -= myunits\n",
    "        if enemyunits > 0:\n",
    "            myunits -= enemyunits\n",
    "        rounds += 1\n",
    "\n",
    "    return rounds\n",
    "\n",
    "\n",
    "x = int(input())\n",
    "y = int(input())\n",
    "p = int(input())\n",
    "\n",
    "ans = 10**9\n",
    "for t in range(0, y + 2):\n",
    "    ans = min(ans, calc(t, x, y, p))\n",
    "\n",
    "if ans != 10**9:\n",
    "    print(ans)\n",
    "else:\n",
    "    print(-1)"
   ]
  },
  {
   "cell_type": "markdown",
   "metadata": {},
   "source": [
    "# H. Забег по стадиону"
   ]
  },
  {
   "cell_type": "code",
   "execution_count": 2,
   "metadata": {},
   "outputs": [
    {
     "ename": "KeyboardInterrupt",
     "evalue": "Interrupted by user",
     "output_type": "error",
     "traceback": [
      "\u001b[0;31m---------------------------------------------------------------------------\u001b[0m",
      "\u001b[0;31mKeyboardInterrupt\u001b[0m                         Traceback (most recent call last)",
      "Cell \u001b[0;32mIn[2], line 1\u001b[0m\n\u001b[0;32m----> 1\u001b[0m l, x1, v1, x2, v2 \u001b[38;5;241m=\u001b[39m \u001b[38;5;28mmap\u001b[39m(\u001b[38;5;28mint\u001b[39m, \u001b[38;5;28minput\u001b[39m()\u001b[38;5;241m.\u001b[39msplit())\n\u001b[1;32m      2\u001b[0m ans \u001b[38;5;241m=\u001b[39m \u001b[38;5;241m10\u001b[39m\u001b[38;5;241m*\u001b[39m\u001b[38;5;241m*\u001b[39m\u001b[38;5;241m30\u001b[39m\n\u001b[1;32m      4\u001b[0m \u001b[38;5;28;01mfor\u001b[39;00m rotation \u001b[38;5;129;01min\u001b[39;00m \u001b[38;5;28mrange\u001b[39m(\u001b[38;5;241m2\u001b[39m):\n",
      "File \u001b[0;32m~/.local/lib/python3.11/site-packages/ipykernel/kernelbase.py:848\u001b[0m, in \u001b[0;36mKernel.raw_input\u001b[0;34m(self, prompt)\u001b[0m\n\u001b[1;32m    844\u001b[0m \u001b[38;5;28;01mif\u001b[39;00m \u001b[38;5;129;01mnot\u001b[39;00m \u001b[38;5;28mself\u001b[39m\u001b[38;5;241m.\u001b[39m_allow_stdin:\n\u001b[1;32m    845\u001b[0m     \u001b[38;5;28;01mraise\u001b[39;00m StdinNotImplementedError(\n\u001b[1;32m    846\u001b[0m         \u001b[38;5;124m\"\u001b[39m\u001b[38;5;124mraw_input was called, but this frontend does not support input requests.\u001b[39m\u001b[38;5;124m\"\u001b[39m\n\u001b[1;32m    847\u001b[0m     )\n\u001b[0;32m--> 848\u001b[0m \u001b[38;5;28;01mreturn\u001b[39;00m \u001b[38;5;28mself\u001b[39m\u001b[38;5;241m.\u001b[39m_input_request(\u001b[38;5;28mstr\u001b[39m(prompt),\n\u001b[1;32m    849\u001b[0m     \u001b[38;5;28mself\u001b[39m\u001b[38;5;241m.\u001b[39m_parent_ident,\n\u001b[1;32m    850\u001b[0m     \u001b[38;5;28mself\u001b[39m\u001b[38;5;241m.\u001b[39m_parent_header,\n\u001b[1;32m    851\u001b[0m     password\u001b[38;5;241m=\u001b[39m\u001b[38;5;28;01mFalse\u001b[39;00m,\n\u001b[1;32m    852\u001b[0m )\n",
      "File \u001b[0;32m~/.local/lib/python3.11/site-packages/ipykernel/kernelbase.py:892\u001b[0m, in \u001b[0;36mKernel._input_request\u001b[0;34m(self, prompt, ident, parent, password)\u001b[0m\n\u001b[1;32m    889\u001b[0m             \u001b[38;5;28;01mbreak\u001b[39;00m\n\u001b[1;32m    890\u001b[0m \u001b[38;5;28;01mexcept\u001b[39;00m \u001b[38;5;167;01mKeyboardInterrupt\u001b[39;00m:\n\u001b[1;32m    891\u001b[0m     \u001b[38;5;66;03m# re-raise KeyboardInterrupt, to truncate traceback\u001b[39;00m\n\u001b[0;32m--> 892\u001b[0m     \u001b[38;5;28;01mraise\u001b[39;00m \u001b[38;5;167;01mKeyboardInterrupt\u001b[39;00m(\u001b[38;5;124m\"\u001b[39m\u001b[38;5;124mInterrupted by user\u001b[39m\u001b[38;5;124m\"\u001b[39m) \u001b[38;5;28;01mfrom\u001b[39;00m \u001b[38;5;28;01mNone\u001b[39;00m\n\u001b[1;32m    893\u001b[0m \u001b[38;5;28;01mexcept\u001b[39;00m \u001b[38;5;167;01mException\u001b[39;00m \u001b[38;5;28;01mas\u001b[39;00m e:\n\u001b[1;32m    894\u001b[0m     \u001b[38;5;28mself\u001b[39m\u001b[38;5;241m.\u001b[39mlog\u001b[38;5;241m.\u001b[39mwarning(\u001b[38;5;124m\"\u001b[39m\u001b[38;5;124mInvalid Message:\u001b[39m\u001b[38;5;124m\"\u001b[39m, exc_info\u001b[38;5;241m=\u001b[39m\u001b[38;5;28;01mTrue\u001b[39;00m)\n",
      "\u001b[0;31mKeyboardInterrupt\u001b[0m: Interrupted by user"
     ]
    }
   ],
   "source": [
    "l, x1, v1, x2, v2 = map(int, input().split())\n",
    "ans = 10**30\n",
    "\n",
    "for rotation in range(2):\n",
    "    deltax = (x2 - x1 + 1) % l\n",
    "    deltav = v1 - v2\n",
    "    if deltav < 0:\n",
    "        deltav = -deltav\n",
    "        deltax = (-deltax) % l\n",
    "    if deltax == 0:\n",
    "        ans = 0\n",
    "    if deltav != 0:\n",
    "        ans = min(ans, deltax / deltav)\n",
    "    x2 = (-x2) % 1\n",
    "    v2 = -v2\n",
    "\n",
    "if ans == 10**30:\n",
    "    print(\"NO\")\n",
    "else:\n",
    "    print(\"YES\")\n",
    "    print(ans)"
   ]
  },
  {
   "cell_type": "markdown",
   "metadata": {},
   "source": [
    "# I. Расписание"
   ]
  },
  {
   "cell_type": "code",
   "execution_count": null,
   "metadata": {},
   "outputs": [],
   "source": [
    "n = int(input())\n",
    "year = int(input())\n",
    "\n",
    "isleap = int((year % 400 == 0) or (year % 4 == 0 and year % 100 != 0))\n",
    "monthsnames = [\n",
    "    \"January\",\n",
    "    \"February\",\n",
    "    \"March\",\n",
    "    \"April\",\n",
    "    \"May\",\n",
    "    \"June\",\n",
    "    \"July\",\n",
    "    \"August\",\n",
    "    \"September\",\n",
    "    \"October\",\n",
    "    \"November\",\n",
    "    \"December\",\n",
    "]\n",
    "monthsdays = [31, 28 + isleap, 31, 30, 31, 30, 31, 31, 30, 31, 30, 31]\n",
    "week = [\"Monday\", \"Tuesday\", \"Wednesday\", \"Thursday\", \"Friday\", \"Saturday\", \"Sunday\"]\n",
    "holidays = set()\n",
    "\n",
    "\n",
    "for i in range(n):\n",
    "    day, month = input().split()\n",
    "    day = int(day)\n",
    "    holidays.add((day, month))\n",
    "\n",
    "weekday = week.index(input())\n",
    "nowday = 1\n",
    "nowmonth = 0\n",
    "daycount = {}\n",
    "holicount = {}\n",
    "\n",
    "for day in range(365 + isleap):\n",
    "    daycount[weekday] = daycount.get(weekday, 0) + 1\n",
    "    if (nowday, monthsnames[nowmonth]) in holidays:\n",
    "        holicount[weekday] = holicount.get(weekday, 0) + 1\n",
    "    weekday = (weekday + 1) % 7\n",
    "    nowday += 1\n",
    "    if nowday > monthsdays[nowmonth]:\n",
    "        nowmonth += 1\n",
    "        nowday = 1\n",
    "\n",
    "mindays = 54\n",
    "maxdays = -1\n",
    "\n",
    "for weekday in range(7):\n",
    "    daycount[weekday] -= holicount.get(weekday, 0)\n",
    "    if daycount[weekday] < mindays:\n",
    "        mindays = daycount[weekday]\n",
    "        worstday = week[weekday]\n",
    "    if daycount[weekday] > maxdays:\n",
    "        maxdays = daycount[weekday]\n",
    "        bestday = week[weekday]\n",
    "\n",
    "print(bestday, worstday)"
   ]
  },
  {
   "cell_type": "markdown",
   "metadata": {},
   "source": [
    "# Форматирование файла"
   ]
  },
  {
   "cell_type": "code",
   "execution_count": 3,
   "metadata": {},
   "outputs": [],
   "source": [
    "from __future__ import annotations\n",
    "\n",
    "from enum import IntEnum\n",
    "\n",
    "\n",
    "class ImageType(IntEnum):\n",
    "    EMBEDDED = 0\n",
    "    SURROUNDED = 1\n",
    "    FLOATING = 2"
   ]
  },
  {
   "cell_type": "code",
   "execution_count": null,
   "metadata": {},
   "outputs": [],
   "source": [
    "def refreshImages(self):\n",
    "    new_images: list[Image] = []\n",
    "    for image in self.images:\n",
    "        if self.dy + self.height < image.dy + image.height:\n",
    "            new_images.append(image)\n",
    "    self.images = new_images\n",
    "\n",
    "\n",
    "def addWord(self, width):\n",
    "    while not self.strings[-1].addWord(width):\n",
    "        self.addString()\n",
    "\n",
    "def addImage(self, image: Image):\n",
    "    match image.type:\n",
    "        case ImageType. EMBEDDED:\n",
    "            while not self.strings[-1].addEmbeddedImage(image):\n",
    "                self.addString()\n",
    "            image.dy = self.dy + self.height\n",
    "\n",
    "        case ImageType.SURROUNDED:\n",
    "            while not self.strings[-1].addSurroundedImage(image):\n",
    "                "
   ]
  },
  {
   "cell_type": "code",
   "execution_count": null,
   "metadata": {},
   "outputs": [],
   "source": [
    "class File:\n",
    "    def init(self):\n",
    "        self.height: int = 0\n",
    "        self.paragraphs: list[Paragraph] = [Paragraph(0)]\n",
    "\n",
    "    def parseString(self, string: str):\n",
    "        token_w: int = 0\n",
    "        is_empty: bool = True\n",
    "        i: int = 0\n",
    "\n",
    "        while i < len(string):\n",
    "            if string[i] not in \" \\t\\n\":\n",
    "                is_empty = False\n",
    "                if string[i] != \"(\":\n",
    "                    token_w += char_w\n",
    "                    i += 1\n",
    "                else:\n",
    "                    new_i = string.find(\")\", i + 1)\n",
    "                    image = self.parseString2Image(string, i + 1, new_i)\n",
    "                    self.paragraphs[-1].addImage(image)\n",
    "                    i = new_i + 1"
   ]
  },
  {
   "cell_type": "code",
   "execution_count": null,
   "metadata": {},
   "outputs": [],
   "source": [
    "with open(\"input.txt\", \"p\") as fin:\n",
    "    file_width, file_height, char_w = map(int, fin.readline().split())\n",
    "    file: File = File()\n",
    "    lines: list[str] = []\n",
    "\n",
    "    cur_line: str = \"\"\n",
    "\n",
    "    for line in fin:\n",
    "        if not line.rstrip():\n",
    "            lines.append(cur_line)\n",
    "            lines.append(\"\")\n",
    "            cur_line = \"\"\n",
    "        else:\n",
    "            cur_line += \" \" + line.rstrip()\n",
    "    lines.append(cur_line)\n",
    "    for line in lines:\n",
    "        file.parseString(line)"
   ]
  }
 ],
 "metadata": {
  "kernelspec": {
   "display_name": "base",
   "language": "python",
   "name": "python3"
  },
  "language_info": {
   "codemirror_mode": {
    "name": "ipython",
    "version": 3
   },
   "file_extension": ".py",
   "mimetype": "text/x-python",
   "name": "python",
   "nbconvert_exporter": "python",
   "pygments_lexer": "ipython3",
   "version": "3.11.4"
  }
 },
 "nbformat": 4,
 "nbformat_minor": 2
}
