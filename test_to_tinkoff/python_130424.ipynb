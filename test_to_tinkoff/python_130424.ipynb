{
 "cells": [
  {
   "cell_type": "code",
   "execution_count": 1,
   "metadata": {},
   "outputs": [
    {
     "name": "stdout",
     "output_type": "stream",
     "text": [
      "5\n"
     ]
    }
   ],
   "source": [
    "a = int(input())\n",
    "b = int(input())\n",
    "\n",
    "print(a + b)"
   ]
  },
  {
   "cell_type": "code",
   "execution_count": 2,
   "metadata": {},
   "outputs": [
    {
     "name": "stdout",
     "output_type": "stream",
     "text": [
      "9\n",
      "[5, 5, 4, 5, 4, 5, 4, 5, 4]\n"
     ]
    }
   ],
   "source": [
    "# 1\n",
    "\n",
    "a = int(input())\n",
    "arr = list(map(int, input().split()))\n",
    "\n",
    "print(a)\n",
    "print(arr)"
   ]
  },
  {
   "cell_type": "code",
   "execution_count": 63,
   "metadata": {},
   "outputs": [
    {
     "name": "stdout",
     "output_type": "stream",
     "text": [
      "-1\n"
     ]
    }
   ],
   "source": [
    "# 1\n",
    "a = int(input())\n",
    "arr = list(map(int, input().split()))\n",
    "\n",
    "days = 7\n",
    "\n",
    "num_of_l = len(arr) - days + 1\n",
    "\n",
    "\n",
    "def check5(arr: list) -> None:\n",
    "    if 3 in arr:\n",
    "        return 0\n",
    "    if 2 in arr:\n",
    "        return 0\n",
    "\n",
    "    sum5 = 0\n",
    "    for element in arr:\n",
    "        if element == 5:\n",
    "            sum5 += 1\n",
    "    return sum5\n",
    "\n",
    "\n",
    "max5 = 0\n",
    "if num_of_l == 0:\n",
    "    print(-1)\n",
    "else:\n",
    "    for i in range(num_of_l):\n",
    "        now_max = check5(arr[i : i + days])\n",
    "        if now_max > max5:\n",
    "            max5 = now_max\n",
    "\n",
    "if max5 == 0:\n",
    "    print(-1)\n",
    "else:\n",
    "    print(max5)"
   ]
  },
  {
   "cell_type": "code",
   "execution_count": 62,
   "metadata": {},
   "outputs": [
    {
     "name": "stdout",
     "output_type": "stream",
     "text": [
      "5\n"
     ]
    }
   ],
   "source": [
    "# 2\n",
    "n, m = map(int, input().split())\n",
    "arr = [[0 for _ in range(n)] for _ in range(m)]\n",
    "\n",
    "for i in range(n):\n",
    "    list1 = list(map(int, input().split()))\n",
    "    for j, el in enumerate(list1):\n",
    "        arr[j][n - i - 1] = el\n",
    "\n",
    "for i in range(m):\n",
    "    print(*arr[i])"
   ]
  },
  {
   "cell_type": "code",
   "execution_count": 67,
   "metadata": {},
   "outputs": [
    {
     "name": "stdout",
     "output_type": "stream",
     "text": [
      "0\n",
      "1\n",
      "2\n",
      "3\n",
      "['root', 'a', 'b', 'c']\n",
      "{'root': {}, 'a': {}, 'b': {}, 'c': {}}\n"
     ]
    }
   ],
   "source": [
    "# 3\n",
    "\n",
    "# n = int(input())\n",
    "n = 1\n",
    "dict = {}\n",
    "\n",
    "for _ in range(n):\n",
    "    # dir_strs = list(map(str, input().split(\"/\")))\n",
    "    dir_strs = list(map(str, \"root/a/b/c\".split(\"/\")))\n",
    "    for i in range(len(dir_strs)):\n",
    "        print(i)\n",
    "        dict[dir_strs[i]] = {}\n",
    "\n",
    "    print(dir_strs)\n",
    "\n",
    "print(dict)"
   ]
  },
  {
   "cell_type": "code",
   "execution_count": 114,
   "metadata": {},
   "outputs": [
    {
     "name": "stdout",
     "output_type": "stream",
     "text": [
      "root\n",
      "  a\n",
      "    b\n",
      "      c\n"
     ]
    }
   ],
   "source": [
    "def add_to_nested_dict(nested_dict, keys, value) -> None:\n",
    "    current = nested_dict\n",
    "    for key in keys:\n",
    "        current = current.setdefault(key, {})\n",
    "    current.update(value)\n",
    "\n",
    "\n",
    "def print_nested_dict(nested_dict, indent=0) -> None:\n",
    "    for key, value in nested_dict.items():\n",
    "        print(\"  \" * indent + key)\n",
    "        print_nested_dict(value, indent + 1)\n",
    "\n",
    "\n",
    "n = int(input())\n",
    "dict = {}\n",
    "\n",
    "for _ in range(n):\n",
    "    dir_list = list(map(str, input().split(\"/\")))\n",
    "    add_to_nested_dict(dict, dir_list[0:], {})\n",
    "\n",
    "print_nested_dict(dict)"
   ]
  },
  {
   "cell_type": "code",
   "execution_count": 113,
   "metadata": {},
   "outputs": [
    {
     "name": "stdout",
     "output_type": "stream",
     "text": [
      "root\n",
      "  a\n",
      "    b\n",
      "      c\n",
      "  c\n",
      "    x\n"
     ]
    }
   ],
   "source": [
    "def add_to_nested_dict(nested_dict, keys, value) -> None:\n",
    "    current = nested_dict\n",
    "    for key in keys:\n",
    "        current = current.setdefault(key, {})\n",
    "    current.update(value)\n",
    "\n",
    "\n",
    "def print_nested_dict(nested_dict, indent=0) -> None:\n",
    "    for key, value in nested_dict.items():\n",
    "        print(\"  \" * indent + key)\n",
    "        print_nested_dict(value, indent + 1)\n",
    "\n",
    "\n",
    "n = 6\n",
    "my_dict = {}\n",
    "lis = [\n",
    "    \"root/a\",\n",
    "    \"root/a/b\",\n",
    "    \"root/c/x\",\n",
    "    \"root/a/b/c\",\n",
    "    \"root\",\n",
    "    \"root/c\",\n",
    "]\n",
    "\n",
    "for dir_str in lis:\n",
    "    dir_list = dir_str.split(\"/\")\n",
    "    add_to_nested_dict(my_dict, dir_list[0:], {})\n",
    "\n",
    "print_nested_dict(my_dict)"
   ]
  },
  {
   "cell_type": "code",
   "execution_count": 130,
   "metadata": {},
   "outputs": [
    {
     "name": "stdout",
     "output_type": "stream",
     "text": [
      "2\n",
      "0 1 1 2\n",
      "2 0 0 0\n"
     ]
    }
   ],
   "source": [
    "# 4\n",
    "\n",
    "# n, direction = map(str, input().split())\n",
    "# n = int(n)\n",
    "n = 3\n",
    "direction = \"R\"\n",
    "\n",
    "# arr = [[0 for _ in range(n)] for _ in range(n)]\n",
    "arr = [[0, 1, 0], [1, 0, 0], [4, 3, 0]]\n",
    "\n",
    "# for i in range(n):\n",
    "#     list1 = list(map(int, input().split()))\n",
    "#     for j, el in enumerate(list1):\n",
    "#         arr[i][j] = el\n",
    "\n",
    "op = 0\n",
    "for i in range(n):\n",
    "    for j in range(n - i):\n",
    "        if arr[i][j] != arr[j][n - i - 1]:\n",
    "            op += 1\n",
    "\n",
    "print(op)\n",
    "\n",
    "for i in range(n):\n",
    "    for j in range(n - i):\n",
    "        if arr[i][j] != arr[j][n - i - 1]:\n",
    "            print(i, j, j, n - i - 1)"
   ]
  },
  {
   "cell_type": "code",
   "execution_count": 127,
   "metadata": {},
   "outputs": [
    {
     "data": {
      "text/plain": [
       "[[0, 1, 0], [1, 0, 0], [4, 3, 0]]"
      ]
     },
     "execution_count": 127,
     "metadata": {},
     "output_type": "execute_result"
    }
   ],
   "source": [
    "arr"
   ]
  },
  {
   "cell_type": "code",
   "execution_count": 132,
   "metadata": {},
   "outputs": [
    {
     "name": "stdout",
     "output_type": "stream",
     "text": [
      "6\n",
      "(0, 0) (0, 2)\n",
      "(0, 0) (2, 2)\n",
      "(0, 0) (2, 0)\n",
      "(0, 1) (1, 2)\n",
      "(0, 1) (2, 1)\n",
      "(0, 1) (1, 0)\n"
     ]
    }
   ],
   "source": [
    "# Функция для вывода последовательности операций\n",
    "def print_operations(operations) -> None:\n",
    "    print(len(operations))\n",
    "    for op in operations:\n",
    "        print(*op)\n",
    "\n",
    "\n",
    "# Функция для поворота матрицы по часовой стрелке\n",
    "def rotate_clockwise(matrix):\n",
    "    n = len(matrix)\n",
    "    operations = []\n",
    "    for i in range(n // 2):\n",
    "        for j in range(i, n - i - 1):\n",
    "            operations.append(((i, j), (j, n - i - 1)))\n",
    "            operations.append(((i, j), (n - i - 1, n - j - 1)))\n",
    "            operations.append(((i, j), (n - j - 1, i)))\n",
    "    return operations\n",
    "\n",
    "\n",
    "# Функция для поворота матрицы против часовой стрелки\n",
    "def rotate_counterclockwise(matrix):\n",
    "    n = len(matrix)\n",
    "    operations = []\n",
    "    for i in range(n // 2):\n",
    "        for j in range(i, n - i - 1):\n",
    "            operations.append(((i, j), (n - i - 1, j)))\n",
    "            operations.append(((i, j), (n - j - 1, n - i - 1)))\n",
    "            operations.append(((i, j), (j, n - j - 1)))\n",
    "    return operations\n",
    "\n",
    "\n",
    "# # Чтение входных данных\n",
    "# n, direction = input().split()\n",
    "# n = int(n)\n",
    "# matrix = [list(map(int, input().split())) for _ in range(n)]\n",
    "\n",
    "n = 3\n",
    "direction = \"R\"\n",
    "matrix = [[0, 1, 0], [1, 0, 0], [4, 3, 0]]\n",
    "\n",
    "\n",
    "# Выбор направления поворота и вывод последовательности операций\n",
    "if direction == \"R\":\n",
    "    operations = rotate_clockwise(matrix)\n",
    "    print_operations(operations)\n",
    "elif direction == \"L\":\n",
    "    operations = rotate_counterclockwise(matrix)\n",
    "    print_operations(operations)"
   ]
  },
  {
   "cell_type": "code",
   "execution_count": 275,
   "metadata": {},
   "outputs": [
    {
     "ename": "IndentationError",
     "evalue": "expected an indented block after 'elif' statement on line 38 (<ipython-input-275-3a123ea63f89>, line 42)",
     "output_type": "error",
     "traceback": [
      "\u001b[0;36m  Cell \u001b[0;32mIn[275], line 42\u001b[0;36m\u001b[0m\n\u001b[0;31m    print(mushrooms)\u001b[0m\n\u001b[0m                    ^\u001b[0m\n\u001b[0;31mIndentationError\u001b[0m\u001b[0;31m:\u001b[0m expected an indented block after 'elif' statement on line 38\n"
     ]
    }
   ],
   "source": [
    "# 0 - проход запрещен\n",
    "# 1 - трава\n",
    "# 2 - грибы\n",
    "\n",
    "input_file = \"input.txt\"\n",
    "file = open(input_file)\n",
    "\n",
    "# n = int(input())\n",
    "n = int(file.readline().strip())\n",
    "\n",
    "field = []\n",
    "for _ in range(n):\n",
    "    field.append([\"W\"] + list(file.readline().strip()) + [\"W\"])\n",
    "\n",
    "for i in range(n):\n",
    "    print(field[i])\n",
    "\n",
    "mushrooms = 0\n",
    "for i in range(1, 4):\n",
    "    for j in range(1, n):\n",
    "        if field[i][j] == \"W\":\n",
    "            break\n",
    "        if field[i][j] == \"C\":\n",
    "            di = [1, 1, 1]\n",
    "            dj = [-1, 0, 1]\n",
    "\n",
    "            for dest in range(4):\n",
    "                ni, nj = i + di[dest], j + dj[dest]\n",
    "\n",
    "                if field[ni][nj] == \"C\":\n",
    "                    mushrooms += 1\n",
    "                    current_i = ni\n",
    "                    current_j = nj\n",
    "                elif field[ni][nj] == \".\":\n",
    "                    mushrooms += 0\n",
    "                    current_i = ni\n",
    "                    current_j = nj\n",
    "                elif field[ni][nj] == \"W\":\n",
    "\n",
    "\n",
    "\n",
    "print(mushrooms)"
   ]
  },
  {
   "cell_type": "code",
   "execution_count": 267,
   "metadata": {},
   "outputs": [
    {
     "name": "stdout",
     "output_type": "stream",
     "text": [
      "1\n"
     ]
    }
   ],
   "source": [
    "def nex_step(field, row, col, n, what):\n",
    "    dj = [-1, 0, 1]\n",
    "    for dest in range(len(dj)):\n",
    "        ni, nj = row + 1, col + dj[dest]\n",
    "        if field[ni][nj] == what and is_exist_way(field, ni, nj, n):\n",
    "            return ni, nj\n",
    "\n",
    "\n",
    "def is_exist_way(field, row, col, n):\n",
    "    dj = [-1, 0, 1]\n",
    "    sum_w = 0\n",
    "\n",
    "    if row != n + 1:\n",
    "        for dest in range(len(dj)):\n",
    "            ni, nj = row + 1, col + dj[dest]\n",
    "            if field[ni][nj] == \"W\":\n",
    "                sum_w += 1\n",
    "            else:\n",
    "                return True\n",
    "        return False\n",
    "    else:\n",
    "        return True\n",
    "\n",
    "\n",
    "def checkC(field, row, col, n):\n",
    "    if nex_step(field, row, col, n, \"C\"):\n",
    "        return 1\n",
    "    elif nex_step(field, row, col, n, \".\"):\n",
    "        return 1\n",
    "    return 0\n",
    "\n",
    "\n",
    "def checkP(field, row, col, n):\n",
    "    if nex_step(field, row, col, n, \"C\"):\n",
    "        return 0\n",
    "    elif nex_step(field, row, col, n, \".\"):\n",
    "        return 0\n",
    "    return -1\n",
    "\n",
    "\n",
    "# input_file = \"input.txt\"\n",
    "# file = open(input_file)\n",
    "# n = int(file.readline().strip())\n",
    "\n",
    "n = int(input())\n",
    "field = [[\"W\", \"W\", \".\", \"W\", \"W\"]]\n",
    "for _ in range(n):\n",
    "    field.append([\"W\"] + list(input().strip()) + [\"W\"])\n",
    "field.append([\"W\", \"W\", \".\", \"W\", \"W\"])\n",
    "\n",
    "point = 2\n",
    "mushrooms = 0\n",
    "\n",
    "for row in range(n + 1):\n",
    "    new_mush = 0\n",
    "\n",
    "    for col in range(point - 1, point + 2):\n",
    "        if field[row][col] == \"C\":\n",
    "            if checkC(field, row, col, n):\n",
    "                new_mush = 1\n",
    "                mushrooms += 1\n",
    "                point = col\n",
    "                break\n",
    "\n",
    "    for col in range(point - 1, point + 2):\n",
    "        if new_mush == 0:\n",
    "            if field[row][col] == \".\":\n",
    "                if checkP(field, row, col, n) != -1:\n",
    "                    point = col\n",
    "                    break\n",
    "\n",
    "\n",
    "print(mushrooms)"
   ]
  },
  {
   "cell_type": "code",
   "execution_count": 272,
   "metadata": {},
   "outputs": [
    {
     "name": "stdout",
     "output_type": "stream",
     "text": [
      "['-', '-', '-', '-', '-']\n",
      "['-', 'S', '.', '.', '-']\n",
      "['-', 'F', '.', '.', '-']\n",
      "['-', '.', '.', '.', '-']\n",
      "['-', '-', '-', '-', '-']\n"
     ]
    }
   ],
   "source": [
    "# 6\n",
    "\n",
    "\n",
    "# n = int(input())\n",
    "\n",
    "input_file = \"input.txt\"\n",
    "file = open(input_file)\n",
    "n = int(file.readline().strip())\n",
    "\n",
    "border = \"-\"\n",
    "field = []\n",
    "\n",
    "for k in range(n):\n",
    "    list(file.readline().strip())\n",
    "\n",
    "# for k in range(n + 2):\n",
    "#     if k == 0 or k == n + 1:\n",
    "#         field.append([border] * (n + 2))\n",
    "#     else:\n",
    "#         # field.append([border] + list(input().strip()) + [border])\n",
    "#         field.append([border] + list(file.readline().strip()) + [border])\n",
    "\n",
    "for i in range(n):\n",
    "    print(field[i])"
   ]
  },
  {
   "cell_type": "code",
   "execution_count": null,
   "metadata": {},
   "outputs": [],
   "source": [
    "di[\"K\"] = [-1, -1, 1, 1]\n",
    "dj[\"K\"] = [-2, 2, 2, -2]\n",
    "\n",
    "di[\"G\"] = [-1, 0, 1]\n",
    "dj[\"G\"] = [-1, 0, 1]"
   ]
  }
 ],
 "metadata": {
  "kernelspec": {
   "display_name": "base",
   "language": "python",
   "name": "python3"
  },
  "language_info": {
   "codemirror_mode": {
    "name": "ipython",
    "version": 3
   },
   "file_extension": ".py",
   "mimetype": "text/x-python",
   "name": "python",
   "nbconvert_exporter": "python",
   "pygments_lexer": "ipython3",
   "version": "3.11.4"
  }
 },
 "nbformat": 4,
 "nbformat_minor": 2
}
