{
 "cells": [
  {
   "cell_type": "markdown",
   "metadata": {},
   "source": [
    "# Лекция 5: Префиксные суммы и два указателя."
   ]
  },
  {
   "cell_type": "markdown",
   "metadata": {},
   "source": [
    "## Задача 1 - RSQ\n",
    "\n",
    "**Дано:**  \n",
    "\n",
    "**Задача:** найти сумму всех чисел в интервале"
   ]
  },
  {
   "cell_type": "code",
   "execution_count": 2,
   "metadata": {},
   "outputs": [],
   "source": [
    "def makeprefixsum(nums):\n",
    "    prefixsum = [0] * (len(nums) + 1)\n",
    "    for i in range(1,len(nums) + 1):\n",
    "        prefixsum[i] = prefixsum[i-1] + nums[i-1]\n",
    "    return prefixsum\n",
    "\n",
    "def rsq(prefixsum, l, r):\n",
    "    return prefixsum[r] - prefixsum[l]"
   ]
  },
  {
   "cell_type": "code",
   "execution_count": null,
   "metadata": {},
   "outputs": [],
   "source": []
  },
  {
   "cell_type": "markdown",
   "metadata": {},
   "source": [
    "## Задача 2\n",
    "\n",
    "**Дано:**  последовательность чисел длиной N и M запросов. \n",
    "\n",
    "**Задача:** Запросы - \"Сколько нулей на полуинтервале [L,R)\""
   ]
  },
  {
   "cell_type": "code",
   "execution_count": 3,
   "metadata": {},
   "outputs": [],
   "source": [
    "# O(N+M)\n",
    "# для каждого префикса посчитаем количество нулейн на нем (prefixzeroes). \n",
    "# Тогда ответ на запрос на полуинтервале [L,R): prefixseroes[R]-prefixzeroes[L]\n",
    "\n",
    "def makeprefixzeroes(nums):\n",
    "    prefixzeroes = [0] * (len(nums) + 1)\n",
    "\n",
    "    # O(N)\n",
    "    for i in range(1,len(nums) + 1):\n",
    "        if nums[i-1] == 0:\n",
    "            prefixzeroes[i] = prefixzeroes[i-1] + 1\n",
    "        else:\n",
    "            prefixzeroes[i] = prefixzeroes[i-1]\n",
    "    return prefixzeroes\n",
    "\n",
    "#O(1) - 1 запрос => M запросов O(M)\n",
    "def countzeroes(prefixzeroes, l, r):\n",
    "    return prefixzeroes[r] - prefixzeroes[l]"
   ]
  },
  {
   "cell_type": "code",
   "execution_count": null,
   "metadata": {},
   "outputs": [],
   "source": []
  },
  {
   "cell_type": "markdown",
   "metadata": {},
   "source": [
    "## Задача 3\n",
    "\n",
    "**Дано:**  последовательность N\n",
    "\n",
    "**Задача:** Найти количество отрезков с нулевой суммой."
   ]
  },
  {
   "cell_type": "code",
   "execution_count": 39,
   "metadata": {},
   "outputs": [
    {
     "data": {
      "text/plain": [
       "3"
      ]
     },
     "execution_count": 39,
     "metadata": {},
     "output_type": "execute_result"
    }
   ],
   "source": [
    "# O(N^^2)\n",
    "# Переберем начало и будем двигать конец, суммируя элементы.\n",
    "\n",
    "def countzeroessumranges(nums):\n",
    "    cntranges = 0\n",
    "    for i in range(len(nums)):\n",
    "        rangesum = 0\n",
    "        for j in range(i,len(nums)):\n",
    "            rangesum += nums[j]\n",
    "            if rangesum == 0:\n",
    "                cntranges += 1\n",
    "    return cntranges\n",
    "\n",
    "nums = [999,-5,-3,2,6,-2,2]\n",
    "countzeroessumranges(nums)"
   ]
  },
  {
   "cell_type": "code",
   "execution_count": 44,
   "metadata": {},
   "outputs": [
    {
     "data": {
      "text/plain": [
       "{0: 1, 10: 4, 4: 1, 8: 1, 3: 1}"
      ]
     },
     "execution_count": 44,
     "metadata": {},
     "output_type": "execute_result"
    }
   ],
   "source": [
    "# O(N)\n",
    "# Насчитаем префиксные суммы. Одинаковые префиксные суммы означают, \n",
    "# что сумма на отрезке с началом и концом в позициях, \n",
    "# на которых достигаются одинаковые префиксные суммы будет равна нулю;\n",
    "\n",
    "def countprefixsums(nums):\n",
    "    # инициализация: сумма 0 встречалась 1 раз\n",
    "    # корректно обрабатывать обьекты у левого края\n",
    "    prefixsumbyvalue = {0:1}\n",
    "    nowsum = 0\n",
    "    for now in nums:\n",
    "        nowsum += now\n",
    "        # если не встречалась еще такая сумма добавляем ее и присваиваем 0\n",
    "        if nowsum not in prefixsumbyvalue:\n",
    "            prefixsumbyvalue[nowsum] = 0\n",
    "        # увеличиваем префиксную сумму на 1\n",
    "        prefixsumbyvalue[nowsum] += 1\n",
    "    return prefixsumbyvalue\n",
    "\n",
    "def countzerosumranges(prefixsumbyvalue):\n",
    "    cntranges = 0\n",
    "    for nowsum in prefixsumbyvalue:\n",
    "        cntsum = prefixsumbyvalue[nowsum]\n",
    "        cntranges += cntsum * (cntsum - 1) // 2\n",
    "    return cntranges\n",
    "\n",
    "nums = [10,-6,6,-2,2, -7,7]\n",
    "countprefixsums(nums)\n",
    "\n"
   ]
  },
  {
   "cell_type": "code",
   "execution_count": 46,
   "metadata": {},
   "outputs": [
    {
     "data": {
      "text/plain": [
       "6"
      ]
     },
     "execution_count": 46,
     "metadata": {},
     "output_type": "execute_result"
    }
   ],
   "source": [
    "countzerosumranges(countprefixsums(nums))"
   ]
  },
  {
   "cell_type": "markdown",
   "metadata": {},
   "source": [
    "## Задача 4\n",
    "\n",
    "**Дано:**  отсортированная последовательность чисел длины N и число K\n",
    "\n",
    "**Задача:** найти количество пар A и B, таких что (B - A > K)"
   ]
  },
  {
   "cell_type": "code",
   "execution_count": 50,
   "metadata": {},
   "outputs": [
    {
     "data": {
      "text/plain": [
       "2"
      ]
     },
     "execution_count": 50,
     "metadata": {},
     "output_type": "execute_result"
    }
   ],
   "source": [
    "# last and first - 2 указателя\n",
    "def cntpairswithdiffgtk(sortednums, k):\n",
    "    cntpairs = 0\n",
    "    last = 0\n",
    "    for first in range(len(sortednums)):\n",
    "        # last < len(sortednums) : правая граница не вышла за пределы массива \n",
    "        # sortednums[last] - sortednums[first] <= k : на last позиции стоит неподходящее число\n",
    "        while (last < len(sortednums)) and (sortednums[last] - sortednums[first] <= k):\n",
    "            last += 1 # сдвигаем на 1\n",
    "        cntpairs += len(sortednums) - last\n",
    "    return cntpairs\n",
    "\n",
    "\n",
    "sortednums = [1,2,88]\n",
    "cntpairswithdiffgtk(sortednums, 30)"
   ]
  },
  {
   "cell_type": "code",
   "execution_count": null,
   "metadata": {},
   "outputs": [],
   "source": []
  },
  {
   "cell_type": "markdown",
   "metadata": {},
   "source": [
    "## Задача 5\n",
    "\n",
    "**Дано:**  Дана отсортированная последовательность чисел длиной N - профессионализм игроков. Игрок в футбол обладает одной числовой характеристикой - проффессионализмом. Команда называется сплоченной, если профессионализм любого игрока не превосходит суммарный профессионализм любых двух других игроков из команды. Команда можнт состоять из любого количество игроков. \n",
    "\n",
    "**Задача:** найти максимальный суммарный профессионализм сплоченной команды."
   ]
  },
  {
   "cell_type": "code",
   "execution_count": 57,
   "metadata": {},
   "outputs": [
    {
     "data": {
      "text/plain": [
       "81"
      ]
     },
     "execution_count": 57,
     "metadata": {},
     "output_type": "execute_result"
    }
   ],
   "source": [
    "players = [1,1,3,3,4,6,11,70]\n",
    "\n",
    "# Команда: профф 1 игрока не превосходит двух других их команды\n",
    "# Игрок может быть 1 в команде или 2\n",
    "\n",
    "def bestteamsum(players):\n",
    "    bestsum = 0\n",
    "    nowsum = 0\n",
    "    last = 0\n",
    "\n",
    "    for first in range(len(players)):\n",
    "        while last < len(players) and (last == first or players[first]+players[first+1] >= players[last]):\n",
    "            nowsum += players[last]\n",
    "            last += 1\n",
    "        bestsum = max(bestsum, nowsum)\n",
    "        nowsum -= players[first]\n",
    "\n",
    "    return bestsum\n",
    "\n",
    "\n",
    "bestteamsum(players)"
   ]
  },
  {
   "cell_type": "markdown",
   "metadata": {},
   "source": [
    "## Задача 6\n",
    "\n",
    "**Дано:**  две отсортированные последовательности чисел длины N и M\n",
    "\n",
    "**Задача:** слить их в одну отсортированную последовательность"
   ]
  },
  {
   "cell_type": "code",
   "execution_count": 59,
   "metadata": {},
   "outputs": [
    {
     "data": {
      "text/plain": [
       "[1, 1, 2, 3, 4, 4, 6, 7, 7, 8, 9, 10, 10, 11, 14]"
      ]
     },
     "execution_count": 59,
     "metadata": {},
     "output_type": "execute_result"
    }
   ],
   "source": [
    "# O(N+M) merge\n",
    "# поставим 2 указателя на начало каждой из последовательностей. \n",
    "# Выберем тот, который указывает на меньшее число, запишем это число в результат и сдвинем указатель.\n",
    "\n",
    "def merge(nums1, nums2):\n",
    "    merged = [0] * (len(nums1) + len(nums2))\n",
    "    first1 = first2 = 0\n",
    "    for k in range(len(nums1) + len(nums2)):\n",
    "        if first1 != len(nums1) and (first2 == len(nums2) or nums1[first1] < nums2[first2]):\n",
    "            merged[k] = nums1[first1]\n",
    "            first1 += 1\n",
    "        else:\n",
    "            merged[k] = nums2[first2]\n",
    "            first2 += 1\n",
    "    return merged\n",
    "\n",
    "nums1 = [1,4,7,8,9,10,10,14]\n",
    "nums2 = [1,2,3,4,6,7,11]\n",
    "\n",
    "merge(nums1, nums2)\n"
   ]
  },
  {
   "cell_type": "code",
   "execution_count": null,
   "metadata": {},
   "outputs": [],
   "source": []
  },
  {
   "cell_type": "code",
   "execution_count": null,
   "metadata": {},
   "outputs": [],
   "source": []
  },
  {
   "cell_type": "markdown",
   "metadata": {},
   "source": []
  }
 ],
 "metadata": {
  "kernelspec": {
   "display_name": "Python 3",
   "language": "python",
   "name": "python3"
  },
  "language_info": {
   "codemirror_mode": {
    "name": "ipython",
    "version": 3
   },
   "file_extension": ".py",
   "mimetype": "text/x-python",
   "name": "python",
   "nbconvert_exporter": "python",
   "pygments_lexer": "ipython3",
   "version": "3.11.4"
  }
 },
 "nbformat": 4,
 "nbformat_minor": 2
}
