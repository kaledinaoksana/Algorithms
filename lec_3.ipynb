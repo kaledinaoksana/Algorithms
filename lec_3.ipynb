{
 "cells": [
  {
   "cell_type": "markdown",
   "metadata": {},
   "source": [
    "# Множества\n",
    "\n",
    "- добавление элемента\n",
    "- проверка наличия элемента\n",
    "- удаление элемента\n",
    "\n",
    "\n",
    "* F(X) = X % setsize - **хеш функция**\n",
    "* myset(список списков) - **хеш-таблица**\n",
    "* совспадение значений хещ-финкции для разных параметров - **коллизия**"
   ]
  },
  {
   "cell_type": "markdown",
   "metadata": {},
   "source": [
    "## Задача 1\n",
    "\n",
    "**Дано:** -\n",
    "\n",
    "**Задача:** Написать собственное (мульти) множество."
   ]
  },
  {
   "cell_type": "code",
   "execution_count": null,
   "metadata": {},
   "outputs": [],
   "source": [
    "setsize = 10\n",
    "# создание пустого списка списков\n",
    "myset = [[] for _ in range(setsize)]\n",
    "\n",
    "def add(x):\n",
    "    # для обычного множества тут на добавление делать проверку if not find(x)\n",
    "    myset[x % setsize].append(x)\n",
    "\n",
    "def find(x):\n",
    "    for now in myset[x % setsize]:\n",
    "        if now == x:\n",
    "            return True\n",
    "    return False\n",
    "\n",
    "\n",
    "# a,b = b, a - реализация в питоне swap(a,b)\n",
    "def delete(x):\n",
    "    xlist = myset[x % setsize]\n",
    "    for i in range(len(xlist)):\n",
    "        if xlist[i] == x:\n",
    "            # xlist[i], xlist[len(xlist) - 1] = xlist[len(xlist)-1], xlist[i]\n",
    "            xlist[i] = xlist[len(xlist)-1]\n",
    "            xlist.pop()\n",
    "            return\n",
    "\n"
   ]
  },
  {
   "cell_type": "markdown",
   "metadata": {},
   "source": [
    "## Задача 2\n",
    "\n",
    "**Дано:** последовательность положительных чисел длиной N и число X.\n",
    "\n",
    "**Задача:** Найти два различных числа A и B из последовательности, таких что A+B=X или вернуть пару 0, 0, если такой пары чисел нет."
   ]
  },
  {
   "cell_type": "markdown",
   "metadata": {},
   "source": [
    "### Решение 1: O(N**2)\n",
    "\n",
    "Переберем число А за О(N). Переберем число В за О(N). Если их сумма равна X, то вернем эту пару.\n",
    "Различные числа (!!!) значит по индексам проверяем"
   ]
  },
  {
   "cell_type": "code",
   "execution_count": 7,
   "metadata": {},
   "outputs": [],
   "source": [
    "def two_term_N2(nums, x):\n",
    "    for i in range(len(nums)):\n",
    "        for j in range(i+1, len(nums)):\n",
    "            if nums[i] + nums[j] == x:\n",
    "                return nums[i], nums[j]\n",
    "    return 0, 0"
   ]
  },
  {
   "cell_type": "code",
   "execution_count": 21,
   "metadata": {},
   "outputs": [
    {
     "data": {
      "text/plain": [
       "(3, 7)"
      ]
     },
     "execution_count": 21,
     "metadata": {},
     "output_type": "execute_result"
    }
   ],
   "source": [
    "nums = [1,34,43,23,423,12,54,234,54,1,4,3,2,5,3,2,5,3,2,2,2,7,7,76,535,43,23]\n",
    "sum = 10\n",
    "\n",
    "two_term_N2(nums, sum)"
   ]
  },
  {
   "cell_type": "markdown",
   "metadata": {},
   "source": [
    "### Решение 2: O(N)\n",
    "\n",
    "Будем хранить все уже обработанные числа в множесте. Если очередное число nownum, а (X - nownum) есть в множестве, то мы нашли слагаемые.\n"
   ]
  },
  {
   "cell_type": "code",
   "execution_count": 26,
   "metadata": {},
   "outputs": [],
   "source": [
    "def two_term_N(nums, x):\n",
    "    prevnums = set()\n",
    "    for nownum in nums:\n",
    "        diff = x - nownum\n",
    "        if (diff in prevnums) and (nownum not in prevnums):\n",
    "            return nownum, diff\n",
    "        prevnums.add(nownum)\n",
    "    return 0, 0"
   ]
  },
  {
   "cell_type": "code",
   "execution_count": 27,
   "metadata": {},
   "outputs": [
    {
     "data": {
      "text/plain": [
       "(7, 3)"
      ]
     },
     "execution_count": 27,
     "metadata": {},
     "output_type": "execute_result"
    }
   ],
   "source": [
    "two_term_N(nums, sum)"
   ]
  },
  {
   "cell_type": "markdown",
   "metadata": {},
   "source": [
    "## Задача 3\n",
    "\n",
    "**Дано:** словарь из N слов, длина каждого не превосходит К\n",
    "\n",
    "**Задача:** В записи каждого из М слов текста (каждое длиной до К) может быть пропещуна одна буква. Для каждого слова сказать, входит ли оно (возможно, с одно пропущенной буквой), в словарь.\n"
   ]
  },
  {
   "cell_type": "code",
   "execution_count": 38,
   "metadata": {},
   "outputs": [
    {
     "data": {
      "text/plain": [
       "['oksana', 'okana', 'like', 'lke', 'dinner']"
      ]
     },
     "execution_count": 38,
     "metadata": {},
     "output_type": "execute_result"
    }
   ],
   "source": [
    "# O(NK**2 + M)\n",
    "\n",
    "def wordsindict(dictionary, text):\n",
    "    goodwords = set(dictionary)\n",
    "    for word in dictionary: #N\n",
    "        for delpos in range(len(word)): #K\n",
    "            goodwords.add(word[:delpos]+word[delpos+1:]) #K\n",
    "    ans = []\n",
    "    for word in text.split():\n",
    "        if word in goodwords:\n",
    "            ans.append(word)\n",
    "    return ans\n",
    "\n",
    "\n",
    "text = \"oksana okana love like lke dinner din\"\n",
    "dictionary = ['oksana', 'like','dinner']\n",
    "\n",
    "wordsindict(dictionary, text)\n"
   ]
  },
  {
   "cell_type": "code",
   "execution_count": null,
   "metadata": {},
   "outputs": [],
   "source": []
  },
  {
   "cell_type": "markdown",
   "metadata": {},
   "source": []
  }
 ],
 "metadata": {
  "kernelspec": {
   "display_name": "Python 3",
   "language": "python",
   "name": "python3"
  },
  "language_info": {
   "codemirror_mode": {
    "name": "ipython",
    "version": 3
   },
   "file_extension": ".py",
   "mimetype": "text/x-python",
   "name": "python",
   "nbconvert_exporter": "python",
   "pygments_lexer": "ipython3",
   "version": "3.11.4"
  }
 },
 "nbformat": 4,
 "nbformat_minor": 2
}
