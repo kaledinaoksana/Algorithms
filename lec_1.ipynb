{
 "cells": [
  {
   "cell_type": "markdown",
   "metadata": {},
   "source": [
    "# Сложность, тестирование, особые случаи."
   ]
  },
  {
   "cell_type": "markdown",
   "metadata": {},
   "source": [
    "## Задача 1\n",
    "\n",
    "**Дано:** строка символов(UTF-8)\n",
    "\n",
    "**Задача:** Найти самый часть встречающийся в ней символ. Если несколько символов встречаются одинакого часто, то можно вывести любой. "
   ]
  },
  {
   "cell_type": "code",
   "execution_count": 1,
   "metadata": {},
   "outputs": [
    {
     "name": "stdout",
     "output_type": "stream",
     "text": [
      "7\n"
     ]
    }
   ],
   "source": []
  },
  {
   "cell_type": "code",
   "execution_count": null,
   "metadata": {},
   "outputs": [],
   "source": [
    "# s=input()\n",
    "s = \"abbaadcs\""
   ]
  },
  {
   "cell_type": "markdown",
   "metadata": {},
   "source": [
    "####  гуру питона"
   ]
  },
  {
   "cell_type": "code",
   "execution_count": null,
   "metadata": {},
   "outputs": [],
   "source": [
    "result=max(map(lambda x: (s.count(x), x), s))[1]\n",
    "\n",
    "result"
   ]
  },
  {
   "cell_type": "markdown",
   "metadata": {},
   "source": [
    "### Вариант 1: Решаем перебором 2 раза по последовательности\n",
    "\n",
    "**ВРЕМЯ:** O(N^2)\n",
    "\n",
    "**ПАМЯТЬ:** O(N)"
   ]
  },
  {
   "cell_type": "code",
   "execution_count": null,
   "metadata": {},
   "outputs": [],
   "source": [
    "# ВРЕМЯ: O(N^2) - перебор\n",
    "# ПАМЯТЬ: O(N)\n",
    "\n",
    "ans=''\n",
    "anscnt=0\n",
    "for i in range(len(s)):\n",
    "    nowcnt=0\n",
    "    for j in range(len(s)):\n",
    "        if s[i] == s[j]:\n",
    "            nowcnt += 1\n",
    "    if nowcnt > anscnt:\n",
    "        ans = s[i]\n",
    "        anscnt = nowcnt\n",
    "result = ans\n",
    "\n",
    "result"
   ]
  },
  {
   "cell_type": "markdown",
   "metadata": {},
   "source": [
    "### Вариант 2: Решаем перебором 1 раз по множеству симполов k и 1 раз по последовательности\n",
    "\n",
    "**ВРЕМЯ:** O(N*k)\n",
    "\n",
    "**ПАМЯТЬ:** O(N+k) => O(N)"
   ]
  },
  {
   "cell_type": "code",
   "execution_count": null,
   "metadata": {},
   "outputs": [],
   "source": [
    "# ВРЕМЯ: O(N*k) - множество\n",
    "# ПАМЯТЬ: O(N+k)=O(N)\n",
    "\n",
    "# N - все буквы\n",
    "# k - различные символы\n",
    "\n",
    "ans=''\n",
    "anscnt=0\n",
    "for now in set(s):\n",
    "    nowcnt=0\n",
    "    for j in range(len(s)):\n",
    "        if now == s[j]:\n",
    "            nowcnt += 1\n",
    "    if nowcnt > anscnt:\n",
    "        ans = now\n",
    "        anscnt = nowcnt\n",
    "result = ans\n",
    "\n",
    "result"
   ]
  },
  {
   "cell_type": "markdown",
   "metadata": {},
   "source": [
    "### Вариант 2: Решаем с использованием словаря\n",
    "\n",
    "**ВРЕМЯ:** O(N+k) => O(N)\n",
    "\n",
    "**ПАМЯТЬ:** O(k) => O(k)"
   ]
  },
  {
   "cell_type": "code",
   "execution_count": null,
   "metadata": {},
   "outputs": [],
   "source": [
    "# ВРЕМЯ: O(N+k) - словарь => O(N)\n",
    "# ПАМЯТЬ: O(k) - словарь => O(k)\n",
    "# N - все буквы\n",
    "# k - различные символы\n",
    "\n",
    "ans=''\n",
    "anscnt=0\n",
    "dct = {}\n",
    "# по строке N\n",
    "for now in s:\n",
    "    if now not in dct:\n",
    "        dct[now] = 0\n",
    "    dct[now] += 1\n",
    "# print(dct)\n",
    "    \n",
    "# по ключам k\n",
    "for key in dct:\n",
    "    if dct[key] > anscnt:\n",
    "        anscnt = dct[key]\n",
    "        ans = key\n",
    "\n",
    "result = ans\n",
    "\n",
    "result"
   ]
  },
  {
   "cell_type": "code",
   "execution_count": null,
   "metadata": {},
   "outputs": [],
   "source": [
    "# ВРЕМЯ: O(N+k) - словарь => O(N)\n",
    "# ПАМЯТЬ: O(k) - словарь => O(k)\n",
    "# N - все буквы\n",
    "# k - различные символы\n",
    "\n",
    "ans='' # без - runtime error\n",
    "anscnt=0\n",
    "dct = {}\n",
    "\n",
    "# по строке N\n",
    "for now in s:\n",
    "    if now not in dct:\n",
    "        dct[now] = 0\n",
    "    dct[now] += 1\n",
    "# print(dct)\n",
    "    \n",
    "# по ключам k\n",
    "for key in dct:\n",
    "    if dct[key] > anscnt:\n",
    "        anscnt = dct[key]\n",
    "        ans = key\n",
    "\n",
    "result = ans\n",
    "\n",
    "result"
   ]
  },
  {
   "cell_type": "markdown",
   "metadata": {},
   "source": [
    "# Задача 2\n",
    "\n",
    "**Дано:** последовательность чисел\n",
    "\n",
    "**Задача:** Найти сумму последовательности. Найти максимум последовательности."
   ]
  },
  {
   "cell_type": "code",
   "execution_count": null,
   "metadata": {},
   "outputs": [],
   "source": [
    "# чтение последовательности\n",
    "# seq = list(map(int, input().split()))\n",
    "\n",
    "str = \"1 343 23 1 453 23 523 0\"\n",
    "seq = list(map(int, str.split()))"
   ]
  },
  {
   "cell_type": "code",
   "execution_count": null,
   "metadata": {},
   "outputs": [],
   "source": [
    "# максимум последовательности\n",
    "def seq_max(seq):\n",
    "    if len(seq) == 0: \n",
    "        res = '-inf'\n",
    "    else:\n",
    "        # все числа отрицательные, а выведем 0 \n",
    "        # поэтому делаем проверку\n",
    "        seqmax = seq[0]\n",
    "        for i in range(1,len(seq)):\n",
    "            if seq[i] > seqmax:\n",
    "                seqmax = seq[i]\n",
    "        res = seqmax\n",
    "    return res\n",
    "\n",
    "# сумма последовательности\n",
    "def seq_sum(seq):\n",
    "    seqsum = 0\n",
    "    for i in range(len(seq)):\n",
    "        seqsum += seq[i]\n",
    "    return seqsum\n",
    "\n",
    "max = seq_max(seq)\n",
    "sum = seq_sum(seq)\n",
    "\n",
    "print(\"Максимум:\",max)\n",
    "print(\"Сумма:\",sum)  "
   ]
  },
  {
   "cell_type": "markdown",
   "metadata": {},
   "source": [
    "# Тестирование"
   ]
  },
  {
   "cell_type": "code",
   "execution_count": null,
   "metadata": {},
   "outputs": [],
   "source": [
    "# максимум последовательности\n",
    "test_lists=[\n",
    "    \"1 3 2\",    # обычный случай\n",
    "    \"1 2 3\",    # краевые случаи\n",
    "    \"3 2 1\",    # краевые случаи\n",
    "    \"1 1 1\",    # все одинаковые\n",
    "    \"1\",        # одно значение\n",
    "    \"\",         # пустая строка\n",
    "    \"-2 -1 -3\"  # отрицательные элементы\n",
    "]"
   ]
  },
  {
   "cell_type": "markdown",
   "metadata": {},
   "source": [
    "## Задача 3\n",
    "\n",
    "**Дано:** коэффициенты уравнения a, b, c вида a*x**2 + b*x + c\n",
    "\n",
    "**Задача:** Найти корни уравнения. Расположить их в порядке возрастания."
   ]
  },
  {
   "cell_type": "code",
   "execution_count": null,
   "metadata": {},
   "outputs": [],
   "source": [
    "import math\n",
    "a, b, c = 1, 5, 3\n",
    "\n",
    "if a==0:\n",
    "    if b != 0:\n",
    "        res = -c/b\n",
    "    if b==0 and c==0:\n",
    "        res=\"inf sol\"\n",
    "else:\n",
    "    d = b**2-4*a*c\n",
    "    # print(d)\n",
    "    if d==0:\n",
    "        res = -b/(2*a)\n",
    "    elif d>0:\n",
    "        x1 = (-b - math.sqrt(d))/(2*a)\n",
    "        x2 = (-b + math.sqrt(d))/(2*a)\n",
    "        if x1 < x2:\n",
    "            res = (x1,x2)\n",
    "        else:\n",
    "            res = (x2,x1)\n",
    "    else:\n",
    "        res = \"нет корней\"\n",
    "\n",
    "res"
   ]
  }
 ],
 "metadata": {
  "kernelspec": {
   "display_name": "Python 3",
   "language": "python",
   "name": "python3"
  },
  "language_info": {
   "codemirror_mode": {
    "name": "ipython",
    "version": 3
   },
   "file_extension": ".py",
   "mimetype": "text/x-python",
   "name": "python",
   "nbconvert_exporter": "python",
   "pygments_lexer": "ipython3",
   "version": "3.11.4"
  }
 },
 "nbformat": 4,
 "nbformat_minor": 2
}
