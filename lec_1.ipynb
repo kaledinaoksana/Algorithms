{
 "cells": [
  {
   "cell_type": "markdown",
   "metadata": {},
   "source": [
    "# Сложность, тестирование, особые случаи."
   ]
  },
  {
   "cell_type": "markdown",
   "metadata": {},
   "source": [
    "## Задача 1\n",
    "\n",
    "**Дано:** строка символов(UTF-8)\n",
    "\n",
    "**Задача:** Найти самый часть встречающийся в ней символ. Если несколько символов встречаются одинакого часто, то можно вывести любой. "
   ]
  },
  {
   "cell_type": "code",
   "execution_count": 1,
   "metadata": {},
   "outputs": [],
   "source": [
    "# s=input()\n",
    "s = \"abbaadcs\""
   ]
  },
  {
   "cell_type": "markdown",
   "metadata": {},
   "source": [
    "####  гуру питона"
   ]
  },
  {
   "cell_type": "code",
   "execution_count": 2,
   "metadata": {},
   "outputs": [
    {
     "data": {
      "text/plain": [
       "'a'"
      ]
     },
     "execution_count": 2,
     "metadata": {},
     "output_type": "execute_result"
    }
   ],
   "source": [
    "result=max(map(lambda x: (s.count(x), x), s))[1]\n",
    "\n",
    "result"
   ]
  },
  {
   "cell_type": "markdown",
   "metadata": {},
   "source": [
    "### Вариант 1: Решаем перебором 2 раза по последовательности\n",
    "\n",
    "**ВРЕМЯ:** O(N^2)\n",
    "\n",
    "**ПАМЯТЬ:** O(N)"
   ]
  },
  {
   "cell_type": "code",
   "execution_count": 3,
   "metadata": {},
   "outputs": [
    {
     "data": {
      "text/plain": [
       "'a'"
      ]
     },
     "execution_count": 3,
     "metadata": {},
     "output_type": "execute_result"
    }
   ],
   "source": [
    "# ВРЕМЯ: O(N^2) - перебор\n",
    "# ПАМЯТЬ: O(N)\n",
    "\n",
    "ans=''\n",
    "anscnt=0\n",
    "for i in range(len(s)):\n",
    "    nowcnt=0\n",
    "    for j in range(len(s)):\n",
    "        if s[i] == s[j]:\n",
    "            nowcnt += 1\n",
    "    if nowcnt > anscnt:\n",
    "        ans = s[i]\n",
    "        anscnt = nowcnt\n",
    "result = ans\n",
    "\n",
    "result"
   ]
  },
  {
   "cell_type": "markdown",
   "metadata": {},
   "source": [
    "### Вариант 2: Решаем перебором 1 раз по множеству симполов k и 1 раз по последовательности\n",
    "\n",
    "**ВРЕМЯ:** O(N*k)\n",
    "\n",
    "**ПАМЯТЬ:** O(N+k) => O(N)"
   ]
  },
  {
   "cell_type": "code",
   "execution_count": 4,
   "metadata": {},
   "outputs": [
    {
     "data": {
      "text/plain": [
       "'a'"
      ]
     },
     "execution_count": 4,
     "metadata": {},
     "output_type": "execute_result"
    }
   ],
   "source": [
    "# ВРЕМЯ: O(N*k) - множество\n",
    "# ПАМЯТЬ: O(N+k)=O(N)\n",
    "\n",
    "# N - все буквы\n",
    "# k - различные символы\n",
    "\n",
    "ans=''\n",
    "anscnt=0\n",
    "for now in set(s):\n",
    "    nowcnt=0\n",
    "    for j in range(len(s)):\n",
    "        if now == s[j]:\n",
    "            nowcnt += 1\n",
    "    if nowcnt > anscnt:\n",
    "        ans = now\n",
    "        anscnt = nowcnt\n",
    "result = ans\n",
    "\n",
    "result"
   ]
  },
  {
   "cell_type": "markdown",
   "metadata": {},
   "source": [
    "### Вариант 2: Решаем с использованием словаря\n",
    "\n",
    "**ВРЕМЯ:** O(N+k) => O(N)\n",
    "\n",
    "**ПАМЯТЬ:** O(k) => O(k)"
   ]
  },
  {
   "cell_type": "code",
   "execution_count": 5,
   "metadata": {},
   "outputs": [
    {
     "data": {
      "text/plain": [
       "'a'"
      ]
     },
     "execution_count": 5,
     "metadata": {},
     "output_type": "execute_result"
    }
   ],
   "source": [
    "# ВРЕМЯ: O(N+k) - словарь => O(N)\n",
    "# ПАМЯТЬ: O(k) - словарь => O(k)\n",
    "# N - все буквы\n",
    "# k - различные символы\n",
    "\n",
    "ans=''\n",
    "anscnt=0\n",
    "dct = {}\n",
    "# по строке N\n",
    "for now in s:\n",
    "    if now not in dct:\n",
    "        dct[now] = 0\n",
    "    dct[now] += 1\n",
    "# print(dct)\n",
    "    \n",
    "# по ключам k\n",
    "for key in dct:\n",
    "    if dct[key] > anscnt:\n",
    "        anscnt = dct[key]\n",
    "        ans = key\n",
    "\n",
    "result = ans\n",
    "\n",
    "result"
   ]
  },
  {
   "cell_type": "code",
   "execution_count": 6,
   "metadata": {},
   "outputs": [
    {
     "data": {
      "text/plain": [
       "'a'"
      ]
     },
     "execution_count": 6,
     "metadata": {},
     "output_type": "execute_result"
    }
   ],
   "source": [
    "# ВРЕМЯ: O(N+k) - словарь => O(N)\n",
    "# ПАМЯТЬ: O(k) - словарь => O(k)\n",
    "# N - все буквы\n",
    "# k - различные символы\n",
    "\n",
    "ans='' # без - runtime error\n",
    "anscnt=0\n",
    "dct = {}\n",
    "\n",
    "# по строке N\n",
    "for now in s:\n",
    "    if now not in dct:\n",
    "        dct[now] = 0\n",
    "    dct[now] += 1\n",
    "# print(dct)\n",
    "    \n",
    "# по ключам k\n",
    "for key in dct:\n",
    "    if dct[key] > anscnt:\n",
    "        anscnt = dct[key]\n",
    "        ans = key\n",
    "\n",
    "result = ans\n",
    "\n",
    "result"
   ]
  },
  {
   "cell_type": "markdown",
   "metadata": {},
   "source": [
    "# Задача 2\n",
    "\n",
    "**Дано:** последовательность чисел\n",
    "\n",
    "**Задача:** Найти сумму последовательности. Найти максимум последовательности."
   ]
  },
  {
   "cell_type": "code",
   "execution_count": 7,
   "metadata": {},
   "outputs": [],
   "source": [
    "# чтение последовательности\n",
    "# seq = list(map(int, input().split()))\n",
    "\n",
    "str = \"1 343 23 1 453 23 523 0\"\n",
    "seq = list(map(int, str.split()))"
   ]
  },
  {
   "cell_type": "code",
   "execution_count": 8,
   "metadata": {},
   "outputs": [
    {
     "name": "stdout",
     "output_type": "stream",
     "text": [
      "Максимум: 523\n",
      "Сумма: 1367\n"
     ]
    }
   ],
   "source": [
    "# максимум последовательности\n",
    "def seq_max(seq):\n",
    "    if len(seq) == 0: \n",
    "        res = '-inf'\n",
    "    else:\n",
    "        # все числа отрицательные, а выведем 0 \n",
    "        # поэтому делаем проверку\n",
    "        seqmax = seq[0]\n",
    "        for i in range(1,len(seq)):\n",
    "            if seq[i] > seqmax:\n",
    "                seqmax = seq[i]\n",
    "        res = seqmax\n",
    "    return res\n",
    "\n",
    "# сумма последовательности\n",
    "def seq_sum(seq):\n",
    "    seqsum = 0\n",
    "    for i in range(len(seq)):\n",
    "        seqsum += seq[i]\n",
    "    return seqsum\n",
    "\n",
    "maxxx = seq_max(seq)\n",
    "sum = seq_sum(seq)\n",
    "\n",
    "print(\"Максимум:\",maxxx)\n",
    "print(\"Сумма:\",sum)  "
   ]
  },
  {
   "cell_type": "markdown",
   "metadata": {},
   "source": [
    "# Тестирование"
   ]
  },
  {
   "cell_type": "code",
   "execution_count": 9,
   "metadata": {},
   "outputs": [],
   "source": [
    "# максимум последовательности\n",
    "test_lists=[\n",
    "    \"1 3 2\",    # обычный случай\n",
    "    \"1 2 3\",    # краевые случаи\n",
    "    \"3 2 1\",    # краевые случаи\n",
    "    \"1 1 1\",    # все одинаковые\n",
    "    \"1\",        # одно значение\n",
    "    \"\",         # пустая строка\n",
    "    \"-2 -1 -3\"  # отрицательные элементы\n",
    "]"
   ]
  },
  {
   "cell_type": "markdown",
   "metadata": {},
   "source": [
    "## Задача 3\n",
    "\n",
    "**Дано:** коэффициенты уравнения a, b, c вида a*x**2 + b*x + c\n",
    "\n",
    "**Задача:** Найти корни уравнения. Расположить их в порядке возрастания."
   ]
  },
  {
   "cell_type": "code",
   "execution_count": 10,
   "metadata": {},
   "outputs": [
    {
     "data": {
      "text/plain": [
       "(-4.302775637731995, -0.6972243622680054)"
      ]
     },
     "execution_count": 10,
     "metadata": {},
     "output_type": "execute_result"
    }
   ],
   "source": [
    "import math\n",
    "a, b, c = 1, 5, 3\n",
    "\n",
    "if a==0:\n",
    "    if b != 0:\n",
    "        res = -c/b\n",
    "    if b==0 and c==0:\n",
    "        res=\"inf sol\"\n",
    "else:\n",
    "    d = b**2-4*a*c\n",
    "    # print(d)\n",
    "    if d==0:\n",
    "        res = -b/(2*a)\n",
    "    elif d>0:\n",
    "        x1 = (-b - math.sqrt(d))/(2*a)\n",
    "        x2 = (-b + math.sqrt(d))/(2*a)\n",
    "        if x1 < x2:\n",
    "            res = (x1,x2)\n",
    "        else:\n",
    "            res = (x2,x1)\n",
    "    else:\n",
    "        res = \"нет корней\"\n",
    "\n",
    "res"
   ]
  },
  {
   "cell_type": "markdown",
   "metadata": {},
   "source": [
    "# ЗАДАЧИ С 5.0"
   ]
  },
  {
   "cell_type": "markdown",
   "metadata": {},
   "source": [
    "## A. Покраска деревьев\n",
    "\n",
    "Вася и Маша участвуют в субботнике и красят стволы деревьев в белый цвет. Деревья растут вдоль улицы через равные промежутки в 1 метр. Одно из деревьев обозначено числом ноль, деревья по одну сторону занумерованы положительными числами 1,2 и т.д., а в другую — отрицательными -1, -2 и т.д.\n",
    "\n",
    "Ведро с краской для Васи установили возле дерева P, а для Маши — возле дерева Q. Ведра с краской очень тяжелые и Вася с Машей не могут их переставить, поэтому они окунают кисть в ведро и уже с этой кистью идут красить дерево. Краска на кисти из ведра Васи засыхает, когда он удаляется от ведра более чем на V метров, а из ведра Маши — на M метров. \n",
    "\n",
    "Определите, сколько деревьев может быть покрашено."
   ]
  },
  {
   "cell_type": "code",
   "execution_count": 61,
   "metadata": {},
   "outputs": [],
   "source": [
    "# P, V = map(int, input().split())\n",
    "# Q, M = map(int, input().split())\n",
    "\n"
   ]
  },
  {
   "cell_type": "code",
   "execution_count": 70,
   "metadata": {},
   "outputs": [],
   "source": [
    "# функция правильного ответа\n",
    "def answer_arr(P, V, Q, M):\n",
    "\n",
    "    zero1: int = P\n",
    "    delta1: int = V\n",
    "    zero2: int = Q\n",
    "    delta2: int = M\n",
    "\n",
    "    if zero1 > zero2:\n",
    "        zero1, zero2 = zero2, zero1\n",
    "        delta1, delta2 = delta2, delta1\n",
    "    \n",
    "    min1 = zero1 - delta1\n",
    "    max1 = zero1 + delta1\n",
    "    \n",
    "    min2 = zero2 - delta2\n",
    "    max2 = zero2 + delta2\n",
    "\n",
    "    if min1>min2:\n",
    "        min1, max1, min2, max2 = min2, max2, min1, max1\n",
    "        delta1, delta2 = delta2, delta1\n",
    "\n",
    "    # print(\"1: [\",min1,\",\", max1,\"], \\n2: [\",min2,\",\", max2,\"]\")\n",
    "\n",
    "    def res(min1, max1, min2, max2):\n",
    "        \n",
    "        if min1>min2:\n",
    "            print(\"ERROR\")\n",
    "            return 0\n",
    "    \n",
    "        # одинаковое начало\n",
    "        if min1==min2:\n",
    "            return max(delta1,delta2)*2+1\n",
    "        \n",
    "        # интервал в интервале\n",
    "        if max1>max2:\n",
    "            return delta1*2+1\n",
    "\n",
    "        # интервалы соприкасаются\n",
    "        if max1==min2:\n",
    "            return (delta1 + delta2 + 1) * 2 - 1\n",
    "        \n",
    "        #интервалы перекрываются\n",
    "        if  max1>min2:\n",
    "\n",
    "            if min2<0: \n",
    "                if max1>=0:\n",
    "                    return (delta1 + delta2 + 1) * 2 - (abs(max1) + abs(min2) + 1) \n",
    "                else:\n",
    "                    return (delta1 + delta2 + 1) * 2 - (abs(min2) - abs(max1) + 1)\n",
    "            else: \n",
    "                return (delta1 + delta2 + 1) * 2 - (max1 - min2) - 1\n",
    "        \n",
    "\n",
    "        return (delta1 + delta2 + 1) * 2\n",
    "\n",
    "    result = res(min1, max1, min2, max2)\n",
    "    \n",
    "    return result\n",
    "\n",
    "def answer_set(P, V, Q, M):\n",
    "\n",
    "    x1m = Q - M\n",
    "    x2m = Q + M + 1\n",
    "    x1v = P - V\n",
    "    x2v = P + V + 1\n",
    "\n",
    "    masha = set(range(x1m, x2m))\n",
    "    vasua = set(range(x1v, x2v))\n",
    "\n",
    "    return len(masha | vasua)"
   ]
  },
  {
   "cell_type": "code",
   "execution_count": 71,
   "metadata": {},
   "outputs": [],
   "source": [
    "# P, V, Q, M = -1, 3, -3, -5\n",
    "\n",
    "for P in range(-3,5):\n",
    "    for Q in range(-3,5):\n",
    "        for V in range(0,3):\n",
    "            for M in range(0,3):\n",
    "                answer = answer_set(P, V, Q, M)\n",
    "                test_answer = answer_arr(P, V, Q, M)\n",
    "\n",
    "                if answer!=test_answer:\n",
    "                    print(\"ERROR:\",P, V, Q, M)\n",
    "                    x1m = Q - M\n",
    "                    x2m = Q + M + 1\n",
    "                    x1v = P - V\n",
    "                    x2v = P + V + 1\n",
    "                    print(f\"x1: [{x1v},{x2v}]\")\n",
    "                    print(f\"x2: [{x1m},{x2m}]\")"
   ]
  }
 ],
 "metadata": {
  "kernelspec": {
   "display_name": "Python 3",
   "language": "python",
   "name": "python3"
  },
  "language_info": {
   "codemirror_mode": {
    "name": "ipython",
    "version": 3
   },
   "file_extension": ".py",
   "mimetype": "text/x-python",
   "name": "python",
   "nbconvert_exporter": "python",
   "pygments_lexer": "ipython3",
   "version": "3.12.1"
  }
 },
 "nbformat": 4,
 "nbformat_minor": 2
}
