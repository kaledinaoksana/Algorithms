{
 "cells": [
  {
   "cell_type": "markdown",
   "metadata": {},
   "source": [
    "# Л4. Словари и сортировка подсчетом."
   ]
  },
  {
   "cell_type": "markdown",
   "metadata": {},
   "source": [
    "## Задача 1 - сортировка подсчетом\n",
    "\n",
    "**Дано:** \n",
    "\n",
    "**Задача:** "
   ]
  },
  {
   "cell_type": "code",
   "execution_count": 3,
   "metadata": {},
   "outputs": [
    {
     "data": {
      "text/plain": [
       "[1, 1, 2, 2, 3, 3, 3, 4, 4, 5, 5]"
      ]
     },
     "execution_count": 3,
     "metadata": {},
     "output_type": "execute_result"
    }
   ],
   "source": [
    "def count_sort(seq):\n",
    "    minval = min(seq)\n",
    "    maxval = max(seq)\n",
    "    k = (maxval - minval + 1)\n",
    "    count = [0]*k\n",
    "    for now in seq:\n",
    "        count[now - minval] += 1\n",
    "    nowpos = 0\n",
    "    for val in range(0,k):\n",
    "        for i in range(count[val]):\n",
    "            seq[nowpos] = val + minval\n",
    "            nowpos += 1\n",
    "\n",
    "seq = [1,4,2,5,3,5,2,3,3,4,1]\n",
    "count_sort(seq)\n",
    "seq"
   ]
  },
  {
   "cell_type": "code",
   "execution_count": null,
   "metadata": {},
   "outputs": [],
   "source": []
  },
  {
   "cell_type": "markdown",
   "metadata": {},
   "source": [
    "## Задача 2\n",
    "\n",
    "**Дано:** Дано 2 числа X Y без ведущих нулей\n",
    "\n",
    "**Задача:** Проверить, пожно ли получить первое из второго перестановкой цифр."
   ]
  },
  {
   "cell_type": "code",
   "execution_count": 5,
   "metadata": {},
   "outputs": [
    {
     "name": "stdout",
     "output_type": "stream",
     "text": [
      "[1, 1, 3, 0, 0, 0, 0, 0, 0, 0]\n",
      "[1, 1, 3, 0, 0, 0, 0, 0, 0, 0]\n"
     ]
    },
    {
     "data": {
      "text/plain": [
       "True"
      ]
     },
     "execution_count": 5,
     "metadata": {},
     "output_type": "execute_result"
    }
   ],
   "source": [
    "def is_digit_permutation(x,y):\n",
    "\n",
    "    def count_digits(num):\n",
    "        digitcount = [0]*10\n",
    "        while num > 0:\n",
    "            lastdigit = num % 10\n",
    "            digitcount[lastdigit] += 1\n",
    "            num //= 10\n",
    "        print(digitcount)\n",
    "        return digitcount\n",
    "    \n",
    "    digits_x = count_digits(x)\n",
    "    digits_y = count_digits(y)\n",
    "\n",
    "    for digit in range(10):\n",
    "        if digits_x[digit] != digits_y[digit]:\n",
    "            return False\n",
    "        return True\n",
    "\n",
    "is_digit_permutation(20221,20122)"
   ]
  },
  {
   "cell_type": "code",
   "execution_count": null,
   "metadata": {},
   "outputs": [],
   "source": []
  },
  {
   "cell_type": "code",
   "execution_count": null,
   "metadata": {},
   "outputs": [],
   "source": []
  },
  {
   "cell_type": "markdown",
   "metadata": {},
   "source": [
    "## Задача 3\n",
    "\n",
    "**Дано:** на шахматной доске N*N находятся M ладей (ладья бьет клетки на той же горизонтали или вертикали до ближайшей занятой)\n",
    "\n",
    "**Задача:** определите, сколько пар ладей бьют друг друга. Ладьи задаются парой чисел I и J, обозначающих координаты клетки. 1 <= N <= 10^^9, 0 <= M <= 2*10^^5"
   ]
  },
  {
   "cell_type": "code",
   "execution_count": 6,
   "metadata": {},
   "outputs": [],
   "source": [
    "# Для каждой занятой горизонтали и вертикали будем хранить количество ладей на них. \n",
    "# Количество пар в горизонтали (вертикали) равно количество ладей минус 1. \n",
    "# Суммируем это количество пар для всех горизонталей и вертикалейн.\n",
    "\n",
    "# O(M) - сложность\n",
    "def count_beating_rooks(rookcoords):\n",
    "\n",
    "    def addrook(rowcol, key):\n",
    "        if key not in rowcol:\n",
    "            rowcol[key] = 0\n",
    "        rowcol[key] += 1\n",
    "    \n",
    "    def countpairs(row_or_col):\n",
    "        pairs = 0\n",
    "        for key in row_or_col:\n",
    "            pairs += row_or_col[key] - 1\n",
    "        return pairs\n",
    "    \n",
    "    rooksinrow = {}\n",
    "    rooksincol = {}\n",
    "\n",
    "    for row, col in rookcoords:\n",
    "        addrook(rooksincol, row)\n",
    "        addrook(rooksincol, col)\n",
    "\n",
    "    return countpairs(rooksinrow) + countpairs(rooksincol)\n",
    "\n"
   ]
  },
  {
   "cell_type": "markdown",
   "metadata": {},
   "source": [
    "## Задача 4\n",
    "\n",
    "**Дано:**  строка S\n",
    "\n",
    "**Задача:** Выведите гистрограмму как в прмере (коды символов отсортированы)"
   ]
  },
  {
   "cell_type": "code",
   "execution_count": 10,
   "metadata": {},
   "outputs": [
    {
     "name": "stdout",
     "output_type": "stream",
     "text": [
      "      #   \n",
      "      ##  \n",
      "##########\n",
      " !,Hdelorw\n"
     ]
    }
   ],
   "source": [
    "s = \"Hello, world!\"\n",
    "\n",
    "#          #\n",
    "#          ##\n",
    "#    ##########\n",
    "#     !,Hdelorw\n",
    "\n",
    "# Заводим словарь. Для каждого символа в словаре посчитаем, сколько раз он встречался. \n",
    "# Найдем самый частый символ и переберем количество от этого числа до 1\n",
    "# Пройдем по всем отсортированным ключам и если количество больше счетчика выведем #\n",
    "\n",
    "# размер вывода O(N^^2)\n",
    "def print_chart(s):\n",
    "    symcount = {}\n",
    "    maxsymcount = 0\n",
    "    for sym in s:\n",
    "        if sym not in symcount:\n",
    "            symcount[sym] = 0\n",
    "        symcount[sym] += 1\n",
    "        maxsymcount = max(maxsymcount, symcount[sym])\n",
    "    \n",
    "    #отсортированные уникальные символы - symcount.keys()\n",
    "    sorteduniqsyms = sorted(symcount.keys())\n",
    "\n",
    "    for row in range(maxsymcount, 0, -1):\n",
    "        for sym in sorteduniqsyms:\n",
    "            if symcount[sym] >= row:\n",
    "                print('#', end='')\n",
    "            else:\n",
    "                print(' ',end='')\n",
    "        print()\n",
    "    print(''.join(sorteduniqsyms))\n",
    "\n",
    "\n",
    "print_chart(s)\n",
    "\n"
   ]
  },
  {
   "cell_type": "markdown",
   "metadata": {},
   "source": [
    "## Задача 5\n",
    "\n",
    "**Дано:**  [\"eat\", \"tea\", \"tan\", \"ate\", \"nat\", \"bat\"]\n",
    "\n",
    "**Задача:** сгруппировать слова по общим группам "
   ]
  },
  {
   "cell_type": "code",
   "execution_count": 11,
   "metadata": {},
   "outputs": [],
   "source": [
    "input = [\"eat\", \"tea\", \"tan\", \"ate\", \"nat\", \"bat\"]\n",
    "output = [[\"eat\", \"tea\",\"ate\"],[\"tan\",  \"nat\"],[\"bat\"]]"
   ]
  },
  {
   "cell_type": "code",
   "execution_count": 12,
   "metadata": {},
   "outputs": [
    {
     "data": {
      "text/plain": [
       "[['eat', 'tea', 'ate'], ['tan', 'nat'], ['bat']]"
      ]
     },
     "execution_count": 12,
     "metadata": {},
     "output_type": "execute_result"
    }
   ],
   "source": [
    "# отсортируем в каждом слове буквы и это будет выступать в роли ключа, а значением будет список слов\n",
    "\n",
    "def groupwords(words):\n",
    "    groups = {}\n",
    "    for word in words:\n",
    "        sortedword = ''.join(sorted(word))\n",
    "        if sortedword not in groups:\n",
    "            groups[sortedword] = []\n",
    "        groups[sortedword].append(word)\n",
    "\n",
    "    ans = []\n",
    "    for sortedword in groups:\n",
    "        ans.append(groups[sortedword])\n",
    "    return ans\n",
    "\n",
    "\n",
    "groupwords(input)"
   ]
  },
  {
   "cell_type": "markdown",
   "metadata": {},
   "source": [
    "## Задача 4\n",
    "\n",
    "**Дано:**  строка S\n",
    "\n",
    "**Задача:**"
   ]
  },
  {
   "cell_type": "markdown",
   "metadata": {},
   "source": [
    "## Задача 4\n",
    "\n",
    "**Дано:**  строка S\n",
    "\n",
    "**Задача:**"
   ]
  }
 ],
 "metadata": {
  "kernelspec": {
   "display_name": "Python 3",
   "language": "python",
   "name": "python3"
  },
  "language_info": {
   "codemirror_mode": {
    "name": "ipython",
    "version": 3
   },
   "file_extension": ".py",
   "mimetype": "text/x-python",
   "name": "python",
   "nbconvert_exporter": "python",
   "pygments_lexer": "ipython3",
   "version": "3.11.4"
  }
 },
 "nbformat": 4,
 "nbformat_minor": 2
}
