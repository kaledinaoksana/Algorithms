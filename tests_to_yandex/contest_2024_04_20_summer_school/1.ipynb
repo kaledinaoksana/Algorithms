{
 "cells": [
  {
   "cell_type": "code",
   "execution_count": 1,
   "metadata": {},
   "outputs": [],
   "source": [
    "import sys\n",
    "\n",
    "sys.path.append(\"/Users/kaledinaoa/Desktop/Algorithms/lections/\")\n",
    "\n",
    "import processor as proc\n",
    "\n",
    "course = \"contest\"\n",
    "module = \"ss_20240420\"  # summer school\n",
    "\n",
    "tasks = {\"A\": \"1\", \"B\": \"2\", \"C\": \"3\", \"D\": \"4\", \"E\": \"5\", \"F\": \"6\"}\n",
    "\n",
    "for task, taskname in tasks.items():\n",
    "    tests = 5\n",
    "    problem = f\"{task}_{taskname}\"\n",
    "    name_func = f\"alg{course}{module}{task}\"\n",
    "    input_file, output = proc.return_input_output(\n",
    "        num_of_test=1, module=str(module), problem=problem, tests=tests\n",
    "    )"
   ]
  }
 ],
 "metadata": {
  "kernelspec": {
   "display_name": "base",
   "language": "python",
   "name": "python3"
  },
  "language_info": {
   "codemirror_mode": {
    "name": "ipython",
    "version": 3
   },
   "file_extension": ".py",
   "mimetype": "text/x-python",
   "name": "python",
   "nbconvert_exporter": "python",
   "pygments_lexer": "ipython3",
   "version": "3.11.4"
  }
 },
 "nbformat": 4,
 "nbformat_minor": 2
}
