{
 "cells": [
  {
   "cell_type": "markdown",
   "metadata": {},
   "source": [
    "# ЗАДАЧА НА JSON"
   ]
  },
  {
   "cell_type": "code",
   "execution_count": 4,
   "metadata": {},
   "outputs": [],
   "source": [
    "# alg_ss_200424_A\n",
    "import json\n",
    "\n",
    "\n",
    "def has_two_vowels(phrase: str) -> bool:  # noqa: D103\n",
    "    vowels = {\"a\", \"e\", \"i\", \"o\", \"u\", \"y\"}\n",
    "    count = sum(1 for char in set(phrase.lower()) if char in vowels)\n",
    "    return count >= 2\n",
    "\n",
    "\n",
    "def is_even_length(phrase: str) -> bool:  # noqa: D103\n",
    "    return len(phrase) % 2 == 0\n",
    "\n",
    "\n",
    "task = \"A\"\n",
    "taskname = \"1\"\n",
    "output_file = \"output.json\"\n",
    "filename = \"stdin1\"\n",
    "\n",
    "with open(filename) as file:\n",
    "    filename_json = file.readline().strip()\n",
    "\n",
    "if filename_json:\n",
    "    try:\n",
    "        with open(filename_json) as file:\n",
    "            parsed_json = json.load(file)\n",
    "\n",
    "        result_json = {}\n",
    "\n",
    "        with open(filename) as file:\n",
    "            next(file)  # пропускаем первую строку\n",
    "            for line_number, transformation_type in parsed_json.items():\n",
    "                phrases = next(file).strip().split(\"_\")\n",
    "\n",
    "                if transformation_type == \"10\":\n",
    "                    result_json[line_number] = sorted(\n",
    "                        [\n",
    "                            phrase.strip()\n",
    "                            for phrase in phrases\n",
    "                            if has_two_vowels(phrase)\n",
    "                        ],\n",
    "                        reverse=True,\n",
    "                    )\n",
    "                elif transformation_type == \"20\":\n",
    "                    result_json[line_number] = sorted(\n",
    "                        [\n",
    "                            phrase.strip()\n",
    "                            for phrase in phrases\n",
    "                            if is_even_length(phrase)\n",
    "                        ],\n",
    "                        reverse=True,\n",
    "                    )\n",
    "                else:\n",
    "                    result_json[line_number] = sorted(\n",
    "                        [phrase.strip() for phrase in phrases], reverse=True\n",
    "                    )\n",
    "\n",
    "        with open(output_file, \"w\") as json_file:\n",
    "            json.dump(result_json, json_file, indent=4)\n",
    "    except FileNotFoundError:\n",
    "        print(\"File not found:\", filename_json)\n",
    "else:\n",
    "    print(\"Empty filename or file not specified.\")"
   ]
  }
 ],
 "metadata": {
  "kernelspec": {
   "display_name": "base",
   "language": "python",
   "name": "python3"
  },
  "language_info": {
   "codemirror_mode": {
    "name": "ipython",
    "version": 3
   },
   "file_extension": ".py",
   "mimetype": "text/x-python",
   "name": "python",
   "nbconvert_exporter": "python",
   "pygments_lexer": "ipython3",
   "version": "3.11.4"
  }
 },
 "nbformat": 4,
 "nbformat_minor": 2
}
