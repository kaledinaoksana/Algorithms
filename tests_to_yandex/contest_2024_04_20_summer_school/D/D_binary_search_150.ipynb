{
 "cells": [
  {
   "cell_type": "markdown",
   "metadata": {},
   "source": [
    "# ЗАДАЧА НА БИНАРНЫЙ ПОИСК"
   ]
  },
  {
   "cell_type": "code",
   "execution_count": 2,
   "metadata": {},
   "outputs": [
    {
     "name": "stdout",
     "output_type": "stream",
     "text": [
      "1\n"
     ]
    }
   ],
   "source": [
    "def can_be_processed(arr, m, days):\n",
    "    total_days = 0\n",
    "    for a in arr:\n",
    "        total_days += (a + m - 1) // m\n",
    "    return total_days <= days\n",
    "\n",
    "\n",
    "def alg_ss_200424_D(input_file: str) -> None:\n",
    "    file = open(input_file)\n",
    "    days = int(file.readline().strip())\n",
    "    arr = list(map(int, file.readline().split()))\n",
    "\n",
    "    left, right = 1, max(arr)\n",
    "\n",
    "    while left < right:\n",
    "        mid = (left + right) // 2\n",
    "        if can_be_processed(arr, mid, days):\n",
    "            right = mid\n",
    "        else:\n",
    "            left = mid + 1\n",
    "\n",
    "    print(left)\n",
    "\n",
    "\n",
    "alg_ss_200424_D(\"input.txt\")"
   ]
  }
 ],
 "metadata": {
  "kernelspec": {
   "display_name": "base",
   "language": "python",
   "name": "python3"
  },
  "language_info": {
   "codemirror_mode": {
    "name": "ipython",
    "version": 3
   },
   "file_extension": ".py",
   "mimetype": "text/x-python",
   "name": "python",
   "nbconvert_exporter": "python",
   "pygments_lexer": "ipython3",
   "version": "3.11.4"
  }
 },
 "nbformat": 4,
 "nbformat_minor": 2
}
