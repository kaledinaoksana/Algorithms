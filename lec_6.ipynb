{
 "cells": [
  {
   "cell_type": "markdown",
   "metadata": {},
   "source": [
    "# Лекция 6: Бинарный поиск."
   ]
  },
  {
   "cell_type": "code",
   "execution_count": 1,
   "metadata": {},
   "outputs": [],
   "source": [
    "def lbinsearch(l,r,check, checkparams):\n",
    "    while l<r:\n",
    "        m = (l+r) // 2\n",
    "        if check(m, checkparams):\n",
    "            r=m\n",
    "        else:\n",
    "            l = m + 1\n",
    "    return l\n",
    "\n",
    "def rbinsearch(l,r,check, checkparams):\n",
    "    while l<r:\n",
    "        m = (l+r+1) // 2\n",
    "        if check(m, checkparams):\n",
    "            l=m\n",
    "        else:\n",
    "            r = m - 1\n",
    "    return l"
   ]
  },
  {
   "cell_type": "markdown",
   "metadata": {},
   "source": [
    "## Задача 1\n",
    "\n",
    "**Дано:** В настоящий момент в совет входит N человек, из низ К родителей\n",
    "\n",
    "В управляющий соверт школы входят родители, учителя и учащиеся школы, причем родителей должно быть не менее одной трети от общего числа членов совета. \n",
    "\n",
    "**Задача:** Определите, сколько родителей нужно дополнительно ввести в совет, чтобы их число стало составлять не менее трети от числа членов совета."
   ]
  },
  {
   "cell_type": "code",
   "execution_count": null,
   "metadata": {},
   "outputs": [],
   "source": [
    "# Будем искать минимальное количество родителей, которых нужно добавить, бинарным поиском. \n",
    "# Не забываем, что новые родители добавляются к общему числу членов совета. \n",
    "# Не используем деление. \n",
    "# L=0, R=N"
   ]
  },
  {
   "cell_type": "code",
   "execution_count": 3,
   "metadata": {},
   "outputs": [
    {
     "data": {
      "text/plain": [
       "35"
      ]
     },
     "execution_count": 3,
     "metadata": {},
     "output_type": "execute_result"
    }
   ],
   "source": [
    "def lbinsearch(l,r, check, checkparams):\n",
    "    while l<r:\n",
    "        m = (l+r) // 2\n",
    "        if check(m, checkparams):\n",
    "            r=m\n",
    "        else:\n",
    "            l = m + 1\n",
    "    return l\n",
    "\n",
    "\n",
    "def checkendownment(m, params):\n",
    "    n, k = params\n",
    "    return (k+m)*3 >= n+m\n",
    "\n",
    "N=100\n",
    "K=10\n",
    "lbinsearch(0, N, checkendownment, [N, K])\n"
   ]
  },
  {
   "cell_type": "markdown",
   "metadata": {},
   "source": [
    "## Задача 2\n",
    "\n",
    "**Дано:**  N задач на leetcode. В первый день Юра решил К задач, в а каждый следующий день Юра решал на одну задачу больше, чем в предыдущий.\n",
    "\n",
    "**Задача:** определите, сколько дней уйдет у Юры на подготовку к собесодованию"
   ]
  },
  {
   "cell_type": "code",
   "execution_count": 9,
   "metadata": {},
   "outputs": [
    {
     "data": {
      "text/plain": [
       "11"
      ]
     },
     "execution_count": 9,
     "metadata": {},
     "output_type": "execute_result"
    }
   ],
   "source": [
    "# Будем искать мин кол во дней, достаточное для решения Н задач, бинарным поиском. \n",
    "# Понадобится формула арифметической прогрессии.\n",
    "\n",
    "def checkendownment(days, params):\n",
    "    n, k = params\n",
    "    return (k + (k+days-1)) * days // 2 >= n\n",
    "\n",
    "N=100\n",
    "K=5\n",
    "\n",
    "lbinsearch(0, N, checkendownment, [N, K])\n"
   ]
  },
  {
   "cell_type": "markdown",
   "metadata": {},
   "source": [
    "## Задача 3\n",
    "\n",
    "**Дано:**  Михаил читает лекции по алгоритмам. За кадром стоит доска размером W*H сантиметров. Михаилу нужно разместить на доске N квадратных стикеров со шпаргалками, при этом длина стороны стикера в сантиметрах должна быть целым числом\n",
    "\n",
    "**Задача:** определите максимальную длину стороны стикера, чтобы все стикеры поместились на доске"
   ]
  },
  {
   "cell_type": "code",
   "execution_count": 18,
   "metadata": {},
   "outputs": [
    {
     "data": {
      "text/plain": [
       "5"
      ]
     },
     "execution_count": 18,
     "metadata": {},
     "output_type": "execute_result"
    }
   ],
   "source": [
    "def rbinsearch(l,r,check, checkparams):\n",
    "    while l != r:\n",
    "        m = (l+r+1) // 2\n",
    "        if check(m, checkparams):\n",
    "            l=m\n",
    "        else:\n",
    "            r = m - 1\n",
    "    return l\n",
    "\n",
    "def checkstickers(size, params):\n",
    "    n, w, h = params\n",
    "    return (w // size) * (h // size) >= n\n",
    "\n",
    "\n",
    "W = 100\n",
    "H = 20\n",
    "N = 76\n",
    "rbinsearch(0,N,checkstickers, [N, W, H])\n"
   ]
  },
  {
   "cell_type": "code",
   "execution_count": null,
   "metadata": {},
   "outputs": [],
   "source": [
    "def rbinsearch(l,r,check, checkparams):\n",
    "    while l != r:\n",
    "        m = (l+r+1) // 2\n",
    "        if check(m, checkparams):\n",
    "            l=m\n",
    "        else:\n",
    "            r = m - 1\n",
    "    return l\n",
    "\n",
    "def checkstickers(size, params):\n",
    "    n, w, h = params\n",
    "    return (w // size) * (h // size) >= n\n",
    "\n",
    "\n",
    "W = 100\n",
    "H = 20\n",
    "N = 76\n",
    "rbinsearch(0,N,checkstickers, [N, W, H])"
   ]
  },
  {
   "cell_type": "markdown",
   "metadata": {},
   "source": [
    "## Задача 4\n",
    "\n",
    "**Дано:** задана отсортированная по неубыванию последовательность из N чисел и число X\n",
    "\n",
    "**Задача:** Необходимо определить инлекс первого числа в последовательности, которое больше либо равно X. Если такого числа нет, то вернуть число N."
   ]
  },
  {
   "cell_type": "code",
   "execution_count": 24,
   "metadata": {},
   "outputs": [
    {
     "data": {
      "text/plain": [
       "7"
      ]
     },
     "execution_count": 24,
     "metadata": {},
     "output_type": "execute_result"
    }
   ],
   "source": [
    "# левый бин поиск для первого подходящего числа. \n",
    "# если бинпоиск сошелся к числу меньшему X вернем N\n",
    "\n",
    "def checkisge(index, params):\n",
    "    seq, x = params\n",
    "    return seq[index] >= x\n",
    "\n",
    "def findfirstge(seq, x):\n",
    "    ans = lbinsearch(0, len(seq)-1, checkisge, (seq, x))\n",
    "    if seq[ans] < x:\n",
    "        return len(seq)\n",
    "    # return ans # index\n",
    "    return seq[ans]\n",
    "\n",
    "seq = [1,2,7,8,12]\n",
    "x = 7\n",
    "findfirstge(seq, x)"
   ]
  },
  {
   "cell_type": "code",
   "execution_count": null,
   "metadata": {},
   "outputs": [],
   "source": []
  },
  {
   "cell_type": "markdown",
   "metadata": {},
   "source": [
    "## Задача 5\n",
    "\n",
    "**Дано:** задана отсортированная по неубыванию последовательность из N чисел и число X\n",
    "\n",
    "**Задача:** Необходимо определить сколько раз число X входит в последовательность"
   ]
  },
  {
   "cell_type": "code",
   "execution_count": 25,
   "metadata": {},
   "outputs": [],
   "source": [
    "# левым бинпоиском первое число больше или равно X, а вторым левым бинпоиском число строго больше X \"2 параллельных бинпоиска!\"\n",
    "# Разность индексов и будет количеством вхождений\n",
    "\n",
    "seq = [1,2,7,7,8,12]\n",
    "x = 7\n"
   ]
  },
  {
   "cell_type": "code",
   "execution_count": 26,
   "metadata": {},
   "outputs": [],
   "source": [
    "def checkisgt(index, params):\n",
    "    seq, x = params\n",
    "    return seq[index] > x\n",
    "\n",
    "def checkisge(index, params):\n",
    "    seq, x = params\n",
    "    return seq[index] >= x\n",
    "\n",
    "def findfirst(seq, x, check):\n",
    "    ans = lbinsearch(0, len(seq) - 1, check, (seq, x))\n",
    "    if not check(ans, (seq, x)):\n",
    "        return len(seq)\n",
    "    return ans\n",
    "\n",
    "def countx(seq, x):\n",
    "    indexgt = findfirst(seq, x, checkisgt)\n",
    "    indexge = findfirst(seq, x, checkisge)\n",
    "    return indexgt - indexge"
   ]
  },
  {
   "cell_type": "code",
   "execution_count": 27,
   "metadata": {},
   "outputs": [
    {
     "data": {
      "text/plain": [
       "2"
      ]
     },
     "execution_count": 27,
     "metadata": {},
     "output_type": "execute_result"
    }
   ],
   "source": [
    "countx(seq, x)"
   ]
  },
  {
   "cell_type": "markdown",
   "metadata": {},
   "source": [
    "## Задача 6 - ипотека\n",
    "\n",
    "**Дано:** задана процентная ставка по кредиту (X% годовых), срок кредитования (N месяцев) и сумма кредина (M рублей)\n",
    "\n",
    "**Задача:** рассчитать размер аннуитетного ежемесячного платежа"
   ]
  },
  {
   "cell_type": "code",
   "execution_count": 44,
   "metadata": {},
   "outputs": [
    {
     "data": {
      "text/plain": [
       "0.9488525390625"
      ]
     },
     "execution_count": 44,
     "metadata": {},
     "output_type": "execute_result"
    }
   ],
   "source": [
    "# ежемесячный процент не равен x/12! Подберем его бинпоиском\n",
    "# бинпоиск на вещественных числах\n",
    "\n",
    "percent = 14\n",
    "N = 12              # число месяцнв\n",
    "M = 3600000         # сколько берем\n",
    "\n",
    "\n",
    "def checkmonthlyperc(mperc, yperc):\n",
    "    msum = 1 + mperc / 100\n",
    "    ysym = 1 + yperc / 100\n",
    "    return msum**12 >= ysym\n",
    "\n",
    "def fbinsearch(l, r, eps, check, checkparams):\n",
    "    while l+eps < r:\n",
    "        m = (l+r)/2\n",
    "        if check(m, checkparams):\n",
    "            r=m\n",
    "        else:\n",
    "            l=m\n",
    "    return l\n",
    "\n",
    "year_percent = 12\n",
    "months = 12\n",
    "eps = 0.0001 # точность\n",
    "mprec = fbinsearch(0, months, eps, checkmonthlyperc, year_percent)\n",
    "mprec # вычислили ежемесячный процент!\n"
   ]
  },
  {
   "cell_type": "code",
   "execution_count": 54,
   "metadata": {},
   "outputs": [
    {
     "name": "stdout",
     "output_type": "stream",
     "text": [
      "percent by month: 0.943359375\n",
      "monthly pay: 9999999.990686774\n"
     ]
    }
   ],
   "source": [
    "# Будем перебирать сумму платежа бинпоиском, \n",
    "# а в качестве проверки моделировать процесс ежемесячной выплаты, \n",
    "# уменьшая тело кредита на разницу между суммой платежа и ежемесячным процентом.\n",
    "\n",
    "def checkcredit(mpay, params):\n",
    "    periods, creditsum, mprec = params\n",
    "    for i in range(periods):\n",
    "        percpay = creditsum * (mprec / 100)\n",
    "        creditsum -+ mpay - percpay\n",
    "    return creditsum <= 0\n",
    "\n",
    "def fbinsearch(l,r,eps,check,checkparams):\n",
    "    while l + eps < r:\n",
    "        m = (l+r)/2\n",
    "        if check(m,checkparams):\n",
    "            r=m\n",
    "        else:\n",
    "            l=m\n",
    "    return l\n",
    "\n",
    "years = 4\n",
    "year_percent = 12\n",
    "creditsum = 10000000   # 10 млн\n",
    "\n",
    "eps = 0.01             # точность\n",
    "months = years*12\n",
    "\n",
    "mprec = fbinsearch(0, months, eps, checkmonthlyperc, year_percent)\n",
    "monthlypay = fbinsearch(0, creditsum, eps,  checkcredit, (months, creditsum, mprec))\n",
    "print(\"percent by month:\", mprec)\n",
    "print(\"monthly pay:\", monthlypay)"
   ]
  },
  {
   "cell_type": "markdown",
   "metadata": {},
   "source": [
    "# Тернарный поиск\n",
    "\n"
   ]
  },
  {
   "cell_type": "markdown",
   "metadata": {},
   "source": [
    "## Задача 7 - велосипедисты\n",
    "\n",
    "**Дано:** [v1, v2, v3, ... vn] и [х1, х2, х3, ... хn]\n",
    "\n",
    "Велосипедисты, учавствуюшие в шоссейной гонке, в некоторый момент времени, который называется начальным, оказались в точказ, удаленных от места старта на х1 х2 х3 хт метров (т - общее количество велосипедистов не превосходит 100 000) каждый велосипедист двигается с постоянной скоростью v1 v2 v3 vn метров в секунду\n",
    "\n",
    "все велосипедисты двигаются в одну и ту же сторону. Определить в какой момент времени расстояние между лидирующим в гонке мелосипедистом и замыкающим гонку велосипедистом станет минимальным, чтобы с вертолета сфотографировать сразу всех участников велогонки.\n",
    "\n",
    "**Задача:** найти момент времени, когда расстрояние станет минимальным\n"
   ]
  },
  {
   "cell_type": "code",
   "execution_count": null,
   "metadata": {},
   "outputs": [],
   "source": [
    "# Определим функцию dist(t) которая будет за О(N) определять расстояние между лидером и замыкающим в момент времени t\n",
    "# Если dist(t + eps) > dist(t) то функция растет и надо сдвинуть левую границу поиска а иначе - правую\n",
    "\n",
    "# тернарный поиск по производной\n",
    "def dist(t, params):\n",
    "    x, v = params\n",
    "    minpos = maxpos = x[0] + v[0]*t\n",
    "    for i in range(1, len(x)):\n",
    "        nowpos = x[i] + v[i]*t\n",
    "        minpos = min(minpos, nowpos)\n",
    "        maxpos = max(maxpos, nowpos)\n",
    "    val = maxpos - minpos\n",
    "    return maxpos - minpos\n",
    "\n",
    "def checkasc(t, eps, params):\n",
    "    return dist(t+eps, params) >= dist(t, params)\n",
    "\n",
    "def fbinsearch(l,r,eps, check, params):\n",
    "    while l+eps < r:\n",
    "        m = (l+r)/2\n",
    "        if check(m, eps, params):\n",
    "            r=m\n",
    "        else:\n",
    "            l=m\n",
    "    return l\n",
    "\n",
    "\n",
    "# l = \n",
    "# r = \n",
    "# eps = \n",
    "# check = \n",
    "# params = \n",
    "\n",
    "# fbinsearch(l,r,eps, check, params)\n",
    "\n",
    "\n"
   ]
  },
  {
   "cell_type": "markdown",
   "metadata": {},
   "source": []
  }
 ],
 "metadata": {
  "kernelspec": {
   "display_name": "Python 3",
   "language": "python",
   "name": "python3"
  },
  "language_info": {
   "codemirror_mode": {
    "name": "ipython",
    "version": 3
   },
   "file_extension": ".py",
   "mimetype": "text/x-python",
   "name": "python",
   "nbconvert_exporter": "python",
   "pygments_lexer": "ipython3",
   "version": "3.11.4"
  }
 },
 "nbformat": 4,
 "nbformat_minor": 2
}
