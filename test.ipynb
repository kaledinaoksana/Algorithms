{
 "cells": [
  {
   "cell_type": "code",
   "execution_count": null,
   "metadata": {},
   "outputs": [],
   "source": [
    "def create_and_save_df_of_reccomended_lists(submit_df):\n",
    "\n",
    "    users_for_predictions = submit_df.user_id.unique()\n",
    "    cart_user = submit_df[['user_id', 'cart_id']]\n",
    "\n",
    "    list_of_carts = pd.DataFrame(columns=['user_id','carts'])\n",
    "\n",
    "    for userid in users_for_predictions:\n",
    "        \n",
    "        carts = cart_user[cart_user[\"user_id\"]==userid].cart_id.to_list()\n",
    "\n",
    "        list_of_carts=pd.concat([pd.DataFrame([\n",
    "                {   \n",
    "                    'user_id': userid, \n",
    "                    'carts': carts\n",
    "                }]),\n",
    "                list_of_carts],ignore_index=True)\n",
    "        \n",
    "    lists_rec = list_of_carts.sort_values(by='user_id').reset_index(drop=True)\n",
    "    lists_rec.to_csv('lists_rec.csv', encoding='utf-8')\n",
    "    return lists_rec\n",
    "\n",
    "\n",
    "lists_rec = create_and_save_df_of_reccomended_lists(submit_df)\n",
    "lists_rec\n",
    "# lists_rec = pd.read_csv('lists_rec2.csv', encoding='utf-8')\n",
    "# lists_rec.drop(columns=['Unnamed: 0'], inplace=True)\n",
    "# lists_rec.set_index('user_id', inplace=True)"
   ]
  },
  {
   "cell_type": "code",
   "execution_count": null,
   "metadata": {},
   "outputs": [],
   "source": [
    "# Все юзеры во всем тестовом датасете\n",
    "unique_users_all_ds = raw_data.user_id.unique()\n",
    "unique_users_all_ds.shape[0]\n",
    "\n",
    "# Уникальные группы во всем тестовом датасете\n",
    "unique_carts_all_ds = raw_data.cart.unique()\n",
    "unique_carts_all_ds.shape[0]"
   ]
  },
  {
   "cell_type": "code",
   "execution_count": null,
   "metadata": {},
   "outputs": [],
   "source": [
    "carts_ids = unique_carts_all_ds\n",
    "\n",
    "score_1_level = 0.6\n",
    "score_0_level = 0.1\n",
    "score_err_level = 0.01\n",
    "\n",
    "k = unique_carts_all_ds.shape[0]\n",
    "\n",
    "df_test_results_1 = pd.DataFrame(columns=['user_id','cart_id','score'])\n",
    "\n",
    "def concat_to_df(df, userid, cartid, score):\n",
    "    df=pd.concat([pd.DataFrame([\n",
    "                    {   \n",
    "                        'user_id': userid, \n",
    "                        'cart_id': cartid, \n",
    "                        'score': score\n",
    "                    }]),\n",
    "                    df],ignore_index=True)\n",
    "    return df\n",
    "\n",
    "for userid in users_ids:\n",
    "    # print(userid)\n",
    "\n",
    "    ids, scores = calculate_recommendations_for_user(userid, model, k)\n",
    "    ids = ids.tolist()\n",
    "    recs_for_user = pd.DataFrame({'score': scores}, index=ids)\n",
    "    \n",
    "    print(ids)\n",
    "    # print(recs_for_user)\n",
    "\n",
    "    for cartid in ids:\n",
    "        if cartid != 0:\n",
    "            # print(cartid)\n",
    "            score = recs_for_user.loc[cartid,'score']\n",
    "            # print(score)\n",
    "\n",
    "            df_test_results_1=concat_to_df(df_test_results_1, userid, cartid, score)\n",
    "\n",
    "\n",
    "df_test_results_1.sort_values(by='score', ascending=False).head(15)  "
   ]
  },
  {
   "cell_type": "code",
   "execution_count": null,
   "metadata": {},
   "outputs": [],
   "source": []
  }
 ],
 "metadata": {
  "language_info": {
   "name": "python"
  }
 },
 "nbformat": 4,
 "nbformat_minor": 2
}
