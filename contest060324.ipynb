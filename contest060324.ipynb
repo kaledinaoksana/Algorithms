{
 "cells": [
  {
   "cell_type": "markdown",
   "metadata": {},
   "source": [
    "# Ознакомительный контест ввод-вывод"
   ]
  },
  {
   "cell_type": "markdown",
   "metadata": {},
   "source": [
    "### ввод вывод"
   ]
  },
  {
   "cell_type": "code",
   "execution_count": null,
   "metadata": {},
   "outputs": [],
   "source": [
    "arr = map(int, input().split())\n",
    "print(sum(arr))"
   ]
  },
  {
   "cell_type": "markdown",
   "metadata": {},
   "source": [
    "### чтение и запись в файл"
   ]
  },
  {
   "cell_type": "code",
   "execution_count": null,
   "metadata": {},
   "outputs": [],
   "source": [
    "reader = open('input.txt', 'r')\n",
    "a, b = [int(n) for n in reader.readline().split(\" \")]\n",
    "reader.close()\n",
    "\n",
    "writer = open('output.txt', 'w')\n",
    "writer.write(\"%d\" % (a+b))\n",
    "writer.close()"
   ]
  },
  {
   "cell_type": "markdown",
   "metadata": {},
   "source": [
    "### тест задача: Камни и украшения\n",
    "\n",
    "Даны две строки строчных латинских символов: строка J и строка S. \n",
    "\n",
    "Символы, входящие в строку J, — «драгоценности», входящие в строку S — «камни».\n",
    "\n",
    "Нужно определить, какое количество символов из S одновременно являются «драгоценностями». \n",
    "\n",
    "Проще говоря, нужно проверить, какое количество символов из S входит в J.\n",
    "\n",
    "Это разминочная задача, к которой мы размещаем готовые решения. \n",
    "\n",
    "Она очень простая и нужна для того, чтобы вы могли познакомиться с нашей автоматической системой проверки решений. \n",
    "\n",
    "Ввод и вывод осуществляется через файлы, либо через стандартные потоки ввода-вывода, как вам удобнее."
   ]
  },
  {
   "cell_type": "code",
   "execution_count": null,
   "metadata": {},
   "outputs": [],
   "source": [
    "\n",
    "# j = \"ab\"\n",
    "# s = \"aabbccd\"\n",
    "\n",
    "j = map(str, input())\n",
    "s = map(str, input())\n",
    "\n",
    "ans = 0\n",
    "\n",
    "drag = set(symbol for symbol in j)\n",
    "drag\n",
    "for stone in s:\n",
    "    if stone in drag:\n",
    "        ans += 1\n",
    "\n",
    "print(ans)"
   ]
  },
  {
   "cell_type": "markdown",
   "metadata": {},
   "source": [
    "# ЗАДАЧА 1: Ограниченные рекомендации\n",
    "\n",
    "Методы машинного обучения позволяют подобрать пользователю самые подходящие видео, но если все видео будут на одну и ту же тему, то пользователь от них быстро устанет. Всего в списке рекомендаций находится р видео, из них нужно выбрать и наиболее интересных пользователю, при этом количество видео на каждую тему не должно превосходить к.\n",
    "\n",
    "#### Формат ввода\n",
    "В первой строке записаны три числа: р (1 ≤ р ≤ 100000) - количество рекомендованных видео, n (1 ≤ n ≤ р) - количество видео, которые нужно отобрать и k (1 ≤ k ≤ p) - ограничение на количество видео на одну тему.\n",
    "В следующих р строках записаны темы видео в том порядке, как они рекомендованы.\n",
    "Название темы состоит из английских букв и пробелов. Длина каждой темы не превышает 30 символов.\n",
    "В следующей строке перечислены р целых чисел — id видео в том же порядке, в котором перечислены их темы.\n",
    "\n",
    "#### Формат вывода\n",
    "Выведите темы и id тех видео, которые рекомендованы пользователю. Сначала выведите тему видео, затем пробел, знак # и id видео."
   ]
  },
  {
   "cell_type": "code",
   "execution_count": null,
   "metadata": {},
   "outputs": [],
   "source": [
    "# стандартный ввод\n",
    "\n",
    "p,n,k = map(int, input().split())\n",
    "\n",
    "themes = []\n",
    "for i in range(p):\n",
    "    themes.append(input())\n",
    "\n",
    "ids = list(map(int, input().split()))"
   ]
  },
  {
   "cell_type": "code",
   "execution_count": 20,
   "metadata": {},
   "outputs": [],
   "source": [
    "# тестовые данные 1 - из условия\n",
    "p,n,k = 9, 5, 2\n",
    "themes = [  'Cats','Dogs','Cats','Cats','Stas Mikhailov','Anime','Stas Mikhailov','Dogs','Anime']\n",
    "ids = [1, 1, 2, 3, 2, 1, 1, 2, 2]\n",
    "\n",
    "true_res = \"\"\"Cats #1\\nDogs #1\\nCats #2\\nStas Mikhailov #2\\nAnime #1\\n\"\"\""
   ]
  },
  {
   "cell_type": "code",
   "execution_count": 7,
   "metadata": {},
   "outputs": [],
   "source": [
    "# тестовые данные 2 - ()\n",
    "p,n,k = 4, 5, 2\n",
    "themes = [ 'Cats','Dogs','Cats','Cats']\n",
    "ids = [1, 1, 2, 3]"
   ]
  },
  {
   "cell_type": "code",
   "execution_count": 10,
   "metadata": {},
   "outputs": [
    {
     "name": "stdout",
     "output_type": "stream",
     "text": [
      "Cats #1\n",
      "Dogs #1\n",
      "Cats #2\n",
      "Stas Mikhailov #2\n",
      "Anime #1\n"
     ]
    }
   ],
   "source": [
    "# if (p>0) and (n>0) and (p>=n) and (k>=0) and (k<=p):\n",
    "\n",
    "list = []\n",
    "\n",
    "for i, theme in enumerate(themes):\n",
    "\n",
    "    string = ''\n",
    "\n",
    "    if ids[i] <= k:\n",
    "        string = str(theme) +' #'+str(ids[i])\n",
    "        if len(list)<n:\n",
    "            list.append(string)\n",
    "        else:\n",
    "            pass\n",
    "\n",
    "for item in list:\n",
    "    print(item)"
   ]
  },
  {
   "cell_type": "markdown",
   "metadata": {},
   "source": [
    "# ЗАДАЧА 2: Восхождение на вулкан Тейде\n",
    "\n",
    "Восхождение на вулкан Тейде на острове Тенерифе становится все популярнее. Самый красивый вид - это тень вулкана на водах атлантического океана на рассвете. Но подьем на вулкан от парковки - долгий процесс, поэтому многие туристы предпочитают забронировать место в приюте Альтависта в 500 метрах от вершины, чтобы немного передохнуть. Приют совсем небольшой, одновременно в нем может находиться не более s человек. На ближайший\n",
    "период поступило п заявок, і-ый турист сообщил, что прибудет в приют во время ti. Теперь в\n",
    "приюте необходимо ввести ограничение на время пребывания одного туриста в приюте таким образом, чтобы одновременно в приюте находилось не более s человек. Ограничение на максимальное время пребывания в приюте одинаково для всех туристов.\n",
    "\n",
    "\n",
    "#### Формат ввода\n",
    "В первой строке содержится два целых числа N, S (1 5 n, s ≤ 2*105) - количество заявок от туристов и вместимость приюта соответственно. В следующих п строках содержится по\n",
    "одному целому числу ti (0 ≤ ti ≤ 2 • 109) - время прибытия і-го туриста.\n",
    "\n",
    "#### Формат вывода\n",
    "Выведите одно положительное число - максимальное время, которое каждый турист может провести в приюте. Выведите Impossible, если приют окажется переполнен при любом положительном времени пребывания. В случае, если в установке ограничения времени нет необходимости, выведите INF."
   ]
  },
  {
   "cell_type": "code",
   "execution_count": null,
   "metadata": {},
   "outputs": [],
   "source": [
    "# стандартный ввод\n",
    "n,s = map(int, input().split())\n",
    "\n",
    "times = []\n",
    "for i in range(n):\n",
    "    times.append(input())"
   ]
  },
  {
   "cell_type": "code",
   "execution_count": 18,
   "metadata": {},
   "outputs": [],
   "source": [
    "# тест 1\n",
    "n,s = 8,3\n",
    "times = [3,6,4,5,0,2,7,0]\n",
    "\n",
    "res_test1 = \"3\""
   ]
  },
  {
   "cell_type": "code",
   "execution_count": 14,
   "metadata": {},
   "outputs": [],
   "source": [
    "# тест 2\n",
    "n, s = 3, 2\n",
    "times = [13, 13, 9]\n",
    "\n",
    "res_test2 = \"Impossible\""
   ]
  },
  {
   "cell_type": "code",
   "execution_count": 12,
   "metadata": {},
   "outputs": [],
   "source": [
    "# тест 3\n",
    "n, s = 5, 5\n",
    "times = [98, 123, 42, 1840, 999999997]\n",
    "\n",
    "res_test2 = \"INF\""
   ]
  },
  {
   "cell_type": "code",
   "execution_count": 19,
   "metadata": {},
   "outputs": [
    {
     "name": "stdout",
     "output_type": "stream",
     "text": [
      "3\n"
     ]
    }
   ],
   "source": [
    "def lbinsearch(l,r,check, checkparams):\n",
    "    while l<r:\n",
    "        m = (l+r) // 2\n",
    "        if check(m, checkparams):\n",
    "            r=m\n",
    "        else:\n",
    "            l = m + 1\n",
    "    return l\n",
    "\n",
    "def maxvisitorsonline(n, tin, maxtime):\n",
    "    events=[]\n",
    "    for i in range(n):\n",
    "        events.append((tin[i],-1))\n",
    "        events.append((tin[i]+maxtime,1)) \n",
    "    events.sort()\n",
    "    online = 0\n",
    "    maxonline = 0\n",
    "    for event in events:\n",
    "        if event[1] == -1:\n",
    "            online += 1\n",
    "        else:\n",
    "            online -= 1\n",
    "        maxonline = max(online, maxonline)\n",
    "    return maxonline\n",
    "\n",
    "def checkendownment(m, params):\n",
    "    times, n, s  = params\n",
    "    return  maxvisitorsonline(n, times, m) > s\n",
    "\n",
    "def is_greater_than_s(list, s):\n",
    "    set_list = set(list)\n",
    "    for i in set_list:\n",
    "        count = list.count(i)\n",
    "        if count >= s:\n",
    "            return True\n",
    "    return False\n",
    "\n",
    "if n <= s:\n",
    "    print(\"INF\")\n",
    "elif is_greater_than_s(times, s):\n",
    "    print(\"Impossible\")\n",
    "else:\n",
    "    print(lbinsearch(0, 2*max(times), checkendownment, [times, n, s]))\n"
   ]
  },
  {
   "cell_type": "markdown",
   "metadata": {},
   "source": [
    "# ЗАДАЧА 3: ЭмЭльКа\n",
    "\n",
    "Классификатор Антиробота должен отличать роботов от людей. Руслан и Людмила написали классификаторы для потока, про который известно, что роботов там ровно половина.\n",
    "Классификатор Руслана опознаёт 80% роботов из всех роботов, но находит (ошибочно) 40% роботов среди всех людей. Классификатор Людмилы опознаёт 60% роботов из всех роботов, но считает роботами 20% людей.\n",
    "Если предположить, что они написали один и тот же классификатор, определяющий «роботность» посещения в пределах от 0 до 1, но выбрали различный порог срабатывания, какая у этого классификатора может быть максимальная f-мера?\n",
    "\n",
    "#### Формат вывода\n",
    "Если ответ не является целым числом, запишите его в виде десятичной дроби. Если значимых цифр после запятой больше шести, округлите ответ до 6 знаков после запятой или точки (формат (-)N,NNNNNN или (-)N.NNNNNN), используя округление до ближайшего (например:\n",
    "0,1234565 следует округлить до 0,123457). Если десятичная запись с 6 знаками заканчивается нулями, то их можно опустить (например: 0,123 можно представить либо 0, 123, либо 0,1230, либо 0,12300, либо 0,123000)."
   ]
  }
 ],
 "metadata": {
  "kernelspec": {
   "display_name": "Python 3",
   "language": "python",
   "name": "python3"
  },
  "language_info": {
   "codemirror_mode": {
    "name": "ipython",
    "version": 3
   },
   "file_extension": ".py",
   "mimetype": "text/x-python",
   "name": "python",
   "nbconvert_exporter": "python",
   "pygments_lexer": "ipython3",
   "version": "3.12.1"
  }
 },
 "nbformat": 4,
 "nbformat_minor": 2
}
