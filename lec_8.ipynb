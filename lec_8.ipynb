{
 "cells": [
  {
   "cell_type": "markdown",
   "metadata": {},
   "source": [
    "# Лекция 8: Деревья."
   ]
  },
  {
   "cell_type": "markdown",
   "metadata": {},
   "source": [
    "## Менеджер памяти"
   ]
  },
  {
   "cell_type": "code",
   "execution_count": 3,
   "metadata": {},
   "outputs": [],
   "source": [
    "def initmemory(maxn):\n",
    "    memory = []\n",
    "    for i in range(maxn):\n",
    "        memory.append([0,i+1,0])\n",
    "    return [memory, 0]\n",
    "\n",
    "\n",
    "def newnode(memstruct):\n",
    "    memory, firstfree = memstruct\n",
    "    memstruct[1] = memory[firstfree][1]\n",
    "    return firstfree\n",
    "\n",
    "\n",
    "def delnode(memstruct, index):\n",
    "    memory, firstfree = memstruct\n",
    "    memory[index][1] = firstfree\n",
    "    memstruct[1] = index\n",
    "    pass\n",
    "\n"
   ]
  },
  {
   "cell_type": "markdown",
   "metadata": {},
   "source": [
    "# Бинарное деревао поиска"
   ]
  },
  {
   "cell_type": "markdown",
   "metadata": {},
   "source": [
    "## Задача 1\n",
    "\n",
    "**Дано:**  \n",
    "\n",
    "**Задача:** реализация поиска"
   ]
  },
  {
   "cell_type": "code",
   "execution_count": 4,
   "metadata": {},
   "outputs": [],
   "source": [
    "#  функция возвращает индекс текущего элемента\n",
    "\n",
    "def find(memstruct, root, x):\n",
    "    key = memstruct[0][root][0]\n",
    "    # искомое число в root\n",
    "    if x == key:\n",
    "        return root\n",
    "    # левый ребенок\n",
    "    elif x < key:\n",
    "        # кто наш левый ребенок?\n",
    "        left = memstruct[0][root][1]\n",
    "        # а если его не существует?\n",
    "        if left == -1: \n",
    "            return -1\n",
    "        else:\n",
    "            return find(memstruct, left, x) # рекурсия\n",
    "    # правый ребенок   \n",
    "    elif x>key:\n",
    "        right = memstruct[0][root][2]\n",
    "        # а если его не существует?\n",
    "        if right == -1:\n",
    "            return -1\n",
    "        else:\n",
    "            return find(memstruct, right, x) # рекурсия"
   ]
  },
  {
   "cell_type": "code",
   "execution_count": null,
   "metadata": {},
   "outputs": [],
   "source": [
    "root = 2    # корень дерева - откуда начинаем\n",
    "x = 5       # число, которое мы ищем"
   ]
  },
  {
   "cell_type": "code",
   "execution_count": null,
   "metadata": {},
   "outputs": [],
   "source": []
  },
  {
   "cell_type": "markdown",
   "metadata": {},
   "source": [
    "## Задача 2\n",
    "\n",
    "**Дано:**  строка S\n",
    "\n",
    "**Задача:** реализация добавления"
   ]
  },
  {
   "cell_type": "code",
   "execution_count": 5,
   "metadata": {},
   "outputs": [],
   "source": [
    "def createandfillnode(memstruct, key):\n",
    "    index = newnode(memstruct)\n",
    "    memstruct[0][index][0] = key\n",
    "    memstruct[0][index][1] = -1\n",
    "    memstruct[0][index][2] = -1\n",
    "    return index\n",
    "\n",
    "def add(memstruct, root, x):\n",
    "    key = memstruct[0][root][0]\n",
    "    if x<key:\n",
    "        left = memstruct[0][root][1]\n",
    "        if left == -1:\n",
    "            memstruct[0][root][1] = createandfillnode(memstruct, x)\n",
    "        else:\n",
    "            add(memstruct, left, x)\n",
    "    elif x>key:\n",
    "        right = memstruct[0][root][2]\n",
    "        if right == -1:\n",
    "            memstruct[0][root][2] = createandfillnode(memstruct, x)\n",
    "        else:\n",
    "            add(memstruct, right, x)"
   ]
  },
  {
   "cell_type": "code",
   "execution_count": 6,
   "metadata": {},
   "outputs": [],
   "source": [
    "memstruct = initmemory(20)\n",
    "root = createandfillnode(memstruct, 8)\n",
    "add(memstruct, root, 10)\n",
    "add(memstruct, root, 9)\n",
    "add(memstruct, root, 14)\n",
    "add(memstruct, root, 13)\n",
    "add(memstruct, root, 3)\n",
    "add(memstruct, root, 1)\n",
    "add(memstruct, root, 6)\n",
    "add(memstruct, root, 4)\n",
    "add(memstruct, root, 7)"
   ]
  },
  {
   "cell_type": "code",
   "execution_count": 8,
   "metadata": {},
   "outputs": [
    {
     "data": {
      "text/plain": [
       "[5, [2, None, [3, None, None]], [7, None, [8, None, None]]]"
      ]
     },
     "execution_count": 8,
     "metadata": {},
     "output_type": "execute_result"
    }
   ],
   "source": [
    "#[key, [left],[right]]\n",
    "btree = [5, [2, None, [3, None, None]],[7, None,[8,None,None]]]\n",
    "btree"
   ]
  },
  {
   "cell_type": "markdown",
   "metadata": {},
   "source": [
    "# Сериализация дерева Хаффмана\n",
    "\n",
    "(для сжатия информации) - безпрефиксные коды\n",
    "- алгоритм Хаффмана позволяет сопоставить более часто встречающимся самволам более короткий код\n",
    "- каждый раз берем два самых редко встречающихся символа и обьединяем их в один узел\n",
    "- строим бинарное дерево, кладем буквы в листья. Переход в левого сына кодируется числом 0, в правого 1, а код символа это все ребра на пути от корня до листа"
   ]
  },
  {
   "cell_type": "markdown",
   "metadata": {},
   "source": [
    "## Задача 3\n",
    "\n",
    "**Дано:**  строка S\n",
    "\n",
    "**Задача:**"
   ]
  },
  {
   "cell_type": "markdown",
   "metadata": {},
   "source": [
    "## Задача 4\n",
    "\n",
    "**Дано:**  строка S\n",
    "\n",
    "**Задача:**"
   ]
  },
  {
   "cell_type": "markdown",
   "metadata": {},
   "source": []
  }
 ],
 "metadata": {
  "kernelspec": {
   "display_name": "Python 3",
   "language": "python",
   "name": "python3"
  },
  "language_info": {
   "codemirror_mode": {
    "name": "ipython",
    "version": 3
   },
   "file_extension": ".py",
   "mimetype": "text/x-python",
   "name": "python",
   "nbconvert_exporter": "python",
   "pygments_lexer": "ipython3",
   "version": "3.11.4"
  }
 },
 "nbformat": 4,
 "nbformat_minor": 2
}
