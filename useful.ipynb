{
 "cells": [
  {
   "cell_type": "code",
   "execution_count": null,
   "metadata": {},
   "outputs": [],
   "source": [
    "# n\n",
    "# arr of tuples (int)\n",
    "######################\n",
    "\n",
    "file = open(input_file)\n",
    "\n",
    "n = int(file.readline().strip())\n",
    "arr_tuple = []\n",
    "\n",
    "for _i in range(n):\n",
    "    arr_tuple.append(tuple(map(int, file.readline().strip().split(\" \"))))\n",
    "\n",
    "file.close()\n",
    "\n",
    "######################\n",
    "\n",
    "n = int(input())\n",
    "arr_tuple = []\n",
    "for _i in range(n):\n",
    "    arr_tuple.append(tuple(map(int, input().split())))"
   ]
  },
  {
   "cell_type": "code",
   "execution_count": null,
   "metadata": {},
   "outputs": [],
   "source": [
    "# n\n",
    "# arr of lists (int)\n",
    "######################\n",
    "file = open(input_file)\n",
    "\n",
    "n, p = map(int, file.readline().strip().split(\" \"))\n",
    "f = []\n",
    "\n",
    "for _i in range(n):\n",
    "    f.append([int(n) for n in file.readline().strip().split(\" \")])\n",
    "file.close()\n",
    "\n",
    "######################\n",
    "n, p = map(int, input().split())\n",
    "f = []\n",
    "\n",
    "for _i in range(n):\n",
    "    f.append(list(map(int, input().split())))"
   ]
  },
  {
   "cell_type": "code",
   "execution_count": null,
   "metadata": {},
   "outputs": [],
   "source": [
    "######################\n",
    "n = int(file.readline().strip())\n",
    "a = [int(n) for n in file.readline().strip().split(\" \")]\n",
    "\n",
    "######################\n",
    "n = int(input())\n",
    "a = list(map(int, input().split()))"
   ]
  },
  {
   "cell_type": "code",
   "execution_count": null,
   "metadata": {},
   "outputs": [],
   "source": []
  },
  {
   "cell_type": "code",
   "execution_count": null,
   "metadata": {},
   "outputs": [],
   "source": []
  },
  {
   "cell_type": "code",
   "execution_count": null,
   "metadata": {},
   "outputs": [],
   "source": []
  }
 ],
 "metadata": {
  "kernelspec": {
   "display_name": "base",
   "language": "python",
   "name": "python3"
  },
  "language_info": {
   "name": "python",
   "version": "3.11.4"
  }
 },
 "nbformat": 4,
 "nbformat_minor": 2
}
