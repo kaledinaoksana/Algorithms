{
 "cells": [
  {
   "cell_type": "code",
   "execution_count": null,
   "metadata": {},
   "outputs": [],
   "source": [
    "# n \n",
    "# arr of tuples (int)\n",
    "######################\n",
    "\n",
    "file = open(input_file, 'r') \n",
    "\n",
    "n = int(file.readline().strip()) \n",
    "arr_tuple = []\n",
    "\n",
    "for i in range(n):\n",
    "    arr_tuple.append(tuple(map(int, file.readline().strip().split(' '))))\n",
    "\n",
    "file.close()\n",
    "\n",
    "######################\n",
    "\n",
    "n = int(input())\n",
    "arr_tuple = []\n",
    "for i in range(n):\n",
    "    arr_tuple.append(tuple(map(int, input().split())))\n"
   ]
  },
  {
   "cell_type": "code",
   "execution_count": null,
   "metadata": {},
   "outputs": [],
   "source": [
    "# n \n",
    "# arr of lists (int)\n",
    "######################\n",
    "file = open(input_file, 'r') \n",
    "\n",
    "n, p = map(int, file.readline().strip().split(\" \"))\n",
    "f = []\n",
    "\n",
    "for i in range(n):\n",
    "    f.append([int(n) for n in file.readline().strip().split(' ')])\n",
    "file.close() \n",
    "\n",
    "######################\n",
    "n, p = map(int, input().split())\n",
    "f = []\n",
    "\n",
    "for i in range(n):\n",
    "    f.append(list(map(int, input().split())))"
   ]
  },
  {
   "cell_type": "code",
   "execution_count": null,
   "metadata": {},
   "outputs": [],
   "source": [
    "######################\n",
    "n = int(file.readline().strip()) \n",
    "a = [int(n) for n in file.readline().strip().split(' ')]\n",
    "\n",
    "######################\n",
    "n = int(input())\n",
    "a = list(map(int, input().split()))"
   ]
  },
  {
   "cell_type": "code",
   "execution_count": null,
   "metadata": {},
   "outputs": [],
   "source": []
  },
  {
   "cell_type": "code",
   "execution_count": null,
   "metadata": {},
   "outputs": [],
   "source": []
  },
  {
   "cell_type": "code",
   "execution_count": null,
   "metadata": {},
   "outputs": [],
   "source": []
  }
 ],
 "metadata": {
  "language_info": {
   "name": "python"
  }
 },
 "nbformat": 4,
 "nbformat_minor": 2
}
