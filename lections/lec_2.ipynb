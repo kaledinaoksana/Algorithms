{
 "cells": [
  {
   "cell_type": "markdown",
   "metadata": {},
   "source": [
    "# Линейный поиск"
   ]
  },
  {
   "cell_type": "code",
   "execution_count": 1,
   "metadata": {},
   "outputs": [],
   "source": [
    "import processor as proc"
   ]
  },
  {
   "cell_type": "markdown",
   "metadata": {},
   "source": [
    "## Задача 1\n",
    "\n",
    "**Дано:** последовательность чисел длиной N\n",
    "\n",
    "**Задача:** Найти первое (левое) вхождение положительного числа X в нее или вывести -1, если число X не встречалось."
   ]
  },
  {
   "cell_type": "code",
   "execution_count": 2,
   "metadata": {},
   "outputs": [
    {
     "data": {
      "text/plain": [
       "2"
      ]
     },
     "execution_count": 2,
     "metadata": {},
     "output_type": "execute_result"
    }
   ],
   "source": [
    "def find_left_x(seq,x):\n",
    "    ans = -1\n",
    "    for i in range(len(seq)):\n",
    "        if ans == -1 and seq[i] == x:\n",
    "            ans = i\n",
    "    return ans\n",
    "\n",
    "find_left_x([1,23,3,5,2,32,4,3,2],3)\n"
   ]
  },
  {
   "cell_type": "markdown",
   "metadata": {},
   "source": [
    "## Задача 2\n",
    "\n",
    "**Дано:** последовательность чисел длиной N\n",
    "\n",
    "**Задача:** Найти последнее (правое) вхождение положительного числа X в нее или вывести -1, если число X не встречалось."
   ]
  },
  {
   "cell_type": "code",
   "execution_count": 3,
   "metadata": {},
   "outputs": [
    {
     "data": {
      "text/plain": [
       "7"
      ]
     },
     "execution_count": 3,
     "metadata": {},
     "output_type": "execute_result"
    }
   ],
   "source": [
    "def find_right_x(seq,x):\n",
    "    ans = -1\n",
    "    for i in range(len(seq)):\n",
    "        if seq[i] == x:\n",
    "            ans = i\n",
    "    return ans\n",
    "\n",
    "find_right_x([1,23,3,5,2,32,4,3,2],3)"
   ]
  },
  {
   "cell_type": "markdown",
   "metadata": {},
   "source": []
  },
  {
   "cell_type": "markdown",
   "metadata": {},
   "source": [
    "## Задача 3\n",
    "\n",
    "**Дано:** последовательность чисел длиной N\n",
    "\n",
    "**Задача:** Найти максимальное число в последовательности."
   ]
  },
  {
   "cell_type": "code",
   "execution_count": 4,
   "metadata": {},
   "outputs": [
    {
     "data": {
      "text/plain": [
       "32"
      ]
     },
     "execution_count": 4,
     "metadata": {},
     "output_type": "execute_result"
    }
   ],
   "source": [
    "# плох для строк из-за копирования переменных \n",
    "# (в питоне там ссылки, то еще нормально)\n",
    "\n",
    "def find_max_x(seq):\n",
    "    ans = seq[0]\n",
    "    for i in range(1,len(seq)):\n",
    "        if seq[i] > ans:\n",
    "            ans = seq[i]\n",
    "    return ans\n",
    "\n",
    "# как решить? запоминать не значение, а индекс\n",
    "# но образение по индексу может тоже занимать время\n",
    "# то есть зависит от языка на котором пишете\n",
    "\n",
    "def find_max_x_wo_copy(seq):\n",
    "    ans = 0\n",
    "    for i in range(1,len(seq)):\n",
    "        if seq[i] > seq[ans]:\n",
    "            ans = i\n",
    "    return seq[ans]\n",
    "\n",
    "\n",
    "find_max_x([1,23,3,5,2,32,4,3,2])\n",
    "find_max_x_wo_copy([1,23,3,5,2,32,4,3,2])"
   ]
  },
  {
   "cell_type": "markdown",
   "metadata": {},
   "source": [
    "## Задача 4\n",
    "\n",
    "**Дано:** последовательность чисел длиной N\n",
    "\n",
    "**Задача:** Найти максимальное число в последовательности и второе по величине число (в этой задаче если уберем одно макс - второе может быть таким же)\n",
    "\n"
   ]
  },
  {
   "cell_type": "code",
   "execution_count": 5,
   "metadata": {},
   "outputs": [
    {
     "data": {
      "text/plain": [
       "(32, 23)"
      ]
     },
     "execution_count": 5,
     "metadata": {},
     "output_type": "execute_result"
    }
   ],
   "source": [
    "def find_max_2(seq):\n",
    "    max1 = max(seq[0],seq[1])\n",
    "    max2 = min(seq[0],seq[1])\n",
    "    for i in range(2,len(seq)):\n",
    "        if seq[i] > max1:\n",
    "            max2 = max1\n",
    "            max1 = seq[i]\n",
    "        elif seq[i] > max2:\n",
    "            max2 = seq[i]\n",
    "    return (max1, max2)\n",
    "\n",
    "find_max_2([1,23,3,5,2,32,4,3,2])"
   ]
  },
  {
   "cell_type": "code",
   "execution_count": 6,
   "metadata": {},
   "outputs": [],
   "source": [
    "seq = [1,23,3,5,2,32,4,3,2]"
   ]
  },
  {
   "cell_type": "markdown",
   "metadata": {},
   "source": [
    "## Задача 5\n",
    "\n",
    "**Дано:** последовательность чисел длиной N\n",
    "\n",
    "**Задача:** Минимальное четное число послежовательности или, если его нет, вывести -1.\n",
    "\n"
   ]
  },
  {
   "cell_type": "code",
   "execution_count": 7,
   "metadata": {},
   "outputs": [
    {
     "data": {
      "text/plain": [
       "2"
      ]
     },
     "execution_count": 7,
     "metadata": {},
     "output_type": "execute_result"
    }
   ],
   "source": [
    "# \n",
    "\n",
    "def find_min_even(seq):\n",
    "    ans = -1\n",
    "    for i in range(len(seq)):\n",
    "        if seq[i]%2==0 and (ans == -1 or seq[i]<ans):\n",
    "            ans = seq[i]\n",
    "    return ans\n",
    "\n",
    "def find_min_even_with_flag(seq):\n",
    "    ans = -1\n",
    "    flag = False\n",
    "    for i in range(len(seq)):\n",
    "        if seq[i]%2==0 and (not flag or seq[i]<ans):\n",
    "            ans = seq[i]\n",
    "            flag = True\n",
    "    return ans\n",
    "\n",
    "find_min_even(seq)\n",
    "find_min_even_with_flag(seq)"
   ]
  },
  {
   "cell_type": "markdown",
   "metadata": {},
   "source": [
    "## Задача 6\n",
    "\n",
    "**Дано:** последовательность чисел длиной N\n",
    "\n",
    "**Задача:** Минимальное четное число послежовательности или, если его нет, вывести -1.\n"
   ]
  },
  {
   "cell_type": "code",
   "execution_count": 8,
   "metadata": {},
   "outputs": [
    {
     "data": {
      "text/plain": [
       "'d'"
      ]
     },
     "execution_count": 8,
     "metadata": {},
     "output_type": "execute_result"
    }
   ],
   "source": [
    "# двупроходный алгоритм\n",
    "# дана последовательность слов\n",
    "# вывести все самые короткие слова через пробел\n",
    "\n",
    "words=[\"aaa\", 'cc', 'd','sddas','ad']\n",
    "\n",
    "def short_words(words):\n",
    "    minlen = len(words[0])\n",
    "    for word in words:\n",
    "        if len(word) < minlen:\n",
    "            minlen = len(word)\n",
    "    # ans = '' # плохо - потом копируются\n",
    "    ans = []\n",
    "    for word in words:\n",
    "        if len(word) == minlen:\n",
    "            # ans += word + \" \"\n",
    "            ans.append(word)\n",
    "    # return ans\n",
    "    return ' '.join(ans)\n",
    "\n",
    "short_words(words)"
   ]
  },
  {
   "cell_type": "markdown",
   "metadata": {},
   "source": [
    "## Задача: 7\n",
    "\n",
    "**Дано:** последовательность чисел длиной N\n",
    "\n",
    "**Задача:** Игра PitCraft происходть в двумерном мире, который состоит из блоков размером 1 на 1 метр. Остров игрока представляет собой набор столбцов различной высоты, состоящих из блоков камня и окруженный морем. Над островом прошел сильный дождь, который заполнил водой все низины, а не поместившаяся в них вода стекла в море, не увеличив его уровень. \n",
    "\n",
    "По ландшафту острова определите, сколько блоков воды осталось после дождя в низинах на острове."
   ]
  },
  {
   "cell_type": "code",
   "execution_count": 9,
   "metadata": {},
   "outputs": [
    {
     "data": {
      "text/plain": [
       "9"
      ]
     },
     "execution_count": 9,
     "metadata": {},
     "output_type": "execute_result"
    }
   ],
   "source": [
    "# задача олимпиада школьников\n",
    "\n",
    "def isleflood(h):\n",
    "    maxpos = 0\n",
    "    # находим вершину острова\n",
    "    for i in range(len(h)):\n",
    "        if h[i] > h[maxpos]:\n",
    "            maxpos = i \n",
    "    ans = 0\n",
    "    nowm = 0\n",
    "    # двигаемся слева до вершины\n",
    "    for i in range(maxpos):\n",
    "        if h[i] > nowm:\n",
    "            nowm = h[i]\n",
    "        ans += nowm - h[i]\n",
    "    nowm = 0\n",
    "    # двигаемся справа до вершины\n",
    "    for i in range(len(h)-1, maxpos, -1):\n",
    "        if h[i] > nowm:\n",
    "            nowm = h[i]\n",
    "        ans += nowm - h[i]\n",
    "    return ans\n",
    "\n",
    "\n",
    "h=[4,1,6,4,8,2,2,4,1]\n",
    "isleflood(h)"
   ]
  },
  {
   "cell_type": "markdown",
   "metadata": {},
   "source": [
    "## Задача: 8 - RLE\n",
    "\n",
    "**Дано:** строка (возможно, пустая), состоящая из букв A-Z.\n",
    "\n",
    "**Задача:** Написать функцию RLE, которая на выходе выдаст строку вида *A4B4C2XYZD5E4F4A6B12*. Cгенерирует ошибку, если на вход пришла невалидная строка\n"
   ]
  },
  {
   "cell_type": "code",
   "execution_count": 10,
   "metadata": {},
   "outputs": [],
   "source": [
    "string = \"AAAABBBBCCXYZDDDDDEEEEFFFFAAAAAABBBBBBBBBBBBB\""
   ]
  },
  {
   "cell_type": "code",
   "execution_count": 11,
   "metadata": {},
   "outputs": [
    {
     "data": {
      "text/plain": [
       "'ABCXYZDEFAB'"
      ]
     },
     "execution_count": 11,
     "metadata": {},
     "output_type": "execute_result"
    }
   ],
   "source": [
    "# решение сначала простой задачи\n",
    "def string_wo_repeat(s):\n",
    "    lastsym = s[0]\n",
    "    ans = []\n",
    "    for i in range(len(s)):\n",
    "        if s[i] != lastsym:\n",
    "            ans.append(lastsym)\n",
    "            lastsym = s[i]\n",
    "    ans.append(lastsym)\n",
    "    return ''.join(ans)\n",
    "\n",
    "string_wo_repeat(string)\n"
   ]
  },
  {
   "cell_type": "code",
   "execution_count": 12,
   "metadata": {},
   "outputs": [
    {
     "data": {
      "text/plain": [
       "'A4B4C2XYZD5E4F4A6B13'"
      ]
     },
     "execution_count": 12,
     "metadata": {},
     "output_type": "execute_result"
    }
   ],
   "source": [
    "# решение задачи на основе простой\n",
    "def rle(s):\n",
    "    # буква+число на выходе \n",
    "    def pack(letter,cnt):\n",
    "        if cnt>1:\n",
    "            return letter + str(cnt)\n",
    "        return letter\n",
    "    \n",
    "    lastsym = s[0]\n",
    "    lastpos = 0\n",
    "    ans = []\n",
    "\n",
    "    # делаем аналогично - если новый элемент, \n",
    "    # записываем сколько прошло индексов с прошлого\n",
    "    for i in range(len(s)):\n",
    "        if s[i] != lastsym:\n",
    "            ans.append(pack(lastsym, i-lastpos))\n",
    "            lastpos = i\n",
    "            lastsym = s[i]\n",
    "\n",
    "    ans.append(pack(s[lastpos],len(s)-lastpos))\n",
    "\n",
    "    return ''.join(ans)\n",
    "\n",
    "rle(string)"
   ]
  },
  {
   "cell_type": "markdown",
   "metadata": {},
   "source": [
    "# ЗАДАЧИ МОДУЛЬ 2"
   ]
  },
  {
   "cell_type": "markdown",
   "metadata": {},
   "source": [
    "## A. Минимальный прямоугольник\n",
    "\n",
    "На клетчатой плоскости закрашено K клеток. Требуется найти минимальный по площади прямоугольник, со сторонами, параллельными линиям сетки, покрывающий все закрашенные клетки.\n",
    "\n",
    "#### Формат ввода\n",
    "\n",
    "Во входном файле, на первой строке, находится число K (1 ≤ K ≤ 100). На следующих K строках находятся пары чисел Xi и Yi — координаты закрашенных клеток (|Xi|, |Yi| ≤ 109).\n",
    "\n",
    "#### Формат вывода\n",
    "\n",
    "Выведите в выходной файл координаты левого нижнего и правого верхнего углов прямоугольника."
   ]
  },
  {
   "cell_type": "code",
   "execution_count": 25,
   "metadata": {},
   "outputs": [
    {
     "name": "stdout",
     "output_type": "stream",
     "text": [
      "[(1.0, 3.0), (3.0, 1.0), (3.0, 5.0), (6.0, 3.0)]\n",
      "ANSWER: 1 1 6 5\n"
     ]
    }
   ],
   "source": [
    "test = 1\n",
    "problem = 'A_MinimalRectangle'\n",
    "module = '2'\n",
    "\n",
    "num_of_test = 1\n",
    "input, output = proc.return_input_output(module=module, problem=problem, tests=test, num_of_test=num_of_test)\n",
    "\n",
    "def scan_file_input(input):\n",
    "\n",
    "    file = open(input, 'r')\n",
    "    K = int(file.readline().strip())\n",
    "    coordinates = []\n",
    "\n",
    "    for _ in range(K):\n",
    "        x, y = file.readline().strip().split()\n",
    "        coordinates.append((float(x),float(y)))\n",
    "        \n",
    "    file.close()\n",
    "    return coordinates\n",
    "\n",
    "def scan_file_output(output):\n",
    "    file = open(output, 'r')\n",
    "    arr = file.readline().strip().split()\n",
    "    file.close()\n",
    "    return arr\n",
    "\n",
    "coordinates = scan_file_input(input)\n",
    "ans = scan_file_output(output)\n",
    "\n",
    "print(coordinates)\n",
    "print(\"ANSWER:\", ' '.join(ans))"
   ]
  },
  {
   "cell_type": "code",
   "execution_count": 14,
   "metadata": {},
   "outputs": [],
   "source": [
    "left_down = (0,0)\n",
    "left_up = (0,0)\n",
    "right_down = (0,0)\n",
    "right_up = (0,0)"
   ]
  },
  {
   "cell_type": "code",
   "execution_count": null,
   "metadata": {},
   "outputs": [],
   "source": []
  },
  {
   "cell_type": "markdown",
   "metadata": {},
   "source": [
    "## B. Продавец рыбы\n",
    "\n",
    "Вася решил заняться торговлей рыбой. С помощью методов машинного обучения он предсказал цены на рыбу на N дней вперёд. Он решил, что в один день он купит рыбу, а в один из следующих дней — продаст (то есть совершит или ровно одну покупку и продажу или вообще не совершит покупок и продаж, если это не принесёт ему прибыли). К сожалению, рыба — товар скоропортящийся и разница между номером дня продажи и номером дня покупки не должна превышать K.\n",
    "\n",
    "Определите, какую максимальную прибыль получит Вася.\n",
    "\n",
    "#### Формат ввода\n",
    "\n",
    "В первой строке входных данных задаются числа N и K (1 ≤ N ≤ 10000, 1 ≤ K ≤ 100).\n",
    "\n",
    "Во второй строке задаются цены на рыбу в каждый из N дней. Цена — целое число, которое может находится в пределах от 1 до 109.\n",
    "\n",
    "#### Формат вывода\n",
    "\n",
    "Выведите одно число — максимальную прибыль, которую получит Вася."
   ]
  },
  {
   "cell_type": "code",
   "execution_count": 28,
   "metadata": {},
   "outputs": [
    {
     "name": "stdout",
     "output_type": "stream",
     "text": [
      "5 2\n",
      "['1', '2', '3', '4', '5']\n",
      "ANSWER: 2\n"
     ]
    }
   ],
   "source": [
    "import processor as proc\n",
    "\n",
    "test = 2\n",
    "problem = 'B_FishSaler'\n",
    "module = '2'\n",
    "\n",
    "num_of_test = 1\n",
    "input, output = proc.return_input_output(module=module, problem=problem, tests=test, num_of_test=num_of_test)\n",
    "\n",
    "\n",
    "def scan_file_input(input,):\n",
    "    file = open(input, 'r')\n",
    "    N, K = file.readline().strip().split()\n",
    "    prices = file.readline().strip().split()\n",
    "    file.close()\n",
    "    return N, K, prices\n",
    "\n",
    "def scan_file_output(output):\n",
    "    file = open(output, 'r')\n",
    "    profit = int(file.readline().strip())\n",
    "    file.close()\n",
    "    return profit\n",
    "\n",
    "N, K, prices = scan_file_input(input)\n",
    "ans = scan_file_output(output)\n",
    "\n",
    "print(N, K)\n",
    "print(prices)\n",
    "print(\"ANSWER:\", ans)"
   ]
  },
  {
   "cell_type": "code",
   "execution_count": null,
   "metadata": {},
   "outputs": [],
   "source": []
  },
  {
   "cell_type": "code",
   "execution_count": null,
   "metadata": {},
   "outputs": [],
   "source": []
  },
  {
   "cell_type": "code",
   "execution_count": null,
   "metadata": {},
   "outputs": [],
   "source": []
  },
  {
   "cell_type": "markdown",
   "metadata": {},
   "source": [
    "# C. Петя, Маша и верёвочки\n",
    "\n",
    "На столе лежали две одинаковые верёвочки целой положительной длины.\n",
    "\n",
    "Петя разрезал одну из верёвочек на N частей, каждая из которых имеет целую положительную длину, так что на столе стало N+1 верёвочек. Затем в комнату зашла Маша и взяла одну из лежащих на столе верёвочек. По длинам оставшихся на столе N верёвочек определите, какую наименьшую длину может иметь верёвочка, взятая Машей.\n",
    "\n",
    "#### Формат ввода\n",
    "\n",
    "Первая строка входных данных содержит одно целое число N — количество верёвочек, оставшихся на столе (2 ≤ N ≤ 1000). Во второй строке содержится N целых чисел li — длины верёвочек (1 ≤ li ≤ 1000).\n",
    "\n",
    "#### Формат вывода\n",
    "\n",
    "Выведите одно целое число — наименьшую длину, которую может иметь верёвочка, взятая Машей."
   ]
  },
  {
   "cell_type": "code",
   "execution_count": 16,
   "metadata": {},
   "outputs": [],
   "source": [
    "tests = 2\n",
    "problem = 'C_Verevochki'\n",
    "module = '2'\n",
    "\n",
    "num_of_test = 1\n",
    "input, output = proc.return_input_output(module=module, problem=problem, tests=test, num_of_test=num_of_test)"
   ]
  },
  {
   "cell_type": "code",
   "execution_count": null,
   "metadata": {},
   "outputs": [],
   "source": []
  },
  {
   "cell_type": "code",
   "execution_count": null,
   "metadata": {},
   "outputs": [],
   "source": []
  },
  {
   "cell_type": "markdown",
   "metadata": {},
   "source": [
    "# D. Шахматная доска\n",
    "\n",
    "Из шахматной доски по границам клеток выпилили связную (не распадающуюся на части) фигуру без дыр. Требуется определить ее периметр.\n",
    "\n",
    "#### Формат ввода\n",
    "\n",
    "Сначала вводится число N (1 ≤ N ≤ 64) – количество выпиленных клеток. В следующих N строках вводятся координаты выпиленных клеток, разделенные пробелом (номер строки и столбца – числа от 1 до 8). Каждая выпиленная клетка указывается один раз.\n",
    "\n",
    "#### Формат вывода\n",
    "\n",
    "Выведите одно число – периметр выпиленной фигуры (сторона клетки равна единице)."
   ]
  },
  {
   "cell_type": "code",
   "execution_count": 17,
   "metadata": {},
   "outputs": [],
   "source": [
    "test = 2\n",
    "problem = \"D_ChessBoard\"\n",
    "module = '2'\n",
    "\n",
    "num_of_test = 1\n",
    "input, output = proc.return_input_output(module=module, problem=problem, tests=test, num_of_test=num_of_test)\n"
   ]
  },
  {
   "cell_type": "code",
   "execution_count": null,
   "metadata": {},
   "outputs": [],
   "source": []
  },
  {
   "cell_type": "code",
   "execution_count": null,
   "metadata": {},
   "outputs": [],
   "source": []
  },
  {
   "cell_type": "code",
   "execution_count": null,
   "metadata": {},
   "outputs": [],
   "source": []
  },
  {
   "cell_type": "markdown",
   "metadata": {},
   "source": [
    "# E. Амбициозная улитка\n",
    "\n",
    "Домашний питомец мальчика Васи — улитка Петя. Петя обитает на бесконечном в обе стороны вертикальном столбе, который для удобства можно представить как числовую прямую. Изначально Петя находится в точке 0.\n",
    "\n",
    "Вася кормит Петю ягодами. У него есть N ягод, каждая в единственном экземпляре. Вася знает, что если утром он даст Пете ягоду с номером i, то поев и набравшись сил, за остаток дня Петя поднимется на ai единиц вверх по столбу, но при этом за ночь, потяжелев, съедет на bi единиц вниз. Параметры различных ягод могут совпадать.\n",
    "\n",
    "Пете стало интересно, а как оно там, наверху, и Вася взялся ему в этом помочь. Ближайшие n дней он будет кормить Петю ягодами из своего запаса таким образом, чтобы максимальная высота, на которой побывал Петя за эти n дней была максимальной. К сожалению, Вася не умеет программировать, поэтому он попросил вас о помощи. Найдите, максимальную высоту, на которой Петя сможет побывать за эти n дней и в каком порядке Вася должен давать Пете ягоды, чтобы Петя смог её достичь!\n",
    "\n",
    "#### Формат ввода\n",
    "\n",
    "В первой строке входных данных дано число  — количество ягод у Васи. В последующих n строках описываются параметры каждой ягоды. В i+1 строке дано два числа — то, насколько поднимется улитка за день после того, как съест i ягоду и насколько опуститься за ночь.\n",
    "\n",
    "#### Формат вывода\n",
    "\n",
    "В первой строке выходных данных выведите единственное число — максимальную высоту, которую сможет достичь Петя, если Вася будет его кормить оптимальным образом. В следующей строке выведите n различных целых чисел от 1 до n — порядок, в котором Вася должен кормить Петю (i число в строке соответствует номеру ягоды, которую Вася должен дать Пете в i день чтобы Петя смог достичь максимальной высоты)."
   ]
  },
  {
   "cell_type": "code",
   "execution_count": 18,
   "metadata": {},
   "outputs": [],
   "source": [
    "test = 2\n",
    "problem = \"E_AmbitiousSnail\"\n",
    "module = '2'\n",
    "\n",
    "num_of_test = 1\n",
    "input, output = proc.return_input_output(module=module, problem=problem, tests=test, num_of_test=num_of_test)"
   ]
  },
  {
   "cell_type": "code",
   "execution_count": null,
   "metadata": {},
   "outputs": [],
   "source": []
  },
  {
   "cell_type": "code",
   "execution_count": null,
   "metadata": {},
   "outputs": [],
   "source": []
  },
  {
   "cell_type": "markdown",
   "metadata": {},
   "source": [
    "# F. Колесо Фортуны\n",
    "\n",
    "Развлекательный телеканал транслирует шоу «Колесо Фортуны». В процессе игры участники шоу крутят большое колесо, разделенное на сектора. В каждом секторе этого колеса записано число. После того как колесо останавливается, специальная стрелка указывает на один из секторов. Число в этом секторе определяет выигрыш игрока.\n",
    "Юный участник шоу заметил, что колесо в процессе вращения замедляется из-за того, что стрелка задевает за выступы на колесе, находящиеся между секторами. Если колесо вращается с угловой скоростью v градусов в секунду, и стрелка, переходя из сектора X к следующему сектору, задевает за очередной выступ, то текущая угловая скорость движения колеса уменьшается на k градусов в секунду. При этом если v ≤ k, то колесо не может преодолеть препятствие и останавливается. Стрелка в этом случае будет указывать на сектор X.\n",
    "\n",
    "Юный участник шоу собирается вращать колесо. Зная порядок секторов на колесе, он хочет заставить колесо вращаться с такой начальной скоростью, чтобы после остановки колеса стрелка указала на как можно большее число. Колесо можно вращать в любом направлении и придавать ему начальную угловую скорость от a до b градусов в секунду.\n",
    "Требуется написать программу, которая по заданному расположению чисел в секторах, минимальной и максимальной начальной угловой скорости вращения колеса и величине замедления колеса при переходе через границу секторов вычисляет максимальный выигрыш.\n",
    "\n",
    "#### Формат ввода\n",
    "\n",
    "Первая строка входного файла содержит целое число n — количество секторов колеса (3 ≤ n ≤ 100).\n",
    "Вторая строка входного файла содержит n положительных целых чисел, каждое из которых не превышает 1000 — числа, записанные в секторах колеса. Числа приведены в порядке следования секторов по часовой стрелке. Изначально стрелка указывает на первое число.\n",
    "Третья строка содержит три целых числа: a, b и k (1 ≤ a ≤ b ≤ 109, 1 ≤ k ≤ 109).\n",
    "\n",
    "#### Формат вывода\n",
    "\n",
    "В выходном файле должно содержаться одно целое число — максимальный выигрыш."
   ]
  },
  {
   "cell_type": "code",
   "execution_count": 19,
   "metadata": {},
   "outputs": [],
   "source": [
    "test = 3\n",
    "problem = \"F_WheelOfFortune\"\n",
    "module = '2'\n",
    "\n",
    "num_of_test = 1\n",
    "input, output = proc.return_input_output(module=module, problem=problem, tests=test, num_of_test=num_of_test)"
   ]
  },
  {
   "cell_type": "code",
   "execution_count": null,
   "metadata": {},
   "outputs": [],
   "source": []
  },
  {
   "cell_type": "code",
   "execution_count": null,
   "metadata": {},
   "outputs": [],
   "source": []
  },
  {
   "cell_type": "markdown",
   "metadata": {},
   "source": [
    "# G. Ни больше ни меньше\n",
    "\n",
    "Дан массив целых положительных чисел a длины n. Разбейте его на минимально возможное количество отрезков, чтобы каждое число было не меньше длины отрезка которому оно принадлежит. Длиной отрезка считается количество чисел в нем.\n",
    "Разбиение массива на отрезки считается корректным, если каждый элемент принадлежит ровно одному отрезку.\n",
    "\n",
    "#### Формат ввода\n",
    "\n",
    "Первая строка содержит одно целое число t (1 ≤ t ≤ 1 000) — количество наборов тестовых данных. Затем следуют t наборов тестовых данных.\n",
    "Первая строка набора тестовых данных содержит одно целое число n (1 ≤ n ≤ 105) — длину массива.\n",
    "Следующая строка содержит n целых чисел a1, a2, …, an (1 ≤ ai ≤ n) — массив a.\n",
    "Гарантируется, что сумма n по всем наборам тестовых данных не превосходит 2 ⋅ 105.\n",
    "\n",
    "#### Формат вывода\n",
    "\n",
    "Для каждого набора тестовых данных в первой строке выведите число k — количество отрезков в вашем разбиении.\n",
    "Затем в следующей строке выведите k чисел len1, len2, …, lenk  — длины отрезков в порядке слева направо."
   ]
  },
  {
   "cell_type": "code",
   "execution_count": 20,
   "metadata": {},
   "outputs": [],
   "source": [
    "test = 1\n",
    "problem = \"G_NoMoreNoLess\"\n",
    "module = '2'\n",
    "\n",
    "num_of_test = 1\n",
    "input, output = proc.return_input_output(module=module, problem=problem, tests=test, num_of_test=num_of_test)"
   ]
  },
  {
   "cell_type": "code",
   "execution_count": null,
   "metadata": {},
   "outputs": [],
   "source": []
  },
  {
   "cell_type": "code",
   "execution_count": null,
   "metadata": {},
   "outputs": [],
   "source": []
  },
  {
   "cell_type": "markdown",
   "metadata": {},
   "source": [
    "# H. Наилучший запрет\n",
    "\n",
    "Константин и Михаил играют в настольную игру «Ярость Эльфов». В игре есть n рас и m классов персонажей. Каждый персонаж характеризуется своими расой и классом. Для каждой расы и каждого класса существует ровно один персонаж такой расы и такого класса. Сила персонажа i-й расы и j-го класса равна ai j, и обоим игрокам это прекрасно известно.\n",
    "Сейчас Константин будет выбирать себе персонажа. Перед этим Михаил может запретить одну расу и один класс, чтобы Константин не мог выбирать персонажей, у которых такая раса или такой класс. Конечно же, Михаил старается, чтобы Константину достался как можно более слабый персонаж, а Константин, напротив, выбирает персонажа посильнее. Какие расу и класс следует запретить Михаилу?\n",
    "\n",
    "#### Формат ввода\n",
    "\n",
    "Первая строка содержит два целых числа n и m (2 ≤ n,m ≤ 1000) через пробел — количество рас и классов в игре «Ярость Эльфов», соответственно.\n",
    "В следующих n строках содержится по m целых чисел через пробел. j-е число i-й из этих строк — это ai j (1 ≤ ai j ≤ 109).\n",
    "\n",
    "#### Формат вывода\n",
    "\n",
    "В единственной строке выведите два целых числа через пробел — номер расы и номер класса, которые следует запретить Михаилу. Расы и классы нумеруются с единицы. Если есть несколько возможных ответов, выведите любой из них.\n"
   ]
  },
  {
   "cell_type": "code",
   "execution_count": 21,
   "metadata": {},
   "outputs": [],
   "source": [
    "test = 2\n",
    "problem = \"H_TheBestResult\"\n",
    "module = '2'\n",
    "\n",
    "num_of_test = 1\n",
    "input, output = proc.return_input_output(module=module, problem=problem, tests=test, num_of_test=num_of_test)"
   ]
  },
  {
   "cell_type": "code",
   "execution_count": null,
   "metadata": {},
   "outputs": [],
   "source": []
  },
  {
   "cell_type": "code",
   "execution_count": null,
   "metadata": {},
   "outputs": [],
   "source": []
  },
  {
   "cell_type": "markdown",
   "metadata": {},
   "source": [
    "# I. Пираты Баренцева моря\n",
    "\n",
    "Вася играет в настольную игру «Пираты Баренцева моря», которая посвящена морским битвам. Игровое поле представляет собой квадрат из N x N клеток, на котором расположено N кораблей (каждый корабль занимает одну клетку).\n",
    "Вася решил воспользоваться линейной тактикой, для этого ему необходимо выстроить все N кораблей в одном столбце. За один ход можно передвинуть один корабль в одну из четырёх соседних по стороне клеток. Номер столбца, в котором будут выстроены корабли, не важен. Определите минимальное количество ходов, необходимых для построения кораблей в одном столбце. В начале и процессе игры никакие два корабля не могут находиться в одной клетке.\n",
    "\n",
    "#### Формат ввода\n",
    "\n",
    "В первой строке входных данных задаётся число N (1-100)\n",
    "В каждой из следующих N строк задаются координаты корабля: сначала номер строки, затем номер столбца (нумерация начинается с единицы).\n",
    "\n",
    "#### Формат вывода\n",
    "\n",
    "Выведите одно число — минимальное количество ходов, необходимое для построения."
   ]
  },
  {
   "cell_type": "code",
   "execution_count": 22,
   "metadata": {},
   "outputs": [],
   "source": [
    "test = 1\n",
    "problem = \"I_PiratesOfTheBarentsSea\"\n",
    "module = '2'\n",
    "\n",
    "num_of_test = 1\n",
    "input, output = proc.return_input_output(module=module, problem=problem, tests=test, num_of_test=num_of_test)"
   ]
  },
  {
   "cell_type": "code",
   "execution_count": null,
   "metadata": {},
   "outputs": [],
   "source": []
  },
  {
   "cell_type": "code",
   "execution_count": null,
   "metadata": {},
   "outputs": [],
   "source": []
  },
  {
   "cell_type": "markdown",
   "metadata": {},
   "source": [
    "# J. Два прямоугольника\n",
    "\n",
    "Недавно один известный художник-абстракционист произвел на свет новый шедевр — картину «Два черных непересекающихся прямоугольника». Картина представляет собой прямоугольник m× n, разбитый на квадраты 1× 1, некоторые из которых закрашены любимым цветом автора — черным. Федя — не любитель абстрактных картин, однако ему стало интересно, действительно ли на картине изображены два непересекающихся прямоугольника. Помогите ему это узнать. Прямоугольники не пересекаются в том смысле, что они не имеют общих клеток.\n",
    "\n",
    "#### Формат ввода\n",
    "\n",
    "Первая строка входного файла содержит числа m и n (1 ≤ m, n ≤ 200). Следующие m строк содержат описание рисунка. Каждая строка содержит ровно n символов. Символ «.» обозначает пустой квадрат, а символ «#» — закрашенный.\n",
    "\n",
    "#### Формат вывода\n",
    "\n",
    "Если рисунок можно представить как два непересекающихся прямоугольника, выведите в первой строке «YES», а в следующих m строках выведите рисунок в том же виде, в каком он задан во входном файле, заменив квадраты, соответствующие первому прямоугольнику на символ «a», а второму — на символ «b». Если решений несколько, выведите любое.\n",
    "Если же этого сделать нельзя, выведите в выходной файл «NO»."
   ]
  },
  {
   "cell_type": "code",
   "execution_count": 23,
   "metadata": {},
   "outputs": [],
   "source": [
    "test = 4\n",
    "problem = \"J_TwoRectangles\"\n",
    "module = '2'\n",
    "\n",
    "num_of_test = 1\n",
    "input, output = proc.return_input_output(module=module, problem=problem, tests=test, num_of_test=num_of_test)"
   ]
  },
  {
   "cell_type": "code",
   "execution_count": null,
   "metadata": {},
   "outputs": [],
   "source": []
  }
 ],
 "metadata": {
  "kernelspec": {
   "display_name": "Python 3",
   "language": "python",
   "name": "python3"
  },
  "language_info": {
   "codemirror_mode": {
    "name": "ipython",
    "version": 3
   },
   "file_extension": ".py",
   "mimetype": "text/x-python",
   "name": "python",
   "nbconvert_exporter": "python",
   "pygments_lexer": "ipython3",
   "version": "3.12.1"
  }
 },
 "nbformat": 4,
 "nbformat_minor": 2
}
