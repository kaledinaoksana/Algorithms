{
 "cells": [
  {
   "cell_type": "markdown",
   "metadata": {},
   "source": [
    "# ЛЕКЦИЯ: Линейный поиск"
   ]
  },
  {
   "cell_type": "code",
   "execution_count": 1,
   "metadata": {},
   "outputs": [],
   "source": [
    "import processor as proc"
   ]
  },
  {
   "cell_type": "markdown",
   "metadata": {},
   "source": [
    "## Задача 1\n",
    "\n",
    "**Дано:** последовательность чисел длиной N\n",
    "\n",
    "**Задача:** Найти первое (левое) вхождение положительного числа X в нее или вывести -1, если число X не встречалось."
   ]
  },
  {
   "cell_type": "code",
   "execution_count": 2,
   "metadata": {},
   "outputs": [
    {
     "data": {
      "text/plain": [
       "2"
      ]
     },
     "execution_count": 2,
     "metadata": {},
     "output_type": "execute_result"
    }
   ],
   "source": [
    "def find_left_x(seq,x):\n",
    "    ans = -1\n",
    "    for i in range(len(seq)):\n",
    "        if ans == -1 and seq[i] == x:\n",
    "            ans = i\n",
    "    return ans\n",
    "\n",
    "find_left_x([1,23,3,5,2,32,4,3,2],3)\n"
   ]
  },
  {
   "cell_type": "markdown",
   "metadata": {},
   "source": [
    "## Задача 2\n",
    "\n",
    "**Дано:** последовательность чисел длиной N\n",
    "\n",
    "**Задача:** Найти последнее (правое) вхождение положительного числа X в нее или вывести -1, если число X не встречалось."
   ]
  },
  {
   "cell_type": "code",
   "execution_count": 3,
   "metadata": {},
   "outputs": [
    {
     "data": {
      "text/plain": [
       "7"
      ]
     },
     "execution_count": 3,
     "metadata": {},
     "output_type": "execute_result"
    }
   ],
   "source": [
    "def find_right_x(seq,x):\n",
    "    ans = -1\n",
    "    for i in range(len(seq)):\n",
    "        if seq[i] == x:\n",
    "            ans = i\n",
    "    return ans\n",
    "\n",
    "find_right_x([1,23,3,5,2,32,4,3,2],3)"
   ]
  },
  {
   "cell_type": "markdown",
   "metadata": {},
   "source": []
  },
  {
   "cell_type": "markdown",
   "metadata": {},
   "source": [
    "## Задача 3\n",
    "\n",
    "**Дано:** последовательность чисел длиной N\n",
    "\n",
    "**Задача:** Найти максимальное число в последовательности."
   ]
  },
  {
   "cell_type": "code",
   "execution_count": 4,
   "metadata": {},
   "outputs": [
    {
     "data": {
      "text/plain": [
       "32"
      ]
     },
     "execution_count": 4,
     "metadata": {},
     "output_type": "execute_result"
    }
   ],
   "source": [
    "# плох для строк из-за копирования переменных \n",
    "# (в питоне там ссылки, то еще нормально)\n",
    "\n",
    "def find_max_x(seq):\n",
    "    ans = seq[0]\n",
    "    for i in range(1,len(seq)):\n",
    "        if seq[i] > ans:\n",
    "            ans = seq[i]\n",
    "    return ans\n",
    "\n",
    "# как решить? запоминать не значение, а индекс\n",
    "# но образение по индексу может тоже занимать время\n",
    "# то есть зависит от языка на котором пишете\n",
    "\n",
    "def find_max_x_wo_copy(seq):\n",
    "    ans = 0\n",
    "    for i in range(1,len(seq)):\n",
    "        if seq[i] > seq[ans]:\n",
    "            ans = i\n",
    "    return seq[ans]\n",
    "\n",
    "\n",
    "find_max_x([1,23,3,5,2,32,4,3,2])\n",
    "find_max_x_wo_copy([1,23,3,5,2,32,4,3,2])"
   ]
  },
  {
   "cell_type": "markdown",
   "metadata": {},
   "source": [
    "## Задача 4\n",
    "\n",
    "**Дано:** последовательность чисел длиной N\n",
    "\n",
    "**Задача:** Найти максимальное число в последовательности и второе по величине число (в этой задаче если уберем одно макс - второе может быть таким же)\n",
    "\n"
   ]
  },
  {
   "cell_type": "code",
   "execution_count": 5,
   "metadata": {},
   "outputs": [
    {
     "data": {
      "text/plain": [
       "(32, 23)"
      ]
     },
     "execution_count": 5,
     "metadata": {},
     "output_type": "execute_result"
    }
   ],
   "source": [
    "def find_max_2(seq):\n",
    "    max1 = max(seq[0],seq[1])\n",
    "    max2 = min(seq[0],seq[1])\n",
    "    for i in range(2,len(seq)):\n",
    "        if seq[i] > max1:\n",
    "            max2 = max1\n",
    "            max1 = seq[i]\n",
    "        elif seq[i] > max2:\n",
    "            max2 = seq[i]\n",
    "    return (max1, max2)\n",
    "\n",
    "find_max_2([1,23,3,5,2,32,4,3,2])"
   ]
  },
  {
   "cell_type": "code",
   "execution_count": 6,
   "metadata": {},
   "outputs": [],
   "source": [
    "seq = [1,23,3,5,2,32,4,3,2]"
   ]
  },
  {
   "cell_type": "markdown",
   "metadata": {},
   "source": [
    "## Задача 5\n",
    "\n",
    "**Дано:** последовательность чисел длиной N\n",
    "\n",
    "**Задача:** Минимальное четное число послежовательности или, если его нет, вывести -1.\n",
    "\n"
   ]
  },
  {
   "cell_type": "code",
   "execution_count": 7,
   "metadata": {},
   "outputs": [
    {
     "data": {
      "text/plain": [
       "2"
      ]
     },
     "execution_count": 7,
     "metadata": {},
     "output_type": "execute_result"
    }
   ],
   "source": [
    "# \n",
    "\n",
    "def find_min_even(seq):\n",
    "    ans = -1\n",
    "    for i in range(len(seq)):\n",
    "        if seq[i]%2==0 and (ans == -1 or seq[i]<ans):\n",
    "            ans = seq[i]\n",
    "    return ans\n",
    "\n",
    "def find_min_even_with_flag(seq):\n",
    "    ans = -1\n",
    "    flag = False\n",
    "    for i in range(len(seq)):\n",
    "        if seq[i]%2==0 and (not flag or seq[i]<ans):\n",
    "            ans = seq[i]\n",
    "            flag = True\n",
    "    return ans\n",
    "\n",
    "find_min_even(seq)\n",
    "find_min_even_with_flag(seq)"
   ]
  },
  {
   "cell_type": "markdown",
   "metadata": {},
   "source": [
    "## Задача 6\n",
    "\n",
    "**Дано:** последовательность чисел длиной N\n",
    "\n",
    "**Задача:** Минимальное четное число послежовательности или, если его нет, вывести -1.\n"
   ]
  },
  {
   "cell_type": "code",
   "execution_count": 8,
   "metadata": {},
   "outputs": [
    {
     "data": {
      "text/plain": [
       "'d'"
      ]
     },
     "execution_count": 8,
     "metadata": {},
     "output_type": "execute_result"
    }
   ],
   "source": [
    "# двупроходный алгоритм\n",
    "# дана последовательность слов\n",
    "# вывести все самые короткие слова через пробел\n",
    "\n",
    "words=[\"aaa\", 'cc', 'd','sddas','ad']\n",
    "\n",
    "def short_words(words):\n",
    "    minlen = len(words[0])\n",
    "    for word in words:\n",
    "        if len(word) < minlen:\n",
    "            minlen = len(word)\n",
    "    # ans = '' # плохо - потом копируются\n",
    "    ans = []\n",
    "    for word in words:\n",
    "        if len(word) == minlen:\n",
    "            # ans += word + \" \"\n",
    "            ans.append(word)\n",
    "    # return ans\n",
    "    return ' '.join(ans)\n",
    "\n",
    "short_words(words)"
   ]
  },
  {
   "cell_type": "markdown",
   "metadata": {},
   "source": [
    "## Задача: 7\n",
    "\n",
    "**Дано:** последовательность чисел длиной N\n",
    "\n",
    "**Задача:** Игра PitCraft происходть в двумерном мире, который состоит из блоков размером 1 на 1 метр. Остров игрока представляет собой набор столбцов различной высоты, состоящих из блоков камня и окруженный морем. Над островом прошел сильный дождь, который заполнил водой все низины, а не поместившаяся в них вода стекла в море, не увеличив его уровень. \n",
    "\n",
    "По ландшафту острова определите, сколько блоков воды осталось после дождя в низинах на острове."
   ]
  },
  {
   "cell_type": "code",
   "execution_count": 9,
   "metadata": {},
   "outputs": [
    {
     "data": {
      "text/plain": [
       "9"
      ]
     },
     "execution_count": 9,
     "metadata": {},
     "output_type": "execute_result"
    }
   ],
   "source": [
    "# задача олимпиада школьников\n",
    "\n",
    "def isleflood(h):\n",
    "    maxpos = 0\n",
    "    # находим вершину острова\n",
    "    for i in range(len(h)):\n",
    "        if h[i] > h[maxpos]:\n",
    "            maxpos = i \n",
    "    ans = 0\n",
    "    nowm = 0\n",
    "    # двигаемся слева до вершины\n",
    "    for i in range(maxpos):\n",
    "        if h[i] > nowm:\n",
    "            nowm = h[i]\n",
    "        ans += nowm - h[i]\n",
    "    nowm = 0\n",
    "    # двигаемся справа до вершины\n",
    "    for i in range(len(h)-1, maxpos, -1):\n",
    "        if h[i] > nowm:\n",
    "            nowm = h[i]\n",
    "        ans += nowm - h[i]\n",
    "    return ans\n",
    "\n",
    "\n",
    "h=[4,1,6,4,8,2,2,4,1]\n",
    "isleflood(h)"
   ]
  },
  {
   "cell_type": "markdown",
   "metadata": {},
   "source": [
    "## Задача: 8 - RLE\n",
    "\n",
    "**Дано:** строка (возможно, пустая), состоящая из букв A-Z.\n",
    "\n",
    "**Задача:** Написать функцию RLE, которая на выходе выдаст строку вида *A4B4C2XYZD5E4F4A6B12*. Cгенерирует ошибку, если на вход пришла невалидная строка\n"
   ]
  },
  {
   "cell_type": "code",
   "execution_count": 10,
   "metadata": {},
   "outputs": [],
   "source": [
    "string = \"AAAABBBBCCXYZDDDDDEEEEFFFFAAAAAABBBBBBBBBBBBB\""
   ]
  },
  {
   "cell_type": "code",
   "execution_count": 11,
   "metadata": {},
   "outputs": [
    {
     "data": {
      "text/plain": [
       "'ABCXYZDEFAB'"
      ]
     },
     "execution_count": 11,
     "metadata": {},
     "output_type": "execute_result"
    }
   ],
   "source": [
    "# решение сначала простой задачи\n",
    "def string_wo_repeat(s):\n",
    "    lastsym = s[0]\n",
    "    ans = []\n",
    "    for i in range(len(s)):\n",
    "        if s[i] != lastsym:\n",
    "            ans.append(lastsym)\n",
    "            lastsym = s[i]\n",
    "    ans.append(lastsym)\n",
    "    return ''.join(ans)\n",
    "\n",
    "string_wo_repeat(string)\n"
   ]
  },
  {
   "cell_type": "code",
   "execution_count": 12,
   "metadata": {},
   "outputs": [
    {
     "data": {
      "text/plain": [
       "'A4B4C2XYZD5E4F4A6B13'"
      ]
     },
     "execution_count": 12,
     "metadata": {},
     "output_type": "execute_result"
    }
   ],
   "source": [
    "# решение задачи на основе простой\n",
    "def rle(s):\n",
    "    # буква+число на выходе \n",
    "    def pack(letter,cnt):\n",
    "        if cnt>1:\n",
    "            return letter + str(cnt)\n",
    "        return letter\n",
    "    \n",
    "    lastsym = s[0]\n",
    "    lastpos = 0\n",
    "    ans = []\n",
    "\n",
    "    # делаем аналогично - если новый элемент, \n",
    "    # записываем сколько прошло индексов с прошлого\n",
    "    for i in range(len(s)):\n",
    "        if s[i] != lastsym:\n",
    "            ans.append(pack(lastsym, i-lastpos))\n",
    "            lastpos = i\n",
    "            lastsym = s[i]\n",
    "\n",
    "    ans.append(pack(s[lastpos],len(s)-lastpos))\n",
    "\n",
    "    return ''.join(ans)\n",
    "\n",
    "rle(string)"
   ]
  },
  {
   "cell_type": "markdown",
   "metadata": {},
   "source": [
    "# Линейный поиск 50"
   ]
  },
  {
   "cell_type": "code",
   "execution_count": 13,
   "metadata": {},
   "outputs": [],
   "source": [
    "# экономия оперцаий!\n",
    "# ЗАДАЧА: найти одновременно максимум и минимум используя как можно меньше сравнений"
   ]
  },
  {
   "cell_type": "markdown",
   "metadata": {},
   "source": [
    "# ЗАДАЧИ МОДУЛЬ 2"
   ]
  },
  {
   "cell_type": "markdown",
   "metadata": {},
   "source": [
    "## A. Минимальный прямоугольник\n",
    "\n",
    "На клетчатой плоскости закрашено K клеток. Требуется найти минимальный по площади прямоугольник, со сторонами, параллельными линиям сетки, покрывающий все закрашенные клетки.\n",
    "\n",
    "#### Формат ввода\n",
    "\n",
    "Во входном файле, на первой строке, находится число K (1 ≤ K ≤ 100). На следующих K строках находятся пары чисел Xi и Yi — координаты закрашенных клеток (|Xi|, |Yi| ≤ 109).\n",
    "\n",
    "#### Формат вывода\n",
    "\n",
    "Выведите в выходной файл координаты левого нижнего и правого верхнего углов прямоугольника."
   ]
  },
  {
   "cell_type": "code",
   "execution_count": 14,
   "metadata": {},
   "outputs": [],
   "source": [
    "test = 1\n",
    "problem = 'A_MinimalRectangle'\n",
    "module = '2'\n",
    "\n",
    "num_of_test = 1\n",
    "input_file, output = proc.return_input_output(module=module, problem=problem, tests=test, num_of_test=num_of_test)"
   ]
  },
  {
   "cell_type": "code",
   "execution_count": 15,
   "metadata": {},
   "outputs": [
    {
     "name": "stdout",
     "output_type": "stream",
     "text": [
      "1 1 6 5\n"
     ]
    }
   ],
   "source": [
    "# my right answer\n",
    "def scan_file_input(input_file):\n",
    "    file = open(input_file, 'r')\n",
    "    K = int(file.readline().strip())\n",
    "    ys = []\n",
    "    xs = []\n",
    "\n",
    "    for _ in range(K):\n",
    "        x, y = file.readline().strip().split()\n",
    "        ys.append(int(y))\n",
    "        xs.append(int(x))\n",
    "        \n",
    "    file.close()\n",
    "    return K, ys, xs\n",
    "\n",
    "def find_min_max(seq):\n",
    "    max1 = max(seq[0],seq[1])\n",
    "    min1 = min(seq[0],seq[1])\n",
    "    for i in range(2,len(seq)):\n",
    "        if seq[i] > max1:\n",
    "            max1 = seq[i]\n",
    "        if seq[i] < min1:\n",
    "            min1 = seq[i]\n",
    "    return max1, min1\n",
    "\n",
    "# input_file = 'input.txt'\n",
    "K, ys, xs = scan_file_input(input_file)\n",
    "\n",
    "if K!=1:\n",
    "    max_y, min_y = find_min_max(ys)\n",
    "    max_x, min_x = find_min_max(xs)\n",
    "    answer = f\"{min_x} {min_y} {max_x} {max_y}\"\n",
    "else:\n",
    "    answer = f\"{xs[0]} {ys[0]} {xs[0]} {ys[0]}\"\n",
    "\n",
    "print(answer)"
   ]
  },
  {
   "cell_type": "code",
   "execution_count": 16,
   "metadata": {},
   "outputs": [
    {
     "name": "stdout",
     "output_type": "stream",
     "text": [
      "1 2 8 5\n"
     ]
    }
   ],
   "source": [
    "# RIGHT CODE FROM INPUT\n",
    "\n",
    "k=int(input())\n",
    "# инициализируем первой строкой координат minx, miny\n",
    "minx, miny = map(int, input().split()) \n",
    "# и в min и в max положили\n",
    "maxx, maxy = minx, miny\n",
    "for i in range(k - 1):\n",
    "    x, y = map(int, input().split())\n",
    "    minx = min(minx, x)\n",
    "    maxx = max(maxx, x)\n",
    "    miny = min(miny, y)\n",
    "    maxy = max(maxy, y)\n",
    "\n",
    "print(minx, miny, maxx, maxy)\n"
   ]
  },
  {
   "cell_type": "code",
   "execution_count": 17,
   "metadata": {},
   "outputs": [
    {
     "name": "stdout",
     "output_type": "stream",
     "text": [
      "1 1 6 5\n"
     ]
    }
   ],
   "source": [
    "# RIGHT CODE FROM FILE\n",
    "\n",
    "file = open(input_file, 'r')\n",
    "\n",
    "k=int(file.readline().strip())\n",
    "minx, miny = map(int, file.readline().strip().split())\n",
    "maxx, maxy = minx, miny\n",
    "for i in range(k-1):\n",
    "    x, y = map(int, file.readline().strip().split())\n",
    "    minx = min(minx, x)\n",
    "    maxx = max(maxx, x)\n",
    "    miny = min(miny, y)\n",
    "    maxy = max(maxy, y)\n",
    "\n",
    "file.close()\n",
    "\n",
    "print(minx, miny, maxx, maxy)"
   ]
  },
  {
   "cell_type": "markdown",
   "metadata": {},
   "source": [
    "## B. Продавец рыбы\n",
    "\n",
    "Вася решил заняться торговлей рыбой. С помощью методов машинного обучения он предсказал цены на рыбу на N дней вперёд. Он решил, что в один день он купит рыбу, а в один из следующих дней — продаст (то есть совершит или ровно одну покупку и продажу или вообще не совершит покупок и продаж, если это не принесёт ему прибыли). К сожалению, рыба — товар скоропортящийся и разница между номером дня продажи и номером дня покупки не должна превышать K.\n",
    "\n",
    "Определите, какую максимальную прибыль получит Вася.\n",
    "\n",
    "#### Формат ввода\n",
    "\n",
    "В первой строке входных данных задаются числа N и K (1 ≤ N ≤ 10000, 1 ≤ K ≤ 100).\n",
    "\n",
    "Во второй строке задаются цены на рыбу в каждый из N дней. Цена — целое число, которое может находится в пределах от 1 до 109.\n",
    "\n",
    "#### Формат вывода\n",
    "\n",
    "Выведите одно число — максимальную прибыль, которую получит Вася."
   ]
  },
  {
   "cell_type": "code",
   "execution_count": 18,
   "metadata": {},
   "outputs": [
    {
     "name": "stdout",
     "output_type": "stream",
     "text": [
      "ANSWER: 2\n"
     ]
    }
   ],
   "source": [
    "import processor as proc\n",
    "\n",
    "test = 2\n",
    "problem = 'B_FishSaler'\n",
    "module = '2'\n",
    "\n",
    "num_of_test = 1\n",
    "input_file, output = proc.return_input_output(module=module, problem=problem, tests=test, num_of_test=num_of_test)\n",
    "\n",
    "def scan_file_output(output):\n",
    "    file = open(output, 'r')\n",
    "    profit = int(file.readline().strip())\n",
    "    file.close()\n",
    "    return profit\n",
    "\n",
    "print(\"ANSWER:\", scan_file_output(output))"
   ]
  },
  {
   "cell_type": "code",
   "execution_count": 19,
   "metadata": {},
   "outputs": [
    {
     "name": "stdout",
     "output_type": "stream",
     "text": [
      "2\n"
     ]
    }
   ],
   "source": [
    "# МОЕ ВЕРНОЕ РЕШЕНИЕ N*K\n",
    "\n",
    "def scan_file_input(input):\n",
    "    file = open(input, 'r')\n",
    "    N, K = [int(n) for n in file.readline().split(' ')]\n",
    "    prices = [int(n) for n in file.readline().split(' ')]\n",
    "    file.close()\n",
    "    return N, K, prices\n",
    "\n",
    "# input_file = 'input.txt'\n",
    "input_file = input_file\n",
    "N, K, prices = scan_file_input(input_file)\n",
    "\n",
    "diff=0\n",
    "if N!=1:\n",
    "    window = min(K+1,N)\n",
    "    for i in range(len(prices)):\n",
    "        for j in range(1,min(len(prices)-i,window)):\n",
    "            if prices[i+j]-prices[i]>diff:\n",
    "                diff = prices[i+j]-prices[i]\n",
    "\n",
    "print(diff)"
   ]
  },
  {
   "cell_type": "code",
   "execution_count": 20,
   "metadata": {},
   "outputs": [
    {
     "name": "stdout",
     "output_type": "stream",
     "text": [
      "2\n"
     ]
    }
   ],
   "source": [
    "# ВЕРНОЕ РЕШЕНИЕ FILE\n",
    "\n",
    "file = open(input_file, 'r')\n",
    "n,k = [int(n) for n in file.readline().split(' ')]\n",
    "a = [int(n) for n in file.readline().split(' ')]\n",
    "file.close()\n",
    "\n",
    "maxinc = 0\n",
    "for i in range(n):\n",
    "    for j in range(k + 1):\n",
    "        if i+j<n:\n",
    "            maxinc = max(maxinc, a[i+j] - a[i])\n",
    "\n",
    "print (maxinc)"
   ]
  },
  {
   "cell_type": "code",
   "execution_count": 21,
   "metadata": {},
   "outputs": [
    {
     "ename": "ValueError",
     "evalue": "not enough values to unpack (expected 2, got 0)",
     "output_type": "error",
     "traceback": [
      "\u001b[0;31m---------------------------------------------------------------------------\u001b[0m",
      "\u001b[0;31mValueError\u001b[0m                                Traceback (most recent call last)",
      "Cell \u001b[0;32mIn[21], line 2\u001b[0m\n\u001b[1;32m      1\u001b[0m \u001b[38;5;66;03m# ВЕРНОЕ РЕШЕНИЕ INPUT\u001b[39;00m\n\u001b[0;32m----> 2\u001b[0m n,k \u001b[38;5;241m=\u001b[39m \u001b[38;5;28mmap\u001b[39m(\u001b[38;5;28mint\u001b[39m, \u001b[38;5;28minput\u001b[39m()\u001b[38;5;241m.\u001b[39msplit())\n\u001b[1;32m      3\u001b[0m a \u001b[38;5;241m=\u001b[39m \u001b[38;5;28mlist\u001b[39m(\u001b[38;5;28mmap\u001b[39m(\u001b[38;5;28mint\u001b[39m, \u001b[38;5;28minput\u001b[39m()\u001b[38;5;241m.\u001b[39msplit()))\n\u001b[1;32m      4\u001b[0m maxinc \u001b[38;5;241m=\u001b[39m \u001b[38;5;241m0\u001b[39m\n",
      "\u001b[0;31mValueError\u001b[0m: not enough values to unpack (expected 2, got 0)"
     ]
    }
   ],
   "source": [
    "# ВЕРНОЕ РЕШЕНИЕ INPUT\n",
    "n,k = map(int, input().split())\n",
    "a = list(map(int, input().split()))\n",
    "maxinc = 0\n",
    "for i in range(n):\n",
    "    for j in range(k + 1):\n",
    "        if i+j<n:\n",
    "            maxinc = max (maxinc, a[i + j] - a[i])\n",
    "\n",
    "print (maxinc)"
   ]
  },
  {
   "cell_type": "markdown",
   "metadata": {},
   "source": [
    "## C. Петя, Маша и верёвочки\n",
    "\n",
    "На столе лежали две одинаковые верёвочки целой положительной длины.\n",
    "\n",
    "Петя разрезал одну из верёвочек на N частей, каждая из которых имеет целую положительную длину, так что на столе стало N+1 верёвочек. Затем в комнату зашла Маша и взяла одну из лежащих на столе верёвочек. По длинам оставшихся на столе N верёвочек определите, какую наименьшую длину может иметь верёвочка, взятая Машей.\n",
    "\n",
    "#### Формат ввода\n",
    "\n",
    "Первая строка входных данных содержит одно целое число N — количество верёвочек, оставшихся на столе (2 ≤ N ≤ 1000). Во второй строке содержится N целых чисел li — длины верёвочек (1 ≤ li ≤ 1000).\n",
    "\n",
    "#### Формат вывода\n",
    "\n",
    "Выведите одно целое число — наименьшую длину, которую может иметь верёвочка, взятая Машей."
   ]
  },
  {
   "cell_type": "code",
   "execution_count": null,
   "metadata": {},
   "outputs": [
    {
     "name": "stdout",
     "output_type": "stream",
     "text": [
      "ANSWER: 24\n"
     ]
    }
   ],
   "source": [
    "tests = 2\n",
    "problem = 'C_Verevochki'\n",
    "module = '2'\n",
    "\n",
    "num_of_test = 2\n",
    "input_file, output = proc.return_input_output(module=module, problem=problem, tests=test, num_of_test=num_of_test)\n",
    "\n",
    "def scan_file_output(output):\n",
    "    file = open(output, 'r')\n",
    "    profit = int(file.readline().strip())\n",
    "    file.close()\n",
    "    return profit\n",
    "\n",
    "print(\"ANSWER:\", scan_file_output(output))"
   ]
  },
  {
   "cell_type": "code",
   "execution_count": null,
   "metadata": {},
   "outputs": [
    {
     "name": "stdout",
     "output_type": "stream",
     "text": [
      "24\n"
     ]
    }
   ],
   "source": [
    "# МОЕ ВЕРНОЕ РЕШЕНИЕ\n",
    "\n",
    "def scan_file_input(input_file):\n",
    "    file = open(input_file, 'r')\n",
    "    N = int(file.readline())\n",
    "    int_list_of_N = [int(n) for n in file.readline().split(' ')]\n",
    "    file.close()\n",
    "    return N, int_list_of_N\n",
    "\n",
    "# input_file = \"input.txt\"\n",
    "input_file = input_file\n",
    "N, ropes = scan_file_input(input_file)\n",
    "\n",
    "def find_sum_max(seq):\n",
    "    max1 = seq[0]\n",
    "    sum1 = seq[0]\n",
    "    for i in range(1,len(seq)):\n",
    "        sum1 = sum1 + seq[i]\n",
    "        if seq[i] > max1:\n",
    "            max1 = seq[i]   \n",
    "    return max1, sum1\n",
    "\n",
    "max1, sum1 = find_sum_max(ropes)\n",
    "\n",
    "others = sum1 - max1\n",
    "\n",
    "if others < max1:\n",
    "    min_rope = max1 - others\n",
    "else:\n",
    "    min_rope = sum1\n",
    "\n",
    "print(min_rope)"
   ]
  },
  {
   "cell_type": "code",
   "execution_count": null,
   "metadata": {},
   "outputs": [
    {
     "name": "stdout",
     "output_type": "stream",
     "text": [
      "24\n"
     ]
    }
   ],
   "source": [
    "# ВЕРНОЕ РЕШЕНИЕ INPUT\n",
    "\n",
    "n = int(input())\n",
    "a = list(map(int, input().split()))\n",
    "suma = sum(a)\n",
    "maxa = max(a)\n",
    "if maxa * 2 > suma:\n",
    "    print(maxa * 2 - suma)\n",
    "else:\n",
    "    print (suma)"
   ]
  },
  {
   "cell_type": "code",
   "execution_count": null,
   "metadata": {},
   "outputs": [
    {
     "name": "stdout",
     "output_type": "stream",
     "text": [
      "24\n"
     ]
    }
   ],
   "source": [
    "# ВЕРНОЕ РЕШЕНИЕ FILE\n",
    "file = open(input_file, 'r')\n",
    "n = int(file.readline().strip())\n",
    "a = [int(n) for n in file.readline().split(' ')]\n",
    "file.close()\n",
    "\n",
    "suma = sum(a)\n",
    "maxa = max(a)\n",
    "if maxa * 2 > suma:\n",
    "    print(maxa * 2 - suma)\n",
    "else:\n",
    "    print (suma)"
   ]
  },
  {
   "cell_type": "markdown",
   "metadata": {},
   "source": [
    "## D. Шахматная доска\n",
    "\n",
    "Из шахматной доски по границам клеток выпилили связную (не распадающуюся на части) фигуру без дыр. Требуется определить ее периметр.\n",
    "\n",
    "#### Формат ввода\n",
    "\n",
    "Сначала вводится число N (1 ≤ N ≤ 64) – количество выпиленных клеток. В следующих N строках вводятся координаты выпиленных клеток, разделенные пробелом (номер строки и столбца – числа от 1 до 8). Каждая выпиленная клетка указывается один раз.\n",
    "\n",
    "#### Формат вывода\n",
    "\n",
    "Выведите одно число – периметр выпиленной фигуры (сторона клетки равна единице)."
   ]
  },
  {
   "cell_type": "code",
   "execution_count": null,
   "metadata": {},
   "outputs": [
    {
     "name": "stdout",
     "output_type": "stream",
     "text": [
      "ANSWER: 8\n"
     ]
    }
   ],
   "source": [
    "test = 2\n",
    "problem = \"D_ChessBoard\"\n",
    "module = '2'\n",
    "\n",
    "num_of_test = 1\n",
    "input_file, output = proc.return_input_output(module=module, problem=problem, tests=test, num_of_test=num_of_test)\n",
    "\n",
    "def scan_file_output(output):\n",
    "    file = open(output, 'r')\n",
    "    ans = int(file.readline().strip())\n",
    "    file.close()\n",
    "    return ans\n",
    "\n",
    "\n",
    "print(\"ANSWER:\", scan_file_output(output))"
   ]
  },
  {
   "cell_type": "code",
   "execution_count": null,
   "metadata": {},
   "outputs": [
    {
     "name": "stdout",
     "output_type": "stream",
     "text": [
      "8\n"
     ]
    }
   ],
   "source": [
    "# МОЕ ВЕРНОЕ РЕШЕНИЕ\n",
    "\n",
    "def scan_file_input(input_file):\n",
    "    file = open(input_file, 'r')\n",
    "    N = int(file.readline())\n",
    "    dx = []\n",
    "    dy = []\n",
    "    for _ in range(N):\n",
    "        x,y = [int(n) for n in file.readline().split(' ')]\n",
    "        dx.append(x)\n",
    "        dy.append(y)\n",
    "\n",
    "    file.close()\n",
    "    return N, dx, dy\n",
    "\n",
    "# input_file = \"input.txt\"\n",
    "N, dx, dy = scan_file_input(input_file)\n",
    "\n",
    "perimeter = 0\n",
    "board_N = 8\n",
    "field = []\n",
    "border = '-'\n",
    "big_board_N = board_N+2\n",
    "\n",
    "for k in range(big_board_N):\n",
    "    if k==0 or k==board_N+1:\n",
    "        field.append([border]*(big_board_N))\n",
    "    else:\n",
    "        field.append([border]+[\"-\"]*(board_N)+[border])\n",
    "\n",
    "for _ in field:\n",
    "    for k in range(len(dx)):\n",
    "        field[dx[k]][dy[k]] = \"*\"\n",
    "\n",
    "for i in range(1,big_board_N-1):\n",
    "    for j in range(1, big_board_N-1):\n",
    "        if field[i][j] == \"*\":\n",
    "            di = [ 0, 0, 1,-1]\n",
    "            dj = [ 1,-1, 0, 0]\n",
    "            for dest in range(4):\n",
    "                ni,nj = i+di[dest],j+dj[dest]\n",
    "                if field[ni][nj] == \"-\":\n",
    "                    perimeter += 1\n",
    "\n",
    "print(perimeter)     "
   ]
  },
  {
   "cell_type": "code",
   "execution_count": null,
   "metadata": {},
   "outputs": [
    {
     "name": "stdout",
     "output_type": "stream",
     "text": [
      "8\n"
     ]
    }
   ],
   "source": [
    "# Верное решение input\n",
    "n = int(input())\n",
    "field = [[0] * 10 for _ in range (10)]\n",
    "\n",
    "for _ in range(n):\n",
    "    i, j = map(int, input().split())\n",
    "    field[i][j] = 1\n",
    "\n",
    "ans = 0\n",
    "# проходим все клетки 10 - не включается!! т е до 9 (граница)\n",
    "for i in range(1, 10):\n",
    "    for j in range (1, 10):\n",
    "        # клетки сверху и слева не равны нашей\n",
    "        ans += field[i][j - 1] != field[i][j] \n",
    "        ans += field[i - 1][j] != field[i][j]\n",
    "\n",
    "print (ans)"
   ]
  },
  {
   "cell_type": "code",
   "execution_count": null,
   "metadata": {},
   "outputs": [
    {
     "name": "stdout",
     "output_type": "stream",
     "text": [
      "8\n"
     ]
    }
   ],
   "source": [
    "# Верное решение file\n",
    "\n",
    "file = open(input_file, 'r')\n",
    "n = int(file.readline().strip())\n",
    "field = [[0] * 10 for _ in range (10)]\n",
    "\n",
    "for _ in range(n):\n",
    "    i, j = [int(n) for n in file.readline().split(' ')]\n",
    "    field[i][j] = 1\n",
    "\n",
    "file.close()\n",
    "\n",
    "ans = 0\n",
    "# проходим все клетки 10 - не включается!! т е до 9 (граница)\n",
    "for i in range(1, 10):\n",
    "    for j in range (1, 10):\n",
    "        # клетки сверху и слева не равны нашей\n",
    "        ans += field[i][j - 1] != field[i][j] \n",
    "        ans += field[i - 1][j] != field[i][j]\n",
    "\n",
    "print (ans)"
   ]
  },
  {
   "cell_type": "markdown",
   "metadata": {},
   "source": [
    "## E. Амбициозная улитка\n",
    "\n",
    "Домашний питомец мальчика Васи — улитка Петя. Петя обитает на бесконечном в обе стороны вертикальном столбе, который для удобства можно представить как числовую прямую. Изначально Петя находится в точке 0.\n",
    "\n",
    "Вася кормит Петю ягодами. У него есть N ягод, каждая в единственном экземпляре. Вася знает, что если утром он даст Пете ягоду с номером i, то поев и набравшись сил, за остаток дня Петя поднимется на ai единиц вверх по столбу, но при этом за ночь, потяжелев, съедет на bi единиц вниз. Параметры различных ягод могут совпадать.\n",
    "\n",
    "Пете стало интересно, а как оно там, наверху, и Вася взялся ему в этом помочь. Ближайшие n дней он будет кормить Петю ягодами из своего запаса таким образом, чтобы максимальная высота, на которой побывал Петя за эти n дней была максимальной. К сожалению, Вася не умеет программировать, поэтому он попросил вас о помощи. Найдите, максимальную высоту, на которой Петя сможет побывать за эти n дней и в каком порядке Вася должен давать Пете ягоды, чтобы Петя смог её достичь!\n",
    "\n",
    "#### Формат ввода\n",
    "\n",
    "В первой строке входных данных дано число  — количество ягод у Васи. В последующих n строках описываются параметры каждой ягоды. В i+1 строке дано два числа — то, насколько поднимется улитка за день после того, как съест i ягоду и насколько опуститься за ночь.\n",
    "\n",
    "#### Формат вывода\n",
    "\n",
    "В первой строке выходных данных выведите единственное число — максимальную высоту, которую сможет достичь Петя, если Вася будет его кормить оптимальным образом. В следующей строке выведите n различных целых чисел от 1 до n — порядок, в котором Вася должен кормить Петю (i число в строке соответствует номеру ягоды, которую Вася должен дать Пете в i день чтобы Петя смог достичь максимальной высоты)."
   ]
  },
  {
   "cell_type": "code",
   "execution_count": 31,
   "metadata": {},
   "outputs": [
    {
     "name": "stdout",
     "output_type": "stream",
     "text": [
      "ANSWER:\n",
      " 10 \n",
      " 2 1\n"
     ]
    }
   ],
   "source": [
    "test = 4\n",
    "problem = \"E_AmbitiousSnail\"\n",
    "module = '2'\n",
    "\n",
    "num_of_test = 2\n",
    "input_file, output = proc.return_input_output(module=module, problem=problem, tests=test, num_of_test=num_of_test)\n",
    "\n",
    "def scan_file_output(output):\n",
    "    file = open(output, 'r')\n",
    "    ans = int(file.readline().strip())\n",
    "    int_arr = file.readline().strip()\n",
    "    file.close()\n",
    "    return ans,int_arr\n",
    "\n",
    "ans, int_arr = scan_file_output(output)\n",
    "print(\"ANSWER:\\n\", ans,\"\\n\", int_arr)"
   ]
  },
  {
   "cell_type": "markdown",
   "metadata": {},
   "source": [
    "**Задача 2Е: Ключевые идеи**\n",
    "\n",
    "1. Ягоды с неотрицательной разностью а и b улитка съест все (назовем их хорошими). Последней среди хороших улитка съест ягоду і (с максимальным bi), тогда подъем будет сумма всех подъемов минус сумма всех спусков, кроме максимального bi\n",
    "\n",
    "3. Посмотрим что будет, если съесть плохую ягоду с максимальным а;\n",
    "2. Доедаем оставшиеся плохие ягоды"
   ]
  },
  {
   "cell_type": "code",
   "execution_count": 32,
   "metadata": {},
   "outputs": [
    {
     "name": "stdout",
     "output_type": "stream",
     "text": [
      "10\n",
      "2 1\n"
     ]
    }
   ],
   "source": [
    "file = open(input_file, 'r') ###\n",
    "\n",
    "# n = int(input())\n",
    "n = int(file.readline().strip()) ###\n",
    "maxgoodi = -1\n",
    "maxbadi = -1\n",
    "a = []\n",
    "b = []\n",
    "used = [False] * (n + 1)\n",
    "\n",
    "for i in range(n) :\n",
    "    # ta, tb = map(int, input().split())\n",
    "    ta, tb = [int(n) for n in file.readline().strip().split(' ')] ###\n",
    "    a.append(ta)\n",
    "    b.append(tb)\n",
    "\n",
    "    if ta >= tb and (maxgoodi == -1 or tb > b[maxgoodi]):\n",
    "        maxgoodi = i\n",
    "    if ta < tb and (maxbadi == -1 or ta > a[maxbadi]):\n",
    "        maxbadi = i\n",
    "\n",
    "file.close() ###\n",
    "\n",
    "ans = []\n",
    "maxh = 0\n",
    "\n",
    "for i in range(n):\n",
    "    if a[i] > b[i] and i != maxgoodi:\n",
    "        ans.append(i + 1)\n",
    "        used[i + 1] = True\n",
    "        maxh += a[i] - b[i]\n",
    "\n",
    "if maxgoodi != -1 and \\\n",
    "    (maxbadi!= -1 and a[maxgoodi]>(a[maxgoodi]-b[maxgoodi]+a[maxbadi])) or \\\n",
    "    (maxbadi == -1):\n",
    "    maxh += a[maxgoodi]\n",
    "    ans.append(maxgoodi + 1)\n",
    "    used[maxgoodi + 1] = True\n",
    "else:\n",
    "    if maxbadi != -1: \n",
    "        if maxgoodi != -1:\n",
    "            maxh += a[maxgoodi] - b[maxgoodi]\n",
    "            ans. append (maxgoodi + 1)\n",
    "            used[maxgoodi + 1] = True\n",
    "        maxh += a[maxbadi]\n",
    "        ans.append(maxbadi + 1)\n",
    "        used[maxbadi + 1] = True\n",
    "\n",
    "print(maxh)\n",
    "\n",
    "for i in range(1, n + 1):\n",
    "    if not used[i]:\n",
    "        ans.append (i)\n",
    "\n",
    "print(*ans)"
   ]
  },
  {
   "cell_type": "markdown",
   "metadata": {},
   "source": [
    "## F. Колесо Фортуны\n",
    "\n",
    "Развлекательный телеканал транслирует шоу «Колесо Фортуны». В процессе игры участники шоу крутят большое колесо, разделенное на сектора. В каждом секторе этого колеса записано число. После того как колесо останавливается, специальная стрелка указывает на один из секторов. Число в этом секторе определяет выигрыш игрока.\n",
    "Юный участник шоу заметил, что колесо в процессе вращения замедляется из-за того, что стрелка задевает за выступы на колесе, находящиеся между секторами. Если колесо вращается с угловой скоростью v градусов в секунду, и стрелка, переходя из сектора X к следующему сектору, задевает за очередной выступ, то текущая угловая скорость движения колеса уменьшается на k градусов в секунду. При этом если v ≤ k, то колесо не может преодолеть препятствие и останавливается. Стрелка в этом случае будет указывать на сектор X.\n",
    "\n",
    "Юный участник шоу собирается вращать колесо. Зная порядок секторов на колесе, он хочет заставить колесо вращаться с такой начальной скоростью, чтобы после остановки колеса стрелка указала на как можно большее число. Колесо можно вращать в любом направлении и придавать ему начальную угловую скорость от a до b градусов в секунду.\n",
    "Требуется написать программу, которая по заданному расположению чисел в секторах, минимальной и максимальной начальной угловой скорости вращения колеса и величине замедления колеса при переходе через границу секторов вычисляет максимальный выигрыш.\n",
    "\n",
    "#### Формат ввода\n",
    "\n",
    "Первая строка входного файла содержит целое число n — количество секторов колеса (3 ≤ n ≤ 100).\n",
    "Вторая строка входного файла содержит n положительных целых чисел, каждое из которых не превышает 1000 — числа, записанные в секторах колеса. Числа приведены в порядке следования секторов по часовой стрелке. Изначально стрелка указывает на первое число.\n",
    "Третья строка содержит три целых числа: a, b и k (1 ≤ a ≤ b ≤ 109, 1 ≤ k ≤ 109).\n",
    "\n",
    "#### Формат вывода\n",
    "\n",
    "В выходном файле должно содержаться одно целое число — максимальный выигрыш."
   ]
  },
  {
   "cell_type": "code",
   "execution_count": 47,
   "metadata": {},
   "outputs": [
    {
     "name": "stdout",
     "output_type": "stream",
     "text": [
      "5\n"
     ]
    }
   ],
   "source": [
    "test = 7\n",
    "\n",
    "problem = \"F_WheelOfFortune\"\n",
    "module = '2'\n",
    "\n",
    "num_of_test = 3\n",
    "input_file, output = proc.return_input_output(module=module, problem=problem, tests=test, num_of_test=num_of_test)\n",
    "\n",
    "def scan_file_output(input_file):\n",
    "    file = open(input_file, 'r')\n",
    "    ans = int(file.readline().strip())\n",
    "    file.close()\n",
    "    return ans\n",
    "\n",
    "ans = scan_file_output(output)\n",
    "print(ans)"
   ]
  },
  {
   "cell_type": "code",
   "execution_count": 48,
   "metadata": {},
   "outputs": [
    {
     "name": "stdout",
     "output_type": "stream",
     "text": [
      "5\n"
     ]
    }
   ],
   "source": [
    "# МОЕ ВЕРНОЕ РЕШЕНИЕ\n",
    "\n",
    "def scan_file_input(input_file):\n",
    "    file = open(input_file, 'r')\n",
    "    N = int(file.readline())\n",
    "    int_list_of_N = [int(n) for n in file.readline().split(' ')]\n",
    "    a,b,k = [int(n) for n in file.readline().split(' ')]\n",
    "    file.close()\n",
    "    return N,int_list_of_N,a,b,k\n",
    "\n",
    "def ceil_without_imports(number):\n",
    "    if number == int(number):\n",
    "        return int(number)\n",
    "    else:\n",
    "        return int(number) + 1\n",
    "\n",
    "# input_file=\"input.txt\"\n",
    "N,arr_n,a,b,k = scan_file_input(input_file)\n",
    "\n",
    "n1 = (a-1)//k\n",
    "n2 = (b-1)//k\n",
    "\n",
    "if k*N<(n2-n1):\n",
    "    n2=k*N+n1\n",
    "\n",
    "res = 0\n",
    "max1,max2 = 0,0\n",
    "\n",
    "reversed_arr_n = arr_n.copy() \n",
    "reversed_arr_n.reverse() \n",
    "\n",
    "if n1<0: n1=0\n",
    "if n2<0: n2=0\n",
    "\n",
    "if b>k:\n",
    "    if n1!=n2:\n",
    "        for i in range(n1,n2+1):\n",
    "            boarders = i\n",
    "            max1 = arr_n[boarders%N]\n",
    "\n",
    "            if boarders%N-1<0:\n",
    "                max2 = reversed_arr_n[-1]\n",
    "            else:\n",
    "                max2 = reversed_arr_n[boarders%N-1]\n",
    "\n",
    "            if max(max1,max2)>res:\n",
    "                res = max(max1,max2)\n",
    "    else:\n",
    "        max1 = arr_n[n1%N-1]\n",
    "        max2 = reversed_arr_n[n1%N-1]\n",
    "        res = max(max1,max2)\n",
    "else:\n",
    "    res = arr_n[0]\n",
    "\n",
    "print(res)\n"
   ]
  },
  {
   "cell_type": "code",
   "execution_count": 51,
   "metadata": {},
   "outputs": [
    {
     "name": "stdout",
     "output_type": "stream",
     "text": [
      "5\n"
     ]
    }
   ],
   "source": [
    "# ВЕРНОЕ РЕШЕНИЕ\n",
    "\n",
    "# n = int(input())\n",
    "# vals = list(map(int, input().split())\n",
    "# a, b, k = map(int, input().split())\n",
    "\n",
    "file = open(input_file, 'r') ###\n",
    "\n",
    "n = int(file.readline().strip()) ###\n",
    "vals = [int(n) for n in file.readline().strip().split(' ')] ###\n",
    "a, b, k = map(int, file.readline().strip().split(' ')) ###\n",
    "\n",
    "file.close() ###\n",
    "\n",
    "minsect = (a - 1) // k\n",
    "maxsect = (b - 1) // K\n",
    "\n",
    "ans = -1\n",
    "\n",
    "for j in range (2):\n",
    "    usedsect = [False] * n  # O(N) дополнительной памяти \n",
    "    for i in range(minsect, maxsect + 1):\n",
    "        ans = max(ans, vals[i % n])\n",
    "        if usedsect[i % n]==0:\n",
    "            break\n",
    "        usedsect [i % n] = True\n",
    "    # разворачиваем колесо\n",
    "    vals = [vals[0]] + vals[1:][:: -1]\n",
    "\n",
    "print (ans)"
   ]
  },
  {
   "cell_type": "markdown",
   "metadata": {},
   "source": [
    "## G. Ни больше ни меньше\n",
    "\n",
    "Дан массив целых положительных чисел a длины n. Разбейте его на минимально возможное количество отрезков, чтобы каждое число было не меньше длины отрезка которому оно принадлежит. Длиной отрезка считается количество чисел в нем.\n",
    "Разбиение массива на отрезки считается корректным, если каждый элемент принадлежит ровно одному отрезку.\n",
    "\n",
    "#### Формат ввода\n",
    "\n",
    "Первая строка содержит одно целое число t (1 ≤ t ≤ 1 000) — количество наборов тестовых данных. Затем следуют t наборов тестовых данных.\n",
    "Первая строка набора тестовых данных содержит одно целое число n (1 ≤ n ≤ 105) — длину массива.\n",
    "Следующая строка содержит n целых чисел a1, a2, …, an (1 ≤ ai ≤ n) — массив a.\n",
    "Гарантируется, что сумма n по всем наборам тестовых данных не превосходит 2 ⋅ 105.\n",
    "\n",
    "#### Формат вывода\n",
    "\n",
    "Для каждого набора тестовых данных в первой строке выведите число k — количество отрезков в вашем разбиении.\n",
    "Затем в следующей строке выведите k чисел len1, len2, …, lenk  — длины отрезков в порядке слева направо."
   ]
  },
  {
   "cell_type": "code",
   "execution_count": 59,
   "metadata": {},
   "outputs": [],
   "source": [
    "test = 1\n",
    "problem = \"G_NoMoreNoLess\"\n",
    "module = '2'\n",
    "\n",
    "num_of_test = 1\n",
    "input_file, output = proc.return_input_output(module=module, problem=problem, tests=test, num_of_test=num_of_test)"
   ]
  },
  {
   "cell_type": "markdown",
   "metadata": {},
   "source": [
    "**Задача 2G: Ключевые идеи**\n",
    "\n",
    "1. Будем поддерживать позицию начала очередного отрезка\n",
    "2. Поддерживаем текущий минимум на отрезке\n",
    "3. Если минимум на отрезке плюс позиция начала меньше либо равна текущей позиции - начинаем новый отрезок\n",
    "\n",
    "\n",
    "**добавляем пока можем**"
   ]
  },
  {
   "cell_type": "code",
   "execution_count": 60,
   "metadata": {},
   "outputs": [
    {
     "name": "stdout",
     "output_type": "stream",
     "text": [
      "3\n",
      "1 3 1\n",
      "3\n",
      "1 6 9\n",
      "3\n",
      "2 3 2\n"
     ]
    }
   ],
   "source": [
    "# ВЕРНОЕ РЕШЕНИЕ - МУЛЬТИТЕСТ\n",
    "\n",
    "file = open(input_file, 'r') ###\n",
    "\n",
    "# t = int (input())\n",
    "t = int(file.readline().strip()) ###\n",
    "\n",
    "for test in range(t):\n",
    "\n",
    "    # n = int(input())\n",
    "    # a = list(map(int, input().split()))  \n",
    "    n = int(file.readline().strip()) ###  \n",
    "    a = [int(n) for n in file.readline().strip().split(' ')]\n",
    "\n",
    "    prevbreak = 0\n",
    "    curmin = a[0]\n",
    "    ans = []\n",
    "\n",
    "    for i in range(n):\n",
    "        curmin = min(curmin, a[i])\n",
    "        if prevbreak + curmin <= i:\n",
    "            ans.append(i - prevbreak)\n",
    "            prevbreak = i\n",
    "            curmin = a[i]\n",
    "    \n",
    "    ans.append(n - prevbreak)\n",
    "    print(len(ans))\n",
    "    print(*ans)\n",
    "\n",
    "file.close() ###"
   ]
  },
  {
   "cell_type": "markdown",
   "metadata": {},
   "source": [
    "## H. Наилучший запрет\n",
    "\n",
    "Константин и Михаил играют в настольную игру «Ярость Эльфов». В игре есть n рас и m классов персонажей. Каждый персонаж характеризуется своими расой и классом. Для каждой расы и каждого класса существует ровно один персонаж такой расы и такого класса. Сила персонажа i-й расы и j-го класса равна ai j, и обоим игрокам это прекрасно известно.\n",
    "Сейчас Константин будет выбирать себе персонажа. Перед этим Михаил может запретить одну расу и один класс, чтобы Константин не мог выбирать персонажей, у которых такая раса или такой класс. Конечно же, Михаил старается, чтобы Константину достался как можно более слабый персонаж, а Константин, напротив, выбирает персонажа посильнее. Какие расу и класс следует запретить Михаилу?\n",
    "\n",
    "#### Формат ввода\n",
    "\n",
    "Первая строка содержит два целых числа n и m (2 ≤ n,m ≤ 1000) через пробел — количество рас и классов в игре «Ярость Эльфов», соответственно.\n",
    "В следующих n строках содержится по m целых чисел через пробел. j-е число i-й из этих строк — это ai j (1 ≤ ai j ≤ 109).\n",
    "\n",
    "#### Формат вывода\n",
    "\n",
    "В единственной строке выведите два целых числа через пробел — номер расы и номер класса, которые следует запретить Михаилу. Расы и классы нумеруются с единицы. Если есть несколько возможных ответов, выведите любой из них.\n"
   ]
  },
  {
   "cell_type": "code",
   "execution_count": 72,
   "metadata": {},
   "outputs": [],
   "source": [
    "test = 4\n",
    "problem = \"H_TheBestResult\"\n",
    "module = '2'\n",
    "\n",
    "num_of_test = 2\n",
    "input_file, output = proc.return_input_output(module=module, problem=problem, tests=test, num_of_test=num_of_test)"
   ]
  },
  {
   "cell_type": "markdown",
   "metadata": {},
   "source": [
    "**Задача 2Н: Ключевые идеи**\n",
    "\n",
    "1. Найдем максимум в матрице, его нужно убрать.\n",
    "2. Попробуем вычеркнуть столбец и строку в матрице.\n",
    "3. Найдем в оставшейся матрице максимум и попробуем убрать строкой или столбцом (что еще не вычеркнуто).\n",
    "4. Из двух случаев выберем лучший\n",
    "5. Пригодится вспомогательная функция поиска максимума с запрещенными строками/столбцами"
   ]
  },
  {
   "cell_type": "code",
   "execution_count": 74,
   "metadata": {},
   "outputs": [
    {
     "name": "stdout",
     "output_type": "stream",
     "text": [
      "3 2\n"
     ]
    }
   ],
   "source": [
    "def findmax(f, bannedrow, bannedcol):\n",
    "    # можем передать -1 и ничего не будет \n",
    "    ans = 0\n",
    "    row = col = 0\n",
    "\n",
    "    for i in range(len(f)): \n",
    "        if i!= bannedrow:\n",
    "            for j in range(len(f[0])):\n",
    "                if j != bannedcol and f[i][j]>ans:\n",
    "                    ans = f[i][j]\n",
    "                    row = i\n",
    "                    col = j\n",
    "\n",
    "    return row, col, ans\n",
    "\n",
    "file = open(input_file, 'r') ###\n",
    "# n, p = map(int, input().split())\n",
    "n, p = map(int, file.readline().strip().split(\" \"))\n",
    "f = []\n",
    "\n",
    "for i in range(n):\n",
    "    # f.append(list(map(int, input().split())))\n",
    "    f.append([int(n) for n in file.readline().strip().split(' ')]) ###\n",
    "file.close() ###\n",
    "\n",
    "\n",
    "# frow, fcol, maxval - описываем первый максимум\n",
    "frow, fcol, maxval = findmax(f, -1, -1)\n",
    "banrow_row, banrow_col, tempval   = findmax(f, frow, -1)\n",
    "temp_row,   temp_col,   banrowval = findmax(f, frow, banrow_col)\n",
    "bancol_row, bancol_col, tempval   = findmax(f, -1, fcol)\n",
    "temp_row,   temp_col,   bancolval = findmax(f, bancol_row, fcol)\n",
    "\n",
    "if banrowval < bancolval:\n",
    "    print (frow + 1, banrow_col + 1) \n",
    "else:\n",
    "    print(bancol_row + 1,fcol + 1)\n",
    "    "
   ]
  },
  {
   "cell_type": "markdown",
   "metadata": {},
   "source": [
    "## I. Пираты Баренцева моря\n",
    "\n",
    "Вася играет в настольную игру «Пираты Баренцева моря», которая посвящена морским битвам. Игровое поле представляет собой квадрат из N x N клеток, на котором расположено N кораблей (каждый корабль занимает одну клетку).\n",
    "Вася решил воспользоваться линейной тактикой, для этого ему необходимо выстроить все N кораблей в одном столбце. За один ход можно передвинуть один корабль в одну из четырёх соседних по стороне клеток. Номер столбца, в котором будут выстроены корабли, не важен. Определите минимальное количество ходов, необходимых для построения кораблей в одном столбце. В начале и процессе игры никакие два корабля не могут находиться в одной клетке.\n",
    "\n",
    "#### Формат ввода\n",
    "\n",
    "В первой строке входных данных задаётся число N (1-100)\n",
    "В каждой из следующих N строк задаются координаты корабля: сначала номер строки, затем номер столбца (нумерация начинается с единицы).\n",
    "\n",
    "#### Формат вывода\n",
    "\n",
    "Выведите одно число — минимальное количество ходов, необходимое для построения."
   ]
  },
  {
   "cell_type": "code",
   "execution_count": null,
   "metadata": {},
   "outputs": [],
   "source": [
    "test = 3\n",
    "problem = \"I_PiratesOfTheBarentsSea\"\n",
    "module = '2'\n",
    "\n",
    "num_of_test = 3\n",
    "input, output = proc.return_input_output(module=module, problem=problem, tests=test, num_of_test=num_of_test)\n",
    "\n",
    "def scan_file_output(output):\n",
    "    file = open(output, 'r')\n",
    "    ans = int(file.readline().strip())\n",
    "    file.close()\n",
    "    return ans"
   ]
  },
  {
   "cell_type": "code",
   "execution_count": null,
   "metadata": {},
   "outputs": [],
   "source": [
    "def scan_file_input(input_file):\n",
    "    file = open(input_file, 'r')\n",
    "    N = int(file.readline())\n",
    "    dx = []\n",
    "    dy = []\n",
    "    for _ in range(N):\n",
    "        x,y = [int(n) for n in file.readline().split(' ')]\n",
    "        dx.append(x)\n",
    "        dy.append(y)\n",
    "    file.close()\n",
    "    return N, dx, dy\n",
    "\n",
    "input_file = input\n",
    "N, dx, dy = scan_file_input(input_file)\n",
    "# ans = scan_file_output(output)\n",
    "\n",
    "print(N)\n",
    "print(dx)\n",
    "print(dy)\n",
    "# print(\"ANSWER:\", ans)"
   ]
  },
  {
   "cell_type": "code",
   "execution_count": null,
   "metadata": {},
   "outputs": [],
   "source": [
    "board_N = N\n",
    "field = []\n",
    "border = '+'\n",
    "big_board_N = board_N+2\n",
    "\n",
    "for k in range(board_N+2):\n",
    "    if k==0 or k==board_N+1:\n",
    "        field.append([border]*(board_N+2))\n",
    "    else:\n",
    "        field.append([border]+[\" \"]*(board_N)+[border])\n",
    "\n",
    "for k in range(board_N+2):\n",
    "    print(field[:][k])\n"
   ]
  },
  {
   "cell_type": "code",
   "execution_count": null,
   "metadata": {},
   "outputs": [],
   "source": [
    "for _ in field:\n",
    "    for k in range(len(dx)):\n",
    "        field[dx[k]][dy[k]] = \"0\"\n",
    "\n",
    "for k in range(board_N+2):\n",
    "    print(field[:][k])"
   ]
  },
  {
   "cell_type": "code",
   "execution_count": null,
   "metadata": {},
   "outputs": [],
   "source": [
    "dx"
   ]
  },
  {
   "cell_type": "code",
   "execution_count": null,
   "metadata": {},
   "outputs": [],
   "source": [
    "dy"
   ]
  },
  {
   "cell_type": "code",
   "execution_count": null,
   "metadata": {},
   "outputs": [],
   "source": []
  },
  {
   "cell_type": "code",
   "execution_count": null,
   "metadata": {},
   "outputs": [],
   "source": [
    "def mediana_find(my_list):\n",
    "    my_list_sorted = sorted(my_list)\n",
    "    n = len(my_list_sorted)\n",
    "    if n % 2 == 0:\n",
    "        median_value = (my_list_sorted[n//2 - 1] + my_list_sorted[n//2]) / 2\n",
    "    else:\n",
    "        median_value = my_list_sorted[n//2]\n",
    "    return median_value\n",
    "\n",
    "\n",
    "stolbec = mediana_find(dy)\n",
    "sorted_dx = sorted(dx)\n",
    "pointer = 0\n",
    "\n",
    "for i in range(N-1):\n",
    "    if sorted_dx[i]==sorted_dx[i+1]:\n",
    "        pointer += 1\n",
    "\n",
    "    pointer = pointer+abs(stolbec-sorted_dx[i])\n",
    "\n",
    "pointer = pointer+abs(stolbec-sorted_dx[N-1])\n",
    "\n",
    "rounded_number = -int(-pointer // 1)\n",
    "print(rounded_number)"
   ]
  },
  {
   "cell_type": "code",
   "execution_count": null,
   "metadata": {},
   "outputs": [],
   "source": [
    "pointer"
   ]
  },
  {
   "cell_type": "markdown",
   "metadata": {},
   "source": [
    "## J. Два прямоугольника\n",
    "\n",
    "Недавно один известный художник-абстракционист произвел на свет новый шедевр — картину «Два черных непересекающихся прямоугольника». Картина представляет собой прямоугольник m× n, разбитый на квадраты 1× 1, некоторые из которых закрашены любимым цветом автора — черным. Федя — не любитель абстрактных картин, однако ему стало интересно, действительно ли на картине изображены два непересекающихся прямоугольника. Помогите ему это узнать. Прямоугольники не пересекаются в том смысле, что они не имеют общих клеток.\n",
    "\n",
    "#### Формат ввода\n",
    "\n",
    "Первая строка входного файла содержит числа m и n (1 ≤ m, n ≤ 200). Следующие m строк содержат описание рисунка. Каждая строка содержит ровно n символов. Символ «.» обозначает пустой квадрат, а символ «#» — закрашенный.\n",
    "\n",
    "#### Формат вывода\n",
    "\n",
    "Если рисунок можно представить как два непересекающихся прямоугольника, выведите в первой строке «YES», а в следующих m строках выведите рисунок в том же виде, в каком он задан во входном файле, заменив квадраты, соответствующие первому прямоугольнику на символ «a», а второму — на символ «b». Если решений несколько, выведите любое.\n",
    "Если же этого сделать нельзя, выведите в выходной файл «NO»."
   ]
  },
  {
   "cell_type": "code",
   "execution_count": null,
   "metadata": {},
   "outputs": [],
   "source": [
    "test = 4\n",
    "problem = \"J_TwoRectangles\"\n",
    "module = '2'\n",
    "\n",
    "num_of_test = 3\n",
    "input, output = proc.return_input_output(module=module, problem=problem, tests=test, num_of_test=num_of_test)\n",
    "\n",
    "def scan_file_input(input_file):\n",
    "    file = open(input_file, 'r')\n",
    "    n, m = map(int, file.readline().split(' '))\n",
    "    paint = []\n",
    "    listed = []\n",
    "\n",
    "    for i in range(n):\n",
    "        listik = list(file.readline().strip())\n",
    "        paint.append(listik)\n",
    "        for j in range(m):\n",
    "            if listik[j]==\"#\":\n",
    "                listed.append((i,j))\n",
    "\n",
    "    file.close()\n",
    "    return n,m,paint, listed\n",
    "\n",
    "\n",
    "input_file=input\n",
    "n,m,paint,listed = scan_file_input(input_file)\n",
    "\n",
    "print(n,m)\n",
    "for i in range(n):\n",
    "    print(paint[:][i])\n",
    "\n",
    "print(listed)\n",
    "\n",
    "# if len(listed)<2:\n",
    "#     print(\"NO\")"
   ]
  },
  {
   "cell_type": "code",
   "execution_count": null,
   "metadata": {},
   "outputs": [],
   "source": [
    "def find_rectangles(n,m,paint,listed):\n",
    "    return\n",
    "\n",
    "input_file = input \n",
    "n, m, paint, listed = scan_file_input(input_file)\n",
    "\n",
    "if len(listed)<2:\n",
    "    print(\"NO\")\n"
   ]
  }
 ],
 "metadata": {
  "kernelspec": {
   "display_name": "Python 3",
   "language": "python",
   "name": "python3"
  },
  "language_info": {
   "codemirror_mode": {
    "name": "ipython",
    "version": 3
   },
   "file_extension": ".py",
   "mimetype": "text/x-python",
   "name": "python",
   "nbconvert_exporter": "python",
   "pygments_lexer": "ipython3",
   "version": "3.12.1"
  }
 },
 "nbformat": 4,
 "nbformat_minor": 2
}
