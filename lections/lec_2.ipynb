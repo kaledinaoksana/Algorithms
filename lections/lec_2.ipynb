{
 "cells": [
  {
   "cell_type": "markdown",
   "metadata": {},
   "source": [
    "# ЛЕКЦИЯ: Линейный поиск"
   ]
  },
  {
   "cell_type": "code",
   "execution_count": 1,
   "metadata": {},
   "outputs": [],
   "source": [
    "import processor as proc"
   ]
  },
  {
   "cell_type": "markdown",
   "metadata": {},
   "source": [
    "## Задача 1\n",
    "\n",
    "**Дано:** последовательность чисел длиной N\n",
    "\n",
    "**Задача:** Найти первое (левое) вхождение положительного числа X в нее или вывести -1, если число X не встречалось."
   ]
  },
  {
   "cell_type": "code",
   "execution_count": 2,
   "metadata": {},
   "outputs": [
    {
     "data": {
      "text/plain": [
       "2"
      ]
     },
     "execution_count": 2,
     "metadata": {},
     "output_type": "execute_result"
    }
   ],
   "source": [
    "def find_left_x(seq,x):\n",
    "    ans = -1\n",
    "    for i in range(len(seq)):\n",
    "        if ans == -1 and seq[i] == x:\n",
    "            ans = i\n",
    "    return ans\n",
    "\n",
    "find_left_x([1,23,3,5,2,32,4,3,2],3)\n"
   ]
  },
  {
   "cell_type": "markdown",
   "metadata": {},
   "source": [
    "## Задача 2\n",
    "\n",
    "**Дано:** последовательность чисел длиной N\n",
    "\n",
    "**Задача:** Найти последнее (правое) вхождение положительного числа X в нее или вывести -1, если число X не встречалось."
   ]
  },
  {
   "cell_type": "code",
   "execution_count": 3,
   "metadata": {},
   "outputs": [
    {
     "data": {
      "text/plain": [
       "7"
      ]
     },
     "execution_count": 3,
     "metadata": {},
     "output_type": "execute_result"
    }
   ],
   "source": [
    "def find_right_x(seq,x):\n",
    "    ans = -1\n",
    "    for i in range(len(seq)):\n",
    "        if seq[i] == x:\n",
    "            ans = i\n",
    "    return ans\n",
    "\n",
    "find_right_x([1,23,3,5,2,32,4,3,2],3)"
   ]
  },
  {
   "cell_type": "markdown",
   "metadata": {},
   "source": []
  },
  {
   "cell_type": "markdown",
   "metadata": {},
   "source": [
    "## Задача 3\n",
    "\n",
    "**Дано:** последовательность чисел длиной N\n",
    "\n",
    "**Задача:** Найти максимальное число в последовательности."
   ]
  },
  {
   "cell_type": "code",
   "execution_count": 4,
   "metadata": {},
   "outputs": [
    {
     "data": {
      "text/plain": [
       "32"
      ]
     },
     "execution_count": 4,
     "metadata": {},
     "output_type": "execute_result"
    }
   ],
   "source": [
    "# плох для строк из-за копирования переменных \n",
    "# (в питоне там ссылки, то еще нормально)\n",
    "\n",
    "def find_max_x(seq):\n",
    "    ans = seq[0]\n",
    "    for i in range(1,len(seq)):\n",
    "        if seq[i] > ans:\n",
    "            ans = seq[i]\n",
    "    return ans\n",
    "\n",
    "# как решить? запоминать не значение, а индекс\n",
    "# но образение по индексу может тоже занимать время\n",
    "# то есть зависит от языка на котором пишете\n",
    "\n",
    "def find_max_x_wo_copy(seq):\n",
    "    ans = 0\n",
    "    for i in range(1,len(seq)):\n",
    "        if seq[i] > seq[ans]:\n",
    "            ans = i\n",
    "    return seq[ans]\n",
    "\n",
    "\n",
    "find_max_x([1,23,3,5,2,32,4,3,2])\n",
    "find_max_x_wo_copy([1,23,3,5,2,32,4,3,2])"
   ]
  },
  {
   "cell_type": "markdown",
   "metadata": {},
   "source": [
    "## Задача 4\n",
    "\n",
    "**Дано:** последовательность чисел длиной N\n",
    "\n",
    "**Задача:** Найти максимальное число в последовательности и второе по величине число (в этой задаче если уберем одно макс - второе может быть таким же)\n",
    "\n"
   ]
  },
  {
   "cell_type": "code",
   "execution_count": 5,
   "metadata": {},
   "outputs": [
    {
     "data": {
      "text/plain": [
       "(32, 23)"
      ]
     },
     "execution_count": 5,
     "metadata": {},
     "output_type": "execute_result"
    }
   ],
   "source": [
    "def find_max_2(seq):\n",
    "    max1 = max(seq[0],seq[1])\n",
    "    max2 = min(seq[0],seq[1])\n",
    "    for i in range(2,len(seq)):\n",
    "        if seq[i] > max1:\n",
    "            max2 = max1\n",
    "            max1 = seq[i]\n",
    "        elif seq[i] > max2:\n",
    "            max2 = seq[i]\n",
    "    return (max1, max2)\n",
    "\n",
    "find_max_2([1,23,3,5,2,32,4,3,2])"
   ]
  },
  {
   "cell_type": "code",
   "execution_count": 6,
   "metadata": {},
   "outputs": [],
   "source": [
    "seq = [1,23,3,5,2,32,4,3,2]"
   ]
  },
  {
   "cell_type": "markdown",
   "metadata": {},
   "source": [
    "## Задача 5\n",
    "\n",
    "**Дано:** последовательность чисел длиной N\n",
    "\n",
    "**Задача:** Минимальное четное число послежовательности или, если его нет, вывести -1.\n",
    "\n"
   ]
  },
  {
   "cell_type": "code",
   "execution_count": 7,
   "metadata": {},
   "outputs": [
    {
     "data": {
      "text/plain": [
       "2"
      ]
     },
     "execution_count": 7,
     "metadata": {},
     "output_type": "execute_result"
    }
   ],
   "source": [
    "# \n",
    "\n",
    "def find_min_even(seq):\n",
    "    ans = -1\n",
    "    for i in range(len(seq)):\n",
    "        if seq[i]%2==0 and (ans == -1 or seq[i]<ans):\n",
    "            ans = seq[i]\n",
    "    return ans\n",
    "\n",
    "def find_min_even_with_flag(seq):\n",
    "    ans = -1\n",
    "    flag = False\n",
    "    for i in range(len(seq)):\n",
    "        if seq[i]%2==0 and (not flag or seq[i]<ans):\n",
    "            ans = seq[i]\n",
    "            flag = True\n",
    "    return ans\n",
    "\n",
    "find_min_even(seq)\n",
    "find_min_even_with_flag(seq)"
   ]
  },
  {
   "cell_type": "markdown",
   "metadata": {},
   "source": [
    "## Задача 6\n",
    "\n",
    "**Дано:** последовательность чисел длиной N\n",
    "\n",
    "**Задача:** Минимальное четное число послежовательности или, если его нет, вывести -1.\n"
   ]
  },
  {
   "cell_type": "code",
   "execution_count": 8,
   "metadata": {},
   "outputs": [
    {
     "data": {
      "text/plain": [
       "'d'"
      ]
     },
     "execution_count": 8,
     "metadata": {},
     "output_type": "execute_result"
    }
   ],
   "source": [
    "# двупроходный алгоритм\n",
    "# дана последовательность слов\n",
    "# вывести все самые короткие слова через пробел\n",
    "\n",
    "words=[\"aaa\", 'cc', 'd','sddas','ad']\n",
    "\n",
    "def short_words(words):\n",
    "    minlen = len(words[0])\n",
    "    for word in words:\n",
    "        if len(word) < minlen:\n",
    "            minlen = len(word)\n",
    "    # ans = '' # плохо - потом копируются\n",
    "    ans = []\n",
    "    for word in words:\n",
    "        if len(word) == minlen:\n",
    "            # ans += word + \" \"\n",
    "            ans.append(word)\n",
    "    # return ans\n",
    "    return ' '.join(ans)\n",
    "\n",
    "short_words(words)"
   ]
  },
  {
   "cell_type": "markdown",
   "metadata": {},
   "source": [
    "## Задача: 7\n",
    "\n",
    "**Дано:** последовательность чисел длиной N\n",
    "\n",
    "**Задача:** Игра PitCraft происходть в двумерном мире, который состоит из блоков размером 1 на 1 метр. Остров игрока представляет собой набор столбцов различной высоты, состоящих из блоков камня и окруженный морем. Над островом прошел сильный дождь, который заполнил водой все низины, а не поместившаяся в них вода стекла в море, не увеличив его уровень. \n",
    "\n",
    "По ландшафту острова определите, сколько блоков воды осталось после дождя в низинах на острове."
   ]
  },
  {
   "cell_type": "code",
   "execution_count": 9,
   "metadata": {},
   "outputs": [
    {
     "data": {
      "text/plain": [
       "9"
      ]
     },
     "execution_count": 9,
     "metadata": {},
     "output_type": "execute_result"
    }
   ],
   "source": [
    "# задача олимпиада школьников\n",
    "\n",
    "def isleflood(h):\n",
    "    maxpos = 0\n",
    "    # находим вершину острова\n",
    "    for i in range(len(h)):\n",
    "        if h[i] > h[maxpos]:\n",
    "            maxpos = i \n",
    "    ans = 0\n",
    "    nowm = 0\n",
    "    # двигаемся слева до вершины\n",
    "    for i in range(maxpos):\n",
    "        if h[i] > nowm:\n",
    "            nowm = h[i]\n",
    "        ans += nowm - h[i]\n",
    "    nowm = 0\n",
    "    # двигаемся справа до вершины\n",
    "    for i in range(len(h)-1, maxpos, -1):\n",
    "        if h[i] > nowm:\n",
    "            nowm = h[i]\n",
    "        ans += nowm - h[i]\n",
    "    return ans\n",
    "\n",
    "\n",
    "h=[4,1,6,4,8,2,2,4,1]\n",
    "isleflood(h)"
   ]
  },
  {
   "cell_type": "markdown",
   "metadata": {},
   "source": [
    "## Задача: 8 - RLE\n",
    "\n",
    "**Дано:** строка (возможно, пустая), состоящая из букв A-Z.\n",
    "\n",
    "**Задача:** Написать функцию RLE, которая на выходе выдаст строку вида *A4B4C2XYZD5E4F4A6B12*. Cгенерирует ошибку, если на вход пришла невалидная строка\n"
   ]
  },
  {
   "cell_type": "code",
   "execution_count": 10,
   "metadata": {},
   "outputs": [],
   "source": [
    "string = \"AAAABBBBCCXYZDDDDDEEEEFFFFAAAAAABBBBBBBBBBBBB\""
   ]
  },
  {
   "cell_type": "code",
   "execution_count": 11,
   "metadata": {},
   "outputs": [
    {
     "data": {
      "text/plain": [
       "'ABCXYZDEFAB'"
      ]
     },
     "execution_count": 11,
     "metadata": {},
     "output_type": "execute_result"
    }
   ],
   "source": [
    "# решение сначала простой задачи\n",
    "def string_wo_repeat(s):\n",
    "    lastsym = s[0]\n",
    "    ans = []\n",
    "    for i in range(len(s)):\n",
    "        if s[i] != lastsym:\n",
    "            ans.append(lastsym)\n",
    "            lastsym = s[i]\n",
    "    ans.append(lastsym)\n",
    "    return ''.join(ans)\n",
    "\n",
    "string_wo_repeat(string)\n"
   ]
  },
  {
   "cell_type": "code",
   "execution_count": 12,
   "metadata": {},
   "outputs": [
    {
     "data": {
      "text/plain": [
       "'A4B4C2XYZD5E4F4A6B13'"
      ]
     },
     "execution_count": 12,
     "metadata": {},
     "output_type": "execute_result"
    }
   ],
   "source": [
    "# решение задачи на основе простой\n",
    "def rle(s):\n",
    "    # буква+число на выходе \n",
    "    def pack(letter,cnt):\n",
    "        if cnt>1:\n",
    "            return letter + str(cnt)\n",
    "        return letter\n",
    "    \n",
    "    lastsym = s[0]\n",
    "    lastpos = 0\n",
    "    ans = []\n",
    "\n",
    "    # делаем аналогично - если новый элемент, \n",
    "    # записываем сколько прошло индексов с прошлого\n",
    "    for i in range(len(s)):\n",
    "        if s[i] != lastsym:\n",
    "            ans.append(pack(lastsym, i-lastpos))\n",
    "            lastpos = i\n",
    "            lastsym = s[i]\n",
    "\n",
    "    ans.append(pack(s[lastpos],len(s)-lastpos))\n",
    "\n",
    "    return ''.join(ans)\n",
    "\n",
    "rle(string)"
   ]
  },
  {
   "cell_type": "markdown",
   "metadata": {},
   "source": [
    "# Линейный поиск 50"
   ]
  },
  {
   "cell_type": "code",
   "execution_count": 13,
   "metadata": {},
   "outputs": [],
   "source": [
    "# экономия оперцаий!\n",
    "# ЗАДАЧА: найти одновременно максимум и минимум используя как можно меньше сравнений"
   ]
  },
  {
   "cell_type": "markdown",
   "metadata": {},
   "source": [
    "# ЗАДАЧИ МОДУЛЬ 2"
   ]
  },
  {
   "cell_type": "markdown",
   "metadata": {},
   "source": [
    "## A. Минимальный прямоугольник\n",
    "\n",
    "На клетчатой плоскости закрашено K клеток. Требуется найти минимальный по площади прямоугольник, со сторонами, параллельными линиям сетки, покрывающий все закрашенные клетки.\n",
    "\n",
    "#### Формат ввода\n",
    "\n",
    "Во входном файле, на первой строке, находится число K (1 ≤ K ≤ 100). На следующих K строках находятся пары чисел Xi и Yi — координаты закрашенных клеток (|Xi|, |Yi| ≤ 109).\n",
    "\n",
    "#### Формат вывода\n",
    "\n",
    "Выведите в выходной файл координаты левого нижнего и правого верхнего углов прямоугольника."
   ]
  },
  {
   "cell_type": "code",
   "execution_count": 14,
   "metadata": {},
   "outputs": [
    {
     "name": "stdout",
     "output_type": "stream",
     "text": [
      "[3, 1, 5, 3]\n",
      "[1, 3, 3, 6]\n",
      "ANSWER: 1 1 6 5\n"
     ]
    }
   ],
   "source": [
    "test = 1\n",
    "problem = 'A_MinimalRectangle'\n",
    "module = '2'\n",
    "\n",
    "num_of_test = 1\n",
    "input, output = proc.return_input_output(module=module, problem=problem, tests=test, num_of_test=num_of_test)\n",
    "\n",
    "def scan_file_input(input):\n",
    "\n",
    "    file = open(input, 'r')\n",
    "    K = int(file.readline().strip())\n",
    "    ys = []\n",
    "    xs = []\n",
    "\n",
    "    for _ in range(K):\n",
    "        x, y = file.readline().strip().split()\n",
    "        ys.append(int(y))\n",
    "        xs.append(int(x))\n",
    "        \n",
    "    file.close()\n",
    "    return ys, xs\n",
    "\n",
    "def scan_file_output(output):\n",
    "    file = open(output, 'r')\n",
    "    arr = file.readline()\n",
    "    file.close()\n",
    "    return arr\n",
    "\n",
    "ys, xs = scan_file_input(input)\n",
    "ans = scan_file_output(output)\n",
    "\n",
    "print(ys)\n",
    "print(xs)\n",
    "print(\"ANSWER:\", ans)"
   ]
  },
  {
   "cell_type": "code",
   "execution_count": 15,
   "metadata": {},
   "outputs": [
    {
     "name": "stdout",
     "output_type": "stream",
     "text": [
      "1 1 6 5\n",
      "Test #1: Right Answer!\n"
     ]
    }
   ],
   "source": [
    "def find_min_max(seq):\n",
    "    max1 = max(seq[0],seq[1])\n",
    "    min1 = min(seq[0],seq[1])\n",
    "    for i in range(2,len(seq)):\n",
    "        if seq[i] > max1:\n",
    "            max1 = seq[i]\n",
    "        if seq[i] < min1:\n",
    "            min1 = seq[i]\n",
    "    return max1, min1\n",
    "\n",
    "max_y, min_y = find_min_max(ys)\n",
    "max_x, min_x = find_min_max(xs)\n",
    "\n",
    "answer = f\"{min_x} {min_y} {max_x} {max_y}\"\n",
    "\n",
    "print(answer)\n",
    "\n",
    "if answer == ans:\n",
    "    print(f\"Test #{num_of_test}: Right Answer!\")\n",
    "else:\n",
    "    print(f\"Test #{num_of_test}: Wrong Answer!\")\n"
   ]
  },
  {
   "cell_type": "code",
   "execution_count": 16,
   "metadata": {},
   "outputs": [
    {
     "name": "stdout",
     "output_type": "stream",
     "text": [
      "1 1 6 5\n"
     ]
    }
   ],
   "source": [
    "def scan_file_input(input_file):\n",
    "    file = open(input_file, 'r')\n",
    "    K = int(file.readline().strip())\n",
    "    ys = []\n",
    "    xs = []\n",
    "\n",
    "    for _ in range(K):\n",
    "        x, y = file.readline().strip().split()\n",
    "        ys.append(int(y))\n",
    "        xs.append(int(x))\n",
    "        \n",
    "    file.close()\n",
    "    return K, ys, xs\n",
    "\n",
    "def find_min_max(seq):\n",
    "    max1 = max(seq[0],seq[1])\n",
    "    min1 = min(seq[0],seq[1])\n",
    "    for i in range(2,len(seq)):\n",
    "        if seq[i] > max1:\n",
    "            max1 = seq[i]\n",
    "        if seq[i] < min1:\n",
    "            min1 = seq[i]\n",
    "    return max1, min1\n",
    "\n",
    "# input_file = 'input.txt'\n",
    "input_file = input\n",
    "K, ys, xs = scan_file_input(input_file)\n",
    "\n",
    "if K!=1:\n",
    "    max_y, min_y = find_min_max(ys)\n",
    "    max_x, min_x = find_min_max(xs)\n",
    "    answer = f\"{min_x} {min_y} {max_x} {max_y}\"\n",
    "else:\n",
    "    answer = f\"{xs[0]} {ys[0]} {xs[0]} {ys[0]}\"\n",
    "\n",
    "print(answer)"
   ]
  },
  {
   "cell_type": "markdown",
   "metadata": {},
   "source": [
    "## B. Продавец рыбы\n",
    "\n",
    "Вася решил заняться торговлей рыбой. С помощью методов машинного обучения он предсказал цены на рыбу на N дней вперёд. Он решил, что в один день он купит рыбу, а в один из следующих дней — продаст (то есть совершит или ровно одну покупку и продажу или вообще не совершит покупок и продаж, если это не принесёт ему прибыли). К сожалению, рыба — товар скоропортящийся и разница между номером дня продажи и номером дня покупки не должна превышать K.\n",
    "\n",
    "Определите, какую максимальную прибыль получит Вася.\n",
    "\n",
    "#### Формат ввода\n",
    "\n",
    "В первой строке входных данных задаются числа N и K (1 ≤ N ≤ 10000, 1 ≤ K ≤ 100).\n",
    "\n",
    "Во второй строке задаются цены на рыбу в каждый из N дней. Цена — целое число, которое может находится в пределах от 1 до 109.\n",
    "\n",
    "#### Формат вывода\n",
    "\n",
    "Выведите одно число — максимальную прибыль, которую получит Вася."
   ]
  },
  {
   "cell_type": "code",
   "execution_count": 17,
   "metadata": {},
   "outputs": [
    {
     "name": "stdout",
     "output_type": "stream",
     "text": [
      "5 2\n",
      "[1, 2, 3, 4, 5]\n",
      "ANSWER: 2\n"
     ]
    }
   ],
   "source": [
    "import processor as proc\n",
    "\n",
    "test = 2\n",
    "problem = 'B_FishSaler'\n",
    "module = '2'\n",
    "\n",
    "num_of_test = 1\n",
    "input, output = proc.return_input_output(module=module, problem=problem, tests=test, num_of_test=num_of_test)\n",
    "\n",
    "def scan_file_output(output):\n",
    "    file = open(output, 'r')\n",
    "    profit = int(file.readline().strip())\n",
    "    file.close()\n",
    "    return profit\n",
    "\n",
    "def scan_file_input(input):\n",
    "    file = open(input, 'r')\n",
    "    N, K = [int(n) for n in file.readline().split(' ')]\n",
    "    prices = [int(n) for n in file.readline().split(' ')]\n",
    "    file.close()\n",
    "    return N, K, prices\n",
    "\n",
    "# input_file = 'input.txt'\n",
    "input_file = input\n",
    "N, K, prices = scan_file_input(input_file)\n",
    "ans = scan_file_output(output)\n",
    "\n",
    "print(N, K)\n",
    "print(prices)\n",
    "print(\"ANSWER:\", ans)"
   ]
  },
  {
   "cell_type": "code",
   "execution_count": 18,
   "metadata": {},
   "outputs": [],
   "source": [
    "# N, K, prices = 8,3,[2,3,4,3,5,2,5,3]\n",
    "# N, K, prices = 2,1,[1,2]"
   ]
  },
  {
   "cell_type": "code",
   "execution_count": 19,
   "metadata": {},
   "outputs": [
    {
     "name": "stdout",
     "output_type": "stream",
     "text": [
      "2\n"
     ]
    }
   ],
   "source": [
    "# ВЕРНОЕ РЕШЕНИЕ\n",
    "\n",
    "def scan_file_input(input):\n",
    "    file = open(input, 'r')\n",
    "    N, K = [int(n) for n in file.readline().split(' ')]\n",
    "    prices = [int(n) for n in file.readline().split(' ')]\n",
    "    file.close()\n",
    "    return N, K, prices\n",
    "\n",
    "# input_file = 'input.txt'\n",
    "input_file = input\n",
    "N, K, prices = scan_file_input(input_file)\n",
    "\n",
    "diff=0\n",
    "\n",
    "if N!=1:\n",
    "    window = min(K+1,N)\n",
    "    for i in range(len(prices)):\n",
    "        for j in range(1,min(len(prices)-i,window)):\n",
    "            if prices[i+j]-prices[i]>diff:\n",
    "                diff = prices[i+j]-prices[i]\n",
    "\n",
    "print(diff)"
   ]
  },
  {
   "cell_type": "markdown",
   "metadata": {},
   "source": [
    "## C. Петя, Маша и верёвочки\n",
    "\n",
    "На столе лежали две одинаковые верёвочки целой положительной длины.\n",
    "\n",
    "Петя разрезал одну из верёвочек на N частей, каждая из которых имеет целую положительную длину, так что на столе стало N+1 верёвочек. Затем в комнату зашла Маша и взяла одну из лежащих на столе верёвочек. По длинам оставшихся на столе N верёвочек определите, какую наименьшую длину может иметь верёвочка, взятая Машей.\n",
    "\n",
    "#### Формат ввода\n",
    "\n",
    "Первая строка входных данных содержит одно целое число N — количество верёвочек, оставшихся на столе (2 ≤ N ≤ 1000). Во второй строке содержится N целых чисел li — длины верёвочек (1 ≤ li ≤ 1000).\n",
    "\n",
    "#### Формат вывода\n",
    "\n",
    "Выведите одно целое число — наименьшую длину, которую может иметь верёвочка, взятая Машей."
   ]
  },
  {
   "cell_type": "code",
   "execution_count": 20,
   "metadata": {},
   "outputs": [
    {
     "name": "stdout",
     "output_type": "stream",
     "text": [
      "4\n",
      "[5, 12, 4, 3]\n",
      "ANSWER: 24\n"
     ]
    }
   ],
   "source": [
    "tests = 2\n",
    "problem = 'C_Verevochki'\n",
    "module = '2'\n",
    "\n",
    "num_of_test = 2\n",
    "input, output = proc.return_input_output(module=module, problem=problem, tests=test, num_of_test=num_of_test)\n",
    "\n",
    "def scan_file_output(output):\n",
    "    file = open(output, 'r')\n",
    "    profit = int(file.readline().strip())\n",
    "    file.close()\n",
    "    return profit\n",
    "\n",
    "def scan_file_input(input_file):\n",
    "    file = open(input_file, 'r')\n",
    "    N = int(file.readline())\n",
    "    int_list_of_N = [int(n) for n in file.readline().split(' ')]\n",
    "    file.close()\n",
    "    return N, int_list_of_N\n",
    "\n",
    "input_file = input\n",
    "N, ropes = scan_file_input(input_file)\n",
    "ans = scan_file_output(output)\n",
    "\n",
    "print(N)\n",
    "print(ropes)\n",
    "print(\"ANSWER:\", ans)"
   ]
  },
  {
   "cell_type": "code",
   "execution_count": 21,
   "metadata": {},
   "outputs": [
    {
     "name": "stdout",
     "output_type": "stream",
     "text": [
      "max = 12 \n",
      "sum = 24\n"
     ]
    }
   ],
   "source": [
    "\n",
    "\n",
    "\n",
    "def find_sum_max(seq):\n",
    "    max1 = seq[0]\n",
    "    sum1 = seq[0]\n",
    "    for i in range(1,len(seq)):\n",
    "        sum1 = sum1 + seq[i]\n",
    "        if seq[i] > max1:\n",
    "            max1 = seq[i]   \n",
    "    return max1, sum1\n",
    "\n",
    "max1, sum1 = find_sum_max(ropes)\n",
    "print(\"max =\", max1, \"\\nsum =\", sum1)"
   ]
  },
  {
   "cell_type": "code",
   "execution_count": 22,
   "metadata": {},
   "outputs": [
    {
     "name": "stdout",
     "output_type": "stream",
     "text": [
      "24\n"
     ]
    }
   ],
   "source": [
    "others = sum1 - max1\n",
    "\n",
    "if others < max1:\n",
    "    min_rope = max1 - others\n",
    "else:\n",
    "    min_rope = sum1\n",
    "\n",
    "print(min_rope)"
   ]
  },
  {
   "cell_type": "code",
   "execution_count": 23,
   "metadata": {},
   "outputs": [
    {
     "name": "stdout",
     "output_type": "stream",
     "text": [
      "24\n"
     ]
    }
   ],
   "source": [
    "# ВЕРНОЕ РЕШЕНИЕ\n",
    "\n",
    "def scan_file_input(input_file):\n",
    "    file = open(input_file, 'r')\n",
    "    N = int(file.readline())\n",
    "    int_list_of_N = [int(n) for n in file.readline().split(' ')]\n",
    "    file.close()\n",
    "    return N, int_list_of_N\n",
    "\n",
    "# input_file = \"input.txt\"\n",
    "input_file = input\n",
    "N, ropes = scan_file_input(input_file)\n",
    "\n",
    "def find_sum_max(seq):\n",
    "    max1 = seq[0]\n",
    "    sum1 = seq[0]\n",
    "    for i in range(1,len(seq)):\n",
    "        sum1 = sum1 + seq[i]\n",
    "        if seq[i] > max1:\n",
    "            max1 = seq[i]   \n",
    "    return max1, sum1\n",
    "\n",
    "max1, sum1 = find_sum_max(ropes)\n",
    "\n",
    "others = sum1 - max1\n",
    "\n",
    "if others < max1:\n",
    "    min_rope = max1 - others\n",
    "else:\n",
    "    min_rope = sum1\n",
    "\n",
    "print(min_rope)"
   ]
  },
  {
   "cell_type": "markdown",
   "metadata": {},
   "source": [
    "## D. Шахматная доска\n",
    "\n",
    "Из шахматной доски по границам клеток выпилили связную (не распадающуюся на части) фигуру без дыр. Требуется определить ее периметр.\n",
    "\n",
    "#### Формат ввода\n",
    "\n",
    "Сначала вводится число N (1 ≤ N ≤ 64) – количество выпиленных клеток. В следующих N строках вводятся координаты выпиленных клеток, разделенные пробелом (номер строки и столбца – числа от 1 до 8). Каждая выпиленная клетка указывается один раз.\n",
    "\n",
    "#### Формат вывода\n",
    "\n",
    "Выведите одно число – периметр выпиленной фигуры (сторона клетки равна единице)."
   ]
  },
  {
   "cell_type": "code",
   "execution_count": 24,
   "metadata": {},
   "outputs": [
    {
     "name": "stdout",
     "output_type": "stream",
     "text": [
      "1\n",
      "[8]\n",
      "[8]\n",
      "ANSWER: 4\n"
     ]
    }
   ],
   "source": [
    "test = 2\n",
    "problem = \"D_ChessBoard\"\n",
    "module = '2'\n",
    "\n",
    "num_of_test = 2\n",
    "input, output = proc.return_input_output(module=module, problem=problem, tests=test, num_of_test=num_of_test)\n",
    "\n",
    "def scan_file_output(output):\n",
    "    file = open(output, 'r')\n",
    "    ans = int(file.readline().strip())\n",
    "    file.close()\n",
    "    return ans\n",
    "\n",
    "def scan_file_input(input_file):\n",
    "    file = open(input_file, 'r')\n",
    "    N = int(file.readline())\n",
    "    dx = []\n",
    "    dy = []\n",
    "    for _ in range(N):\n",
    "        x,y = [int(n) for n in file.readline().split(' ')]\n",
    "        dx.append(x)\n",
    "        dy.append(y)\n",
    "\n",
    "    file.close()\n",
    "    return N, dx, dy\n",
    "\n",
    "input_file = input\n",
    "N, dx, dy = scan_file_input(input_file)\n",
    "ans = scan_file_output(output)\n",
    "\n",
    "print(N)\n",
    "print(dx)\n",
    "print(dy)\n",
    "print(\"ANSWER:\", ans)"
   ]
  },
  {
   "cell_type": "code",
   "execution_count": 25,
   "metadata": {},
   "outputs": [
    {
     "name": "stdout",
     "output_type": "stream",
     "text": [
      "['-', '-', '-', '-', '-', '-', '-', '-', '-', '-']\n",
      "['-', '-', '-', '-', '-', '-', '-', '-', '-', '-']\n",
      "['-', '-', '-', '-', '-', '-', '-', '-', '-', '-']\n",
      "['-', '-', '-', '-', '-', '-', '-', '-', '-', '-']\n",
      "['-', '-', '-', '-', '-', '-', '-', '-', '-', '-']\n",
      "['-', '-', '-', '-', '-', '-', '-', '-', '-', '-']\n",
      "['-', '-', '-', '-', '-', '-', '-', '-', '-', '-']\n",
      "['-', '-', '-', '-', '-', '-', '-', '-', '-', '-']\n",
      "['-', '-', '-', '-', '-', '-', '-', '-', '-', '-']\n",
      "['-', '-', '-', '-', '-', '-', '-', '-', '-', '-']\n"
     ]
    }
   ],
   "source": [
    "board_N = 8\n",
    "field = []\n",
    "border = '-'\n",
    "big_board_N = board_N+2\n",
    "\n",
    "for k in range(board_N+2):\n",
    "    if k==0 or k==board_N+1:\n",
    "        field.append([border]*(board_N+2))\n",
    "    else:\n",
    "        field.append([border]+[\"-\"]*(board_N)+[border])\n",
    "\n",
    "for k in range(board_N+2):\n",
    "    print(field[:][k])"
   ]
  },
  {
   "cell_type": "code",
   "execution_count": 26,
   "metadata": {},
   "outputs": [
    {
     "name": "stdout",
     "output_type": "stream",
     "text": [
      "['-', '-', '-', '-', '-', '-', '-', '-', '-', '-']\n",
      "['-', '-', '-', '-', '-', '-', '-', '-', '-', '-']\n",
      "['-', '-', '-', '-', '-', '-', '-', '-', '-', '-']\n",
      "['-', '-', '-', '-', '-', '-', '-', '-', '-', '-']\n",
      "['-', '-', '-', '-', '-', '-', '-', '-', '-', '-']\n",
      "['-', '-', '-', '-', '-', '-', '-', '-', '-', '-']\n",
      "['-', '-', '-', '-', '-', '-', '-', '-', '-', '-']\n",
      "['-', '-', '-', '-', '-', '-', '-', '-', '-', '-']\n",
      "['-', '-', '-', '-', '-', '-', '-', '-', '*', '-']\n",
      "['-', '-', '-', '-', '-', '-', '-', '-', '-', '-']\n"
     ]
    }
   ],
   "source": [
    "for _ in field:\n",
    "    for k in range(len(dx)):\n",
    "        field[dx[k]][dy[k]] = \"*\"\n",
    "\n",
    "for k in range(board_N+2):\n",
    "    print(field[:][k])"
   ]
  },
  {
   "cell_type": "code",
   "execution_count": 27,
   "metadata": {},
   "outputs": [
    {
     "name": "stdout",
     "output_type": "stream",
     "text": [
      "4\n"
     ]
    }
   ],
   "source": [
    "# ВЕРНОЕ РЕШЕНИЕ\n",
    "\n",
    "def scan_file_input(input_file):\n",
    "    file = open(input_file, 'r')\n",
    "    N = int(file.readline())\n",
    "    dx = []\n",
    "    dy = []\n",
    "    for _ in range(N):\n",
    "        x,y = [int(n) for n in file.readline().split(' ')]\n",
    "        dx.append(x)\n",
    "        dy.append(y)\n",
    "\n",
    "    file.close()\n",
    "    return N, dx, dy\n",
    "\n",
    "# input_file = \"input.txt\"\n",
    "input_file = input\n",
    "N, dx, dy = scan_file_input(input_file)\n",
    "\n",
    "perimeter = 0\n",
    "board_N = 8\n",
    "field = []\n",
    "border = '-'\n",
    "big_board_N = board_N+2\n",
    "\n",
    "for k in range(big_board_N):\n",
    "    if k==0 or k==board_N+1:\n",
    "        field.append([border]*(big_board_N))\n",
    "    else:\n",
    "        field.append([border]+[\"-\"]*(board_N)+[border])\n",
    "\n",
    "for _ in field:\n",
    "    for k in range(len(dx)):\n",
    "        field[dx[k]][dy[k]] = \"*\"\n",
    "\n",
    "for i in range(1,big_board_N-1):\n",
    "    for j in range(1, big_board_N-1):\n",
    "        if field[i][j] == \"*\":\n",
    "            di = [ 0, 0, 1,-1]\n",
    "            dj = [ 1,-1, 0, 0]\n",
    "            for dest in range(4):\n",
    "                ni,nj = i+di[dest],j+dj[dest]\n",
    "                if field[ni][nj] == \"-\":\n",
    "                    perimeter += 1\n",
    "\n",
    "print(perimeter)     "
   ]
  },
  {
   "cell_type": "markdown",
   "metadata": {},
   "source": [
    "## E. Амбициозная улитка\n",
    "\n",
    "Домашний питомец мальчика Васи — улитка Петя. Петя обитает на бесконечном в обе стороны вертикальном столбе, который для удобства можно представить как числовую прямую. Изначально Петя находится в точке 0.\n",
    "\n",
    "Вася кормит Петю ягодами. У него есть N ягод, каждая в единственном экземпляре. Вася знает, что если утром он даст Пете ягоду с номером i, то поев и набравшись сил, за остаток дня Петя поднимется на ai единиц вверх по столбу, но при этом за ночь, потяжелев, съедет на bi единиц вниз. Параметры различных ягод могут совпадать.\n",
    "\n",
    "Пете стало интересно, а как оно там, наверху, и Вася взялся ему в этом помочь. Ближайшие n дней он будет кормить Петю ягодами из своего запаса таким образом, чтобы максимальная высота, на которой побывал Петя за эти n дней была максимальной. К сожалению, Вася не умеет программировать, поэтому он попросил вас о помощи. Найдите, максимальную высоту, на которой Петя сможет побывать за эти n дней и в каком порядке Вася должен давать Пете ягоды, чтобы Петя смог её достичь!\n",
    "\n",
    "#### Формат ввода\n",
    "\n",
    "В первой строке входных данных дано число  — количество ягод у Васи. В последующих n строках описываются параметры каждой ягоды. В i+1 строке дано два числа — то, насколько поднимется улитка за день после того, как съест i ягоду и насколько опуститься за ночь.\n",
    "\n",
    "#### Формат вывода\n",
    "\n",
    "В первой строке выходных данных выведите единственное число — максимальную высоту, которую сможет достичь Петя, если Вася будет его кормить оптимальным образом. В следующей строке выведите n различных целых чисел от 1 до n — порядок, в котором Вася должен кормить Петю (i число в строке соответствует номеру ягоды, которую Вася должен дать Пете в i день чтобы Петя смог достичь максимальной высоты)."
   ]
  },
  {
   "cell_type": "code",
   "execution_count": 28,
   "metadata": {},
   "outputs": [
    {
     "name": "stdout",
     "output_type": "stream",
     "text": [
      "ANSWER:\n",
      " 10 \n",
      " 2 3 1\n"
     ]
    }
   ],
   "source": [
    "test = 4\n",
    "problem = \"E_AmbitiousSnail\"\n",
    "module = '2'\n",
    "\n",
    "num_of_test = 1\n",
    "input, output = proc.return_input_output(module=module, problem=problem, tests=test, num_of_test=num_of_test)\n",
    "\n",
    "def scan_file_output(output):\n",
    "    file = open(output, 'r')\n",
    "    ans = int(file.readline().strip())\n",
    "    int_arr = file.readline().strip()\n",
    "    file.close()\n",
    "    return ans,int_arr\n",
    "\n",
    "ans, int_arr = scan_file_output(output)\n",
    "print(\"ANSWER:\\n\", ans,\"\\n\", int_arr)"
   ]
  },
  {
   "cell_type": "code",
   "execution_count": 29,
   "metadata": {},
   "outputs": [],
   "source": [
    "def scan_file_input(input_file):\n",
    "    file = open(input_file, 'r')\n",
    "    N = int(file.readline())\n",
    "    ai = [0]\n",
    "    bi = [0]\n",
    "    di=[0]\n",
    "    for i in range(N):\n",
    "        aii, bii = [int(n) for n in file.readline().split(' ')]\n",
    "        ai.append(aii)\n",
    "        bi.append(bii)\n",
    "        di.append(aii-bii)\n",
    "    file.close()\n",
    "    return N, ai, bi, di"
   ]
  },
  {
   "cell_type": "code",
   "execution_count": 30,
   "metadata": {},
   "outputs": [],
   "source": [
    "def find_max_by_index(arr, indexes):\n",
    "    maximum_index = indexes[0]\n",
    "    maximum = arr[maximum_index]\n",
    "    \n",
    "    for i in indexes:\n",
    "        if arr[i]>maximum:\n",
    "            maximum = arr[i]\n",
    "            maximum_index = i\n",
    "    return  maximum_index, maximum\n",
    "\n",
    "\n",
    "def find_min_by_index(arr, indexes):\n",
    "    minimum_index = indexes[0]\n",
    "    minimum = arr[minimum_index]\n",
    "    \n",
    "    for i in indexes:\n",
    "        if arr[i]<minimum:\n",
    "            minimum = arr[i]\n",
    "            minimum_index = i\n",
    "    return  minimum_index, minimum"
   ]
  },
  {
   "cell_type": "code",
   "execution_count": 32,
   "metadata": {},
   "outputs": [],
   "source": [
    "# input_file = input\n",
    "# # input_file = \"input.txt\"\n",
    "# N, ai, bi, di = scan_file_input(input_file)"
   ]
  },
  {
   "cell_type": "code",
   "execution_count": null,
   "metadata": {},
   "outputs": [],
   "source": []
  },
  {
   "cell_type": "code",
   "execution_count": null,
   "metadata": {},
   "outputs": [],
   "source": [
    "def scan_file_input(input_file):\n",
    "    file = open(input_file, 'r')\n",
    "    N = int(file.readline())\n",
    "    ai = [0]\n",
    "    bi = [0]\n",
    "    di=[0]\n",
    "    for i in range(N):\n",
    "        aii, bii = [int(n) for n in file.readline().split(' ')]\n",
    "        ai.append(aii)\n",
    "        bi.append(bii)\n",
    "        di.append(aii-bii)\n",
    "    file.close()\n",
    "    return N, ai, bi, di\n",
    "\n",
    "\n",
    "def find_max_by_index(arr, indexes):\n",
    "    maximum_index = indexes[0]\n",
    "    maximum = arr[maximum_index]  \n",
    "    for i in indexes:\n",
    "        if arr[i]>maximum:\n",
    "            maximum = arr[i]\n",
    "            maximum_index = i\n",
    "    return  maximum_index, maximum\n",
    "\n",
    "def find_min_by_index(arr, indexes):\n",
    "    minimum_index = indexes[0]\n",
    "    minimum = arr[minimum_index]\n",
    "    for i in indexes:\n",
    "        if arr[i]<minimum:\n",
    "            minimum = arr[i]\n",
    "            minimum_index = i\n",
    "    return  minimum_index, minimum\n",
    "\n",
    "# input_file = \"input.txt\"\n",
    "input_file = input\n",
    "N, ai, bi, di = scan_file_input(input_file)\n",
    "\n",
    "summa_plus=0\n",
    "plus_indexes = []\n",
    "minus_indexes = []\n",
    "zero_indexes = []\n",
    "\n",
    "for i in range(1,N+1):\n",
    "    if di[i]>0:\n",
    "        plus_indexes.append(i)\n",
    "        summa_plus = summa_plus+di[i]\n",
    "    elif di[i]==0:\n",
    "        zero_indexes.append(i)\n",
    "    else:\n",
    "        minus_indexes.append(i)\n",
    "\n",
    "print(\"plus:\",plus_indexes)\n",
    "print(\"zero:\",zero_indexes)\n",
    "print(\"minus:\",minus_indexes)\n",
    "\n",
    "other_indexes = zero_indexes+minus_indexes\n",
    "\n",
    "if minus_indexes==[]:\n",
    "    min_di_ind, min_di = find_min_by_index(di, plus_indexes)\n",
    "    ind = min_di_ind\n",
    "    plus_indexes.remove(ind)\n",
    "    plus_indexes.append(ind)\n",
    "    summa_plus = summa_plus + ai[min_di_ind] - di[min_di_ind]\n",
    "else:\n",
    "    max_ai_ind, max_ai = find_max_by_index(ai, other_indexes)\n",
    "    ind = max_ai_ind\n",
    "    other_indexes.remove(ind)\n",
    "    # if zero_indexes!=[]:\n",
    "    #     summa_plus = summa_plus + ai[max_ai_ind]\n",
    "    # else:\n",
    "    summa_plus = summa_plus + bi[plus_indexes[-1]]\n",
    "    plus_indexes.append(ind)\n",
    "    \n",
    "res=plus_indexes+other_indexes\n",
    "print(summa_plus) \n",
    "print( ' '.join(map(str, res)).strip()) \n"
   ]
  },
  {
   "cell_type": "code",
   "execution_count": null,
   "metadata": {},
   "outputs": [],
   "source": [
    "print(ai)\n",
    "print(bi)\n",
    "print(di)"
   ]
  },
  {
   "cell_type": "code",
   "execution_count": null,
   "metadata": {},
   "outputs": [],
   "source": []
  },
  {
   "cell_type": "code",
   "execution_count": null,
   "metadata": {},
   "outputs": [],
   "source": [
    "# до 16ого теста\n",
    "# Самая большая высота может быть достигнута \n",
    "# и при сумме из неотрицательной группы. \n",
    "# Для этого надо, чтобы максимумы подъёмов были в конце. \n",
    "# Но максимум может быть не один. Когда их несколько, \n",
    "# последним должен идти тот, у кого больше отрицательная составляющая.\n",
    "\n",
    "test = 5\n",
    "problem = \"E_AmbitiousSnail\"\n",
    "module = '2'\n",
    "\n",
    "num_of_test = 2\n",
    "input, output = proc.return_input_output(module=module, problem=problem, tests=test, num_of_test=num_of_test)\n",
    "\n",
    "def scan_file_output(output):\n",
    "    file = open(output, 'r')\n",
    "    ans = int(file.readline().strip())\n",
    "    int_arr = file.readline().strip()\n",
    "    file.close()\n",
    "    return ans,int_arr\n",
    "\n",
    "\n",
    "\n",
    "def scan_file_input(input_file):\n",
    "    file = open(input_file, 'r')\n",
    "    N = int(file.readline())\n",
    "    ai = [0]\n",
    "    bi = [0]\n",
    "    di=[0]\n",
    "    for i in range(N):\n",
    "        aii, bii = [int(n) for n in file.readline().split(' ')]\n",
    "        ai.append(aii)\n",
    "        bi.append(bii)\n",
    "        di.append(aii-bii)\n",
    "    file.close()\n",
    "    return N, ai, bi, di\n",
    "\n",
    "\n",
    "def find_max_by_index(arr, indexes):\n",
    "    # maximum_index = [indexes[0]]\n",
    "    maximum = 0\n",
    "    maximum_index=[]\n",
    "\n",
    "    for i in indexes:\n",
    "        if arr[i]>maximum:\n",
    "            maximum = arr[i]\n",
    "            # maximum_index = i\n",
    "            maximum_index=[i]\n",
    "        elif arr[i]==maximum:\n",
    "            maximum_index.append(i)         \n",
    "    return  maximum_index, maximum\n",
    "\n",
    "\n",
    "def find_min_by_index(arr, indexes):\n",
    "    minimum_index = [indexes[0]]\n",
    "    minimum = arr[indexes[0]]\n",
    "    \n",
    "    for i in indexes:\n",
    "        if arr[i]<minimum:\n",
    "            minimum = arr[i]\n",
    "            minimum_index = [i]\n",
    "        elif arr[i]==minimum:\n",
    "            minimum_index.append(i)\n",
    "\n",
    "    return  minimum_index, minimum\n",
    "\n",
    "\n",
    "# input_file = \"input.txt\"\n",
    "input_file = input\n",
    "N, ai, bi, di = scan_file_input(input_file)\n",
    "\n",
    "summa_plus=0\n",
    "plus_indexes = []\n",
    "minus_indexes = []\n",
    "\n",
    "for i in range(1,N+1):\n",
    "    if di[i]>0:\n",
    "        plus_indexes.append(i)\n",
    "        summa_plus = summa_plus+di[i]\n",
    "    elif di[i]==0:\n",
    "        plus_indexes.append(i)\n",
    "    else:\n",
    "        minus_indexes.append(i)\n",
    "\n",
    "print(\"plus:\",plus_indexes)\n",
    "print(\"minus:\",minus_indexes)\n",
    "\n",
    "# случай если максимум обычный - сложили плюсы и максимальное число из \n",
    "if minus_indexes!=[]:\n",
    "    max_ai_ind, max_ai = find_max_by_index(ai, minus_indexes)\n",
    "    print(\"max inds:\",max_ai_ind)\n",
    "    for i in max_ai_ind:\n",
    "        print(\"1plus:\",plus_indexes)\n",
    "        print(\"1minus:\",minus_indexes)\n",
    "        # print(i)\n",
    "        minus_indexes.remove(i)\n",
    "        plus_indexes.append(i)\n",
    "    summa_usual = summa_plus + max_ai\n",
    "\n",
    "\n",
    "pusinds = plus_indexes.copy()\n",
    "\n",
    "# напо переставить циферки в plus_indexes\n",
    "min_di_ind, min_di = find_min_by_index(di, plus_indexes)\n",
    "onds = min_di_ind\n",
    "print(onds)\n",
    "for ind in onds:\n",
    "    plus_indexes.remove(ind)\n",
    "    plus_indexes.append(ind)\n",
    "\n",
    "pusinds = plus_indexes.copy()\n",
    "\n",
    "# случай когда складываем максимум из плюсов не проходя их все\n",
    "\n",
    "maxx = summa_usual\n",
    "nestt=summa_plus\n",
    "\n",
    "for i in range(1,len(plus_indexes)):\n",
    "    del plus_indexes[-1]\n",
    "    nestt = nestt + bi[plus_indexes[-1]]\n",
    "\n",
    "    print(i,maxx,plus_indexes)\n",
    "    \n",
    "    if nestt>maxx:\n",
    "        maxx = nestt\n",
    "    \n",
    "    nestt = nestt - ai[plus_indexes[-1]]\n",
    "    # del plus_indexes[-1]\n",
    "    \n",
    "\n",
    "# print(maxx)\n",
    "\n",
    "\n",
    "    \n",
    "\n",
    "\n",
    "# print(\"plus:\",plus_indexes)\n",
    "# print(\"minus:\",minus_indexes)\n",
    "\n",
    "\n",
    "res= pusinds +minus_indexes\n",
    "\n",
    "ans, int_arr = scan_file_output(output)\n",
    "print(\"\\nusul: \",summa_usual)\n",
    "print(\"\\nmaxx: \",maxx)\n",
    "print(\"true: \",ans)\n",
    "\n",
    "print( \"my    \",' '.join(map(str, res)).strip()) \n",
    "print(\"true: \",int_arr)\n",
    "\n",
    "# print(\"answer:\", ans,\"\\n\", int_arr)\n",
    "# 7,2,4\n",
    "\n"
   ]
  },
  {
   "cell_type": "code",
   "execution_count": null,
   "metadata": {},
   "outputs": [],
   "source": [
    "print(ai)\n",
    "print(bi)\n",
    "print(di)"
   ]
  },
  {
   "cell_type": "code",
   "execution_count": null,
   "metadata": {},
   "outputs": [],
   "source": [
    "max(ai[2],ai[4]) # ai[2]\n",
    "max(ai[2],ai[7]) # ai[2] -> ставим 2 в конец\n",
    "max(bi[2],bi[4]) # bi[4]\n",
    "max(bi[4],bi[7]) # bi[4]"
   ]
  },
  {
   "cell_type": "code",
   "execution_count": null,
   "metadata": {},
   "outputs": [],
   "source": [
    "print(\"ANSWER:\\n\", ans,\"\\n\", int_arr)"
   ]
  },
  {
   "cell_type": "code",
   "execution_count": null,
   "metadata": {},
   "outputs": [],
   "source": [
    "print(\"plus:\",plus_indexes)\n",
    "print(\"zero:\",zero_indexes)\n",
    "print(\"minus:\",minus_indexes)"
   ]
  },
  {
   "cell_type": "code",
   "execution_count": null,
   "metadata": {},
   "outputs": [],
   "source": [
    "ans = 1391031884\n",
    "ans - summa_plus"
   ]
  },
  {
   "cell_type": "code",
   "execution_count": null,
   "metadata": {},
   "outputs": [],
   "source": [
    "bi[4]"
   ]
  },
  {
   "cell_type": "code",
   "execution_count": null,
   "metadata": {},
   "outputs": [],
   "source": [
    "plus_indexes[-1]"
   ]
  },
  {
   "cell_type": "code",
   "execution_count": null,
   "metadata": {},
   "outputs": [],
   "source": [
    "a3 = 61020590 \n",
    "a5 = 135599877\n",
    "a6 = 160714711"
   ]
  },
  {
   "cell_type": "code",
   "execution_count": null,
   "metadata": {},
   "outputs": [],
   "source": [
    "plus_indexes.remove(2)\n",
    "plus_indexes"
   ]
  },
  {
   "cell_type": "code",
   "execution_count": null,
   "metadata": {},
   "outputs": [],
   "source": [
    "\n",
    "\n",
    "\n",
    "summa_plus=0\n",
    "every_step=[]\n",
    "\n",
    "plus_indexes = []\n",
    "minus_indexes = []\n",
    "zero_indexes = []\n",
    "max_plus = 0\n",
    "max_plus_index = ai[0]\n",
    "\n",
    "for i in range(1,N+1):\n",
    "    if di[i]>0:\n",
    "        plus_indexes.append(i)\n",
    "        summa_plus = summa_plus+di[i]\n",
    "    elif di[i]==0:\n",
    "        zero_indexes.append(i)\n",
    "    else:\n",
    "        minus_indexes.append(i)\n",
    "\n",
    "\n",
    "\n",
    "print(\"plus:\",plus_indexes)\n",
    "print(\"zero:\",zero_indexes)\n",
    "print(\"minus:\",minus_indexes)\n",
    "other_indexes = zero_indexes+minus_indexes\n",
    "\n",
    "if other_indexes!=[]:\n",
    "    summa_max_plus = max(summa_plus + bi[plus_indexes[-1]],summa_plus + ai[other_indexes[0]])\n",
    "else:\n",
    "    summa_max_plus = summa_plus\n",
    "\n",
    "print(\"my_summ:\",summa_max_plus)\n",
    "print(\"ans:\",ans)\n",
    "print(ans-summa_max_plus)\n",
    "\n",
    "if (ans-summa_max_plus)==0:\n",
    "    print(\"Right sum!\")\n",
    "else:\n",
    "    print(\"Wrong sum!\")\n",
    "\n",
    "result_list = plus_indexes+zero_indexes+minus_indexes\n",
    "result_strig_list = ' '.join(map(str, result_list)).strip()\n",
    "\n",
    "print(result_strig_list)\n",
    "if result_strig_list==int_arr:\n",
    "    print(\"Right array!\")\n",
    "else:\n",
    "    print(\"right answer\\n\",int_arr)"
   ]
  },
  {
   "cell_type": "code",
   "execution_count": null,
   "metadata": {},
   "outputs": [],
   "source": [
    "\n"
   ]
  },
  {
   "cell_type": "code",
   "execution_count": null,
   "metadata": {},
   "outputs": [],
   "source": [
    "def scan_file_input(input_file):\n",
    "    file = open(input_file, 'r')\n",
    "    N = int(file.readline())\n",
    "    ai = [0]\n",
    "    bi = [0]\n",
    "    di=[0]\n",
    "    for i in range(N):\n",
    "        aii, bii = [int(n) for n in file.readline().split(' ')]\n",
    "        ai.append(aii)\n",
    "        bi.append(bii)\n",
    "        di.append(aii-bii)\n",
    "    file.close()\n",
    "    return N, ai, bi, di\n",
    "\n",
    "input_file = input\n",
    "# input_file = \"input.txt\"\n",
    "N, ai, bi, di = scan_file_input(input_file)\n",
    "\n",
    "print(N)\n",
    "print(\"ai:\",ai)\n",
    "print(\"bi:\",bi)\n",
    "print(\"di:\",di)"
   ]
  },
  {
   "cell_type": "code",
   "execution_count": null,
   "metadata": {},
   "outputs": [],
   "source": [
    "diff = [0]\n",
    "for i in range(1,len(ai)):\n",
    "    diff.append(ai[i]-bi[i])\n",
    "    print(i,\":\",ai[i]-bi[i])"
   ]
  },
  {
   "cell_type": "code",
   "execution_count": null,
   "metadata": {},
   "outputs": [],
   "source": [
    "summa_plus=0\n",
    "every_step=[]\n",
    "\n",
    "plus_indexes = []\n",
    "minus_indexes = []\n",
    "zero_indexes = []\n",
    "\n",
    "for i in range(1,N+1):\n",
    "    if diff[i]>0:\n",
    "        plus_indexes.append(i)\n",
    "        summa_plus = summa_plus+di[i]\n",
    "    elif diff[i]==0:\n",
    "        zero_indexes.append(i)\n",
    "    else:\n",
    "        minus_indexes.append(i)\n",
    "\n",
    "print(\"plus:\",plus_indexes)\n",
    "print(\"zero:\",zero_indexes)\n",
    "print(\"minus:\",minus_indexes)\n",
    "\n",
    "print(summa_plus)\n",
    "summa_max_plus = summa_plus + bi[plus_indexes[-1]]\n",
    "print(summa_max_plus)\n",
    "# answeros = 1391031884\n",
    "# print(answeros-summa_max_plus)"
   ]
  },
  {
   "cell_type": "code",
   "execution_count": null,
   "metadata": {},
   "outputs": [],
   "source": [
    "bi[plus_indexes[-1]]"
   ]
  },
  {
   "cell_type": "code",
   "execution_count": null,
   "metadata": {},
   "outputs": [],
   "source": [
    "plus_indexes"
   ]
  },
  {
   "cell_type": "code",
   "execution_count": null,
   "metadata": {},
   "outputs": [],
   "source": [
    "bi[plus_indexes[-1]]"
   ]
  },
  {
   "cell_type": "code",
   "execution_count": null,
   "metadata": {},
   "outputs": [],
   "source": [
    "index_last_plus = plus_indexes[-1]\n",
    "\n",
    "summa_first = max(summa_plus, summa_plus+bi(index_last_plus))\n"
   ]
  },
  {
   "cell_type": "code",
   "execution_count": null,
   "metadata": {},
   "outputs": [],
   "source": [
    "summi_base=0\n",
    "for i in plus:\n",
    "    summi_base=summi_base+diff[i]\n",
    "\n",
    "print(summi_base)\n",
    "\n",
    "summi=[]\n",
    "summa_summi = 0\n",
    "for i in minus:\n",
    "    summa_summi = summa_summi + ai[i]\n",
    "    summi.append(summa_summi)\n",
    "    summa_summi = summa_summi - bi[i]\n",
    "    summi.append(summa_summi)\n",
    "\n",
    "print(summi)\n",
    "all_sum = int(summi[0])+int(summi_base)\n",
    "print(all_sum)"
   ]
  },
  {
   "cell_type": "code",
   "execution_count": null,
   "metadata": {},
   "outputs": [],
   "source": [
    "def find_max(seq):\n",
    "    max1 = seq[0]\n",
    "    for i in range(1,len(seq)):\n",
    "        if seq[i] > max1:\n",
    "            max1 = seq[i]\n",
    "    return max1"
   ]
  },
  {
   "cell_type": "code",
   "execution_count": null,
   "metadata": {},
   "outputs": [],
   "source": []
  },
  {
   "cell_type": "code",
   "execution_count": null,
   "metadata": {},
   "outputs": [],
   "source": []
  },
  {
   "cell_type": "code",
   "execution_count": null,
   "metadata": {},
   "outputs": [],
   "source": []
  },
  {
   "cell_type": "code",
   "execution_count": null,
   "metadata": {},
   "outputs": [],
   "source": [
    "376133398+534053220+32279671\n",
    "diff_summm = 942466289\n",
    "answeros = 1391031884\n",
    "addition =  answeros - diff_summm\n",
    "addition"
   ]
  },
  {
   "cell_type": "code",
   "execution_count": null,
   "metadata": {},
   "outputs": [],
   "source": [
    "# 1/2/4\n",
    "ai[0]+ai[1]+ai[3]+ai[2]"
   ]
  },
  {
   "cell_type": "code",
   "execution_count": null,
   "metadata": {},
   "outputs": [],
   "source": [
    "480845266 - 160714711"
   ]
  },
  {
   "cell_type": "code",
   "execution_count": null,
   "metadata": {},
   "outputs": [],
   "source": [
    "# 376133398 + 534053220 + 32279671\n",
    "a,b,c = 61020590,135599877,160714711\n",
    "max1 = max(max(a,b),c)\n",
    "max1"
   ]
  },
  {
   "cell_type": "code",
   "execution_count": null,
   "metadata": {},
   "outputs": [],
   "source": [
    "max_down = diff[0]\n",
    "i_max_down = 0\n",
    "sum = 0\n",
    "plus = []\n",
    "zero = []\n",
    "minus = []\n",
    "\n",
    "for i in range(0,N):\n",
    "    if diff[i]>0:\n",
    "        plus.append(i+1) # но потом надо добавить последний максимум то бишь максимум из листа минус или зеро\n",
    "        \n",
    "        sum = sum+ai[i]\n",
    "        print(i,sum)\n",
    "    else:\n",
    "        minus.append(i+1)\n",
    "    if diff[i]==0:\n",
    "        zero.append(i+1)\n",
    "\n",
    "print(sum)\n",
    "\n",
    "def find_max_index(seq, index_arr):\n",
    "    max1 = seq[index_arr[0]]\n",
    "    index = index_arr[0]\n",
    "    for i in range(2,len(seq)+1):\n",
    "        if i in index_arr:\n",
    "            if seq[i-1] > max1:\n",
    "                max1 = seq[i-1]\n",
    "                index = i \n",
    "    return max1, index\n",
    "\n",
    "\n",
    "max1, index = find_max_index(ai, minus)\n",
    "\n",
    "res  = []\n",
    "res.append(plus)\n",
    "res.append([index])\n",
    "res.append(minus)\n",
    "minus.remove(index)\n",
    "\n",
    "\n",
    "real_max = 480845266\n",
    "real_sum = 1392943352\n",
    "real_res = [1,2,4,3,5,6]\n",
    "\n",
    "print(real_max,' - real max')\n",
    "print(max1)\n",
    "print(real_sum,\" - real sum\")\n",
    "print(sum)\n",
    "print(real_res,\" - real res\")\n",
    "print(res)\n",
    "\n",
    "summi=0\n",
    "for i in range(len(real_res)):\n",
    "    print(i)\n",
    "    inde = real_res[i]-1\n",
    "    if diff[inde]>0:\n",
    "        summi = summi + diff[inde]\n",
    "    print(summi)\n",
    "\n",
    "# 942466289\n",
    "\n",
    "#  1391031884 \n",
    "#  1 2 4 3 5 6"
   ]
  },
  {
   "cell_type": "code",
   "execution_count": null,
   "metadata": {},
   "outputs": [],
   "source": [
    "942466289 + real_max"
   ]
  },
  {
   "cell_type": "code",
   "execution_count": null,
   "metadata": {},
   "outputs": [],
   "source": [
    "summi_up_diff=0\n",
    "diff_up = []\n",
    "diff_down = []\n",
    "\n",
    "for i in range(N):\n",
    "    if diff[i]>0:\n",
    "        summi_up_diff = summi_up_diff + diff[i]\n",
    "        diff_up.append(i)\n",
    "    else:\n",
    "        diff_down.append(i)\n",
    "\n",
    "def find_max_index(seq, index_arr):\n",
    "    index = index_arr[0]\n",
    "    max1 = seq[index]\n",
    "    \n",
    "    for i in range(1,len(seq)):\n",
    "        if (i+1) in index_arr:\n",
    "            print(i+1)\n",
    "            if seq[i-1] > max1:\n",
    "                max1 = seq[i-1]\n",
    "                index = i-1\n",
    "    return max1, index\n",
    "\n",
    "print(summi_up_diff, diff_up)\n",
    "print(diff_down)\n",
    "find_max_index(ai, diff_down)\n",
    "print(max1, index)\n",
    "print()"
   ]
  },
  {
   "cell_type": "code",
   "execution_count": null,
   "metadata": {},
   "outputs": [],
   "source": [
    "# true answer\n",
    "anss = [1, 2, 4, 3, 5, 6]\n",
    "asn = []\n",
    "\n",
    "for i in range(len(anss)):\n",
    "    asn.append(anss[i]-1)\n",
    "print(asn)"
   ]
  },
  {
   "cell_type": "code",
   "execution_count": null,
   "metadata": {},
   "outputs": [],
   "source": [
    "sums = []\n",
    "for i in asn:\n",
    "    sum = sum+ai[i]\n",
    "    sums.append(sum)\n",
    "    sum = sum-bi[i]\n",
    "    sums.append(sum)\n",
    "\n",
    "def find_max(seq):\n",
    "    max1 = 0\n",
    "    for i in range(0,len(seq)):\n",
    "        if seq[i] > max1:\n",
    "            max1 = seq[i]   \n",
    "    return max1\n",
    "\n",
    "my_sum = find_max(sums)"
   ]
  },
  {
   "cell_type": "code",
   "execution_count": null,
   "metadata": {},
   "outputs": [],
   "source": [
    "print(my_sum)\n",
    "print(' '.join(map(str, diff_up)),' '.join(map(str, diff_down)))"
   ]
  },
  {
   "cell_type": "code",
   "execution_count": null,
   "metadata": {},
   "outputs": [],
   "source": [
    "true_sum = 1391031884\n",
    "print(true_sum)\n",
    "print(' '.join(map(str, asn)))"
   ]
  },
  {
   "cell_type": "code",
   "execution_count": null,
   "metadata": {},
   "outputs": [],
   "source": [
    "print(\"diff\", my_sum-true_sum)"
   ]
  },
  {
   "cell_type": "markdown",
   "metadata": {},
   "source": [
    "## F. Колесо Фортуны\n",
    "\n",
    "Развлекательный телеканал транслирует шоу «Колесо Фортуны». В процессе игры участники шоу крутят большое колесо, разделенное на сектора. В каждом секторе этого колеса записано число. После того как колесо останавливается, специальная стрелка указывает на один из секторов. Число в этом секторе определяет выигрыш игрока.\n",
    "Юный участник шоу заметил, что колесо в процессе вращения замедляется из-за того, что стрелка задевает за выступы на колесе, находящиеся между секторами. Если колесо вращается с угловой скоростью v градусов в секунду, и стрелка, переходя из сектора X к следующему сектору, задевает за очередной выступ, то текущая угловая скорость движения колеса уменьшается на k градусов в секунду. При этом если v ≤ k, то колесо не может преодолеть препятствие и останавливается. Стрелка в этом случае будет указывать на сектор X.\n",
    "\n",
    "Юный участник шоу собирается вращать колесо. Зная порядок секторов на колесе, он хочет заставить колесо вращаться с такой начальной скоростью, чтобы после остановки колеса стрелка указала на как можно большее число. Колесо можно вращать в любом направлении и придавать ему начальную угловую скорость от a до b градусов в секунду.\n",
    "Требуется написать программу, которая по заданному расположению чисел в секторах, минимальной и максимальной начальной угловой скорости вращения колеса и величине замедления колеса при переходе через границу секторов вычисляет максимальный выигрыш.\n",
    "\n",
    "#### Формат ввода\n",
    "\n",
    "Первая строка входного файла содержит целое число n — количество секторов колеса (3 ≤ n ≤ 100).\n",
    "Вторая строка входного файла содержит n положительных целых чисел, каждое из которых не превышает 1000 — числа, записанные в секторах колеса. Числа приведены в порядке следования секторов по часовой стрелке. Изначально стрелка указывает на первое число.\n",
    "Третья строка содержит три целых числа: a, b и k (1 ≤ a ≤ b ≤ 109, 1 ≤ k ≤ 109).\n",
    "\n",
    "#### Формат вывода\n",
    "\n",
    "В выходном файле должно содержаться одно целое число — максимальный выигрыш."
   ]
  },
  {
   "cell_type": "code",
   "execution_count": 94,
   "metadata": {},
   "outputs": [
    {
     "name": "stdout",
     "output_type": "stream",
     "text": [
      "../inputs/2/F_WheelOfFortune/input_5_2_F_test5.txt\n"
     ]
    }
   ],
   "source": [
    "test = 5\n",
    "\n",
    "problem = \"F_WheelOfFortune\"\n",
    "module = '2'\n",
    "\n",
    "num_of_test = 5\n",
    "input, output = proc.return_input_output(module=module, problem=problem, tests=test, num_of_test=num_of_test)\n",
    "\n",
    "print(input)"
   ]
  },
  {
   "cell_type": "code",
   "execution_count": 103,
   "metadata": {},
   "outputs": [
    {
     "name": "stdout",
     "output_type": "stream",
     "text": [
      "744\n"
     ]
    }
   ],
   "source": [
    "def scan_file_input(input_file):\n",
    "    file = open(input_file, 'r')\n",
    "    N = int(file.readline())\n",
    "    int_list_of_N = [int(n) for n in file.readline().split(' ')]\n",
    "    a,b,k = [int(n) for n in file.readline().split(' ')]\n",
    "    file.close()\n",
    "    return N,int_list_of_N,a,b,k\n",
    "\n",
    "def ceil_without_imports(number):\n",
    "    if number == int(number):\n",
    "        return int(number)\n",
    "    else:\n",
    "        return int(number) + 1\n",
    "\n",
    "# input_file=\"input.txt\"\n",
    "input_file=input\n",
    "N,arr_n,a,b,k = scan_file_input(input_file)\n",
    "\n",
    "res = 0\n",
    "reversed_arr_n = arr_n.copy() \n",
    "reversed_arr_n.reverse() \n",
    "\n",
    "my_set = {arr_n[0]}\n",
    "\n",
    "if b>k:\n",
    "    for v0 in range(a, b + 1):\n",
    "        boarders = ceil_without_imports(v0/k-1)\n",
    "        max1 = arr_n[boarders % N - 1]\n",
    "        max2 = reversed_arr_n[boarders % N - 1]\n",
    "        if max(max1,max2)>res:\n",
    "            res = max(max1,max2)\n",
    "else:\n",
    "    res = arr_n[0]\n",
    "\n",
    "\n",
    "\n",
    "print(res)"
   ]
  },
  {
   "cell_type": "code",
   "execution_count": 102,
   "metadata": {},
   "outputs": [
    {
     "name": "stdout",
     "output_type": "stream",
     "text": [
      "744\n"
     ]
    }
   ],
   "source": [
    "def scan_file_input(input_file):\n",
    "    file = open(input_file, 'r')\n",
    "    N = int(file.readline())\n",
    "    int_list_of_N = [int(n) for n in file.readline().split(' ')]\n",
    "    a,b,k = [int(n) for n in file.readline().split(' ')]\n",
    "    file.close()\n",
    "    return N,int_list_of_N,a,b,k\n",
    "\n",
    "def ceil_without_imports(number):\n",
    "    if number == int(number):\n",
    "        return int(number)\n",
    "    else:\n",
    "        return int(number) + 1\n",
    "\n",
    "input_file=\"input.txt\"\n",
    "# input_file=input\n",
    "N,arr_n,a,b,k = scan_file_input(input_file)\n",
    "\n",
    "res = 0\n",
    "reversed_arr_n = arr_n.copy() \n",
    "reversed_arr_n.reverse() \n",
    "\n",
    "my_set = set()\n",
    "\n",
    "if b>k:\n",
    "    for v0 in range(a, b + 1):\n",
    "        boarders = ceil_without_imports(v0/k-1)\n",
    "        max1 = arr_n[boarders % N - 1]\n",
    "        max2 = reversed_arr_n[boarders % N - 1]\n",
    "        my_set.add(max1)\n",
    "        my_set.add(max2)\n",
    "else:\n",
    "    my_set.add(arr_n[0])\n",
    "\n",
    "print(max(my_set))"
   ]
  },
  {
   "cell_type": "code",
   "execution_count": 97,
   "metadata": {},
   "outputs": [
    {
     "name": "stdout",
     "output_type": "stream",
     "text": [
      "4\n",
      "[744, 43, 468, 382]\n",
      "20 48 12\n"
     ]
    },
    {
     "data": {
      "text/plain": [
       "744"
      ]
     },
     "execution_count": 97,
     "metadata": {},
     "output_type": "execute_result"
    }
   ],
   "source": [
    "N,arr_n,a,b,k = scan_file_input(input_file=input)\n",
    "\n",
    "print(N)\n",
    "print(arr_n)\n",
    "print(a,b,k)\n",
    "arr_n[0]"
   ]
  },
  {
   "cell_type": "code",
   "execution_count": 64,
   "metadata": {},
   "outputs": [
    {
     "name": "stdout",
     "output_type": "stream",
     "text": [
      "4\n"
     ]
    }
   ],
   "source": [
    "res = 0\n",
    "reversed_arr_n = arr_n.copy() \n",
    "reversed_arr_n.reverse() \n",
    "\n",
    "for v0 in range(a, b + 1):\n",
    "    boarders = ceil_without_imports(v0/k-1)\n",
    "    max1 = arr_n[boarders % N - 1]\n",
    "    max2 = reversed_arr_n[boarders % N - 1]\n",
    "    if max(max1,max2)>res:\n",
    "        res = max(max1,max2)\n",
    "\n",
    "print(res)"
   ]
  },
  {
   "cell_type": "markdown",
   "metadata": {},
   "source": [
    "## G. Ни больше ни меньше\n",
    "\n",
    "Дан массив целых положительных чисел a длины n. Разбейте его на минимально возможное количество отрезков, чтобы каждое число было не меньше длины отрезка которому оно принадлежит. Длиной отрезка считается количество чисел в нем.\n",
    "Разбиение массива на отрезки считается корректным, если каждый элемент принадлежит ровно одному отрезку.\n",
    "\n",
    "#### Формат ввода\n",
    "\n",
    "Первая строка содержит одно целое число t (1 ≤ t ≤ 1 000) — количество наборов тестовых данных. Затем следуют t наборов тестовых данных.\n",
    "Первая строка набора тестовых данных содержит одно целое число n (1 ≤ n ≤ 105) — длину массива.\n",
    "Следующая строка содержит n целых чисел a1, a2, …, an (1 ≤ ai ≤ n) — массив a.\n",
    "Гарантируется, что сумма n по всем наборам тестовых данных не превосходит 2 ⋅ 105.\n",
    "\n",
    "#### Формат вывода\n",
    "\n",
    "Для каждого набора тестовых данных в первой строке выведите число k — количество отрезков в вашем разбиении.\n",
    "Затем в следующей строке выведите k чисел len1, len2, …, lenk  — длины отрезков в порядке слева направо."
   ]
  },
  {
   "cell_type": "code",
   "execution_count": 109,
   "metadata": {},
   "outputs": [],
   "source": [
    "test = 1\n",
    "problem = \"G_NoMoreNoLess\"\n",
    "module = '2'\n",
    "\n",
    "num_of_test = 1\n",
    "input, output = proc.return_input_output(module=module, problem=problem, tests=test, num_of_test=num_of_test)"
   ]
  },
  {
   "cell_type": "code",
   "execution_count": 114,
   "metadata": {},
   "outputs": [],
   "source": [
    "def scan_file_input(input_file):\n",
    "    file = open(input_file, 'r')\n",
    "    t = int(file.readline())\n",
    "    dict={}\n",
    "    dict2 = {}\n",
    "    for test in range(t):\n",
    "        n=int(file.readline())\n",
    "        arr=[int(n) for n in file.readline().split(' ')]\n",
    "        dict[n]=arr\n",
    "        # n = int(file.readline())\n",
    "        # a_arr = [int(n) for n in file.readline().split(' ')]\n",
    "    file.close()\n",
    "    return t, dict"
   ]
  },
  {
   "cell_type": "code",
   "execution_count": 115,
   "metadata": {},
   "outputs": [
    {
     "name": "stdout",
     "output_type": "stream",
     "text": [
      "3\n",
      "{5: [1, 3, 3, 3, 2], 16: [1, 9, 8, 7, 6, 7, 8, 9, 9, 9, 9, 9, 9, 9, 9, 9], 7: [7, 2, 3, 4, 3, 2, 7]}\n"
     ]
    }
   ],
   "source": [
    "# input_file=\"input.txt\"\n",
    "input_file=input\n",
    "t, dict = scan_file_input(input_file)\n",
    "\n",
    "print(t)\n",
    "print(dict)"
   ]
  },
  {
   "cell_type": "code",
   "execution_count": 142,
   "metadata": {},
   "outputs": [
    {
     "name": "stdout",
     "output_type": "stream",
     "text": [
      "1 1 [1, 3, 3, 3, 2] 1\n",
      "3 3 [1, 3, 3, 3, 2] 2\n",
      "3 3 [1, 3, 3, 3, 2] 2\n",
      "3 3 [1, 3, 3, 3, 2] 2\n",
      "2 2 [1, 3, 3, 3, 2] 2\n",
      "{1: [1], 2: [3, 3, 3, 2]}\n"
     ]
    }
   ],
   "source": [
    "dict={5: [1, 3, 3, 3, 2]}\n",
    "\n",
    "for key in dict:\n",
    "    list = dict[key]\n",
    "    pointer = 0\n",
    "    length=0\n",
    "    dicti = {}\n",
    "    my_set=set()\n",
    "\n",
    "    for i in range(key):\n",
    "    \n",
    "        \n",
    "        if list[i]>length:\n",
    "            pointer += 1\n",
    "\n",
    "        if pointer not in dicti:\n",
    "            dicti[pointer]=[]\n",
    "        \n",
    "        length = list[i]\n",
    "        dicti[pointer].append(list[i])\n",
    "\n",
    "        print(list[i], length, list, pointer)\n",
    "        \n",
    "\n",
    "        \n",
    "        \n",
    "        \n",
    "\n",
    "print(dicti)\n",
    "            \n"
   ]
  },
  {
   "cell_type": "code",
   "execution_count": null,
   "metadata": {},
   "outputs": [],
   "source": []
  },
  {
   "cell_type": "markdown",
   "metadata": {},
   "source": [
    "## H. Наилучший запрет\n",
    "\n",
    "Константин и Михаил играют в настольную игру «Ярость Эльфов». В игре есть n рас и m классов персонажей. Каждый персонаж характеризуется своими расой и классом. Для каждой расы и каждого класса существует ровно один персонаж такой расы и такого класса. Сила персонажа i-й расы и j-го класса равна ai j, и обоим игрокам это прекрасно известно.\n",
    "Сейчас Константин будет выбирать себе персонажа. Перед этим Михаил может запретить одну расу и один класс, чтобы Константин не мог выбирать персонажей, у которых такая раса или такой класс. Конечно же, Михаил старается, чтобы Константину достался как можно более слабый персонаж, а Константин, напротив, выбирает персонажа посильнее. Какие расу и класс следует запретить Михаилу?\n",
    "\n",
    "#### Формат ввода\n",
    "\n",
    "Первая строка содержит два целых числа n и m (2 ≤ n,m ≤ 1000) через пробел — количество рас и классов в игре «Ярость Эльфов», соответственно.\n",
    "В следующих n строках содержится по m целых чисел через пробел. j-е число i-й из этих строк — это ai j (1 ≤ ai j ≤ 109).\n",
    "\n",
    "#### Формат вывода\n",
    "\n",
    "В единственной строке выведите два целых числа через пробел — номер расы и номер класса, которые следует запретить Михаилу. Расы и классы нумеруются с единицы. Если есть несколько возможных ответов, выведите любой из них.\n"
   ]
  },
  {
   "cell_type": "code",
   "execution_count": null,
   "metadata": {},
   "outputs": [],
   "source": [
    "test = 2\n",
    "problem = \"H_TheBestResult\"\n",
    "module = '2'\n",
    "\n",
    "num_of_test = 1\n",
    "input, output = proc.return_input_output(module=module, problem=problem, tests=test, num_of_test=num_of_test)"
   ]
  },
  {
   "cell_type": "code",
   "execution_count": null,
   "metadata": {},
   "outputs": [],
   "source": []
  },
  {
   "cell_type": "code",
   "execution_count": null,
   "metadata": {},
   "outputs": [],
   "source": []
  },
  {
   "cell_type": "markdown",
   "metadata": {},
   "source": [
    "## I. Пираты Баренцева моря\n",
    "\n",
    "Вася играет в настольную игру «Пираты Баренцева моря», которая посвящена морским битвам. Игровое поле представляет собой квадрат из N x N клеток, на котором расположено N кораблей (каждый корабль занимает одну клетку).\n",
    "Вася решил воспользоваться линейной тактикой, для этого ему необходимо выстроить все N кораблей в одном столбце. За один ход можно передвинуть один корабль в одну из четырёх соседних по стороне клеток. Номер столбца, в котором будут выстроены корабли, не важен. Определите минимальное количество ходов, необходимых для построения кораблей в одном столбце. В начале и процессе игры никакие два корабля не могут находиться в одной клетке.\n",
    "\n",
    "#### Формат ввода\n",
    "\n",
    "В первой строке входных данных задаётся число N (1-100)\n",
    "В каждой из следующих N строк задаются координаты корабля: сначала номер строки, затем номер столбца (нумерация начинается с единицы).\n",
    "\n",
    "#### Формат вывода\n",
    "\n",
    "Выведите одно число — минимальное количество ходов, необходимое для построения."
   ]
  },
  {
   "cell_type": "code",
   "execution_count": null,
   "metadata": {},
   "outputs": [],
   "source": [
    "test = 1\n",
    "problem = \"I_PiratesOfTheBarentsSea\"\n",
    "module = '2'\n",
    "\n",
    "num_of_test = 1\n",
    "input, output = proc.return_input_output(module=module, problem=problem, tests=test, num_of_test=num_of_test)"
   ]
  },
  {
   "cell_type": "code",
   "execution_count": null,
   "metadata": {},
   "outputs": [],
   "source": []
  },
  {
   "cell_type": "code",
   "execution_count": null,
   "metadata": {},
   "outputs": [],
   "source": []
  },
  {
   "cell_type": "markdown",
   "metadata": {},
   "source": [
    "## J. Два прямоугольника\n",
    "\n",
    "Недавно один известный художник-абстракционист произвел на свет новый шедевр — картину «Два черных непересекающихся прямоугольника». Картина представляет собой прямоугольник m× n, разбитый на квадраты 1× 1, некоторые из которых закрашены любимым цветом автора — черным. Федя — не любитель абстрактных картин, однако ему стало интересно, действительно ли на картине изображены два непересекающихся прямоугольника. Помогите ему это узнать. Прямоугольники не пересекаются в том смысле, что они не имеют общих клеток.\n",
    "\n",
    "#### Формат ввода\n",
    "\n",
    "Первая строка входного файла содержит числа m и n (1 ≤ m, n ≤ 200). Следующие m строк содержат описание рисунка. Каждая строка содержит ровно n символов. Символ «.» обозначает пустой квадрат, а символ «#» — закрашенный.\n",
    "\n",
    "#### Формат вывода\n",
    "\n",
    "Если рисунок можно представить как два непересекающихся прямоугольника, выведите в первой строке «YES», а в следующих m строках выведите рисунок в том же виде, в каком он задан во входном файле, заменив квадраты, соответствующие первому прямоугольнику на символ «a», а второму — на символ «b». Если решений несколько, выведите любое.\n",
    "Если же этого сделать нельзя, выведите в выходной файл «NO»."
   ]
  },
  {
   "cell_type": "code",
   "execution_count": null,
   "metadata": {},
   "outputs": [],
   "source": [
    "test = 4\n",
    "problem = \"J_TwoRectangles\"\n",
    "module = '2'\n",
    "\n",
    "num_of_test = 1\n",
    "input, output = proc.return_input_output(module=module, problem=problem, tests=test, num_of_test=num_of_test)"
   ]
  },
  {
   "cell_type": "code",
   "execution_count": null,
   "metadata": {},
   "outputs": [],
   "source": []
  }
 ],
 "metadata": {
  "kernelspec": {
   "display_name": "Python 3",
   "language": "python",
   "name": "python3"
  },
  "language_info": {
   "codemirror_mode": {
    "name": "ipython",
    "version": 3
   },
   "file_extension": ".py",
   "mimetype": "text/x-python",
   "name": "python",
   "nbconvert_exporter": "python",
   "pygments_lexer": "ipython3",
   "version": "3.12.1"
  }
 },
 "nbformat": 4,
 "nbformat_minor": 2
}
