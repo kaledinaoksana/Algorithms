{
 "cells": [
  {
   "cell_type": "markdown",
   "metadata": {},
   "source": [
    "# Линейный поиск"
   ]
  },
  {
   "cell_type": "markdown",
   "metadata": {},
   "source": [
    "## Задача 1\n",
    "\n",
    "**Дано:** последовательность чисел длиной N\n",
    "\n",
    "**Задача:** Найти первое (левое) вхождение положительного числа X в нее или вывести -1, если число X не встречалось."
   ]
  },
  {
   "cell_type": "code",
   "execution_count": 1,
   "metadata": {},
   "outputs": [
    {
     "data": {
      "text/plain": [
       "2"
      ]
     },
     "execution_count": 1,
     "metadata": {},
     "output_type": "execute_result"
    }
   ],
   "source": [
    "def find_left_x(seq,x):\n",
    "    ans = -1\n",
    "    for i in range(len(seq)):\n",
    "        if ans == -1 and seq[i] == x:\n",
    "            ans = i\n",
    "    return ans\n",
    "\n",
    "find_left_x([1,23,3,5,2,32,4,3,2],3)\n"
   ]
  },
  {
   "cell_type": "markdown",
   "metadata": {},
   "source": [
    "## Задача 2\n",
    "\n",
    "**Дано:** последовательность чисел длиной N\n",
    "\n",
    "**Задача:** Найти последнее (правое) вхождение положительного числа X в нее или вывести -1, если число X не встречалось."
   ]
  },
  {
   "cell_type": "code",
   "execution_count": 2,
   "metadata": {},
   "outputs": [
    {
     "data": {
      "text/plain": [
       "7"
      ]
     },
     "execution_count": 2,
     "metadata": {},
     "output_type": "execute_result"
    }
   ],
   "source": [
    "def find_right_x(seq,x):\n",
    "    ans = -1\n",
    "    for i in range(len(seq)):\n",
    "        if seq[i] == x:\n",
    "            ans = i\n",
    "    return ans\n",
    "\n",
    "find_right_x([1,23,3,5,2,32,4,3,2],3)"
   ]
  },
  {
   "cell_type": "markdown",
   "metadata": {},
   "source": []
  },
  {
   "cell_type": "markdown",
   "metadata": {},
   "source": [
    "## Задача 3\n",
    "\n",
    "**Дано:** последовательность чисел длиной N\n",
    "\n",
    "**Задача:** Найти максимальное число в последовательности."
   ]
  },
  {
   "cell_type": "code",
   "execution_count": 3,
   "metadata": {},
   "outputs": [
    {
     "data": {
      "text/plain": [
       "32"
      ]
     },
     "execution_count": 3,
     "metadata": {},
     "output_type": "execute_result"
    }
   ],
   "source": [
    "# плох для строк из-за копирования переменных \n",
    "# (в питоне там ссылки, то еще нормально)\n",
    "\n",
    "def find_max_x(seq):\n",
    "    ans = seq[0]\n",
    "    for i in range(1,len(seq)):\n",
    "        if seq[i] > ans:\n",
    "            ans = seq[i]\n",
    "    return ans\n",
    "\n",
    "# как решить? запоминать не значение, а индекс\n",
    "# но образение по индексу может тоже занимать время\n",
    "# то есть зависит от языка на котором пишете\n",
    "\n",
    "def find_max_x_wo_copy(seq):\n",
    "    ans = 0\n",
    "    for i in range(1,len(seq)):\n",
    "        if seq[i] > seq[ans]:\n",
    "            ans = i\n",
    "    return seq[ans]\n",
    "\n",
    "\n",
    "find_max_x([1,23,3,5,2,32,4,3,2])\n",
    "find_max_x_wo_copy([1,23,3,5,2,32,4,3,2])"
   ]
  },
  {
   "cell_type": "markdown",
   "metadata": {},
   "source": [
    "## Задача 4\n",
    "\n",
    "**Дано:** последовательность чисел длиной N\n",
    "\n",
    "**Задача:** Найти максимальное число в последовательности и второе по величине число (в этой задаче если уберем одно макс - второе может быть таким же)\n",
    "\n"
   ]
  },
  {
   "cell_type": "code",
   "execution_count": 4,
   "metadata": {},
   "outputs": [
    {
     "data": {
      "text/plain": [
       "(32, 23)"
      ]
     },
     "execution_count": 4,
     "metadata": {},
     "output_type": "execute_result"
    }
   ],
   "source": [
    "def find_max_2(seq):\n",
    "    max1 = max(seq[0],seq[1])\n",
    "    max2 = min(seq[0],seq[1])\n",
    "    for i in range(2,len(seq)):\n",
    "        if seq[i] > max1:\n",
    "            max2 = max1\n",
    "            max1 = seq[i]\n",
    "        elif seq[i] > max2:\n",
    "            max2 = seq[i]\n",
    "    return (max1, max2)\n",
    "\n",
    "find_max_2([1,23,3,5,2,32,4,3,2])"
   ]
  },
  {
   "cell_type": "code",
   "execution_count": 5,
   "metadata": {},
   "outputs": [],
   "source": [
    "seq = [1,23,3,5,2,32,4,3,2]"
   ]
  },
  {
   "cell_type": "markdown",
   "metadata": {},
   "source": [
    "## Задача 5\n",
    "\n",
    "**Дано:** последовательность чисел длиной N\n",
    "\n",
    "**Задача:** Минимальное четное число послежовательности или, если его нет, вывести -1.\n",
    "\n"
   ]
  },
  {
   "cell_type": "code",
   "execution_count": 6,
   "metadata": {},
   "outputs": [
    {
     "data": {
      "text/plain": [
       "2"
      ]
     },
     "execution_count": 6,
     "metadata": {},
     "output_type": "execute_result"
    }
   ],
   "source": [
    "# \n",
    "\n",
    "def find_min_even(seq):\n",
    "    ans = -1\n",
    "    for i in range(len(seq)):\n",
    "        if seq[i]%2==0 and (ans == -1 or seq[i]<ans):\n",
    "            ans = seq[i]\n",
    "    return ans\n",
    "\n",
    "def find_min_even_with_flag(seq):\n",
    "    ans = -1\n",
    "    flag = False\n",
    "    for i in range(len(seq)):\n",
    "        if seq[i]%2==0 and (not flag or seq[i]<ans):\n",
    "            ans = seq[i]\n",
    "            flag = True\n",
    "    return ans\n",
    "\n",
    "find_min_even(seq)\n",
    "find_min_even_with_flag(seq)"
   ]
  },
  {
   "cell_type": "markdown",
   "metadata": {},
   "source": [
    "## Задача 6\n",
    "\n",
    "**Дано:** последовательность чисел длиной N\n",
    "\n",
    "**Задача:** Минимальное четное число послежовательности или, если его нет, вывести -1.\n"
   ]
  },
  {
   "cell_type": "code",
   "execution_count": 7,
   "metadata": {},
   "outputs": [
    {
     "data": {
      "text/plain": [
       "'d'"
      ]
     },
     "execution_count": 7,
     "metadata": {},
     "output_type": "execute_result"
    }
   ],
   "source": [
    "# двупроходный алгоритм\n",
    "# дана последовательность слов\n",
    "# вывести все самые короткие слова через пробел\n",
    "\n",
    "words=[\"aaa\", 'cc', 'd','sddas','ad']\n",
    "\n",
    "def short_words(words):\n",
    "    minlen = len(words[0])\n",
    "    for word in words:\n",
    "        if len(word) < minlen:\n",
    "            minlen = len(word)\n",
    "    # ans = '' # плохо - потом копируются\n",
    "    ans = []\n",
    "    for word in words:\n",
    "        if len(word) == minlen:\n",
    "            # ans += word + \" \"\n",
    "            ans.append(word)\n",
    "    # return ans\n",
    "    return ' '.join(ans)\n",
    "\n",
    "short_words(words)"
   ]
  },
  {
   "cell_type": "markdown",
   "metadata": {},
   "source": [
    "## Задача: 7\n",
    "\n",
    "**Дано:** последовательность чисел длиной N\n",
    "\n",
    "**Задача:** Игра PitCraft происходть в двумерном мире, который состоит из блоков размером 1 на 1 метр. Остров игрока представляет собой набор столбцов различной высоты, состоящих из блоков камня и окруженный морем. Над островом прошел сильный дождь, который заполнил водой все низины, а не поместившаяся в них вода стекла в море, не увеличив его уровень. \n",
    "\n",
    "По ландшафту острова определите, сколько блоков воды осталось после дождя в низинах на острове."
   ]
  },
  {
   "cell_type": "code",
   "execution_count": 8,
   "metadata": {},
   "outputs": [
    {
     "data": {
      "text/plain": [
       "9"
      ]
     },
     "execution_count": 8,
     "metadata": {},
     "output_type": "execute_result"
    }
   ],
   "source": [
    "# задача олимпиада школьников\n",
    "\n",
    "def isleflood(h):\n",
    "    maxpos = 0\n",
    "    # находим вершину острова\n",
    "    for i in range(len(h)):\n",
    "        if h[i] > h[maxpos]:\n",
    "            maxpos = i \n",
    "    ans = 0\n",
    "    nowm = 0\n",
    "    # двигаемся слева до вершины\n",
    "    for i in range(maxpos):\n",
    "        if h[i] > nowm:\n",
    "            nowm = h[i]\n",
    "        ans += nowm - h[i]\n",
    "    nowm = 0\n",
    "    # двигаемся справа до вершины\n",
    "    for i in range(len(h)-1, maxpos, -1):\n",
    "        if h[i] > nowm:\n",
    "            nowm = h[i]\n",
    "        ans += nowm - h[i]\n",
    "    return ans\n",
    "\n",
    "\n",
    "h=[4,1,6,4,8,2,2,4,1]\n",
    "isleflood(h)"
   ]
  },
  {
   "cell_type": "markdown",
   "metadata": {},
   "source": [
    "## Задача: 8 - RLE\n",
    "\n",
    "**Дано:** строка (возможно, пустая), состоящая из букв A-Z.\n",
    "\n",
    "**Задача:** Написать функцию RLE, которая на выходе выдаст строку вида *A4B4C2XYZD5E4F4A6B12*. Cгенерирует ошибку, если на вход пришла невалидная строка\n"
   ]
  },
  {
   "cell_type": "code",
   "execution_count": 14,
   "metadata": {},
   "outputs": [],
   "source": [
    "string = \"AAAABBBBCCXYZDDDDDEEEEFFFFAAAAAABBBBBBBBBBBBB\""
   ]
  },
  {
   "cell_type": "code",
   "execution_count": 15,
   "metadata": {},
   "outputs": [
    {
     "data": {
      "text/plain": [
       "'ABCXYZDEFAB'"
      ]
     },
     "execution_count": 15,
     "metadata": {},
     "output_type": "execute_result"
    }
   ],
   "source": [
    "# решение сначала простой задачи\n",
    "def string_wo_repeat(s):\n",
    "    lastsym = s[0]\n",
    "    ans = []\n",
    "    for i in range(len(s)):\n",
    "        if s[i] != lastsym:\n",
    "            ans.append(lastsym)\n",
    "            lastsym = s[i]\n",
    "    ans.append(lastsym)\n",
    "    return ''.join(ans)\n",
    "\n",
    "string_wo_repeat(string)\n"
   ]
  },
  {
   "cell_type": "code",
   "execution_count": 16,
   "metadata": {},
   "outputs": [
    {
     "data": {
      "text/plain": [
       "'A4B4C2XYZD5E4F4A6B13'"
      ]
     },
     "execution_count": 16,
     "metadata": {},
     "output_type": "execute_result"
    }
   ],
   "source": [
    "# решение задачи на основе простой\n",
    "def rle(s):\n",
    "    # буква+число на выходе \n",
    "    def pack(letter,cnt):\n",
    "        if cnt>1:\n",
    "            return letter + str(cnt)\n",
    "        return letter\n",
    "    \n",
    "    lastsym = s[0]\n",
    "    lastpos = 0\n",
    "    ans = []\n",
    "\n",
    "    # делаем аналогично - если новый элемент, \n",
    "    # записываем сколько прошло индексов с прошлого\n",
    "    for i in range(len(s)):\n",
    "        if s[i] != lastsym:\n",
    "            ans.append(pack(lastsym, i-lastpos))\n",
    "            lastpos = i\n",
    "            lastsym = s[i]\n",
    "\n",
    "    ans.append(pack(s[lastpos],len(s)-lastpos))\n",
    "\n",
    "    return ''.join(ans)\n",
    "\n",
    "rle(string)"
   ]
  },
  {
   "cell_type": "markdown",
   "metadata": {},
   "source": [
    "# ЗАДАЧИ МОДУЛЬ 2"
   ]
  },
  {
   "cell_type": "markdown",
   "metadata": {},
   "source": [
    "## A. Минимальный прямоугольник\n",
    "\n",
    "На клетчатой плоскости закрашено K клеток. Требуется найти минимальный по площади прямоугольник, со сторонами, параллельными линиям сетки, покрывающий все закрашенные клетки.\n",
    "\n",
    "#### Формат ввода\n",
    "\n",
    "Во входном файле, на первой строке, находится число K (1 ≤ K ≤ 100). На следующих K строках находятся пары чисел Xi и Yi — координаты закрашенных клеток (|Xi|, |Yi| ≤ 109).\n",
    "\n",
    "#### Формат вывода\n",
    "\n",
    "Выведите в выходной файл координаты левого нижнего и правого верхнего углов прямоугольника."
   ]
  },
  {
   "cell_type": "code",
   "execution_count": 18,
   "metadata": {},
   "outputs": [
    {
     "name": "stdout",
     "output_type": "stream",
     "text": [
      "[(1.0, 3.0), (3.0, 1.0), (3.0, 5.0), (6.0, 3.0)]\n",
      "ANSWER: 1 1 6 5\n"
     ]
    }
   ],
   "source": [
    "input = f\"../inputs/2/A_MinimalRectangle/{'input'}_5_2_A_test1.txt\"\n",
    "output = f\"../inputs/2/A_MinimalRectangle/{'output'}_5_2_A_test1.txt\"\n",
    "\n",
    "def scan_file_input(input):\n",
    "\n",
    "    file = open(input, 'r')\n",
    "    K = int(file.readline().strip())\n",
    "    coordinates = []\n",
    "\n",
    "    for _ in range(K):\n",
    "        x, y = file.readline().strip().split()\n",
    "        coordinates.append((float(x),float(y)))\n",
    "        \n",
    "    file.close()\n",
    "    return coordinates\n",
    "\n",
    "def scan_file_output(output):\n",
    "    file = open(output, 'r')\n",
    "    arr = file.readline().strip().split()\n",
    "    file.close()\n",
    "    return arr\n",
    "\n",
    "coordinates = scan_file_input(input)\n",
    "ans = scan_file_output(output)\n",
    "\n",
    "print(coordinates)\n",
    "print(\"ANSWER:\", ' '.join(ans))"
   ]
  },
  {
   "cell_type": "code",
   "execution_count": null,
   "metadata": {},
   "outputs": [],
   "source": [
    "left_down = (0,0)\n",
    "left_up = (0,0)\n",
    "right_down = (0,0)\n",
    "right_up = (0,0)"
   ]
  },
  {
   "cell_type": "code",
   "execution_count": null,
   "metadata": {},
   "outputs": [],
   "source": []
  },
  {
   "cell_type": "markdown",
   "metadata": {},
   "source": [
    "## B. Продавец рыбы\n",
    "\n",
    "Вася решил заняться торговлей рыбой. С помощью методов машинного обучения он предсказал цены на рыбу на N дней вперёд. Он решил, что в один день он купит рыбу, а в один из следующих дней — продаст (то есть совершит или ровно одну покупку и продажу или вообще не совершит покупок и продаж, если это не принесёт ему прибыли). К сожалению, рыба — товар скоропортящийся и разница между номером дня продажи и номером дня покупки не должна превышать K.\n",
    "\n",
    "Определите, какую максимальную прибыль получит Вася.\n",
    "\n",
    "#### Формат ввода\n",
    "\n",
    "В первой строке входных данных задаются числа N и K (1 ≤ N ≤ 10000, 1 ≤ K ≤ 100).\n",
    "\n",
    "Во второй строке задаются цены на рыбу в каждый из N дней. Цена — целое число, которое может находится в пределах от 1 до 109.\n",
    "\n",
    "#### Формат вывода\n",
    "\n",
    "Выведите одно число — максимальную прибыль, которую получит Вася."
   ]
  },
  {
   "cell_type": "code",
   "execution_count": 24,
   "metadata": {},
   "outputs": [
    {
     "name": "stdout",
     "output_type": "stream",
     "text": [
      "['1', '2', '3', '4', '5']\n",
      "ANSWER: 2\n"
     ]
    }
   ],
   "source": [
    "test = 1\n",
    "problem = 'B_FishSaler'\n",
    "module = '2'\n",
    "\n",
    "input = f\"../inputs/2/{problem}/{'input'}_5_{str(module)}_{problem[0]}_test{str(test)}.txt\"\n",
    "output = f\"../inputs/2/{problem}/{'output'}_5_{str(module)}_{problem[0]}_test{str(test)}.txt\"\n",
    "\n",
    "def scan_file_input(input):\n",
    "    file = open(input, 'r')\n",
    "    N, K = file.readline().strip().split()\n",
    "    prices = file.readline().strip().split()\n",
    "    file.close()\n",
    "    return N, K, prices\n",
    "\n",
    "def scan_file_output(output):\n",
    "    file = open(output, 'r')\n",
    "    profit = int(file.readline().strip())\n",
    "    file.close()\n",
    "    return profit\n",
    "\n",
    "N, K, prices = scan_file_input(input)\n",
    "ans = scan_file_output(output)\n",
    "\n",
    "print(prices)\n",
    "print(\"ANSWER:\", ans)"
   ]
  },
  {
   "cell_type": "code",
   "execution_count": null,
   "metadata": {},
   "outputs": [],
   "source": []
  },
  {
   "cell_type": "code",
   "execution_count": null,
   "metadata": {},
   "outputs": [],
   "source": []
  },
  {
   "cell_type": "code",
   "execution_count": null,
   "metadata": {},
   "outputs": [],
   "source": []
  },
  {
   "cell_type": "markdown",
   "metadata": {},
   "source": [
    "# C. Петя, Маша и верёвочки\n",
    "\n",
    "На столе лежали две одинаковые верёвочки целой положительной длины.\n",
    "\n",
    "Петя разрезал одну из верёвочек на N частей, каждая из которых имеет целую положительную длину, так что на столе стало N+1 верёвочек. Затем в комнату зашла Маша и взяла одну из лежащих на столе верёвочек. По длинам оставшихся на столе N верёвочек определите, какую наименьшую длину может иметь верёвочка, взятая Машей.\n",
    "\n",
    "#### Формат ввода\n",
    "\n",
    "Первая строка входных данных содержит одно целое число N — количество верёвочек, оставшихся на столе (2 ≤ N ≤ 1000). Во второй строке содержится N целых чисел li — длины верёвочек (1 ≤ li ≤ 1000).\n",
    "\n",
    "#### Формат вывода\n",
    "\n",
    "Выведите одно целое число — наименьшую длину, которую может иметь верёвочка, взятая Машей."
   ]
  }
 ],
 "metadata": {
  "kernelspec": {
   "display_name": "Python 3",
   "language": "python",
   "name": "python3"
  },
  "language_info": {
   "codemirror_mode": {
    "name": "ipython",
    "version": 3
   },
   "file_extension": ".py",
   "mimetype": "text/x-python",
   "name": "python",
   "nbconvert_exporter": "python",
   "pygments_lexer": "ipython3",
   "version": "3.12.1"
  }
 },
 "nbformat": 4,
 "nbformat_minor": 2
}
