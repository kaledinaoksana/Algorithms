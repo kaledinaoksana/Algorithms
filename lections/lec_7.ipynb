{
 "cells": [
  {
   "cell_type": "markdown",
   "metadata": {},
   "source": [
    "# Лекция 7: Сортировка событий."
   ]
  },
  {
   "cell_type": "markdown",
   "metadata": {},
   "source": [
    "## Задача 1\n",
    "\n",
    "**Дано:**  сайт посетилоо N человек. Для каждого есть время входа и выхода с сайта In Out\n",
    "\n",
    "Считается, что человек был на сайте с момента In по OUT включительно\n",
    "\n",
    "**Задача:** определить максимальное количество человек на сайте одновременно"
   ]
  },
  {
   "cell_type": "code",
   "execution_count": null,
   "metadata": {},
   "outputs": [],
   "source": [
    "# воздадим для каждого 2 события - вход и выход\n",
    "# каждое событие - пара, первое время а второе тип\n",
    "# вход на сайт происходит раньше выхода с сайта\n",
    "\n",
    "def maxvisitorsonline(n, tin, tout):\n",
    "    events=[]\n",
    "    for i in range(n):\n",
    "        events.append((tin[i],-1)) # приход\n",
    "        events.append((tout[i],1)) # выход\n",
    "    events.sort()\n",
    "    online = 0\n",
    "    maxonline = 0\n",
    "    for event in events:\n",
    "        if event[1] == -1:\n",
    "            online += 1\n",
    "        else:\n",
    "            online -= 1\n",
    "        maxonline = max(online, maxonline)\n",
    "    return maxonline\n",
    "\n"
   ]
  },
  {
   "cell_type": "code",
   "execution_count": null,
   "metadata": {},
   "outputs": [],
   "source": []
  },
  {
   "cell_type": "markdown",
   "metadata": {},
   "source": [
    "## Задача 2\n",
    "\n",
    "**Дано:**  сайт посетилоо N человек. Для каждого есть время входа и выхода с сайта In Out\n",
    "\n",
    "Считается, что человек был на сайте с момента In по OUT включительно\n",
    "\n",
    "**Задача:** определить суммарное время когда на сайте был хотя бы 1 человек"
   ]
  },
  {
   "cell_type": "code",
   "execution_count": 4,
   "metadata": {},
   "outputs": [
    {
     "data": {
      "text/plain": [
       "5"
      ]
     },
     "execution_count": 4,
     "metadata": {},
     "output_type": "execute_result"
    }
   ],
   "source": [
    "def timewithvisitors(n, tin, tout):\n",
    "    events=[]\n",
    "    for i in range(n):\n",
    "        events.append((tin[i],-1)) # приход\n",
    "        events.append((tout[i],1)) # выход\n",
    "    events.sort()\n",
    "    online = 0\n",
    "    notemptytime = 0\n",
    "    for i in range(len(events)):\n",
    "        if online > 0:\n",
    "            notemptytime += events[i][0] - events[i-1][0]\n",
    "        if events[i][1] == -1:\n",
    "            online += 1\n",
    "        else:\n",
    "            online -= 1\n",
    "    return notemptytime\n",
    "\n",
    "n = 4\n",
    "tin = [0,2,4,2]\n",
    "tout = [1,4,6,3]\n",
    "timewithvisitors(n, tin, tout)"
   ]
  },
  {
   "cell_type": "code",
   "execution_count": null,
   "metadata": {},
   "outputs": [],
   "source": []
  },
  {
   "cell_type": "markdown",
   "metadata": {},
   "source": [
    "## Задача 3\n",
    "\n",
    "**Дано:**   сайт посетилоо N человек. Для каждого есть время входа и выхода с сайта In Out\n",
    "\n",
    "Считается, что человек был на сайте с момента In по OUT включительно\n",
    "\n",
    "Начальник заходил на сайт M раз в моменты времени Boss(i) м смотрел сколько людей сейчас онлайн; \n",
    "\n",
    "Посещения сайта начальником упорядочены по возрастанию времени\n",
    "\n",
    "**Задача:** определить показания счетчика люднй онлайн увидел начальник"
   ]
  },
  {
   "cell_type": "code",
   "execution_count": 9,
   "metadata": {},
   "outputs": [
    {
     "data": {
      "text/plain": [
       "[2, 1]"
      ]
     },
     "execution_count": 9,
     "metadata": {},
     "output_type": "execute_result"
    }
   ],
   "source": [
    "# создадим третий вид события\n",
    "\n",
    "def bosscounters(n, tin, tout, m, tboss):\n",
    "    events=[]\n",
    "    # O(N+M) = O(max(N,M))\n",
    "    for i in range(n):\n",
    "        events.append((tin[i],-1)) # приход\n",
    "        events.append((tout[i],1)) # выход\n",
    "    for i in range(m):\n",
    "        events.append((tboss[i],0)) # boss\n",
    "    \n",
    "    # O((N+M)*log(N+M))\n",
    "    events.sort() \n",
    "\n",
    "    online = 0\n",
    "    bossans = []\n",
    "\n",
    "    # O(N+M)\n",
    "    for i in range(len(events)):\n",
    "        if events[i][1] == -1:\n",
    "            online += 1\n",
    "        elif events[i][1] == 1:\n",
    "            online -= 1\n",
    "        else:\n",
    "            bossans.append(online)\n",
    "    return bossans\n",
    "\n",
    "n = 4\n",
    "tin = [0,2,4,2]\n",
    "tout = [1,4,6,3]\n",
    "m = 2\n",
    "tboss = [4,6]\n",
    "bosscounters(n, tin, tout, m, tboss)"
   ]
  },
  {
   "cell_type": "markdown",
   "metadata": {},
   "source": [
    "# События на круге"
   ]
  },
  {
   "cell_type": "markdown",
   "metadata": {},
   "source": [
    "## Задача 4\n",
    "\n",
    "**Дано:**  на парковке N мест (нумерация от 1 до N)\n",
    "\n",
    "За день в ТЦ приездало M автомобилей, при этом некоторые из них длинные и занимали несколько подряж идущих парковочных мест\n",
    "\n",
    "У каждого автомобиля известно время приезда и отьезда, а также два числа - с какого по какое парковочные места он занимал\n",
    "\n",
    "Если в какой то момент времени один автомобиль уехал с парковочного места, то место считается освободившимся и в тот же момент времени на его место может встать другой\n",
    "\n",
    "**Задача:** определить, был ли момент, в который были заняты все парковочные места"
   ]
  },
  {
   "cell_type": "code",
   "execution_count": null,
   "metadata": {},
   "outputs": [],
   "source": [
    "# события - приезд и отьезд\n",
    "#  поддерживаем количество занятых мест и если после очередного события счетчик равен Т то такие моменты были.\n",
    "\n",
    "def isparkingfull(cars, n):\n",
    "    events = []\n",
    "    for car in cars:\n",
    "        timein, timeout, placefrom, placeto = car\n",
    "        # placeto - placefrom + 1 количество занятых машиной мест\n",
    "        events.append((timein, 1, placeto - placefrom + 1)) \n",
    "        events.append((timeout, -1, placeto - placefrom + 1))\n",
    "    events.sort()\n",
    "    occupied = 0\n",
    "    for i in range(len(events)):\n",
    "        # машина уехала\n",
    "        if events[i][1] == -1:\n",
    "            occupied -= events[i][2]\n",
    "        # машина приехала\n",
    "        elif events[i][1] == 1:\n",
    "            occupied += events[i][2]\n",
    "           \n",
    "        if occupied == n:\n",
    "            return True\n",
    "    return False\n",
    "\n",
    "\n"
   ]
  },
  {
   "cell_type": "markdown",
   "metadata": {},
   "source": [
    "## Задача 5\n",
    "\n",
    "**Дано:**  на парковке N мест (нумерация от 1 до N)\n",
    "\n",
    "За день в ТЦ приездало M автомобилей, при этом некоторые из них длинные и занимали несколько подряж идущих парковочных мест\n",
    "\n",
    "У каждого автомобиля известно время приезда и отьезда, а также два числа - с какого по какое парковочные места он занимал\n",
    "\n",
    "Если в какой то момент времени один автомобиль уехал с парковочного места, то место считается освободившимся и в тот же момент времени на его место может встать другой\n",
    "\n",
    "**Задача:** определить, был ли момент, в который были заняты все парковочные места и определить минимальное количество автомобилейкоторое заняло все места. \n",
    "\n",
    "Если такого момента не было вернуть M+1"
   ]
  },
  {
   "cell_type": "code",
   "execution_count": 10,
   "metadata": {},
   "outputs": [],
   "source": [
    "def isparkingfull_and(cars, n):\n",
    "    events = []\n",
    "    for car in cars:\n",
    "        timein, timeout, placefrom, placeto = car\n",
    "        # placeto - placefrom + 1 количество занятых машиной мест\n",
    "        events.append((timein, 1, placeto - placefrom + 1)) \n",
    "        events.append((timeout, -1, placeto - placefrom + 1))\n",
    "    events.sort()\n",
    "    occupied = 0\n",
    "    nowcars = len(cars)+1\n",
    "    for i in range(len(events)):\n",
    "        # машина уехала\n",
    "        if events[i][1] == -1:\n",
    "            occupied -= events[i][2]\n",
    "            nowcars -= 1\n",
    "        # машина приехала\n",
    "        elif events[i][1] == 1:\n",
    "            occupied += events[i][2]\n",
    "            nowcars += 1\n",
    "        if occupied == n:\n",
    "            mincars = min(mincars, nowcars)\n",
    "    return mincars"
   ]
  },
  {
   "cell_type": "markdown",
   "metadata": {},
   "source": [
    "## Задача 6\n",
    "\n",
    "**Дано:**  на парковке N мест (нумерация от 1 до N)\n",
    "\n",
    "За день в ТЦ приездало M автомобилей, при этом некоторые из них длинные и занимали несколько подряж идущих парковочных мест\n",
    "\n",
    "У каждого автомобиля известно время приезда и отьезда, а также два числа - с какого по какое парковочные места он занимал\n",
    "\n",
    "Если в какой то момент времени один автомобиль уехал с парковочного места, то место считается освободившимся и в тот же момент времени на его место может встать другой\n",
    "\n",
    "**Задача:** определить, был ли момент, в который были заняты все парковочные места и определить минимальное количество автомобилейкоторое заняло все места. \n",
    "\n",
    "А также номера этих автомобилей (в том порядке как они перечисляются в списке) \n",
    "\n",
    "Если парковка никогда не была занята полностью - вернуть пустой список"
   ]
  },
  {
   "cell_type": "code",
   "execution_count": 11,
   "metadata": {},
   "outputs": [],
   "source": [
    "# храним массив пометок (номеров)\n",
    "\n",
    "def isparkingfull_and2(cars, n):\n",
    "\n",
    "    events = []\n",
    "\n",
    "    for i in range(len(cars)):\n",
    "        timein, timeout, placefrom, placeto = cars[i]\n",
    "        # placeto - placefrom + 1 количество занятых машиной мест\n",
    "        # i - индекс по нашему массиву номеров?\n",
    "        events.append((timein, 1, placeto - placefrom + 1, i)) \n",
    "        events.append((timeout, -1, placeto - placefrom + 1, i))\n",
    "\n",
    "    events.sort()\n",
    "    occupied = 0\n",
    "    nowcars = len(cars)+1\n",
    "    carnums = set()\n",
    "    bestcarnums = set()\n",
    "\n",
    "    for i in range(len(events)):\n",
    "        # машина уехала\n",
    "        if events[i][1] == -1:\n",
    "            occupied -= events[i][2]\n",
    "            nowcars -= 1\n",
    "            carnums.remove(events[i][3])\n",
    "        # машина приехала\n",
    "        elif events[i][1] == 1:\n",
    "            occupied += events[i][2]\n",
    "            nowcars += 1\n",
    "            carnums.add(events[i][3])\n",
    "        \n",
    "        if occupied == n and nowcars < mincars:\n",
    "            bestcarnums = carnums.copy() # ОЧЕНЬ ПЛОХО МОЖЕТ БЫТЬ O(M^^2)\n",
    "            mincars = nowcars\n",
    "\n",
    "    return bestcarnums"
   ]
  },
  {
   "cell_type": "code",
   "execution_count": 13,
   "metadata": {},
   "outputs": [],
   "source": [
    "# ЭФФЕКТИВНОЕ РЕШЕНИЕ\n",
    "# O(M*log(M))\n",
    "\n",
    "def mincarsonfullparking(cars, n):\n",
    "\n",
    "    events = []\n",
    "\n",
    "    for i in range(len(cars)):\n",
    "        timein, timeout, placefrom, placeto = cars[i]\n",
    "        # placeto - placefrom + 1 количество занятых машиной мест\n",
    "        # i - индекс по нашему массиву номеров?\n",
    "        events.append((timein, 1, placeto - placefrom + 1, i)) \n",
    "        events.append((timeout, -1, placeto - placefrom + 1, i))\n",
    "\n",
    "    events.sort()\n",
    "    occupied = 0\n",
    "    nowcars = len(cars)+1\n",
    "    \n",
    "    for i in range(len(events)):\n",
    "        # машина уехала\n",
    "        if events[i][1] == -1:\n",
    "            occupied -= events[i][2]\n",
    "            nowcars -= 1\n",
    "        # машина приехала\n",
    "        elif events[i][1] == 1:\n",
    "            occupied += events[i][2]\n",
    "            nowcars += 1\n",
    "        if occupied == n and nowcars < mincars:\n",
    "            mincars = nowcars\n",
    "            \n",
    "    carnums = set()\n",
    "    nowcars = 0\n",
    "\n",
    "    for i in range(len(events)):\n",
    "        # машина уехала\n",
    "        if events[i][1] == -1:\n",
    "            occupied -= events[i][2]\n",
    "            nowcars -= 1\n",
    "            carnums.remove(events[i][3])\n",
    "        # машина приехала\n",
    "        elif events[i][1] == 1:\n",
    "            occupied += events[i][2]\n",
    "            nowcars += 1\n",
    "            carnums.add(events[i][3])\n",
    "        if occupied == n and nowcars == mincars:\n",
    "            return carnums\n",
    "\n",
    "    return set()"
   ]
  },
  {
   "cell_type": "markdown",
   "metadata": {},
   "source": []
  }
 ],
 "metadata": {
  "kernelspec": {
   "display_name": "Python 3",
   "language": "python",
   "name": "python3"
  },
  "language_info": {
   "codemirror_mode": {
    "name": "ipython",
    "version": 3
   },
   "file_extension": ".py",
   "mimetype": "text/x-python",
   "name": "python",
   "nbconvert_exporter": "python",
   "pygments_lexer": "ipython3",
   "version": "3.11.4"
  }
 },
 "nbformat": 4,
 "nbformat_minor": 2
}
