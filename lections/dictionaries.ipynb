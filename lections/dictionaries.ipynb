{
 "cells": [
  {
   "cell_type": "code",
   "execution_count": 10,
   "metadata": {},
   "outputs": [],
   "source": [
    "import processor as proc\n",
    "\n",
    "course = 5\n",
    "module = 3\n",
    "\n",
    "tasks={\n",
    "    \"A\":\"Playlists\",\n",
    "    \"B\":\"Annagram\",\n",
    "    \"C\":\"DeleteNumbers\",\n",
    "    \"D\":\"RepeatNumber\",\n",
    "    \"E\":\"TwoOfThree\",\n",
    "    \"F\":\"ReplacingWords\",\n",
    "    \"G\":\"BuiltASquare\",\n",
    "    \"H\":\"NotAToy\",\n",
    "    \"I\":\"PlayFootball\",\n",
    "    \"J\":\"P2Prelease\"\n",
    "}"
   ]
  },
  {
   "cell_type": "code",
   "execution_count": 11,
   "metadata": {},
   "outputs": [
    {
     "name": "stdout",
     "output_type": "stream",
     "text": [
      "alg53A\n",
      "alg53B\n",
      "alg53C\n",
      "alg53D\n",
      "alg53E\n",
      "alg53F\n",
      "alg53G\n",
      "alg53H\n",
      "alg53I\n",
      "alg53J\n"
     ]
    }
   ],
   "source": [
    "for task, taskname in tasks.items():\n",
    "    tests = 5\n",
    "    problem = f\"{task}_{taskname}\"\n",
    "    name_func = f\"alg{course}{module}{task}\"\n",
    "    print(name_func)\n",
    "    input_file, output = proc.return_input_output(num_of_test=1,module=str(module), problem=problem, tests=tests)\n",
    "\n",
    "\n",
    "\n"
   ]
  },
  {
   "cell_type": "code",
   "execution_count": null,
   "metadata": {},
   "outputs": [],
   "source": [
    "def alg53A(input_file):\n",
    "    file = open(input_file, 'r') ###\n",
    "    file.close() ###\n",
    "    ans = 0\n",
    "    return ans\n",
    "\n",
    "\n",
    "\n",
    "def alg53A_output(output_file):\n",
    "    file = open(output_file, 'r') \n",
    "\n",
    "    ans = 0\n",
    "\n",
    "    file.close()\n",
    "    return ans"
   ]
  },
  {
   "cell_type": "code",
   "execution_count": null,
   "metadata": {},
   "outputs": [],
   "source": [
    "for t in range(1,tests+1):\n",
    "    input_file, output = proc.return_input_output(num_of_test=t,module=module, problem=problem, tests=tests )\n",
    "    my_ans = alg53A(input_file)\n",
    "    real_ans = alg53A_output(output)\n",
    "\n",
    "    if my_ans==real_ans:\n",
    "        print(\"Test\",t,\"- true, ans:\", my_ans )\n",
    "    else:\n",
    "        print(\"ERROR!!! Test\",t,\"- false, my_ans:\",my_ans, \"\\n ans:\",real_ans  )\n",
    "\n"
   ]
  },
  {
   "cell_type": "code",
   "execution_count": null,
   "metadata": {},
   "outputs": [],
   "source": []
  },
  {
   "cell_type": "code",
   "execution_count": null,
   "metadata": {},
   "outputs": [],
   "source": []
  }
 ],
 "metadata": {
  "kernelspec": {
   "display_name": "Python 3",
   "language": "python",
   "name": "python3"
  },
  "language_info": {
   "codemirror_mode": {
    "name": "ipython",
    "version": 3
   },
   "file_extension": ".py",
   "mimetype": "text/x-python",
   "name": "python",
   "nbconvert_exporter": "python",
   "pygments_lexer": "ipython3",
   "version": "3.12.1"
  }
 },
 "nbformat": 4,
 "nbformat_minor": 2
}
