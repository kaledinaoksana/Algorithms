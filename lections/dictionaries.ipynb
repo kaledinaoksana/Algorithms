{
 "cells": [
  {
   "cell_type": "code",
   "execution_count": 13,
   "metadata": {},
   "outputs": [
    {
     "name": "stdout",
     "output_type": "stream",
     "text": [
      "alg53A\n",
      "alg53B\n",
      "alg53C\n",
      "alg53D\n",
      "alg53E\n",
      "alg53F\n",
      "alg53G\n",
      "alg53H\n",
      "alg53I\n",
      "alg53J\n"
     ]
    }
   ],
   "source": [
    "import processor as proc\n",
    "\n",
    "course = 5\n",
    "module = 3\n",
    "\n",
    "tasks={\n",
    "    \"A\":\"Playlists\",\n",
    "    \"B\":\"Annagram\",\n",
    "    \"C\":\"DeleteNumbers\",\n",
    "    \"D\":\"RepeatNumber\",\n",
    "    \"E\":\"TwoOfThree\",\n",
    "    \"F\":\"ReplacingWords\",\n",
    "    \"G\":\"BuiltASquare\",\n",
    "    \"H\":\"NotAToy\",\n",
    "    \"I\":\"PlayFootball\",\n",
    "    \"J\":\"P2Prelease\"\n",
    "}\n",
    "\n",
    "for task, taskname in tasks.items():\n",
    "    tests = 5\n",
    "    problem = f\"{task}_{taskname}\"\n",
    "    name_func = f\"alg{course}{module}{task}\"\n",
    "    print(name_func)\n",
    "    input_file, output = proc.return_input_output(num_of_test=1,module=str(module), problem=problem, tests=tests)"
   ]
  },
  {
   "cell_type": "markdown",
   "metadata": {},
   "source": [
    "# A. Плейлисты"
   ]
  },
  {
   "cell_type": "code",
   "execution_count": 14,
   "metadata": {},
   "outputs": [],
   "source": [
    "# alg53A\n",
    "tests = 5\n",
    "task = \"A\"\n",
    "taskname = tasks[task]\n",
    "\n",
    "def create_inp(test):\n",
    "    input_file, output = proc.return_input_output(num_of_test=test,module=module, problem=f\"{task}_{taskname}\", tests=tests )\n",
    "    return input_file"
   ]
  },
  {
   "cell_type": "code",
   "execution_count": 15,
   "metadata": {},
   "outputs": [
    {
     "name": "stdout",
     "output_type": "stream",
     "text": [
      "2\n",
      "a c\n"
     ]
    }
   ],
   "source": [
    "# ВЕРНЫЙ ОТВЕТ\n",
    "def alg53A_output(output_file):\n",
    "    file = open(output_file, 'r') \n",
    "    n = int(file.readline().strip()) \n",
    "    arr = [str(n) for n in file.readline().strip().split(' ')]\n",
    "\n",
    "    file.close()\n",
    "    return n,arr\n",
    "\n",
    "def alg53A(input_file):\n",
    "\n",
    "    ### reading\n",
    "    file = open(input_file, 'r') \n",
    "\n",
    "    n = int(file.readline().strip()) \n",
    "    dict = {}\n",
    "    res = []\n",
    "    for i in range(n):\n",
    "        ki = int(file.readline().strip())\n",
    "        listik=[str(n) for n in file.readline().strip().split(' ')]\n",
    "        for j in range(ki):\n",
    "            song = listik[j]\n",
    "            if song not in dict:\n",
    "                dict[song]=0\n",
    "            dict[song]+=1\n",
    "            if dict[song]==n:\n",
    "                res.append(song)\n",
    "\n",
    "    file.close()\n",
    "\n",
    "    res.sort()\n",
    "    ### code\n",
    "    print(len(res))\n",
    "    print(*res)\n",
    "\n",
    "    pass\n",
    "\n",
    "\n",
    "alg53A(create_inp(3))"
   ]
  },
  {
   "cell_type": "code",
   "execution_count": 16,
   "metadata": {},
   "outputs": [],
   "source": [
    "\n",
    "# def testing(fun,output_fun,module, task):\n",
    "#     for test in range(1,tests+1):\n",
    "#         taskname = tasks[task]  \n",
    "#         input_file, output = proc.return_input_output(num_of_test=test,module=module, problem=f\"{task}_{taskname}\", tests=tests )\n",
    "#         my_ans = fun(input_file)\n",
    "#         real_ans = output_fun(output)\n",
    "\n",
    "#         if my_ans==real_ans:\n",
    "#             print(\"TEST\",test,\"- true \\nans:\", my_ans ,\"\\n\")\n",
    "#         else:\n",
    "#             print(\"ERROR!!! TEST\",test,\"- false \\nmy_ans:\",my_ans, \"\\nans:\",real_ans ,\"\\n\" )\n",
    "\n",
    "# testing(alg53A,alg53A_output,module,task)"
   ]
  },
  {
   "cell_type": "markdown",
   "metadata": {},
   "source": [
    "# B. Аннаграмма"
   ]
  },
  {
   "cell_type": "code",
   "execution_count": 17,
   "metadata": {},
   "outputs": [],
   "source": [
    "# alg53B\n",
    "task = \"B\"\n",
    "\n",
    "def create_inp(test):\n",
    "    input_file, output = proc.return_input_output(num_of_test=test,module=module, problem=f\"{task}_{tasks[task]}\", tests=tests )\n",
    "    return input_file"
   ]
  },
  {
   "cell_type": "code",
   "execution_count": 18,
   "metadata": {},
   "outputs": [
    {
     "name": "stdout",
     "output_type": "stream",
     "text": [
      "NO\n"
     ]
    }
   ],
   "source": [
    "# Верное решение\n",
    "def is_annagram(w1,w2):\n",
    "    length = len(w1)\n",
    "    dict={}\n",
    "\n",
    "    if length!=len(w2):\n",
    "        return False\n",
    "    else:\n",
    "        for w in range(length):\n",
    "            letter = w1[w]\n",
    "            if letter not in dict:\n",
    "                dict[letter]=0\n",
    "            dict[letter]+=1\n",
    "\n",
    "        for w in range(length-1, 0-1, -1):\n",
    "            letter = w2[w]\n",
    "            if letter not in dict:\n",
    "                return False\n",
    "            else:\n",
    "                dict[letter]-=1\n",
    "                if dict[letter]==0:\n",
    "                    del dict[letter]\n",
    "                \n",
    "        if dict=={}:\n",
    "            return True\n",
    "\n",
    "        return False\n",
    "\n",
    "\n",
    "def alg53B(input_file):\n",
    "\n",
    "    file = open(input_file, 'r') \n",
    "    w1 = file.readline().strip()\n",
    "    w2 = file.readline().strip()\n",
    "    file.close()\n",
    "\n",
    "    if is_annagram(w1,w2):\n",
    "        print(\"YES\")\n",
    "    else:\n",
    "        print(\"NO\")\n",
    "    \n",
    "    pass\n",
    "\n",
    "alg53B(create_inp(2))"
   ]
  },
  {
   "cell_type": "markdown",
   "metadata": {},
   "source": [
    "# C. Удаление чисел"
   ]
  },
  {
   "cell_type": "code",
   "execution_count": 19,
   "metadata": {},
   "outputs": [],
   "source": [
    "# alg53С\n",
    "task = \"C\"\n",
    "\n",
    "def create_inp(test):\n",
    "    input_file, output = proc.return_input_output(num_of_test=test,module=module, problem=f\"{task}_{tasks[task]}\", tests=tests )\n",
    "    return input_file"
   ]
  },
  {
   "cell_type": "code",
   "execution_count": 20,
   "metadata": {},
   "outputs": [
    {
     "name": "stdout",
     "output_type": "stream",
     "text": [
      "4\n"
     ]
    }
   ],
   "source": [
    "# Верное решение\n",
    "def alg53С(input_file):\n",
    "    \n",
    "    # input_file=\"input.txt\"\n",
    "    file = open(input_file, 'r') \n",
    "    n = int(file.readline().strip())\n",
    "    arr = list(map(int,file.readline().strip().split(\" \")))\n",
    "    file.close()\n",
    "\n",
    "    dict={}\n",
    "    for i in range(n):\n",
    "        if arr[i] not in dict:\n",
    "            dict[arr[i]]=0\n",
    "        dict[arr[i]]+=1\n",
    "\n",
    "    maximum = 0\n",
    "    for value in dict:\n",
    "        loc_maximum=dict[value]\n",
    "        if (value-1) in dict:\n",
    "            maxx_min=dict[value-1]\n",
    "            loc_maximum = max(loc_maximum,maxx_min+dict[value])\n",
    "        if (value+1) in dict:\n",
    "            maxx_plus=dict[value+1]\n",
    "            loc_maximum = max(loc_maximum,maxx_plus+dict[value])\n",
    "\n",
    "        if loc_maximum > maximum:\n",
    "            maximum = loc_maximum\n",
    "\n",
    "    print(n-maximum)\n",
    "    pass\n",
    "\n",
    "alg53С(create_inp(2))"
   ]
  },
  {
   "cell_type": "markdown",
   "metadata": {},
   "source": [
    "# D. Повторяющееся число"
   ]
  },
  {
   "cell_type": "code",
   "execution_count": 21,
   "metadata": {},
   "outputs": [],
   "source": [
    "# alg53D\n",
    "task = \"D\"\n",
    "\n",
    "def create_inp(test):\n",
    "    input_file, output = proc.return_input_output(num_of_test=test,module=module, problem=f\"{task}_{tasks[task]}\", tests=tests )\n",
    "    return input_file"
   ]
  },
  {
   "cell_type": "code",
   "execution_count": 22,
   "metadata": {},
   "outputs": [
    {
     "name": "stdout",
     "output_type": "stream",
     "text": [
      "NO\n"
     ]
    }
   ],
   "source": [
    "# верное решение\n",
    "def is_more(listik,k):\n",
    "    listik.sort()\n",
    "    # print(listik)\n",
    "    dict={}\n",
    "\n",
    "    length = len(listik)\n",
    "\n",
    "    for i in range(length):\n",
    "        index = listik[i]\n",
    "        if index not in dict:\n",
    "            dict[index]=True\n",
    "    \n",
    "    for index in dict:\n",
    "        for ki in range(1,k+1):\n",
    "            if index-ki in dict:\n",
    "                # print(index,ki)\n",
    "                return True\n",
    "    # print(dict)\n",
    "    return False\n",
    "    \n",
    "\n",
    "\n",
    "def alg53D(input_file):\n",
    "    \n",
    "    file = open(input_file, 'r') \n",
    "    n, k = map(int,file.readline().strip().split(\" \"))\n",
    "    arr = list(map(int,file.readline().strip().split(\" \")))\n",
    "    file.close()\n",
    "\n",
    "    dict={}\n",
    "\n",
    "    for index in range(n):\n",
    "        num = arr[index]\n",
    "        if num not in dict:\n",
    "            dict[num]=[]\n",
    "        dict[num].append(index)\n",
    "    \n",
    "    # print(dict)\n",
    "\n",
    "    for num in dict:\n",
    "        if len(dict[num])>1:\n",
    "            if is_more(dict[num],k):\n",
    "                # print(dict[num])\n",
    "                return True\n",
    "    \n",
    "    return False\n",
    "\n",
    "\n",
    "ans = alg53D(create_inp(3))\n",
    "# ans = alg53D(\"input.txt\")\n",
    "\n",
    "if ans:\n",
    "    print(\"YES\")\n",
    "else:\n",
    "    print(\"NO\")\n"
   ]
  },
  {
   "cell_type": "markdown",
   "metadata": {},
   "source": [
    "# E. Два из трех"
   ]
  },
  {
   "cell_type": "code",
   "execution_count": 23,
   "metadata": {},
   "outputs": [],
   "source": [
    "# alg53E\n",
    "task = \"E\"\n",
    "\n",
    "def create_inp(test):\n",
    "    input_file, output = proc.return_input_output(num_of_test=test,module=module, problem=f\"{task}_{tasks[task]}\", tests=tests )\n",
    "    return input_file"
   ]
  },
  {
   "cell_type": "code",
   "execution_count": 24,
   "metadata": {},
   "outputs": [
    {
     "name": "stdout",
     "output_type": "stream",
     "text": [
      "1 3 9 14 17\n"
     ]
    }
   ],
   "source": [
    "# верное решение\n",
    "def alg53E(input_file):\n",
    "    dict={}\n",
    "    file = open(input_file, 'r') \n",
    "    for iteration in range(1,4):\n",
    "        n = int(file.readline().strip())\n",
    "        arr = list(set(list(map(int,file.readline().strip().split(\" \")))))\n",
    "        for i in range(len(arr)):\n",
    "            num=arr[i]\n",
    "            if num not in dict:\n",
    "                if iteration != 3:\n",
    "                    dict[num]=1\n",
    "            else:\n",
    "                dict[num]+=1\n",
    "    file.close()\n",
    "\n",
    "    res_list=[]\n",
    "    for value in dict:\n",
    "        if dict[value]>=2:\n",
    "            res_list.append(value)\n",
    "\n",
    "    return res_list\n",
    "\n",
    "\n",
    "ans = alg53E(create_inp(3))\n",
    "# ans = alg53E(\"input.txt\")\n",
    "\n",
    "print(*sorted(ans))"
   ]
  },
  {
   "cell_type": "markdown",
   "metadata": {},
   "source": [
    "# F. Замена слов"
   ]
  },
  {
   "cell_type": "code",
   "execution_count": 75,
   "metadata": {},
   "outputs": [],
   "source": [
    "# alg53F\n",
    "task = \"F\"\n",
    "\n",
    "def create_inp(test):\n",
    "    input_file, output = proc.return_input_output(num_of_test=test,module=module, problem=f\"{task}_{tasks[task]}\", tests=tests )\n",
    "    return input_file"
   ]
  },
  {
   "cell_type": "code",
   "execution_count": 57,
   "metadata": {},
   "outputs": [
    {
     "name": "stdout",
     "output_type": "stream",
     "text": [
      "f g a t x v b p o z n e s d r i a m o q g b z v l u f s w i y j m t h p t x j i r a e c j f l c l c i m n m c p s w y d t o d s l l f d r h h t o n z f a n s o g h u m x f g h n h w o k p w f e n j n "
     ]
    }
   ],
   "source": [
    "# ПРЕВЫШЕНИЕ ПАМЯТИ 25 тест\n",
    "def is_cutting(word, vocab):\n",
    "    for leng in vocab:\n",
    "        listik=vocab[leng]\n",
    "        for word_voc in listik:\n",
    "            if word[:leng]==word_voc:\n",
    "                return word_voc\n",
    "    return word\n",
    "\n",
    "\n",
    "def alg53F(input_file):\n",
    "\n",
    "    file = open(input_file, 'r') \n",
    "    dict_list = sorted(list(map(str,file.readline().strip().split(\" \"))), key=len)\n",
    "    \n",
    "\n",
    "    vocab = {}\n",
    "\n",
    "    for i in range(len(dict_list)):\n",
    "        word = is_cutting(dict_list[i], vocab)\n",
    "        if len(word) not in vocab:\n",
    "            vocab[len(word)]=[]\n",
    "        vocab[len(word)].append(word)\n",
    "\n",
    "    arr = list(map(str,file.readline().strip().split(\" \")))\n",
    "    file.close()\n",
    "    # res=[]\n",
    "    for word in arr:\n",
    "        print(is_cutting(word, vocab), end=\" \")\n",
    "        # res.append(is_cutting(word, vocab))\n",
    "\n",
    "    # print(*res)\n",
    "    pass\n",
    "\n",
    "\n",
    "alg53F(create_inp(3))\n",
    "# alg53F(\"input.txt\")"
   ]
  },
  {
   "cell_type": "code",
   "execution_count": 76,
   "metadata": {},
   "outputs": [
    {
     "name": "stdout",
     "output_type": "stream",
     "text": [
      "o\n"
     ]
    }
   ],
   "source": [
    "def alg53F(input_file):\n",
    "\n",
    "    file = open(input_file, 'r') \n",
    "\n",
    "    a = file.read(0)\n",
    "    print(a)\n",
    "\n",
    "alg53F(create_inp(3))"
   ]
  },
  {
   "cell_type": "markdown",
   "metadata": {},
   "source": [
    "# G. Построить квадрат"
   ]
  },
  {
   "cell_type": "code",
   "execution_count": 71,
   "metadata": {},
   "outputs": [],
   "source": [
    "# alg53G\n",
    "task = \"G\"\n",
    "\n",
    "def create_inp(test):\n",
    "    input_file, output = proc.return_input_output(num_of_test=test,module=module, problem=f\"{task}_{tasks[task]}\", tests=tests )\n",
    "    return input_file"
   ]
  },
  {
   "cell_type": "code",
   "execution_count": 72,
   "metadata": {},
   "outputs": [
    {
     "name": "stdout",
     "output_type": "stream",
     "text": [
      "[(0, 1), (1, 0)]\n"
     ]
    }
   ],
   "source": [
    "def alg53G(input_file):\n",
    "\n",
    "    coords = []\n",
    "\n",
    "    file = open(input_file, 'r') \n",
    "    N = int(file.readline().strip())\n",
    "    for i in range(N):\n",
    "        x,y=(map(int,file.readline().strip().split(\" \")))\n",
    "        coords.append((x,y))\n",
    "\n",
    "    file.close()\n",
    "\n",
    "    print(coords)\n",
    "\n",
    "    pass\n",
    "\n",
    "\n",
    "alg53G(create_inp(1))"
   ]
  },
  {
   "cell_type": "markdown",
   "metadata": {},
   "source": [
    "# H. Спички детям не игрушка"
   ]
  },
  {
   "cell_type": "code",
   "execution_count": null,
   "metadata": {},
   "outputs": [],
   "source": [
    "# alg53H\n",
    "task = \"H\"\n",
    "\n",
    "def create_inp(test):\n",
    "    input_file, output = proc.return_input_output(num_of_test=test,module=module, problem=f\"{task}_{tasks[task]}\", tests=tests )\n",
    "    return input_file"
   ]
  },
  {
   "cell_type": "code",
   "execution_count": null,
   "metadata": {},
   "outputs": [],
   "source": [
    "def alg53H(input_file):\n",
    "    pass\n",
    "\n",
    "\n",
    "alg53H(create_inp(1))"
   ]
  },
  {
   "cell_type": "markdown",
   "metadata": {},
   "source": [
    "# I. Играйте в Футбол"
   ]
  },
  {
   "cell_type": "code",
   "execution_count": null,
   "metadata": {},
   "outputs": [],
   "source": [
    "# alg53I\n",
    "task = \"I\"\n",
    "\n",
    "def create_inp(test):\n",
    "    input_file, output = proc.return_input_output(num_of_test=test,module=module, problem=f\"{task}_{tasks[task]}\", tests=tests )\n",
    "    return input_file"
   ]
  },
  {
   "cell_type": "code",
   "execution_count": null,
   "metadata": {},
   "outputs": [],
   "source": [
    "def alg53I(input_file):\n",
    "    pass\n",
    "\n",
    "\n",
    "alg53I(create_inp(1))"
   ]
  },
  {
   "cell_type": "markdown",
   "metadata": {},
   "source": [
    "# J. P2P обновление"
   ]
  },
  {
   "cell_type": "code",
   "execution_count": null,
   "metadata": {},
   "outputs": [],
   "source": [
    "# alg53J\n",
    "task = \"J\"\n",
    "\n",
    "def create_inp(test):\n",
    "    input_file, output = proc.return_input_output(num_of_test=test,module=module, problem=f\"{task}_{tasks[task]}\", tests=tests )\n",
    "    return input_file"
   ]
  },
  {
   "cell_type": "code",
   "execution_count": null,
   "metadata": {},
   "outputs": [],
   "source": [
    "def alg53J(input_file):\n",
    "    pass\n",
    "\n",
    "\n",
    "alg53J(create_inp(1))"
   ]
  }
 ],
 "metadata": {
  "kernelspec": {
   "display_name": "Python 3",
   "language": "python",
   "name": "python3"
  },
  "language_info": {
   "codemirror_mode": {
    "name": "ipython",
    "version": 3
   },
   "file_extension": ".py",
   "mimetype": "text/x-python",
   "name": "python",
   "nbconvert_exporter": "python",
   "pygments_lexer": "ipython3",
   "version": "3.12.1"
  }
 },
 "nbformat": 4,
 "nbformat_minor": 2
}
