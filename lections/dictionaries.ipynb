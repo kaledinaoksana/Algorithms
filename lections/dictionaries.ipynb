{
 "cells": [
  {
   "cell_type": "code",
   "execution_count": 10,
   "metadata": {},
   "outputs": [],
   "source": [
    "import processor as proc\n",
    "\n",
    "course = 5\n",
    "module = 3\n",
    "\n",
    "tasks={\n",
    "    \"A\":\"Playlists\",\n",
    "    \"B\":\"Annagram\",\n",
    "    \"C\":\"DeleteNumbers\",\n",
    "    \"D\":\"RepeatNumber\",\n",
    "    \"E\":\"TwoOfThree\",\n",
    "    \"F\":\"ReplacingWords\",\n",
    "    \"G\":\"BuiltASquare\",\n",
    "    \"H\":\"NotAToy\",\n",
    "    \"I\":\"PlayFootball\",\n",
    "    \"J\":\"P2Prelease\"\n",
    "}\n",
    "\n",
    "for task, taskname in tasks.items():\n",
    "    tests = 5\n",
    "    problem = f\"{task}_{taskname}\"\n",
    "    name_func = f\"alg{course}{module}{task}\"\n",
    "    print(name_func)\n",
    "    input_file, output = proc.return_input_output(num_of_test=1,module=str(module), problem=problem, tests=tests)"
   ]
  },
  {
   "cell_type": "markdown",
   "metadata": {},
   "source": [
    "# A. Плейлисты"
   ]
  },
  {
   "cell_type": "code",
   "execution_count": 26,
   "metadata": {},
   "outputs": [],
   "source": [
    "# alg53A\n",
    "tests = 2\n",
    "task = \"A\"\n",
    "taskname = tasks[task]"
   ]
  },
  {
   "cell_type": "code",
   "execution_count": 30,
   "metadata": {},
   "outputs": [],
   "source": [
    "def alg53A(input_file):\n",
    "    file = open(input_file, 'r') \n",
    "\n",
    "    n = int(file.readline().strip()) \n",
    "\n",
    "    dict = {}\n",
    "    for i in range(n):\n",
    "        ki = int(file.readline().strip())\n",
    "        dict[ki]=[str(n) for n in file.readline().strip().split(' ')]\n",
    "\n",
    "    file.close() ###\n",
    "    return n,dict\n",
    "\n",
    "\n",
    "\n",
    "def alg53A_output(output_file):\n",
    "    file = open(output_file, 'r') \n",
    "    n = int(file.readline().strip()) \n",
    "    arr = [str(n) for n in file.readline().strip().split(' ')]\n",
    "\n",
    "    file.close()\n",
    "    return n,arr"
   ]
  },
  {
   "cell_type": "code",
   "execution_count": 25,
   "metadata": {},
   "outputs": [
    {
     "name": "stdout",
     "output_type": "stream",
     "text": [
      "{2: ['GoGetIt', 'Life']}\n"
     ]
    }
   ],
   "source": [
    "test = 1\n",
    "\n",
    "input_file, output = proc.return_input_output(num_of_test=test,module=module, problem=f\"{task}_{taskname}\", tests=tests )\n",
    "\n",
    "n, dict = alg53A(input_file)\n",
    "print(dict)"
   ]
  },
  {
   "cell_type": "code",
   "execution_count": 36,
   "metadata": {},
   "outputs": [
    {
     "name": "stdout",
     "output_type": "stream",
     "text": [
      "ERROR!!! TEST 1 - false \n",
      "my_ans: (1, {2: ['GoGetIt', 'Life']}) \n",
      "ans: (2, ['GoGetIt', 'Life']) \n",
      "\n",
      "ERROR!!! TEST 2 - false \n",
      "my_ans: (2, {2: ['Life', 'GoodDay']}) \n",
      "ans: (1, ['Life']) \n",
      "\n"
     ]
    }
   ],
   "source": [
    "\n",
    "def testing(fun,output_fun,module, task):\n",
    "    for test in range(1,tests+1):\n",
    "        taskname = tasks[task]  \n",
    "        input_file, output = proc.return_input_output(num_of_test=test,module=module, problem=f\"{task}_{taskname}\", tests=tests )\n",
    "        my_ans = fun(input_file)\n",
    "        real_ans = output_fun(output)\n",
    "\n",
    "        if my_ans==real_ans:\n",
    "            print(\"TEST\",test,\"- true \\nans:\", my_ans ,\"\\n\")\n",
    "        else:\n",
    "            print(\"ERROR!!! TEST\",test,\"- false \\nmy_ans:\",my_ans, \"\\nans:\",real_ans ,\"\\n\" )\n",
    "\n",
    "testing(alg53A,alg53A_output,module,task)\n",
    "\n"
   ]
  },
  {
   "cell_type": "code",
   "execution_count": null,
   "metadata": {},
   "outputs": [],
   "source": []
  },
  {
   "cell_type": "code",
   "execution_count": null,
   "metadata": {},
   "outputs": [],
   "source": []
  }
 ],
 "metadata": {
  "kernelspec": {
   "display_name": "Python 3",
   "language": "python",
   "name": "python3"
  },
  "language_info": {
   "codemirror_mode": {
    "name": "ipython",
    "version": 3
   },
   "file_extension": ".py",
   "mimetype": "text/x-python",
   "name": "python",
   "nbconvert_exporter": "python",
   "pygments_lexer": "ipython3",
   "version": "3.12.1"
  }
 },
 "nbformat": 4,
 "nbformat_minor": 2
}
