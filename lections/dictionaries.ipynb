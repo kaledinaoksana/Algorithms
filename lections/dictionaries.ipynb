{
 "cells": [
  {
   "cell_type": "code",
   "execution_count": 71,
   "metadata": {},
   "outputs": [
    {
     "name": "stdout",
     "output_type": "stream",
     "text": [
      "alg53A\n",
      "alg53B\n",
      "alg53C\n",
      "alg53D\n",
      "alg53E\n",
      "alg53F\n",
      "alg53G\n",
      "alg53H\n",
      "alg53I\n",
      "alg53J\n"
     ]
    }
   ],
   "source": [
    "import processor as proc\n",
    "\n",
    "course = 5\n",
    "module = 3\n",
    "\n",
    "tasks={\n",
    "    \"A\":\"Playlists\",\n",
    "    \"B\":\"Annagram\",\n",
    "    \"C\":\"DeleteNumbers\",\n",
    "    \"D\":\"RepeatNumber\",\n",
    "    \"E\":\"TwoOfThree\",\n",
    "    \"F\":\"ReplacingWords\",\n",
    "    \"G\":\"BuiltASquare\",\n",
    "    \"H\":\"NotAToy\",\n",
    "    \"I\":\"PlayFootball\",\n",
    "    \"J\":\"P2Prelease\"\n",
    "}\n",
    "\n",
    "for task, taskname in tasks.items():\n",
    "    tests = 5\n",
    "    problem = f\"{task}_{taskname}\"\n",
    "    name_func = f\"alg{course}{module}{task}\"\n",
    "    print(name_func)\n",
    "    input_file, output = proc.return_input_output(num_of_test=1,module=str(module), problem=problem, tests=tests)"
   ]
  },
  {
   "cell_type": "markdown",
   "metadata": {},
   "source": [
    "# A. Плейлисты"
   ]
  },
  {
   "cell_type": "code",
   "execution_count": 31,
   "metadata": {},
   "outputs": [],
   "source": [
    "# alg53A\n",
    "tests = 5\n",
    "task = \"A\"\n",
    "taskname = tasks[task]\n",
    "\n",
    "def create_inp(test):\n",
    "    input_file, output = proc.return_input_output(num_of_test=test,module=module, problem=f\"{task}_{taskname}\", tests=tests )\n",
    "    return input_file"
   ]
  },
  {
   "cell_type": "code",
   "execution_count": 32,
   "metadata": {},
   "outputs": [
    {
     "name": "stdout",
     "output_type": "stream",
     "text": [
      "2\n",
      "a c\n"
     ]
    }
   ],
   "source": [
    "# ВЕРНЫЙ ОТВЕТ\n",
    "def alg53A_output(output_file):\n",
    "    file = open(output_file, 'r') \n",
    "    n = int(file.readline().strip()) \n",
    "    arr = [str(n) for n in file.readline().strip().split(' ')]\n",
    "\n",
    "    file.close()\n",
    "    return n,arr\n",
    "\n",
    "def alg53A(input_file):\n",
    "\n",
    "    ### reading\n",
    "    file = open(input_file, 'r') \n",
    "\n",
    "    n = int(file.readline().strip()) \n",
    "    dict = {}\n",
    "    res = []\n",
    "    for i in range(n):\n",
    "        ki = int(file.readline().strip())\n",
    "        listik=[str(n) for n in file.readline().strip().split(' ')]\n",
    "        for j in range(ki):\n",
    "            song = listik[j]\n",
    "            if song not in dict:\n",
    "                dict[song]=0\n",
    "            dict[song]+=1\n",
    "            if dict[song]==n:\n",
    "                res.append(song)\n",
    "\n",
    "    file.close()\n",
    "\n",
    "    res.sort()\n",
    "    ### code\n",
    "    print(len(res))\n",
    "    print(*res)\n",
    "\n",
    "    pass\n",
    "\n",
    "\n",
    "alg53A(create_inp(3))"
   ]
  },
  {
   "cell_type": "code",
   "execution_count": 33,
   "metadata": {},
   "outputs": [],
   "source": [
    "\n",
    "# def testing(fun,output_fun,module, task):\n",
    "#     for test in range(1,tests+1):\n",
    "#         taskname = tasks[task]  \n",
    "#         input_file, output = proc.return_input_output(num_of_test=test,module=module, problem=f\"{task}_{taskname}\", tests=tests )\n",
    "#         my_ans = fun(input_file)\n",
    "#         real_ans = output_fun(output)\n",
    "\n",
    "#         if my_ans==real_ans:\n",
    "#             print(\"TEST\",test,\"- true \\nans:\", my_ans ,\"\\n\")\n",
    "#         else:\n",
    "#             print(\"ERROR!!! TEST\",test,\"- false \\nmy_ans:\",my_ans, \"\\nans:\",real_ans ,\"\\n\" )\n",
    "\n",
    "# testing(alg53A,alg53A_output,module,task)"
   ]
  },
  {
   "cell_type": "markdown",
   "metadata": {},
   "source": [
    "# B. Аннаграмма"
   ]
  },
  {
   "cell_type": "code",
   "execution_count": 46,
   "metadata": {},
   "outputs": [],
   "source": [
    "# alg53B\n",
    "task = \"B\"\n",
    "\n",
    "def create_inp(test):\n",
    "    input_file, output = proc.return_input_output(num_of_test=test,module=module, problem=f\"{task}_{tasks[task]}\", tests=tests )\n",
    "    return input_file"
   ]
  },
  {
   "cell_type": "code",
   "execution_count": 64,
   "metadata": {},
   "outputs": [
    {
     "name": "stdout",
     "output_type": "stream",
     "text": [
      "NO\n"
     ]
    }
   ],
   "source": [
    "# Верное решение\n",
    "def is_annagram(w1,w2):\n",
    "    length = len(w1)\n",
    "    dict={}\n",
    "\n",
    "    if length!=len(w2):\n",
    "        return False\n",
    "    else:\n",
    "        for w in range(length):\n",
    "            letter = w1[w]\n",
    "            if letter not in dict:\n",
    "                dict[letter]=0\n",
    "            dict[letter]+=1\n",
    "\n",
    "        for w in range(length-1, 0-1, -1):\n",
    "            letter = w2[w]\n",
    "            if letter not in dict:\n",
    "                return False\n",
    "            else:\n",
    "                dict[letter]-=1\n",
    "                if dict[letter]==0:\n",
    "                    del dict[letter]\n",
    "                \n",
    "        if dict=={}:\n",
    "            return True\n",
    "\n",
    "        return False\n",
    "\n",
    "\n",
    "def alg53B(input_file):\n",
    "\n",
    "    file = open(input_file, 'r') \n",
    "    w1 = file.readline().strip()\n",
    "    w2 = file.readline().strip()\n",
    "    file.close()\n",
    "\n",
    "    if is_annagram(w1,w2):\n",
    "        print(\"YES\")\n",
    "    else:\n",
    "        print(\"NO\")\n",
    "    \n",
    "    pass\n",
    "\n",
    "alg53B(create_inp(2))"
   ]
  },
  {
   "cell_type": "markdown",
   "metadata": {},
   "source": [
    "# C. Удаление чисел"
   ]
  },
  {
   "cell_type": "code",
   "execution_count": 74,
   "metadata": {},
   "outputs": [],
   "source": [
    "# alg53С\n",
    "task = \"C\"\n",
    "\n",
    "def create_inp(test):\n",
    "    input_file, output = proc.return_input_output(num_of_test=test,module=module, problem=f\"{task}_{tasks[task]}\", tests=tests )\n",
    "    return input_file"
   ]
  },
  {
   "cell_type": "code",
   "execution_count": 80,
   "metadata": {},
   "outputs": [
    {
     "name": "stdout",
     "output_type": "stream",
     "text": [
      "4\n"
     ]
    }
   ],
   "source": [
    "# Верное решение\n",
    "def alg53С(input_file):\n",
    "    \n",
    "    # input_file=\"input.txt\"\n",
    "    file = open(input_file, 'r') \n",
    "    n = int(file.readline().strip())\n",
    "    arr = list(map(int,file.readline().strip().split(\" \")))\n",
    "    file.close()\n",
    "\n",
    "    dict={}\n",
    "    for i in range(n):\n",
    "        if arr[i] not in dict:\n",
    "            dict[arr[i]]=0\n",
    "        dict[arr[i]]+=1\n",
    "\n",
    "    maximum = 0\n",
    "    for value in dict:\n",
    "        loc_maximum=dict[value]\n",
    "        if (value-1) in dict:\n",
    "            maxx_min=dict[value-1]\n",
    "            loc_maximum = max(loc_maximum,maxx_min+dict[value])\n",
    "        if (value+1) in dict:\n",
    "            maxx_plus=dict[value+1]\n",
    "            loc_maximum = max(loc_maximum,maxx_plus+dict[value])\n",
    "\n",
    "        if loc_maximum > maximum:\n",
    "            maximum = loc_maximum\n",
    "\n",
    "    print(n-maximum)\n",
    "    pass\n",
    "\n",
    "alg53С(create_inp(2))"
   ]
  },
  {
   "cell_type": "markdown",
   "metadata": {},
   "source": [
    "# D. Повторяющееся число"
   ]
  },
  {
   "cell_type": "code",
   "execution_count": 81,
   "metadata": {},
   "outputs": [],
   "source": [
    "# alg53D\n",
    "task = \"D\"\n",
    "\n",
    "def create_inp(test):\n",
    "    input_file, output = proc.return_input_output(num_of_test=test,module=module, problem=f\"{task}_{tasks[task]}\", tests=tests )\n",
    "    return input_file"
   ]
  },
  {
   "cell_type": "code",
   "execution_count": null,
   "metadata": {},
   "outputs": [],
   "source": [
    "# Верное решение\n",
    "def alg53D(input_file):\n",
    "    \n",
    "    # input_file=\"input.txt\"\n",
    "    file = open(input_file, 'r') \n",
    "    n = int(file.readline().strip())\n",
    "    arr = list(map(int,file.readline().strip().split(\" \")))\n",
    "    file.close()\n",
    "\n",
    "    dict={}\n",
    "    for i in range(n):\n",
    "        if arr[i] not in dict:\n",
    "            dict[arr[i]]=0\n",
    "        dict[arr[i]]+=1\n",
    "\n",
    "    maximum = 0\n",
    "    for value in dict:\n",
    "        loc_maximum=dict[value]\n",
    "        if (value-1) in dict:\n",
    "            maxx_min=dict[value-1]\n",
    "            loc_maximum = max(loc_maximum,maxx_min+dict[value])\n",
    "        if (value+1) in dict:\n",
    "            maxx_plus=dict[value+1]\n",
    "            loc_maximum = max(loc_maximum,maxx_plus+dict[value])\n",
    "\n",
    "        if loc_maximum > maximum:\n",
    "            maximum = loc_maximum\n",
    "\n",
    "    print(n-maximum)\n",
    "    pass\n",
    "\n",
    "alg53D(create_inp(1))"
   ]
  }
 ],
 "metadata": {
  "kernelspec": {
   "display_name": "Python 3",
   "language": "python",
   "name": "python3"
  },
  "language_info": {
   "codemirror_mode": {
    "name": "ipython",
    "version": 3
   },
   "file_extension": ".py",
   "mimetype": "text/x-python",
   "name": "python",
   "nbconvert_exporter": "python",
   "pygments_lexer": "ipython3",
   "version": "3.12.1"
  }
 },
 "nbformat": 4,
 "nbformat_minor": 2
}
