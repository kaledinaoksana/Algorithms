{
 "cells": [
  {
   "cell_type": "code",
   "execution_count": 1,
   "metadata": {},
   "outputs": [],
   "source": [
    "import processor as proc\n",
    "\n",
    "course = 5\n",
    "module = 4\n",
    "\n",
    "tasks={\n",
    "    \"A\":\"FastSearchArray\",\n",
    "    \"B\":\"OneDimSeaBoy\",\n",
    "    \"C\":\"Saruman\",\n",
    "    \"D\":\"Raport\",\n",
    "    \"E\":\"NumerationDrobi\",\n",
    "    \"F\":\"VeloRoads\",\n",
    "    \"G\":\"NewOfficePlus\",\n",
    "    \"H\":\"Choosing\",\n",
    "    \"I\":\"Lapta\",\n",
    "    \"J\":\"Rain\"\n",
    "}\n",
    "\n",
    "for task, taskname in tasks.items():\n",
    "    tests = 5\n",
    "    problem = f\"{task}_{taskname}\"\n",
    "    name_func = f\"alg{course}{module}{task}\"\n",
    "    # print(name_func)\n",
    "    input_file, output = proc.return_input_output(num_of_test=1,module=str(module), problem=problem, tests=tests)"
   ]
  },
  {
   "cell_type": "code",
   "execution_count": 13,
   "metadata": {},
   "outputs": [],
   "source": [
    "def lbinsearch(l,r,check, checkparams):\n",
    "    while l<r:\n",
    "        m = (l+r) // 2\n",
    "        if check(m, checkparams):\n",
    "            r=m\n",
    "        else:\n",
    "            l = m + 1\n",
    "    return l\n",
    "\n",
    "\n",
    "def rbinsearch(l,r,check, checkparams):\n",
    "    while l<r:\n",
    "        m = (l+r+1) // 2\n",
    "        if check(m, checkparams):\n",
    "            l=m\n",
    "        else:\n",
    "            r = m - 1\n",
    "    return l"
   ]
  },
  {
   "cell_type": "markdown",
   "metadata": {},
   "source": [
    "# A."
   ]
  },
  {
   "cell_type": "code",
   "execution_count": 62,
   "metadata": {},
   "outputs": [
    {
     "name": "stdout",
     "output_type": "stream",
     "text": [
      "5 2 2 0\n"
     ]
    }
   ],
   "source": [
    "# ВЕРНОЕ РЕШЕНИЕ\n",
    "\n",
    "# alg54A\n",
    "tests = 5\n",
    "task = \"A\"\n",
    "taskname = tasks[task]\n",
    "\n",
    "def create_inp(test):\n",
    "    input_file, output = proc.return_input_output(num_of_test=test,module=module, problem=f\"{task}_{taskname}\", tests=tests )\n",
    "    return input_file\n",
    "\n",
    "\n",
    "def alg54A(input_file):\n",
    "\n",
    "    def lbinsearch(l,r,check, checkparams):\n",
    "        while l<r:\n",
    "            m = (l+r) // 2\n",
    "            if check(m, checkparams):\n",
    "                r=m\n",
    "            else:\n",
    "                l = m + 1\n",
    "        return l\n",
    "\n",
    "\n",
    "    def rbinsearch(l,r,check, checkparams):\n",
    "        while l<r:\n",
    "            m = (l+r+1) // 2\n",
    "            if check(m, checkparams):\n",
    "                l=m\n",
    "            else:\n",
    "                r = m - 1\n",
    "        return l\n",
    "\n",
    "    def count_more_or_equal(m, params):\n",
    "        border, n_list = params\n",
    "        return n_list[m] >= border\n",
    "    \n",
    "    def count_less_or_equal(m, params):\n",
    "        border, n_list = params\n",
    "        return n_list[m] <= border\n",
    "\n",
    "\n",
    "    file = open(input_file, 'r') \n",
    "    n = int(file.readline().strip()) \n",
    "    n_list = sorted(list(map(int, file.readline().strip().split(\" \"))))\n",
    "    k = int(file.readline().strip()) \n",
    "\n",
    "    ans=[]\n",
    "    for i in range(k):\n",
    "        L, R = map(int, file.readline().strip().split(\" \"))\n",
    "\n",
    "        if n_list[-1]<L or n_list[0]>R:\n",
    "            ans.append(0)\n",
    "        else:\n",
    "            left_index = lbinsearch(0, len(n_list)-1, count_more_or_equal, [L,n_list])\n",
    "            right_index = rbinsearch(0, len(n_list)-1, count_less_or_equal, [R,n_list])\n",
    "            ans.append(right_index - left_index + 1)\n",
    "\n",
    "    file.close()\n",
    "    print(*ans)\n",
    "\n",
    "    pass\n",
    "\n",
    "\n",
    "alg54A(create_inp(1))\n",
    "# alg54A(\"input.txt\")\n"
   ]
  },
  {
   "cell_type": "markdown",
   "metadata": {},
   "source": [
    "# B."
   ]
  },
  {
   "cell_type": "code",
   "execution_count": 210,
   "metadata": {},
   "outputs": [
    {
     "name": "stdout",
     "output_type": "stream",
     "text": [
      "888887\n"
     ]
    }
   ],
   "source": [
    "# Верное решение\n",
    "\n",
    "# alg54B\n",
    "tests = 5\n",
    "task = \"B\"\n",
    "taskname = tasks[task]\n",
    "\n",
    "def create_inp(test):\n",
    "    input_file, output = proc.return_input_output(num_of_test=test,module=module, problem=f\"{task}_{taskname}\", tests=tests )\n",
    "    return input_file\n",
    "\n",
    "\n",
    "def alg54B(input_file):\n",
    "\n",
    "    def rbinsearch(l,r,check, checkparams):\n",
    "        while l<r:\n",
    "            m = (l+r+1) // 2\n",
    "            if check(m, checkparams):\n",
    "                l=m\n",
    "            else:\n",
    "                r = m - 1\n",
    "        return l\n",
    "    \n",
    "    def check_k(m, n):\n",
    "        summa=0\n",
    "        summa_prog=0\n",
    "        for i in range(1,m+1):\n",
    "            summa += i*(m-i+1)\n",
    "            summa_prog += i\n",
    "        return summa+summa_prog-1<=n\n",
    "    \n",
    "    file = open(input_file, 'r') \n",
    "    n = int(file.readline().strip()) \n",
    "    file.close()\n",
    "    \n",
    "    if n>0:\n",
    "        ans=rbinsearch(1,int(1.9*(10**6)),check_k, n)\n",
    "    else:\n",
    "        ans=0\n",
    "\n",
    "    print(ans)\n",
    "    pass\n",
    "\n",
    "# alg54B(\"input.txt\")\n",
    "alg54B(create_inp(1))\n"
   ]
  },
  {
   "cell_type": "markdown",
   "metadata": {},
   "source": [
    "# C."
   ]
  },
  {
   "cell_type": "code",
   "execution_count": null,
   "metadata": {},
   "outputs": [],
   "source": [
    "# alg54C\n",
    "tests = 5\n",
    "task = \"C\"\n",
    "taskname = tasks[task]\n",
    "\n",
    "def create_inp(test):\n",
    "    input_file, output = proc.return_input_output(num_of_test=test,module=module, problem=f\"{task}_{taskname}\", tests=tests )\n",
    "    return input_file\n",
    "\n",
    "\n",
    "def alg54C(input_file):\n",
    "    pass\n",
    "\n",
    "\n",
    "alg54C(create_inp(1))"
   ]
  },
  {
   "cell_type": "code",
   "execution_count": null,
   "metadata": {},
   "outputs": [],
   "source": []
  },
  {
   "cell_type": "markdown",
   "metadata": {},
   "source": [
    "# D."
   ]
  },
  {
   "cell_type": "code",
   "execution_count": null,
   "metadata": {},
   "outputs": [],
   "source": [
    "# alg54D\n",
    "tests = 5\n",
    "task = \"D\"\n",
    "taskname = tasks[task]\n",
    "\n",
    "def create_inp(test):\n",
    "    input_file, output = proc.return_input_output(num_of_test=test,module=module, problem=f\"{task}_{taskname}\", tests=tests )\n",
    "    return input_file\n",
    "\n",
    "\n",
    "def alg54D(input_file):\n",
    "    pass\n",
    "\n",
    "\n",
    "alg54D(create_inp(1))"
   ]
  },
  {
   "cell_type": "code",
   "execution_count": null,
   "metadata": {},
   "outputs": [],
   "source": []
  },
  {
   "cell_type": "markdown",
   "metadata": {},
   "source": [
    "# E."
   ]
  },
  {
   "cell_type": "code",
   "execution_count": null,
   "metadata": {},
   "outputs": [],
   "source": [
    "# alg54E\n",
    "tests = 5\n",
    "task = \"E\"\n",
    "taskname = tasks[task]\n",
    "\n",
    "def create_inp(test):\n",
    "    input_file, output = proc.return_input_output(num_of_test=test,module=module, problem=f\"{task}_{taskname}\", tests=tests )\n",
    "    return input_file\n",
    "\n",
    "\n",
    "def alg54E(input_file):\n",
    "    pass\n",
    "\n",
    "\n",
    "alg54E(create_inp(1))"
   ]
  },
  {
   "cell_type": "code",
   "execution_count": null,
   "metadata": {},
   "outputs": [],
   "source": []
  },
  {
   "cell_type": "markdown",
   "metadata": {},
   "source": [
    "# F."
   ]
  },
  {
   "cell_type": "code",
   "execution_count": null,
   "metadata": {},
   "outputs": [],
   "source": [
    "# alg54F\n",
    "tests = 5\n",
    "task = \"F\"\n",
    "taskname = tasks[task]\n",
    "\n",
    "def create_inp(test):\n",
    "    input_file, output = proc.return_input_output(num_of_test=test,module=module, problem=f\"{task}_{taskname}\", tests=tests )\n",
    "    return input_file\n",
    "\n",
    "\n",
    "def alg54F(input_file):\n",
    "    pass\n",
    "\n",
    "\n",
    "alg54F(create_inp(1))"
   ]
  },
  {
   "cell_type": "code",
   "execution_count": null,
   "metadata": {},
   "outputs": [],
   "source": []
  },
  {
   "cell_type": "markdown",
   "metadata": {},
   "source": [
    "# G."
   ]
  },
  {
   "cell_type": "code",
   "execution_count": null,
   "metadata": {},
   "outputs": [],
   "source": [
    "# alg54G\n",
    "tests = 5\n",
    "task = \"G\"\n",
    "taskname = tasks[task]\n",
    "\n",
    "def create_inp(test):\n",
    "    input_file, output = proc.return_input_output(num_of_test=test,module=module, problem=f\"{task}_{taskname}\", tests=tests )\n",
    "    return input_file\n",
    "\n",
    "\n",
    "def alg54G(input_file):\n",
    "    pass\n",
    "\n",
    "\n",
    "alg54G(create_inp(1))"
   ]
  },
  {
   "cell_type": "code",
   "execution_count": null,
   "metadata": {},
   "outputs": [],
   "source": []
  },
  {
   "cell_type": "markdown",
   "metadata": {},
   "source": [
    "# H. "
   ]
  },
  {
   "cell_type": "code",
   "execution_count": null,
   "metadata": {},
   "outputs": [],
   "source": [
    "# alg54H\n",
    "tests = 5\n",
    "task = \"H\"\n",
    "taskname = tasks[task]\n",
    "\n",
    "def create_inp(test):\n",
    "    input_file, output = proc.return_input_output(num_of_test=test,module=module, problem=f\"{task}_{taskname}\", tests=tests )\n",
    "    return input_file\n",
    "\n",
    "\n",
    "def alg54H(input_file):\n",
    "    pass\n",
    "\n",
    "\n",
    "alg54H(create_inp(1))"
   ]
  },
  {
   "cell_type": "code",
   "execution_count": null,
   "metadata": {},
   "outputs": [],
   "source": []
  },
  {
   "cell_type": "markdown",
   "metadata": {},
   "source": [
    "# I."
   ]
  },
  {
   "cell_type": "code",
   "execution_count": null,
   "metadata": {},
   "outputs": [],
   "source": [
    "# alg54I\n",
    "tests = 5\n",
    "task = \"I\"\n",
    "taskname = tasks[task]\n",
    "\n",
    "def create_inp(test):\n",
    "    input_file, output = proc.return_input_output(num_of_test=test,module=module, problem=f\"{task}_{taskname}\", tests=tests )\n",
    "    return input_file\n",
    "\n",
    "\n",
    "def alg54I(input_file):\n",
    "    pass\n",
    "\n",
    "\n",
    "alg54I(create_inp(1))"
   ]
  },
  {
   "cell_type": "code",
   "execution_count": null,
   "metadata": {},
   "outputs": [],
   "source": []
  },
  {
   "cell_type": "markdown",
   "metadata": {},
   "source": [
    "# J."
   ]
  },
  {
   "cell_type": "code",
   "execution_count": null,
   "metadata": {},
   "outputs": [],
   "source": [
    "# alg54J\n",
    "tests = 5\n",
    "task = \"J\"\n",
    "taskname = tasks[task]\n",
    "\n",
    "def create_inp(test):\n",
    "    input_file, output = proc.return_input_output(num_of_test=test,module=module, problem=f\"{task}_{taskname}\", tests=tests )\n",
    "    return input_file\n",
    "\n",
    "\n",
    "def alg54J(input_file):\n",
    "    pass\n",
    "\n",
    "\n",
    "alg54J(create_inp(1))"
   ]
  },
  {
   "cell_type": "code",
   "execution_count": null,
   "metadata": {},
   "outputs": [],
   "source": []
  }
 ],
 "metadata": {
  "kernelspec": {
   "display_name": "Python 3",
   "language": "python",
   "name": "python3"
  },
  "language_info": {
   "codemirror_mode": {
    "name": "ipython",
    "version": 3
   },
   "file_extension": ".py",
   "mimetype": "text/x-python",
   "name": "python",
   "nbconvert_exporter": "python",
   "pygments_lexer": "ipython3",
   "version": "3.12.1"
  }
 },
 "nbformat": 4,
 "nbformat_minor": 2
}
