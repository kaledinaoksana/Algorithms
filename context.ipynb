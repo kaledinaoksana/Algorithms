{
 "cells": [
  {
   "cell_type": "markdown",
   "metadata": {},
   "source": [
    "### ввод вывод"
   ]
  },
  {
   "cell_type": "code",
   "execution_count": null,
   "metadata": {},
   "outputs": [],
   "source": [
    "arr = map(int, input().split())\n",
    "\n",
    "print(sum(arr))"
   ]
  },
  {
   "cell_type": "markdown",
   "metadata": {},
   "source": [
    "### чтение и запись в файл"
   ]
  },
  {
   "cell_type": "code",
   "execution_count": null,
   "metadata": {},
   "outputs": [],
   "source": [
    "reader = open('input.txt', 'r')\n",
    "a, b = [int(n) for n in reader.readline().split(\" \")]\n",
    "reader.close()\n",
    "\n",
    "writer = open('output.txt', 'w')\n",
    "writer.write(\"%d\" % (a+b))\n",
    "writer.close()"
   ]
  },
  {
   "cell_type": "markdown",
   "metadata": {},
   "source": [
    "## Камни и украшения\n",
    "\n",
    "Даны две строки строчных латинских символов: строка J и строка S. \n",
    "\n",
    "Символы, входящие в строку J, — «драгоценности», входящие в строку S — «камни».\n",
    "\n",
    "Нужно определить, какое количество символов из S одновременно являются «драгоценностями». \n",
    "\n",
    "Проще говоря, нужно проверить, какое количество символов из S входит в J.\n",
    "\n",
    "Это разминочная задача, к которой мы размещаем готовые решения. \n",
    "\n",
    "Она очень простая и нужна для того, чтобы вы могли познакомиться с нашей автоматической системой проверки решений. \n",
    "\n",
    "Ввод и вывод осуществляется через файлы, либо через стандартные потоки ввода-вывода, как вам удобнее."
   ]
  },
  {
   "cell_type": "code",
   "execution_count": null,
   "metadata": {},
   "outputs": [],
   "source": [
    "\n",
    "# j = \"ab\"\n",
    "# s = \"aabbccd\"\n",
    "\n",
    "j = map(str, input())\n",
    "s = map(str, input())\n",
    "\n",
    "ans = 0\n",
    "\n",
    "drag = set(symbol for symbol in j)\n",
    "drag\n",
    "for stone in s:\n",
    "    if stone in drag:\n",
    "        ans += 1\n",
    "\n",
    "print(ans)"
   ]
  },
  {
   "cell_type": "markdown",
   "metadata": {},
   "source": [
    "# Ограниченные рекомендации"
   ]
  },
  {
   "cell_type": "code",
   "execution_count": null,
   "metadata": {},
   "outputs": [],
   "source": [
    "# p,n,k = map(int, input().split())\n",
    "\n",
    "# ps = []\n",
    "# for i in range(p):\n",
    "#     ps.append(input())\n",
    "\n",
    "# ids = list(map(int, input().split()))\n",
    "\n",
    "p,n,k = 9, 5, 2\n",
    "\n",
    "themes = [  'Cats',\n",
    "        'Dogs',\n",
    "        'Cats',\n",
    "        'Cats',\n",
    "        'Stas Mikhailov',\n",
    "        'Anime',\n",
    "        'Stas Mikhailov',\n",
    "        'Dogs',\n",
    "        'Anime']\n",
    "\n",
    "ids = [1, 1, 2, 3, 2, 1, 1, 2, 2]\n",
    "\n"
   ]
  },
  {
   "cell_type": "code",
   "execution_count": null,
   "metadata": {},
   "outputs": [],
   "source": [
    "p,n,k = 4, 5, 2\n",
    "\n",
    "themes = [ 'Cats',\n",
    "        'Dogs',\n",
    "        'Cats',\n",
    "        'Cats', ]\n",
    "\n",
    "ids = [1, 1, 2, 3, 2, 1, 1, 2, 2]"
   ]
  },
  {
   "cell_type": "code",
   "execution_count": null,
   "metadata": {},
   "outputs": [],
   "source": [
    "p,n,k = map(int, input().split())\n",
    "\n",
    "themes = []\n",
    "for i in range(p):\n",
    "    themes.append(input())\n",
    "\n",
    "ids = list(map(int, input().split()))\n",
    "\n",
    "if (p>0) and (n>0) and (p>=n) and (k>=0) and (k<=p):\n",
    "\n",
    "    list = []\n",
    "\n",
    "    for i, theme in enumerate(themes):\n",
    "\n",
    "        string = ''\n",
    "\n",
    "        if ids[i] <= k:\n",
    "            string = str(theme) +' #'+str(ids[i])\n",
    "            if len(list)<n:\n",
    "                list.append(string)\n",
    "            else:\n",
    "                pass\n",
    "\n",
    "    for item in list:\n",
    "        print(item)\n",
    "\n",
    "else:\n",
    "    print(\"zero\")\n",
    "\n"
   ]
  },
  {
   "cell_type": "code",
   "execution_count": null,
   "metadata": {},
   "outputs": [],
   "source": [
    "ids = list(map(int, input().split()))"
   ]
  },
  {
   "cell_type": "code",
   "execution_count": null,
   "metadata": {},
   "outputs": [],
   "source": [
    "p,n,k = 9, 5, 2\n",
    "\n",
    "themes = [  'Cats',\n",
    "        'Dogs',\n",
    "        'Cats',\n",
    "        'Cats',\n",
    "        'Stas Mikhailov',\n",
    "        'Anime',\n",
    "        'Stas Mikhailov',\n",
    "        'Dogs',\n",
    "        'Anime']\n",
    "\n",
    "ids = [1, 1, 2, 3, 2, 1, 1, 2, 2]\n",
    "\n",
    "\n",
    "if (p>0) and (n>0) and (p>=n) and (k>=0) and (k<=p):\n",
    "\n",
    "    list = []\n",
    "\n",
    "    for i, theme in enumerate(themes):\n",
    "\n",
    "        string = ''\n",
    "\n",
    "        if ids[i] <= k:\n",
    "            string = str(theme) +' #'+str(ids[i])\n",
    "            if len(list)<n:\n",
    "                list.append(string)\n",
    "            else:\n",
    "                pass\n",
    "\n",
    "    for item in list:\n",
    "        print(item)"
   ]
  },
  {
   "cell_type": "code",
   "execution_count": null,
   "metadata": {},
   "outputs": [],
   "source": [
    "n,s = map(int, input().split())\n",
    "\n",
    "times = []\n",
    "for i in range(n):\n",
    "    times.append(input())"
   ]
  },
  {
   "cell_type": "code",
   "execution_count": null,
   "metadata": {},
   "outputs": [],
   "source": [
    "n,s = 8,3\n",
    "times = [3,6,4,5,0,2,7,0]"
   ]
  },
  {
   "cell_type": "code",
   "execution_count": null,
   "metadata": {},
   "outputs": [],
   "source": [
    "# def rbinsearch(l,r,check, checkparams):\n",
    "#     while l<r:\n",
    "#         m = (l+r+1) // 2\n",
    "#         if check(m, checkparams):\n",
    "#             l=m\n",
    "#         else:\n",
    "#             r = m - 1\n",
    "#     return l\n",
    "\n",
    "def lbinsearch(l,r,check, checkparams):\n",
    "    while l<r:\n",
    "        m = (l+r) // 2\n",
    "        if check(m, checkparams):\n",
    "            r=m\n",
    "        else:\n",
    "            l = m + 1\n",
    "    return l\n",
    "\n",
    "def maxvisitorsonline(n, tin, maxtime):\n",
    "    events=[]\n",
    "    for i in range(n):\n",
    "        events.append((tin[i],-1))\n",
    "        events.append((tin[i]+maxtime,1)) \n",
    "    events.sort()\n",
    "    online = 0\n",
    "    maxonline = 0\n",
    "    for event in events:\n",
    "        if event[1] == -1:\n",
    "            online += 1\n",
    "        else:\n",
    "            online -= 1\n",
    "        maxonline = max(online, maxonline)\n",
    "    return maxonline\n",
    "\n",
    "def checkendownment(m, params):\n",
    "    times, n, s  = params\n",
    "    m = maxvisitorsonline(n, times, m)\n",
    "    return  m > s\n",
    "\n",
    "\n",
    "n, s = 8, 3\n",
    "times = [3, 6, 4, 5, 0, 2, 7, 0]\n",
    "\n",
    "lbinsearch(0, 2*max(times), checkendownment, [times, n, s])\n"
   ]
  },
  {
   "cell_type": "code",
   "execution_count": null,
   "metadata": {},
   "outputs": [],
   "source": [
    "def maxvisitorsonline(n, tin, maxtime):\n",
    "    events=[]\n",
    "    for i in range(n):\n",
    "        events.append((tin[i],-1)) # приход\n",
    "        events.append((tin[i]+maxtime,1)) # выход\n",
    "    events.sort()\n",
    "    online = 0\n",
    "    maxonline = 0\n",
    "    for event in events:\n",
    "        if event[1] == -1:\n",
    "            online += 1\n",
    "        else:\n",
    "            online -= 1\n",
    "        maxonline = max(online, maxonline)\n",
    "    return maxonline\n",
    "\n",
    "\n",
    "n, s = 8, 3\n",
    "times = [3, 6, 4, 5, 0, 2, 7, 0]\n",
    "\n",
    "rbinsearch(0, 2*max(times), checkendownment, [times, n, s])\n",
    "\n",
    "# maxvisitorsonline(n, times, maxtime)"
   ]
  },
  {
   "cell_type": "code",
   "execution_count": null,
   "metadata": {},
   "outputs": [],
   "source": [
    "def max_time_before_max_online(n, s, times):\n",
    "    left = 0\n",
    "    right = max(times) * s  \n",
    "    # Верхняя граница времени - максимальное время, \n",
    "    # когда все s посетителей могут быть онлайн\n",
    "    \n",
    "    result = 0\n",
    "\n",
    "    while left <= right:\n",
    "        mid = (left + right) // 2\n",
    "        max_online = 0\n",
    "\n",
    "        for i in range(n):\n",
    "            if times[i] != 0:  # Проверяем, что время не равно нулю\n",
    "                max_online += mid // times[i]\n",
    "\n",
    "        if max_online >= s:\n",
    "            result = mid\n",
    "            right = mid - 1\n",
    "        else:\n",
    "            left = mid + 1\n",
    "\n",
    "    return result\n",
    "\n",
    "n, s = 8, 3\n",
    "times = [3, 6, 4, 5, 0, 2, 7, 0]\n",
    "\n",
    "max_time = max_time_before_max_online(n, s, times)\n",
    "print(\"Максимальное время до достижения максимального количества посетителей онлайн:\", max_time)"
   ]
  },
  {
   "cell_type": "code",
   "execution_count": null,
   "metadata": {},
   "outputs": [],
   "source": []
  },
  {
   "cell_type": "code",
   "execution_count": null,
   "metadata": {},
   "outputs": [],
   "source": [
    "# n,s = map(int, input().split())\n",
    "\n",
    "# times = []\n",
    "# for i in range(n):\n",
    "#     times.append(input())\n",
    "\n",
    "def lbinsearch(l,r,check, checkparams):\n",
    "    while l<r:\n",
    "        m = (l+r) // 2\n",
    "        if check(m, checkparams):\n",
    "            r=m\n",
    "        else:\n",
    "            l = m + 1\n",
    "    return l\n",
    "\n",
    "def maxvisitorsonline(n, tin, maxtime):\n",
    "    events=[]\n",
    "    for i in range(n):\n",
    "        events.append((tin[i],-1))\n",
    "        events.append((tin[i]+maxtime,1)) \n",
    "    events.sort()\n",
    "    online = 0\n",
    "    maxonline = 0\n",
    "    for event in events:\n",
    "        if event[1] == -1:\n",
    "            online += 1\n",
    "        else:\n",
    "            online -= 1\n",
    "        maxonline = max(online, maxonline)\n",
    "    return maxonline\n",
    "\n",
    "def checkendownment(m, params):\n",
    "    times, n, s  = params\n",
    "    m = maxvisitorsonline(n, times, m)\n",
    "    return  m > s\n",
    "\n",
    "# n, s = 8, 3\n",
    "# times = [3, 6, 4, 5, 0, 2, 7, 0]\n",
    "\n",
    "n, s = 3, 2 # Impossible\n",
    "times = [13, 13, 9]\n",
    "\n",
    "# n, s = 5, 5 # INF\n",
    "# times = [98, 123, 42, 1840, 999999997]\n",
    "\n",
    "def is_greater_than_s(list, s):\n",
    "    set_list = set(list)\n",
    "    print(set_list)\n",
    "    for i in set_list:\n",
    "        count = list.count(i)\n",
    "        print(\"i:\", count)\n",
    "        if count >= s:\n",
    "            return True\n",
    "    return False\n",
    "\n",
    "if n <= s:\n",
    "    print(\"INF\")\n",
    "elif is_greater_than_s(times, s):\n",
    "    print(\"Impossible\")\n",
    "else:\n",
    "    max = lbinsearch(0, 2*max(times), checkendownment, [times, n, s])\n",
    "    print(max)"
   ]
  },
  {
   "cell_type": "code",
   "execution_count": 12,
   "metadata": {},
   "outputs": [
    {
     "name": "stdout",
     "output_type": "stream",
     "text": [
      "3\n"
     ]
    }
   ],
   "source": [
    "\n",
    "\n",
    "def lbinsearch(l,r,check, checkparams):\n",
    "    while l<r:\n",
    "        m = (l+r) // 2\n",
    "        if check(m, checkparams):\n",
    "            r=m\n",
    "        else:\n",
    "            l = m + 1\n",
    "    return l\n",
    "\n",
    "def maxvisitorsonline(n, tin, maxtime):\n",
    "    events=[]\n",
    "    for i in range(n):\n",
    "        events.append((tin[i],-1))\n",
    "        events.append((tin[i]+maxtime,1)) \n",
    "    events.sort()\n",
    "    online = 0\n",
    "    maxonline = 0\n",
    "    for event in events:\n",
    "        if event[1] == -1:\n",
    "            online += 1\n",
    "        else:\n",
    "            online -= 1\n",
    "        maxonline = max(online, maxonline)\n",
    "    return maxonline\n",
    "\n",
    "def checkendownment(m, params):\n",
    "    times, n, s  = params\n",
    "    return  maxvisitorsonline(n, times, m) > s\n",
    "\n",
    "def is_greater_than_s(list, s):\n",
    "    set_list = set(list)\n",
    "    for i in set_list:\n",
    "        count = list.count(i)\n",
    "        if count > s:\n",
    "            return True\n",
    "    return False\n",
    "\n",
    "# n,s = map(int, input().split())\n",
    "\n",
    "# times = []\n",
    "# for i in range(n):\n",
    "#     times.append(input())\n",
    "\n",
    "n, s = 8, 3\n",
    "times = [3, 6, 4, 5, 0, 2, 7, 0]\n",
    "    \n",
    "if n <= s:\n",
    "    print(\"INF\")\n",
    "elif is_greater_than_s(times, s):\n",
    "    print(\"Impossible\")\n",
    "else:\n",
    "    print(lbinsearch(0, 2*max(times), checkendownment, [times, n, s]))\n",
    "\n"
   ]
  },
  {
   "cell_type": "code",
   "execution_count": 13,
   "metadata": {},
   "outputs": [
    {
     "name": "stdout",
     "output_type": "stream",
     "text": [
      "2\n"
     ]
    }
   ],
   "source": [
    "n, s = 3, 2 # Impossible\n",
    "times = [13, 13, 15]\n",
    "\n",
    "# n, s = 5, 5 # INF\n",
    "# times = [98, 123, 42, 1840, 999999997]\n",
    "\n",
    "if n <= s:\n",
    "    print(\"INF\")\n",
    "elif is_greater_than_s(times, s):\n",
    "    print(\"Impossible\")\n",
    "else:\n",
    "    print(lbinsearch(0, 2*max(times), checkendownment, [times, n, s]))"
   ]
  },
  {
   "cell_type": "code",
   "execution_count": null,
   "metadata": {},
   "outputs": [],
   "source": []
  },
  {
   "cell_type": "code",
   "execution_count": 18,
   "metadata": {},
   "outputs": [
    {
     "ename": "TypeError",
     "evalue": "cannot unpack non-iterable int object",
     "output_type": "error",
     "traceback": [
      "\u001b[0;31m---------------------------------------------------------------------------\u001b[0m",
      "\u001b[0;31mTypeError\u001b[0m                                 Traceback (most recent call last)",
      "Cell \u001b[0;32mIn[18], line 29\u001b[0m\n\u001b[1;32m     27\u001b[0m \u001b[38;5;66;03m# Пример использования\u001b[39;00m\n\u001b[1;32m     28\u001b[0m n \u001b[38;5;241m=\u001b[39m \u001b[38;5;241m1\u001b[39m  \u001b[38;5;66;03m# Предполагаемый размер потока\u001b[39;00m\n\u001b[0;32m---> 29\u001b[0m max_f \u001b[38;5;241m=\u001b[39m \u001b[43mmax_f_measure\u001b[49m\u001b[43m(\u001b[49m\u001b[43m)\u001b[49m\n\u001b[1;32m     30\u001b[0m \u001b[38;5;28mprint\u001b[39m(\u001b[38;5;124m\"\u001b[39m\u001b[38;5;124mМаксимальное значение F-меры:\u001b[39m\u001b[38;5;124m\"\u001b[39m, max_f)\n",
      "Cell \u001b[0;32mIn[18], line 22\u001b[0m, in \u001b[0;36mmax_f_measure\u001b[0;34m()\u001b[0m\n\u001b[1;32m     21\u001b[0m \u001b[38;5;28;01mdef\u001b[39;00m \u001b[38;5;21mmax_f_measure\u001b[39m():\n\u001b[0;32m---> 22\u001b[0m     result \u001b[38;5;241m=\u001b[39m \u001b[43mlbinsearch\u001b[49m\u001b[43m(\u001b[49m\u001b[38;5;241;43m0\u001b[39;49m\u001b[43m,\u001b[49m\u001b[43m \u001b[49m\u001b[43mn\u001b[49m\u001b[43m,\u001b[49m\u001b[43m \u001b[49m\u001b[43mcheckendownment\u001b[49m\u001b[43m,\u001b[49m\u001b[43m \u001b[49m\u001b[38;5;28;43;01mNone\u001b[39;49;00m\u001b[43m)\u001b[49m\n\u001b[1;32m     23\u001b[0m     tp_r \u001b[38;5;241m=\u001b[39m result \u001b[38;5;241m/\u001b[39m n\n\u001b[1;32m     24\u001b[0m     tp_l \u001b[38;5;241m=\u001b[39m (n \u001b[38;5;241m-\u001b[39m result) \u001b[38;5;241m/\u001b[39m n\n",
      "Cell \u001b[0;32mIn[18], line 6\u001b[0m, in \u001b[0;36mlbinsearch\u001b[0;34m(l, r, check, params)\u001b[0m\n\u001b[1;32m      4\u001b[0m \u001b[38;5;28;01mwhile\u001b[39;00m l\u001b[38;5;241m<\u001b[39mr:\n\u001b[1;32m      5\u001b[0m     m \u001b[38;5;241m=\u001b[39m (l\u001b[38;5;241m+\u001b[39mr) \u001b[38;5;241m/\u001b[39m\u001b[38;5;241m/\u001b[39m \u001b[38;5;241m2\u001b[39m\n\u001b[0;32m----> 6\u001b[0m     \u001b[38;5;28;01mif\u001b[39;00m \u001b[43mcheck\u001b[49m\u001b[43m(\u001b[49m\u001b[43mm\u001b[49m\u001b[43m,\u001b[49m\u001b[43m \u001b[49m\u001b[43mparams\u001b[49m\u001b[43m)\u001b[49m:\n\u001b[1;32m      7\u001b[0m         r\u001b[38;5;241m=\u001b[39mm\n\u001b[1;32m      8\u001b[0m     \u001b[38;5;28;01melse\u001b[39;00m:\n",
      "Cell \u001b[0;32mIn[18], line 13\u001b[0m, in \u001b[0;36mcheckendownment\u001b[0;34m(tp, params)\u001b[0m\n\u001b[1;32m     12\u001b[0m \u001b[38;5;28;01mdef\u001b[39;00m \u001b[38;5;21mcheckendownment\u001b[39m(tp, params):\n\u001b[0;32m---> 13\u001b[0m     tp_r, tp_l \u001b[38;5;241m=\u001b[39m tp\n\u001b[1;32m     14\u001b[0m     precision \u001b[38;5;241m=\u001b[39m \u001b[38;5;241m0.5\u001b[39m \u001b[38;5;241m*\u001b[39m (\u001b[38;5;241m0.8\u001b[39m \u001b[38;5;241m*\u001b[39m tp_r \u001b[38;5;241m/\u001b[39m (\u001b[38;5;241m0.8\u001b[39m \u001b[38;5;241m*\u001b[39m tp_r \u001b[38;5;241m+\u001b[39m \u001b[38;5;241m0.4\u001b[39m \u001b[38;5;241m*\u001b[39m (\u001b[38;5;241m0.5\u001b[39m \u001b[38;5;241m-\u001b[39m tp_r)) \u001b[38;5;241m+\u001b[39m \u001b[38;5;241m0.6\u001b[39m \u001b[38;5;241m*\u001b[39m tp_l \u001b[38;5;241m/\u001b[39m (\u001b[38;5;241m0.6\u001b[39m \u001b[38;5;241m*\u001b[39m tp_l \u001b[38;5;241m+\u001b[39m \u001b[38;5;241m0.2\u001b[39m \u001b[38;5;241m*\u001b[39m (\u001b[38;5;241m0.5\u001b[39m \u001b[38;5;241m-\u001b[39m tp_l)))\n\u001b[1;32m     15\u001b[0m     recall \u001b[38;5;241m=\u001b[39m \u001b[38;5;241m0.5\u001b[39m \u001b[38;5;241m*\u001b[39m tp_r \u001b[38;5;241m+\u001b[39m \u001b[38;5;241m0.5\u001b[39m \u001b[38;5;241m*\u001b[39m (\u001b[38;5;241m0.5\u001b[39m \u001b[38;5;241m-\u001b[39m tp_l)\n",
      "\u001b[0;31mTypeError\u001b[0m: cannot unpack non-iterable int object"
     ]
    }
   ],
   "source": [
    "# ROCAUC\n",
    "\n",
    "def lbinsearch(l,r,check, params=[]):\n",
    "    while l<r:\n",
    "        m = (l+r) // 2\n",
    "        if check(m, params):\n",
    "            r=m\n",
    "        else:\n",
    "            l = m + 1\n",
    "    return l\n",
    "\n",
    "def checkendownment(tp, params):\n",
    "    tp_r, tp_l = tp\n",
    "    precision = 0.5 * (0.8 * tp_r / (0.8 * tp_r + 0.4 * (0.5 - tp_r)) + 0.6 * tp_l / (0.6 * tp_l + 0.2 * (0.5 - tp_l)))\n",
    "    recall = 0.5 * tp_r + 0.5 * (0.5 - tp_l)\n",
    "    if precision == 0 or recall == 0:\n",
    "        return 0  # Возвращаем 0, если precision или recall равны нулю, чтобы избежать деления на ноль\n",
    "    f_measure = 2 * (precision * recall) / (precision + recall)\n",
    "    return f_measure\n",
    "\n",
    "def max_f_measure():\n",
    "    result = lbinsearch(0, n, checkendownment, None)\n",
    "    tp_r = result / n\n",
    "    tp_l = (n - result) / n\n",
    "    return checkendownment((tp_r, tp_l), None)\n",
    "\n",
    "# Пример использования\n",
    "n = 1  # Предполагаемый размер потока\n",
    "max_f = max_f_measure()\n",
    "print(\"Максимальное значение F-меры:\", max_f)\n"
   ]
  },
  {
   "cell_type": "code",
   "execution_count": 21,
   "metadata": {},
   "outputs": [
    {
     "name": "stdout",
     "output_type": "stream",
     "text": [
      "0.3 0.5333333333333333\n"
     ]
    }
   ],
   "source": [
    "def f1(pr,rec):\n",
    "    return (2*pr*rec)/(pr+rec)\n",
    "\n",
    "lud = f1(0.20,0.60)\n",
    "rus = f1(0.40,0.80)\n",
    "\n",
    "print(lud,rus)\n"
   ]
  },
  {
   "cell_type": "code",
   "execution_count": 28,
   "metadata": {},
   "outputs": [
    {
     "name": "stdout",
     "output_type": "stream",
     "text": [
      "0.42 0.42\n"
     ]
    }
   ],
   "source": [
    "def f1(tp,fp,fn):\n",
    "    pr = 0.3\n",
    "    rec = 0.7\n",
    "    return (2*pr*rec)/(pr+rec)\n",
    "\n",
    "lud = f1(0.5,0.0,0.0)\n",
    "rus = f1(0.4,0.2,0.1)\n",
    "\n",
    "print(lud,rus)\n"
   ]
  },
  {
   "cell_type": "code",
   "execution_count": 26,
   "metadata": {},
   "outputs": [
    {
     "data": {
      "text/plain": [
       "0.6153846153846154"
      ]
     },
     "execution_count": 26,
     "metadata": {},
     "output_type": "execute_result"
    }
   ],
   "source": [
    "2*(0.8*0.5)/(0.8+0.5)"
   ]
  }
 ],
 "metadata": {
  "kernelspec": {
   "display_name": "Python 3",
   "language": "python",
   "name": "python3"
  },
  "language_info": {
   "codemirror_mode": {
    "name": "ipython",
    "version": 3
   },
   "file_extension": ".py",
   "mimetype": "text/x-python",
   "name": "python",
   "nbconvert_exporter": "python",
   "pygments_lexer": "ipython3",
   "version": "3.12.1"
  }
 },
 "nbformat": 4,
 "nbformat_minor": 2
}
